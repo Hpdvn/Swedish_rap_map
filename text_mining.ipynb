{
 "cells": [
  {
   "cell_type": "markdown",
   "source": [
    "Here is done in this file the biggest part of the project which is analyzing the data and mining it."
   ],
   "metadata": {
    "collapsed": false
   }
  },
  {
   "cell_type": "code",
   "execution_count": 89,
   "metadata": {
    "collapsed": true
   },
   "outputs": [
    {
     "data": {
      "text/plain": "   artist                title  \\\n0   1.Cuz          Akta mannen   \n1   1.Cuz  AKTA MANNEN (Remix)   \n2   1.Cuz     RÄKNA MINA DAGAR   \n3   1.Cuz       FIENDES FIENDE   \n4   1.Cuz  Swedens Most Wanted   \n..    ...                  ...   \n5   Zacke            Utomlands   \n6   Zacke           Kommer hem   \n7   Zacke      Göra upp en eld   \n8   Zacke        En glasspinne   \n9   Zacke            Över bron   \n\n                                               lyrics  \n0   Akta mannen Lyrics[Refräng]\\nHar DJ med mig, a...  \n1   AKTA MANNEN (Remix) Lyrics[Intro]\\nWahzaa\\nYei...  \n2   RÄKNA MINA DAGAR Lyrics[Intro: 1.Cuz]\\nKänns s...  \n3   FIENDES FIENDE Lyrics[Intro: 1.Cuz]\\nDet kan v...  \n4   Swedens Most Wanted Lyrics[Intro]\\nHehe (Grrr)...  \n..                                                ...  \n5   Utomlands Lyrics[Intro: Peter Morén]\\nDet är s...  \n6   Kommer hem Lyrics[Vers 1: Zacke]\\nFuckar upp a...  \n7   Göra upp en eld Lyrics[Vers 1, Zacke]\\nÄlskar ...  \n8   En glasspinne Lyrics[Intro]\\n(Det är allt\\nDet...  \n9   Över bron Lyrics[Refräng: Peter Morén]\\nAlla v...  \n\n[431 rows x 3 columns]",
      "text/html": "<div>\n<style scoped>\n    .dataframe tbody tr th:only-of-type {\n        vertical-align: middle;\n    }\n\n    .dataframe tbody tr th {\n        vertical-align: top;\n    }\n\n    .dataframe thead th {\n        text-align: right;\n    }\n</style>\n<table border=\"1\" class=\"dataframe\">\n  <thead>\n    <tr style=\"text-align: right;\">\n      <th></th>\n      <th>artist</th>\n      <th>title</th>\n      <th>lyrics</th>\n    </tr>\n  </thead>\n  <tbody>\n    <tr>\n      <th>0</th>\n      <td>1.Cuz</td>\n      <td>Akta mannen</td>\n      <td>Akta mannen Lyrics[Refräng]\\nHar DJ med mig, a...</td>\n    </tr>\n    <tr>\n      <th>1</th>\n      <td>1.Cuz</td>\n      <td>AKTA MANNEN (Remix)</td>\n      <td>AKTA MANNEN (Remix) Lyrics[Intro]\\nWahzaa\\nYei...</td>\n    </tr>\n    <tr>\n      <th>2</th>\n      <td>1.Cuz</td>\n      <td>RÄKNA MINA DAGAR</td>\n      <td>RÄKNA MINA DAGAR Lyrics[Intro: 1.Cuz]\\nKänns s...</td>\n    </tr>\n    <tr>\n      <th>3</th>\n      <td>1.Cuz</td>\n      <td>FIENDES FIENDE</td>\n      <td>FIENDES FIENDE Lyrics[Intro: 1.Cuz]\\nDet kan v...</td>\n    </tr>\n    <tr>\n      <th>4</th>\n      <td>1.Cuz</td>\n      <td>Swedens Most Wanted</td>\n      <td>Swedens Most Wanted Lyrics[Intro]\\nHehe (Grrr)...</td>\n    </tr>\n    <tr>\n      <th>...</th>\n      <td>...</td>\n      <td>...</td>\n      <td>...</td>\n    </tr>\n    <tr>\n      <th>5</th>\n      <td>Zacke</td>\n      <td>Utomlands</td>\n      <td>Utomlands Lyrics[Intro: Peter Morén]\\nDet är s...</td>\n    </tr>\n    <tr>\n      <th>6</th>\n      <td>Zacke</td>\n      <td>Kommer hem</td>\n      <td>Kommer hem Lyrics[Vers 1: Zacke]\\nFuckar upp a...</td>\n    </tr>\n    <tr>\n      <th>7</th>\n      <td>Zacke</td>\n      <td>Göra upp en eld</td>\n      <td>Göra upp en eld Lyrics[Vers 1, Zacke]\\nÄlskar ...</td>\n    </tr>\n    <tr>\n      <th>8</th>\n      <td>Zacke</td>\n      <td>En glasspinne</td>\n      <td>En glasspinne Lyrics[Intro]\\n(Det är allt\\nDet...</td>\n    </tr>\n    <tr>\n      <th>9</th>\n      <td>Zacke</td>\n      <td>Över bron</td>\n      <td>Över bron Lyrics[Refräng: Peter Morén]\\nAlla v...</td>\n    </tr>\n  </tbody>\n</table>\n<p>431 rows × 3 columns</p>\n</div>"
     },
     "execution_count": 89,
     "metadata": {},
     "output_type": "execute_result"
    }
   ],
   "source": [
    "from lyrics_extractor import extract_all_artist\n",
    "\n",
    "df = extract_all_artist()\n",
    "df"
   ]
  },
  {
   "cell_type": "code",
   "execution_count": 90,
   "outputs": [
    {
     "data": {
      "text/plain": "artist\n1.Cuz                10\nPromoe               10\nLooptroop Rockers    10\nMange Schmidt        10\nMaskinen             10\nMedina               10\nMohammed Ali         10\nMovits!              10\nNewkid               10\nNäääk (SWE)          10\nPetter               10\nRoffe Ruff           10\nADAAM                10\nSTOR                 10\nSilvana Imam         10\nSnook                10\nSvenska Akademien    10\nThe Latin Kings      10\nThomas Rusiak        10\nTimbuktu             10\nVC Barre             10\nYasin                10\nLinda Pira           10\nLilla Namo           10\nLazee                10\nLabyrint             10\nAdam Tensta          10\nAfasi & Filthy       10\nAnt Wan              10\nCleo (SWE)           10\nDani M               10\nDree Low             10\nEcco2k               10\nEinár                10\nFronda               10\nGreekazo             10\nHov1                 10\nInfinite Mass        10\nJust D               10\nKartellen            10\nKen Ring             10\nZacke                10\nAddis Black Widow     5\nJiggz                 2\nKumba                 2\nHighwon               1\nStoneFunkers          1\ndtype: int64"
     },
     "execution_count": 90,
     "metadata": {},
     "output_type": "execute_result"
    }
   ],
   "source": [
    "df.value_counts('artist')"
   ],
   "metadata": {
    "collapsed": false,
    "pycharm": {
     "name": "#%%\n"
    }
   }
  },
  {
   "cell_type": "markdown",
   "source": [
    "We see that for some artists (StoneFunkers, Kumba, Jiggz, Highwon and Addis Black Widow) we couldn't collect 10 songs beause they provided less number of songs on www.genius.com .\n",
    "\n",
    "I could have drop these artists from the dataframe to get a really smooth data distribution, however, i'm interested to see how this data points are going to be computed by the program, so i decided to let these artists in the dataset."
   ],
   "metadata": {
    "collapsed": false
   }
  },
  {
   "cell_type": "code",
   "execution_count": 91,
   "outputs": [],
   "source": [
    "import spacy\n",
    "nlp_sv = spacy.load(\"sv_core_news_sm\")\n",
    "nlp_en = spacy.load(\"en_core_web_sm\")\n",
    "\n",
    "#IL FAUT PASSER LE TEXTE EN MINUSCULE MAIS FAIRE ATTENTION AUX EXCEPTIONS TYPE : INT.lower() doesn't work.\n",
    "\n",
    "#Add contextual stopwords to our swedish stopwords list.\n",
    "for stopword in [\"refräng\", \"vers\", \"lyrics\", \"intro\", \"outro\"]:\n",
    "    nlp_sv.Defaults.stop_words.add(stopword)\n",
    "\n",
    "def preprocess_text(text):\n",
    "\n",
    "    #REMOVING THE FIRST LINE\n",
    "    text = text.split('\\n', 1)[1]\n",
    "\n",
    "    #TOKENISATION\n",
    "    tokens =[]\n",
    "    for token in nlp_sv(text):\n",
    "        tokens.append(token)\n",
    "\n",
    "    #REMOVING STOP WORDS\n",
    "    spacy_stopwords_sv = nlp_sv.Defaults.stop_words\n",
    "    spacy_stopwords_en = nlp_en.Defaults.stop_words\n",
    "    sentence =  [word for word in tokens if word.text.isalpha() and word.text not in spacy_stopwords_sv and word.text not in spacy_stopwords_en]\n",
    "\n",
    "    return sentence"
   ],
   "metadata": {
    "collapsed": false,
    "pycharm": {
     "name": "#%%\n"
    }
   }
  },
  {
   "cell_type": "code",
   "execution_count": 92,
   "outputs": [
    {
     "ename": "AttributeError",
     "evalue": "'spacy.tokens.token.Token' object has no attribute 'isalpha'",
     "output_type": "error",
     "traceback": [
      "\u001B[1;31m---------------------------------------------------------------------------\u001B[0m",
      "\u001B[1;31mAttributeError\u001B[0m                            Traceback (most recent call last)",
      "Cell \u001B[1;32mIn [92], line 1\u001B[0m\n\u001B[1;32m----> 1\u001B[0m df[\u001B[38;5;124m'\u001B[39m\u001B[38;5;124mlyrics\u001B[39m\u001B[38;5;124m'\u001B[39m] \u001B[38;5;241m=\u001B[39m [preprocess_text(text) \u001B[38;5;28;01mfor\u001B[39;00m text \u001B[38;5;129;01min\u001B[39;00m df[\u001B[38;5;124m'\u001B[39m\u001B[38;5;124mlyrics\u001B[39m\u001B[38;5;124m'\u001B[39m]]\n\u001B[0;32m      2\u001B[0m df[\u001B[38;5;124m'\u001B[39m\u001B[38;5;124mlen(lyrics)\u001B[39m\u001B[38;5;124m'\u001B[39m] \u001B[38;5;241m=\u001B[39m [\u001B[38;5;28mlen\u001B[39m(lyrics) \u001B[38;5;28;01mfor\u001B[39;00m lyrics \u001B[38;5;129;01min\u001B[39;00m df[\u001B[38;5;124m'\u001B[39m\u001B[38;5;124mlyrics\u001B[39m\u001B[38;5;124m'\u001B[39m]]\n",
      "Cell \u001B[1;32mIn [92], line 1\u001B[0m, in \u001B[0;36m<listcomp>\u001B[1;34m(.0)\u001B[0m\n\u001B[1;32m----> 1\u001B[0m df[\u001B[38;5;124m'\u001B[39m\u001B[38;5;124mlyrics\u001B[39m\u001B[38;5;124m'\u001B[39m] \u001B[38;5;241m=\u001B[39m [\u001B[43mpreprocess_text\u001B[49m\u001B[43m(\u001B[49m\u001B[43mtext\u001B[49m\u001B[43m)\u001B[49m \u001B[38;5;28;01mfor\u001B[39;00m text \u001B[38;5;129;01min\u001B[39;00m df[\u001B[38;5;124m'\u001B[39m\u001B[38;5;124mlyrics\u001B[39m\u001B[38;5;124m'\u001B[39m]]\n\u001B[0;32m      2\u001B[0m df[\u001B[38;5;124m'\u001B[39m\u001B[38;5;124mlen(lyrics)\u001B[39m\u001B[38;5;124m'\u001B[39m] \u001B[38;5;241m=\u001B[39m [\u001B[38;5;28mlen\u001B[39m(lyrics) \u001B[38;5;28;01mfor\u001B[39;00m lyrics \u001B[38;5;129;01min\u001B[39;00m df[\u001B[38;5;124m'\u001B[39m\u001B[38;5;124mlyrics\u001B[39m\u001B[38;5;124m'\u001B[39m]]\n",
      "Cell \u001B[1;32mIn [91], line 17\u001B[0m, in \u001B[0;36mpreprocess_text\u001B[1;34m(text)\u001B[0m\n\u001B[0;32m     15\u001B[0m tokens \u001B[38;5;241m=\u001B[39m[]\n\u001B[0;32m     16\u001B[0m \u001B[38;5;28;01mfor\u001B[39;00m token \u001B[38;5;129;01min\u001B[39;00m nlp_sv(text):\n\u001B[1;32m---> 17\u001B[0m     \u001B[38;5;28;01mif\u001B[39;00m \u001B[43mtoken\u001B[49m\u001B[38;5;241;43m.\u001B[39;49m\u001B[43misalpha\u001B[49m() :\n\u001B[0;32m     18\u001B[0m         tokens\u001B[38;5;241m.\u001B[39mappend(token\u001B[38;5;241m.\u001B[39mlower())\n\u001B[0;32m     19\u001B[0m     \u001B[38;5;28;01melse\u001B[39;00m :\n",
      "\u001B[1;31mAttributeError\u001B[0m: 'spacy.tokens.token.Token' object has no attribute 'isalpha'"
     ]
    }
   ],
   "source": [
    "df['lyrics'] = [preprocess_text(text) for text in df['lyrics']]\n",
    "df['len(lyrics)'] = [len(lyrics) for lyrics in df['lyrics']]"
   ],
   "metadata": {
    "collapsed": false,
    "pycharm": {
     "name": "#%%\n"
    }
   }
  },
  {
   "cell_type": "code",
   "execution_count": null,
   "outputs": [],
   "source": [
    "df"
   ],
   "metadata": {
    "collapsed": false,
    "pycharm": {
     "name": "#%%\n"
    }
   }
  },
  {
   "cell_type": "code",
   "execution_count": null,
   "outputs": [],
   "source": [
    "import seaborn as sns\n",
    "sns.histplot(data=df, x=\"title\", y=len(\"lyrics\"), binwidth=3)"
   ],
   "metadata": {
    "collapsed": false,
    "pycharm": {
     "name": "#%%\n"
    }
   }
  },
  {
   "cell_type": "code",
   "execution_count": null,
   "outputs": [],
   "source": [],
   "metadata": {
    "collapsed": false,
    "pycharm": {
     "name": "#%%\n"
    }
   }
  }
 ],
 "metadata": {
  "kernelspec": {
   "display_name": "Python 3",
   "language": "python",
   "name": "python3"
  },
  "language_info": {
   "codemirror_mode": {
    "name": "ipython",
    "version": 2
   },
   "file_extension": ".py",
   "mimetype": "text/x-python",
   "name": "python",
   "nbconvert_exporter": "python",
   "pygments_lexer": "ipython2",
   "version": "2.7.6"
  }
 },
 "nbformat": 4,
 "nbformat_minor": 0
}