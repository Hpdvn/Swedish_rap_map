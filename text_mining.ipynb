{
 "cells": [
  {
   "cell_type": "markdown",
   "metadata": {},
   "source": [
    "<h5>Here is done in this file the biggest part of the project which is analyzing the data and mining it.</h5>"
   ]
  },
  {
   "cell_type": "code",
   "execution_count": 1,
   "metadata": {},
   "outputs": [
    {
     "data": {
      "text/plain": "                    artist                                             lyrics\ntitle                                                                        \nAkta mannen          1.Cuz  Akta mannen Lyrics[Refräng]\\nHar DJ med mig, a...\nAKTA MANNEN (Remix)  1.Cuz  AKTA MANNEN (Remix) Lyrics[Intro]\\nWahzaa\\nYei...\nRÄKNA MINA DAGAR     1.Cuz  RÄKNA MINA DAGAR Lyrics[Intro: 1.Cuz]\\nKänns s...\nFIENDES FIENDE       1.Cuz  FIENDES FIENDE Lyrics[Intro: 1.Cuz]\\nDet kan v...\nSwedens Most Wanted  1.Cuz  Swedens Most Wanted Lyrics[Intro]\\nHehe (Grrr)...\n...                    ...                                                ...\nUtomlands            Zacke  Utomlands Lyrics[Intro: Peter Morén]\\nDet är s...\nKommer hem           Zacke  Kommer hem Lyrics[Vers 1: Zacke]\\nFuckar upp a...\nGöra upp en eld      Zacke  Göra upp en eld Lyrics[Vers 1, Zacke]\\nÄlskar ...\nEn glasspinne        Zacke  En glasspinne Lyrics[Intro]\\n(Det är allt\\nDet...\nÖver bron            Zacke  Över bron Lyrics[Refräng: Peter Morén]\\nAlla v...\n\n[431 rows x 2 columns]",
      "text/html": "<div>\n<style scoped>\n    .dataframe tbody tr th:only-of-type {\n        vertical-align: middle;\n    }\n\n    .dataframe tbody tr th {\n        vertical-align: top;\n    }\n\n    .dataframe thead th {\n        text-align: right;\n    }\n</style>\n<table border=\"1\" class=\"dataframe\">\n  <thead>\n    <tr style=\"text-align: right;\">\n      <th></th>\n      <th>artist</th>\n      <th>lyrics</th>\n    </tr>\n    <tr>\n      <th>title</th>\n      <th></th>\n      <th></th>\n    </tr>\n  </thead>\n  <tbody>\n    <tr>\n      <th>Akta mannen</th>\n      <td>1.Cuz</td>\n      <td>Akta mannen Lyrics[Refräng]\\nHar DJ med mig, a...</td>\n    </tr>\n    <tr>\n      <th>AKTA MANNEN (Remix)</th>\n      <td>1.Cuz</td>\n      <td>AKTA MANNEN (Remix) Lyrics[Intro]\\nWahzaa\\nYei...</td>\n    </tr>\n    <tr>\n      <th>RÄKNA MINA DAGAR</th>\n      <td>1.Cuz</td>\n      <td>RÄKNA MINA DAGAR Lyrics[Intro: 1.Cuz]\\nKänns s...</td>\n    </tr>\n    <tr>\n      <th>FIENDES FIENDE</th>\n      <td>1.Cuz</td>\n      <td>FIENDES FIENDE Lyrics[Intro: 1.Cuz]\\nDet kan v...</td>\n    </tr>\n    <tr>\n      <th>Swedens Most Wanted</th>\n      <td>1.Cuz</td>\n      <td>Swedens Most Wanted Lyrics[Intro]\\nHehe (Grrr)...</td>\n    </tr>\n    <tr>\n      <th>...</th>\n      <td>...</td>\n      <td>...</td>\n    </tr>\n    <tr>\n      <th>Utomlands</th>\n      <td>Zacke</td>\n      <td>Utomlands Lyrics[Intro: Peter Morén]\\nDet är s...</td>\n    </tr>\n    <tr>\n      <th>Kommer hem</th>\n      <td>Zacke</td>\n      <td>Kommer hem Lyrics[Vers 1: Zacke]\\nFuckar upp a...</td>\n    </tr>\n    <tr>\n      <th>Göra upp en eld</th>\n      <td>Zacke</td>\n      <td>Göra upp en eld Lyrics[Vers 1, Zacke]\\nÄlskar ...</td>\n    </tr>\n    <tr>\n      <th>En glasspinne</th>\n      <td>Zacke</td>\n      <td>En glasspinne Lyrics[Intro]\\n(Det är allt\\nDet...</td>\n    </tr>\n    <tr>\n      <th>Över bron</th>\n      <td>Zacke</td>\n      <td>Över bron Lyrics[Refräng: Peter Morén]\\nAlla v...</td>\n    </tr>\n  </tbody>\n</table>\n<p>431 rows × 2 columns</p>\n</div>"
     },
     "execution_count": 1,
     "metadata": {},
     "output_type": "execute_result"
    }
   ],
   "source": [
    "import pandas as pd\n",
    "from lyrics_extractor import extract_all_artist\n",
    "\n",
    "df = extract_all_artist()\n",
    "df = df.set_index('title')\n",
    "df"
   ]
  },
  {
   "cell_type": "code",
   "execution_count": 2,
   "metadata": {
    "pycharm": {
     "name": "#%%\n"
    }
   },
   "outputs": [
    {
     "data": {
      "text/plain": "artist\n1.Cuz                10\nPromoe               10\nLooptroop Rockers    10\nMange Schmidt        10\nMaskinen             10\nMedina               10\nMohammed Ali         10\nMovits!              10\nNewkid               10\nNäääk (SWE)          10\nPetter               10\nRoffe Ruff           10\nADAAM                10\nSTOR                 10\nSilvana Imam         10\nSnook                10\nSvenska Akademien    10\nThe Latin Kings      10\nThomas Rusiak        10\nTimbuktu             10\nVC Barre             10\nYasin                10\nLinda Pira           10\nLilla Namo           10\nLazee                10\nLabyrint             10\nAdam Tensta          10\nAfasi & Filthy       10\nAnt Wan              10\nCleo (SWE)           10\nDani M               10\nDree Low             10\nEcco2k               10\nEinár                10\nFronda               10\nGreekazo             10\nHov1                 10\nInfinite Mass        10\nJust D               10\nKartellen            10\nKen Ring             10\nZacke                10\nAddis Black Widow     5\nJiggz                 2\nKumba                 2\nHighwon               1\nStoneFunkers          1\ndtype: int64"
     },
     "execution_count": 2,
     "metadata": {},
     "output_type": "execute_result"
    }
   ],
   "source": [
    "df.value_counts('artist')"
   ]
  },
  {
   "cell_type": "markdown",
   "metadata": {},
   "source": [
    "*We see that for some artists (StoneFunkers, Kumba, Jiggz, Highwon and Addis Black Widow) we couldn't collect 10 songs beause they provided less number of songs on www.genius.com.*\n",
    "\n",
    "*I could have drop these artists from the dataframe to get a really smooth data distribution, however, i'm interested to see how this data points are going to be computed by the program, so i decided to let these artists in the dataset.*"
   ]
  },
  {
   "cell_type": "code",
   "execution_count": 3,
   "metadata": {
    "pycharm": {
     "name": "#%%\n"
    }
   },
   "outputs": [],
   "source": [
    "import spacy\n",
    "nlp_sv = spacy.load(\"sv_core_news_lg\")\n",
    "nlp_en = spacy.load(\"en_core_web_lg\")\n",
    "\n",
    "spacy_en_stopwords = spacy.lang.en.stop_words.STOP_WORDS\n",
    "spacy_sv_stopwords = spacy.lang.sv.stop_words.STOP_WORDS\n",
    "\n",
    "# concatenate both stopwords sets\n",
    "spacy_en_stopwords.update(spacy_sv_stopwords)\n",
    "\n",
    "# #Add contextual stopwords to our stopwords list.\n",
    "custom_stopwords = {\"refräng\",\"brygga\", \"vers\", \"lyrics\", \"intro\", \"outro\"}\n",
    "spacy_en_stopwords.update(custom_stopwords)\n",
    "\n",
    "def preprocess_text(text):\n",
    "\n",
    "    #REMOVING THE FIRST LINE\n",
    "    text = text.split('\\n', 1)[1]\n",
    "\n",
    "    #TOKENISATION\n",
    "    tokens =[]\n",
    "    for token in nlp_sv(text):\n",
    "        tokens.append(token)\n",
    "\n",
    "    #REMOVING STOP WORDS\n",
    "    sentence =  [word.lower_ for word in tokens if (word.text.isalpha() and word.text not in spacy_en_stopwords and len(word.text) > 2 )]\n",
    "\n",
    "    return sentence"
   ]
  },
  {
   "cell_type": "code",
   "execution_count": 4,
   "metadata": {
    "pycharm": {
     "name": "#%%\n"
    }
   },
   "outputs": [],
   "source": [
    "df['lyrics'] = [preprocess_text(text) for text in df['lyrics']]\n",
    "df['len(lyrics)'] = [len(lyrics) for lyrics in df['lyrics']]"
   ]
  },
  {
   "cell_type": "markdown",
   "metadata": {},
   "source": []
  },
  {
   "cell_type": "code",
   "execution_count": 5,
   "metadata": {
    "pycharm": {
     "name": "#%%\n"
    }
   },
   "outputs": [
    {
     "data": {
      "text/plain": "                    artist                                             lyrics  \\\ntitle                                                                           \nAkta mannen          1.Cuz  [har, akta, mannen, akta, mannen, akta, mannen...   \nAKTA MANNEN (Remix)  1.Cuz  [wahzaa, yei, gonzalez, refräng, einár, har, a...   \nRÄKNA MINA DAGAR     1.Cuz  [känns, hatar, gatan, hataren, hatar, massa, h...   \nFIENDES FIENDE       1.Cuz  [det, tufft, magen, känner, nånting, lurt, dra...   \nSwedens Most Wanted  1.Cuz  [hehe, grrr, shhh, grrr, dnoteondabeat, yeah, ...   \n...                    ...                                                ...   \nUtomlands            Zacke  [det, himmel, tittar, kan, blå, låtsas, utomla...   \nKommer hem           Zacke  [fuckar, allting, ställer, volontär, sluta, lä...   \nGöra upp en eld      Zacke  [älskar, bränner, älskar, bränner, hur, älska,...   \nEn glasspinne        Zacke  [det, det, det, det, verse, sätta, lås, aldrig...   \nÖver bron            Zacke  [alla, alla, alla, vet, alla, alla, alla, bruk...   \n\n                     len(lyrics)  \ntitle                             \nAkta mannen                  270  \nAKTA MANNEN (Remix)          348  \nRÄKNA MINA DAGAR             247  \nFIENDES FIENDE               222  \nSwedens Most Wanted          144  \n...                          ...  \nUtomlands                    211  \nKommer hem                   288  \nGöra upp en eld              216  \nEn glasspinne                174  \nÖver bron                    213  \n\n[431 rows x 3 columns]",
      "text/html": "<div>\n<style scoped>\n    .dataframe tbody tr th:only-of-type {\n        vertical-align: middle;\n    }\n\n    .dataframe tbody tr th {\n        vertical-align: top;\n    }\n\n    .dataframe thead th {\n        text-align: right;\n    }\n</style>\n<table border=\"1\" class=\"dataframe\">\n  <thead>\n    <tr style=\"text-align: right;\">\n      <th></th>\n      <th>artist</th>\n      <th>lyrics</th>\n      <th>len(lyrics)</th>\n    </tr>\n    <tr>\n      <th>title</th>\n      <th></th>\n      <th></th>\n      <th></th>\n    </tr>\n  </thead>\n  <tbody>\n    <tr>\n      <th>Akta mannen</th>\n      <td>1.Cuz</td>\n      <td>[har, akta, mannen, akta, mannen, akta, mannen...</td>\n      <td>270</td>\n    </tr>\n    <tr>\n      <th>AKTA MANNEN (Remix)</th>\n      <td>1.Cuz</td>\n      <td>[wahzaa, yei, gonzalez, refräng, einár, har, a...</td>\n      <td>348</td>\n    </tr>\n    <tr>\n      <th>RÄKNA MINA DAGAR</th>\n      <td>1.Cuz</td>\n      <td>[känns, hatar, gatan, hataren, hatar, massa, h...</td>\n      <td>247</td>\n    </tr>\n    <tr>\n      <th>FIENDES FIENDE</th>\n      <td>1.Cuz</td>\n      <td>[det, tufft, magen, känner, nånting, lurt, dra...</td>\n      <td>222</td>\n    </tr>\n    <tr>\n      <th>Swedens Most Wanted</th>\n      <td>1.Cuz</td>\n      <td>[hehe, grrr, shhh, grrr, dnoteondabeat, yeah, ...</td>\n      <td>144</td>\n    </tr>\n    <tr>\n      <th>...</th>\n      <td>...</td>\n      <td>...</td>\n      <td>...</td>\n    </tr>\n    <tr>\n      <th>Utomlands</th>\n      <td>Zacke</td>\n      <td>[det, himmel, tittar, kan, blå, låtsas, utomla...</td>\n      <td>211</td>\n    </tr>\n    <tr>\n      <th>Kommer hem</th>\n      <td>Zacke</td>\n      <td>[fuckar, allting, ställer, volontär, sluta, lä...</td>\n      <td>288</td>\n    </tr>\n    <tr>\n      <th>Göra upp en eld</th>\n      <td>Zacke</td>\n      <td>[älskar, bränner, älskar, bränner, hur, älska,...</td>\n      <td>216</td>\n    </tr>\n    <tr>\n      <th>En glasspinne</th>\n      <td>Zacke</td>\n      <td>[det, det, det, det, verse, sätta, lås, aldrig...</td>\n      <td>174</td>\n    </tr>\n    <tr>\n      <th>Över bron</th>\n      <td>Zacke</td>\n      <td>[alla, alla, alla, vet, alla, alla, alla, bruk...</td>\n      <td>213</td>\n    </tr>\n  </tbody>\n</table>\n<p>431 rows × 3 columns</p>\n</div>"
     },
     "execution_count": 5,
     "metadata": {},
     "output_type": "execute_result"
    }
   ],
   "source": [
    "df"
   ]
  },
  {
   "cell_type": "code",
   "execution_count": 6,
   "metadata": {
    "pycharm": {
     "name": "#%%\n"
    }
   },
   "outputs": [
    {
     "data": {
      "text/plain": "<AxesSubplot: xlabel='len(lyrics)', ylabel='Count'>"
     },
     "execution_count": 6,
     "metadata": {},
     "output_type": "execute_result"
    },
    {
     "data": {
      "text/plain": "<Figure size 640x480 with 1 Axes>",
      "image/png": "[encoded data removed]"
     },
     "metadata": {},
     "output_type": "display_data"
    }
   ],
   "source": [
    "import seaborn as sns\n",
    "sns.histplot(data=df, x=\"len(lyrics)\", binwidth=5)"
   ]
  },
  {
   "cell_type": "markdown",
   "metadata": {},
   "source": [
    "*Here we see that our distribution is centered around a value of 200 words by songs (not unique words, without english and swedish stop words, without words with 2 letters or less), we see a song with more than 1000 words, it's normal because this song has a duration of more than 8 minutes with more than 10 singers singing on it.*"
   ]
  },
  {
   "cell_type": "code",
   "execution_count": 7,
   "metadata": {
    "pycharm": {
     "name": "#%%\n"
    }
   },
   "outputs": [],
   "source": [
    "import numpy as np\n",
    "\n",
    "def embedding(text):\n",
    "\n",
    "    size = len(text)\n",
    "    vector = np.zeros(300)\n",
    "    for word in text :\n",
    "        try :\n",
    "            vector = vector + nlp_sv.vocab[word].vector\n",
    "        except :\n",
    "            vector = vector + nlp_en.vocab[word].vector\n",
    "\n",
    "    result = np.divide(vector, size)\n",
    "\n",
    "    return result"
   ]
  },
  {
   "cell_type": "code",
   "execution_count": 8,
   "metadata": {
    "pycharm": {
     "name": "#%%\n"
    }
   },
   "outputs": [
    {
     "data": {
      "text/plain": "                    artist                                             lyrics  \\\ntitle                                                                           \nAkta mannen          1.Cuz  [har, akta, mannen, akta, mannen, akta, mannen...   \nAKTA MANNEN (Remix)  1.Cuz  [wahzaa, yei, gonzalez, refräng, einár, har, a...   \nRÄKNA MINA DAGAR     1.Cuz  [känns, hatar, gatan, hataren, hatar, massa, h...   \nFIENDES FIENDE       1.Cuz  [det, tufft, magen, känner, nånting, lurt, dra...   \nSwedens Most Wanted  1.Cuz  [hehe, grrr, shhh, grrr, dnoteondabeat, yeah, ...   \n...                    ...                                                ...   \nUtomlands            Zacke  [det, himmel, tittar, kan, blå, låtsas, utomla...   \nKommer hem           Zacke  [fuckar, allting, ställer, volontär, sluta, lä...   \nGöra upp en eld      Zacke  [älskar, bränner, älskar, bränner, hur, älska,...   \nEn glasspinne        Zacke  [det, det, det, det, verse, sätta, lås, aldrig...   \nÖver bron            Zacke  [alla, alla, alla, vet, alla, alla, alla, bruk...   \n\n                     len(lyrics)  \\\ntitle                              \nAkta mannen                  270   \nAKTA MANNEN (Remix)          348   \nRÄKNA MINA DAGAR             247   \nFIENDES FIENDE               222   \nSwedens Most Wanted          144   \n...                          ...   \nUtomlands                    211   \nKommer hem                   288   \nGöra upp en eld              216   \nEn glasspinne                174   \nÖver bron                    213   \n\n                                                                vector  \ntitle                                                                   \nAkta mannen          [-0.3235356130533748, 0.21854964894828974, -0....  \nAKTA MANNEN (Remix)  [-0.2862051797324213, 0.11841541860552354, 0.0...  \nRÄKNA MINA DAGAR     [-0.508152278208057, 0.30181914583029534, 0.09...  \nFIENDES FIENDE       [-0.6287049030935442, -0.1271283285742676, 0.1...  \nSwedens Most Wanted  [-0.5192530212096043, 0.145445215386442, -0.19...  \n...                                                                ...  \nUtomlands            [-0.14453262962859953, -0.043670980392191645, ...  \nKommer hem           [-0.20952458516694605, 0.1325509944387401, 0.4...  \nGöra upp en eld      [-0.43593270552379115, 0.4230476091788323, 0.1...  \nEn glasspinne        [-0.6044544778421692, 0.20721761845908632, 0.1...  \nÖver bron            [-0.5816051751864908, 0.5112688402544725, -0.3...  \n\n[431 rows x 4 columns]",
      "text/html": "<div>\n<style scoped>\n    .dataframe tbody tr th:only-of-type {\n        vertical-align: middle;\n    }\n\n    .dataframe tbody tr th {\n        vertical-align: top;\n    }\n\n    .dataframe thead th {\n        text-align: right;\n    }\n</style>\n<table border=\"1\" class=\"dataframe\">\n  <thead>\n    <tr style=\"text-align: right;\">\n      <th></th>\n      <th>artist</th>\n      <th>lyrics</th>\n      <th>len(lyrics)</th>\n      <th>vector</th>\n    </tr>\n    <tr>\n      <th>title</th>\n      <th></th>\n      <th></th>\n      <th></th>\n      <th></th>\n    </tr>\n  </thead>\n  <tbody>\n    <tr>\n      <th>Akta mannen</th>\n      <td>1.Cuz</td>\n      <td>[har, akta, mannen, akta, mannen, akta, mannen...</td>\n      <td>270</td>\n      <td>[-0.3235356130533748, 0.21854964894828974, -0....</td>\n    </tr>\n    <tr>\n      <th>AKTA MANNEN (Remix)</th>\n      <td>1.Cuz</td>\n      <td>[wahzaa, yei, gonzalez, refräng, einár, har, a...</td>\n      <td>348</td>\n      <td>[-0.2862051797324213, 0.11841541860552354, 0.0...</td>\n    </tr>\n    <tr>\n      <th>RÄKNA MINA DAGAR</th>\n      <td>1.Cuz</td>\n      <td>[känns, hatar, gatan, hataren, hatar, massa, h...</td>\n      <td>247</td>\n      <td>[-0.508152278208057, 0.30181914583029534, 0.09...</td>\n    </tr>\n    <tr>\n      <th>FIENDES FIENDE</th>\n      <td>1.Cuz</td>\n      <td>[det, tufft, magen, känner, nånting, lurt, dra...</td>\n      <td>222</td>\n      <td>[-0.6287049030935442, -0.1271283285742676, 0.1...</td>\n    </tr>\n    <tr>\n      <th>Swedens Most Wanted</th>\n      <td>1.Cuz</td>\n      <td>[hehe, grrr, shhh, grrr, dnoteondabeat, yeah, ...</td>\n      <td>144</td>\n      <td>[-0.5192530212096043, 0.145445215386442, -0.19...</td>\n    </tr>\n    <tr>\n      <th>...</th>\n      <td>...</td>\n      <td>...</td>\n      <td>...</td>\n      <td>...</td>\n    </tr>\n    <tr>\n      <th>Utomlands</th>\n      <td>Zacke</td>\n      <td>[det, himmel, tittar, kan, blå, låtsas, utomla...</td>\n      <td>211</td>\n      <td>[-0.14453262962859953, -0.043670980392191645, ...</td>\n    </tr>\n    <tr>\n      <th>Kommer hem</th>\n      <td>Zacke</td>\n      <td>[fuckar, allting, ställer, volontär, sluta, lä...</td>\n      <td>288</td>\n      <td>[-0.20952458516694605, 0.1325509944387401, 0.4...</td>\n    </tr>\n    <tr>\n      <th>Göra upp en eld</th>\n      <td>Zacke</td>\n      <td>[älskar, bränner, älskar, bränner, hur, älska,...</td>\n      <td>216</td>\n      <td>[-0.43593270552379115, 0.4230476091788323, 0.1...</td>\n    </tr>\n    <tr>\n      <th>En glasspinne</th>\n      <td>Zacke</td>\n      <td>[det, det, det, det, verse, sätta, lås, aldrig...</td>\n      <td>174</td>\n      <td>[-0.6044544778421692, 0.20721761845908632, 0.1...</td>\n    </tr>\n    <tr>\n      <th>Över bron</th>\n      <td>Zacke</td>\n      <td>[alla, alla, alla, vet, alla, alla, alla, bruk...</td>\n      <td>213</td>\n      <td>[-0.5816051751864908, 0.5112688402544725, -0.3...</td>\n    </tr>\n  </tbody>\n</table>\n<p>431 rows × 4 columns</p>\n</div>"
     },
     "execution_count": 8,
     "metadata": {},
     "output_type": "execute_result"
    }
   ],
   "source": [
    "df['vector'] = [embedding(text) for text in df['lyrics']]\n",
    "df"
   ]
  },
  {
   "cell_type": "code",
   "execution_count": 9,
   "metadata": {
    "pycharm": {
     "name": "#%%\n"
    }
   },
   "outputs": [
    {
     "name": "stderr",
     "output_type": "stream",
     "text": [
      "C:\\Users\\hugop\\AppData\\Local\\Temp\\ipykernel_29096\\2411780168.py:3: PerformanceWarning: DataFrame is highly fragmented.  This is usually the result of calling `frame.insert` many times, which has poor performance.  Consider joining all columns at once using pd.concat(axis=1) instead. To get a de-fragmented frame, use `newframe = frame.copy()`\n",
      "  coord[\"Component number : \" +  str(i)] = [vector[i] for vector in df.vector]\n",
      "C:\\Users\\hugop\\AppData\\Local\\Temp\\ipykernel_29096\\2411780168.py:3: PerformanceWarning: DataFrame is highly fragmented.  This is usually the result of calling `frame.insert` many times, which has poor performance.  Consider joining all columns at once using pd.concat(axis=1) instead. To get a de-fragmented frame, use `newframe = frame.copy()`\n",
      "  coord[\"Component number : \" +  str(i)] = [vector[i] for vector in df.vector]\n",
      "C:\\Users\\hugop\\AppData\\Local\\Temp\\ipykernel_29096\\2411780168.py:3: PerformanceWarning: DataFrame is highly fragmented.  This is usually the result of calling `frame.insert` many times, which has poor performance.  Consider joining all columns at once using pd.concat(axis=1) instead. To get a de-fragmented frame, use `newframe = frame.copy()`\n",
      "  coord[\"Component number : \" +  str(i)] = [vector[i] for vector in df.vector]\n",
      "C:\\Users\\hugop\\AppData\\Local\\Temp\\ipykernel_29096\\2411780168.py:3: PerformanceWarning: DataFrame is highly fragmented.  This is usually the result of calling `frame.insert` many times, which has poor performance.  Consider joining all columns at once using pd.concat(axis=1) instead. To get a de-fragmented frame, use `newframe = frame.copy()`\n",
      "  coord[\"Component number : \" +  str(i)] = [vector[i] for vector in df.vector]\n",
      "C:\\Users\\hugop\\AppData\\Local\\Temp\\ipykernel_29096\\2411780168.py:3: PerformanceWarning: DataFrame is highly fragmented.  This is usually the result of calling `frame.insert` many times, which has poor performance.  Consider joining all columns at once using pd.concat(axis=1) instead. To get a de-fragmented frame, use `newframe = frame.copy()`\n",
      "  coord[\"Component number : \" +  str(i)] = [vector[i] for vector in df.vector]\n",
      "C:\\Users\\hugop\\AppData\\Local\\Temp\\ipykernel_29096\\2411780168.py:3: PerformanceWarning: DataFrame is highly fragmented.  This is usually the result of calling `frame.insert` many times, which has poor performance.  Consider joining all columns at once using pd.concat(axis=1) instead. To get a de-fragmented frame, use `newframe = frame.copy()`\n",
      "  coord[\"Component number : \" +  str(i)] = [vector[i] for vector in df.vector]\n",
      "C:\\Users\\hugop\\AppData\\Local\\Temp\\ipykernel_29096\\2411780168.py:3: PerformanceWarning: DataFrame is highly fragmented.  This is usually the result of calling `frame.insert` many times, which has poor performance.  Consider joining all columns at once using pd.concat(axis=1) instead. To get a de-fragmented frame, use `newframe = frame.copy()`\n",
      "  coord[\"Component number : \" +  str(i)] = [vector[i] for vector in df.vector]\n",
      "C:\\Users\\hugop\\AppData\\Local\\Temp\\ipykernel_29096\\2411780168.py:3: PerformanceWarning: DataFrame is highly fragmented.  This is usually the result of calling `frame.insert` many times, which has poor performance.  Consider joining all columns at once using pd.concat(axis=1) instead. To get a de-fragmented frame, use `newframe = frame.copy()`\n",
      "  coord[\"Component number : \" +  str(i)] = [vector[i] for vector in df.vector]\n",
      "C:\\Users\\hugop\\AppData\\Local\\Temp\\ipykernel_29096\\2411780168.py:3: PerformanceWarning: DataFrame is highly fragmented.  This is usually the result of calling `frame.insert` many times, which has poor performance.  Consider joining all columns at once using pd.concat(axis=1) instead. To get a de-fragmented frame, use `newframe = frame.copy()`\n",
      "  coord[\"Component number : \" +  str(i)] = [vector[i] for vector in df.vector]\n",
      "C:\\Users\\hugop\\AppData\\Local\\Temp\\ipykernel_29096\\2411780168.py:3: PerformanceWarning: DataFrame is highly fragmented.  This is usually the result of calling `frame.insert` many times, which has poor performance.  Consider joining all columns at once using pd.concat(axis=1) instead. To get a de-fragmented frame, use `newframe = frame.copy()`\n",
      "  coord[\"Component number : \" +  str(i)] = [vector[i] for vector in df.vector]\n",
      "C:\\Users\\hugop\\AppData\\Local\\Temp\\ipykernel_29096\\2411780168.py:3: PerformanceWarning: DataFrame is highly fragmented.  This is usually the result of calling `frame.insert` many times, which has poor performance.  Consider joining all columns at once using pd.concat(axis=1) instead. To get a de-fragmented frame, use `newframe = frame.copy()`\n",
      "  coord[\"Component number : \" +  str(i)] = [vector[i] for vector in df.vector]\n",
      "C:\\Users\\hugop\\AppData\\Local\\Temp\\ipykernel_29096\\2411780168.py:3: PerformanceWarning: DataFrame is highly fragmented.  This is usually the result of calling `frame.insert` many times, which has poor performance.  Consider joining all columns at once using pd.concat(axis=1) instead. To get a de-fragmented frame, use `newframe = frame.copy()`\n",
      "  coord[\"Component number : \" +  str(i)] = [vector[i] for vector in df.vector]\n",
      "C:\\Users\\hugop\\AppData\\Local\\Temp\\ipykernel_29096\\2411780168.py:3: PerformanceWarning: DataFrame is highly fragmented.  This is usually the result of calling `frame.insert` many times, which has poor performance.  Consider joining all columns at once using pd.concat(axis=1) instead. To get a de-fragmented frame, use `newframe = frame.copy()`\n",
      "  coord[\"Component number : \" +  str(i)] = [vector[i] for vector in df.vector]\n",
      "C:\\Users\\hugop\\AppData\\Local\\Temp\\ipykernel_29096\\2411780168.py:3: PerformanceWarning: DataFrame is highly fragmented.  This is usually the result of calling `frame.insert` many times, which has poor performance.  Consider joining all columns at once using pd.concat(axis=1) instead. To get a de-fragmented frame, use `newframe = frame.copy()`\n",
      "  coord[\"Component number : \" +  str(i)] = [vector[i] for vector in df.vector]\n",
      "C:\\Users\\hugop\\AppData\\Local\\Temp\\ipykernel_29096\\2411780168.py:3: PerformanceWarning: DataFrame is highly fragmented.  This is usually the result of calling `frame.insert` many times, which has poor performance.  Consider joining all columns at once using pd.concat(axis=1) instead. To get a de-fragmented frame, use `newframe = frame.copy()`\n",
      "  coord[\"Component number : \" +  str(i)] = [vector[i] for vector in df.vector]\n",
      "C:\\Users\\hugop\\AppData\\Local\\Temp\\ipykernel_29096\\2411780168.py:3: PerformanceWarning: DataFrame is highly fragmented.  This is usually the result of calling `frame.insert` many times, which has poor performance.  Consider joining all columns at once using pd.concat(axis=1) instead. To get a de-fragmented frame, use `newframe = frame.copy()`\n",
      "  coord[\"Component number : \" +  str(i)] = [vector[i] for vector in df.vector]\n",
      "C:\\Users\\hugop\\AppData\\Local\\Temp\\ipykernel_29096\\2411780168.py:3: PerformanceWarning: DataFrame is highly fragmented.  This is usually the result of calling `frame.insert` many times, which has poor performance.  Consider joining all columns at once using pd.concat(axis=1) instead. To get a de-fragmented frame, use `newframe = frame.copy()`\n",
      "  coord[\"Component number : \" +  str(i)] = [vector[i] for vector in df.vector]\n",
      "C:\\Users\\hugop\\AppData\\Local\\Temp\\ipykernel_29096\\2411780168.py:3: PerformanceWarning: DataFrame is highly fragmented.  This is usually the result of calling `frame.insert` many times, which has poor performance.  Consider joining all columns at once using pd.concat(axis=1) instead. To get a de-fragmented frame, use `newframe = frame.copy()`\n",
      "  coord[\"Component number : \" +  str(i)] = [vector[i] for vector in df.vector]\n",
      "C:\\Users\\hugop\\AppData\\Local\\Temp\\ipykernel_29096\\2411780168.py:3: PerformanceWarning: DataFrame is highly fragmented.  This is usually the result of calling `frame.insert` many times, which has poor performance.  Consider joining all columns at once using pd.concat(axis=1) instead. To get a de-fragmented frame, use `newframe = frame.copy()`\n",
      "  coord[\"Component number : \" +  str(i)] = [vector[i] for vector in df.vector]\n",
      "C:\\Users\\hugop\\AppData\\Local\\Temp\\ipykernel_29096\\2411780168.py:3: PerformanceWarning: DataFrame is highly fragmented.  This is usually the result of calling `frame.insert` many times, which has poor performance.  Consider joining all columns at once using pd.concat(axis=1) instead. To get a de-fragmented frame, use `newframe = frame.copy()`\n",
      "  coord[\"Component number : \" +  str(i)] = [vector[i] for vector in df.vector]\n",
      "C:\\Users\\hugop\\AppData\\Local\\Temp\\ipykernel_29096\\2411780168.py:3: PerformanceWarning: DataFrame is highly fragmented.  This is usually the result of calling `frame.insert` many times, which has poor performance.  Consider joining all columns at once using pd.concat(axis=1) instead. To get a de-fragmented frame, use `newframe = frame.copy()`\n",
      "  coord[\"Component number : \" +  str(i)] = [vector[i] for vector in df.vector]\n",
      "C:\\Users\\hugop\\AppData\\Local\\Temp\\ipykernel_29096\\2411780168.py:3: PerformanceWarning: DataFrame is highly fragmented.  This is usually the result of calling `frame.insert` many times, which has poor performance.  Consider joining all columns at once using pd.concat(axis=1) instead. To get a de-fragmented frame, use `newframe = frame.copy()`\n",
      "  coord[\"Component number : \" +  str(i)] = [vector[i] for vector in df.vector]\n",
      "C:\\Users\\hugop\\AppData\\Local\\Temp\\ipykernel_29096\\2411780168.py:3: PerformanceWarning: DataFrame is highly fragmented.  This is usually the result of calling `frame.insert` many times, which has poor performance.  Consider joining all columns at once using pd.concat(axis=1) instead. To get a de-fragmented frame, use `newframe = frame.copy()`\n",
      "  coord[\"Component number : \" +  str(i)] = [vector[i] for vector in df.vector]\n",
      "C:\\Users\\hugop\\AppData\\Local\\Temp\\ipykernel_29096\\2411780168.py:3: PerformanceWarning: DataFrame is highly fragmented.  This is usually the result of calling `frame.insert` many times, which has poor performance.  Consider joining all columns at once using pd.concat(axis=1) instead. To get a de-fragmented frame, use `newframe = frame.copy()`\n",
      "  coord[\"Component number : \" +  str(i)] = [vector[i] for vector in df.vector]\n",
      "C:\\Users\\hugop\\AppData\\Local\\Temp\\ipykernel_29096\\2411780168.py:3: PerformanceWarning: DataFrame is highly fragmented.  This is usually the result of calling `frame.insert` many times, which has poor performance.  Consider joining all columns at once using pd.concat(axis=1) instead. To get a de-fragmented frame, use `newframe = frame.copy()`\n",
      "  coord[\"Component number : \" +  str(i)] = [vector[i] for vector in df.vector]\n",
      "C:\\Users\\hugop\\AppData\\Local\\Temp\\ipykernel_29096\\2411780168.py:3: PerformanceWarning: DataFrame is highly fragmented.  This is usually the result of calling `frame.insert` many times, which has poor performance.  Consider joining all columns at once using pd.concat(axis=1) instead. To get a de-fragmented frame, use `newframe = frame.copy()`\n",
      "  coord[\"Component number : \" +  str(i)] = [vector[i] for vector in df.vector]\n",
      "C:\\Users\\hugop\\AppData\\Local\\Temp\\ipykernel_29096\\2411780168.py:3: PerformanceWarning: DataFrame is highly fragmented.  This is usually the result of calling `frame.insert` many times, which has poor performance.  Consider joining all columns at once using pd.concat(axis=1) instead. To get a de-fragmented frame, use `newframe = frame.copy()`\n",
      "  coord[\"Component number : \" +  str(i)] = [vector[i] for vector in df.vector]\n",
      "C:\\Users\\hugop\\AppData\\Local\\Temp\\ipykernel_29096\\2411780168.py:3: PerformanceWarning: DataFrame is highly fragmented.  This is usually the result of calling `frame.insert` many times, which has poor performance.  Consider joining all columns at once using pd.concat(axis=1) instead. To get a de-fragmented frame, use `newframe = frame.copy()`\n",
      "  coord[\"Component number : \" +  str(i)] = [vector[i] for vector in df.vector]\n",
      "C:\\Users\\hugop\\AppData\\Local\\Temp\\ipykernel_29096\\2411780168.py:3: PerformanceWarning: DataFrame is highly fragmented.  This is usually the result of calling `frame.insert` many times, which has poor performance.  Consider joining all columns at once using pd.concat(axis=1) instead. To get a de-fragmented frame, use `newframe = frame.copy()`\n",
      "  coord[\"Component number : \" +  str(i)] = [vector[i] for vector in df.vector]\n",
      "C:\\Users\\hugop\\AppData\\Local\\Temp\\ipykernel_29096\\2411780168.py:3: PerformanceWarning: DataFrame is highly fragmented.  This is usually the result of calling `frame.insert` many times, which has poor performance.  Consider joining all columns at once using pd.concat(axis=1) instead. To get a de-fragmented frame, use `newframe = frame.copy()`\n",
      "  coord[\"Component number : \" +  str(i)] = [vector[i] for vector in df.vector]\n",
      "C:\\Users\\hugop\\AppData\\Local\\Temp\\ipykernel_29096\\2411780168.py:3: PerformanceWarning: DataFrame is highly fragmented.  This is usually the result of calling `frame.insert` many times, which has poor performance.  Consider joining all columns at once using pd.concat(axis=1) instead. To get a de-fragmented frame, use `newframe = frame.copy()`\n",
      "  coord[\"Component number : \" +  str(i)] = [vector[i] for vector in df.vector]\n",
      "C:\\Users\\hugop\\AppData\\Local\\Temp\\ipykernel_29096\\2411780168.py:3: PerformanceWarning: DataFrame is highly fragmented.  This is usually the result of calling `frame.insert` many times, which has poor performance.  Consider joining all columns at once using pd.concat(axis=1) instead. To get a de-fragmented frame, use `newframe = frame.copy()`\n",
      "  coord[\"Component number : \" +  str(i)] = [vector[i] for vector in df.vector]\n",
      "C:\\Users\\hugop\\AppData\\Local\\Temp\\ipykernel_29096\\2411780168.py:3: PerformanceWarning: DataFrame is highly fragmented.  This is usually the result of calling `frame.insert` many times, which has poor performance.  Consider joining all columns at once using pd.concat(axis=1) instead. To get a de-fragmented frame, use `newframe = frame.copy()`\n",
      "  coord[\"Component number : \" +  str(i)] = [vector[i] for vector in df.vector]\n",
      "C:\\Users\\hugop\\AppData\\Local\\Temp\\ipykernel_29096\\2411780168.py:3: PerformanceWarning: DataFrame is highly fragmented.  This is usually the result of calling `frame.insert` many times, which has poor performance.  Consider joining all columns at once using pd.concat(axis=1) instead. To get a de-fragmented frame, use `newframe = frame.copy()`\n",
      "  coord[\"Component number : \" +  str(i)] = [vector[i] for vector in df.vector]\n",
      "C:\\Users\\hugop\\AppData\\Local\\Temp\\ipykernel_29096\\2411780168.py:3: PerformanceWarning: DataFrame is highly fragmented.  This is usually the result of calling `frame.insert` many times, which has poor performance.  Consider joining all columns at once using pd.concat(axis=1) instead. To get a de-fragmented frame, use `newframe = frame.copy()`\n",
      "  coord[\"Component number : \" +  str(i)] = [vector[i] for vector in df.vector]\n",
      "C:\\Users\\hugop\\AppData\\Local\\Temp\\ipykernel_29096\\2411780168.py:3: PerformanceWarning: DataFrame is highly fragmented.  This is usually the result of calling `frame.insert` many times, which has poor performance.  Consider joining all columns at once using pd.concat(axis=1) instead. To get a de-fragmented frame, use `newframe = frame.copy()`\n",
      "  coord[\"Component number : \" +  str(i)] = [vector[i] for vector in df.vector]\n",
      "C:\\Users\\hugop\\AppData\\Local\\Temp\\ipykernel_29096\\2411780168.py:3: PerformanceWarning: DataFrame is highly fragmented.  This is usually the result of calling `frame.insert` many times, which has poor performance.  Consider joining all columns at once using pd.concat(axis=1) instead. To get a de-fragmented frame, use `newframe = frame.copy()`\n",
      "  coord[\"Component number : \" +  str(i)] = [vector[i] for vector in df.vector]\n",
      "C:\\Users\\hugop\\AppData\\Local\\Temp\\ipykernel_29096\\2411780168.py:3: PerformanceWarning: DataFrame is highly fragmented.  This is usually the result of calling `frame.insert` many times, which has poor performance.  Consider joining all columns at once using pd.concat(axis=1) instead. To get a de-fragmented frame, use `newframe = frame.copy()`\n",
      "  coord[\"Component number : \" +  str(i)] = [vector[i] for vector in df.vector]\n",
      "C:\\Users\\hugop\\AppData\\Local\\Temp\\ipykernel_29096\\2411780168.py:3: PerformanceWarning: DataFrame is highly fragmented.  This is usually the result of calling `frame.insert` many times, which has poor performance.  Consider joining all columns at once using pd.concat(axis=1) instead. To get a de-fragmented frame, use `newframe = frame.copy()`\n",
      "  coord[\"Component number : \" +  str(i)] = [vector[i] for vector in df.vector]\n",
      "C:\\Users\\hugop\\AppData\\Local\\Temp\\ipykernel_29096\\2411780168.py:3: PerformanceWarning: DataFrame is highly fragmented.  This is usually the result of calling `frame.insert` many times, which has poor performance.  Consider joining all columns at once using pd.concat(axis=1) instead. To get a de-fragmented frame, use `newframe = frame.copy()`\n",
      "  coord[\"Component number : \" +  str(i)] = [vector[i] for vector in df.vector]\n",
      "C:\\Users\\hugop\\AppData\\Local\\Temp\\ipykernel_29096\\2411780168.py:3: PerformanceWarning: DataFrame is highly fragmented.  This is usually the result of calling `frame.insert` many times, which has poor performance.  Consider joining all columns at once using pd.concat(axis=1) instead. To get a de-fragmented frame, use `newframe = frame.copy()`\n",
      "  coord[\"Component number : \" +  str(i)] = [vector[i] for vector in df.vector]\n",
      "C:\\Users\\hugop\\AppData\\Local\\Temp\\ipykernel_29096\\2411780168.py:3: PerformanceWarning: DataFrame is highly fragmented.  This is usually the result of calling `frame.insert` many times, which has poor performance.  Consider joining all columns at once using pd.concat(axis=1) instead. To get a de-fragmented frame, use `newframe = frame.copy()`\n",
      "  coord[\"Component number : \" +  str(i)] = [vector[i] for vector in df.vector]\n",
      "C:\\Users\\hugop\\AppData\\Local\\Temp\\ipykernel_29096\\2411780168.py:3: PerformanceWarning: DataFrame is highly fragmented.  This is usually the result of calling `frame.insert` many times, which has poor performance.  Consider joining all columns at once using pd.concat(axis=1) instead. To get a de-fragmented frame, use `newframe = frame.copy()`\n",
      "  coord[\"Component number : \" +  str(i)] = [vector[i] for vector in df.vector]\n",
      "C:\\Users\\hugop\\AppData\\Local\\Temp\\ipykernel_29096\\2411780168.py:3: PerformanceWarning: DataFrame is highly fragmented.  This is usually the result of calling `frame.insert` many times, which has poor performance.  Consider joining all columns at once using pd.concat(axis=1) instead. To get a de-fragmented frame, use `newframe = frame.copy()`\n",
      "  coord[\"Component number : \" +  str(i)] = [vector[i] for vector in df.vector]\n",
      "C:\\Users\\hugop\\AppData\\Local\\Temp\\ipykernel_29096\\2411780168.py:3: PerformanceWarning: DataFrame is highly fragmented.  This is usually the result of calling `frame.insert` many times, which has poor performance.  Consider joining all columns at once using pd.concat(axis=1) instead. To get a de-fragmented frame, use `newframe = frame.copy()`\n",
      "  coord[\"Component number : \" +  str(i)] = [vector[i] for vector in df.vector]\n",
      "C:\\Users\\hugop\\AppData\\Local\\Temp\\ipykernel_29096\\2411780168.py:3: PerformanceWarning: DataFrame is highly fragmented.  This is usually the result of calling `frame.insert` many times, which has poor performance.  Consider joining all columns at once using pd.concat(axis=1) instead. To get a de-fragmented frame, use `newframe = frame.copy()`\n",
      "  coord[\"Component number : \" +  str(i)] = [vector[i] for vector in df.vector]\n",
      "C:\\Users\\hugop\\AppData\\Local\\Temp\\ipykernel_29096\\2411780168.py:3: PerformanceWarning: DataFrame is highly fragmented.  This is usually the result of calling `frame.insert` many times, which has poor performance.  Consider joining all columns at once using pd.concat(axis=1) instead. To get a de-fragmented frame, use `newframe = frame.copy()`\n",
      "  coord[\"Component number : \" +  str(i)] = [vector[i] for vector in df.vector]\n",
      "C:\\Users\\hugop\\AppData\\Local\\Temp\\ipykernel_29096\\2411780168.py:3: PerformanceWarning: DataFrame is highly fragmented.  This is usually the result of calling `frame.insert` many times, which has poor performance.  Consider joining all columns at once using pd.concat(axis=1) instead. To get a de-fragmented frame, use `newframe = frame.copy()`\n",
      "  coord[\"Component number : \" +  str(i)] = [vector[i] for vector in df.vector]\n",
      "C:\\Users\\hugop\\AppData\\Local\\Temp\\ipykernel_29096\\2411780168.py:3: PerformanceWarning: DataFrame is highly fragmented.  This is usually the result of calling `frame.insert` many times, which has poor performance.  Consider joining all columns at once using pd.concat(axis=1) instead. To get a de-fragmented frame, use `newframe = frame.copy()`\n",
      "  coord[\"Component number : \" +  str(i)] = [vector[i] for vector in df.vector]\n",
      "C:\\Users\\hugop\\AppData\\Local\\Temp\\ipykernel_29096\\2411780168.py:3: PerformanceWarning: DataFrame is highly fragmented.  This is usually the result of calling `frame.insert` many times, which has poor performance.  Consider joining all columns at once using pd.concat(axis=1) instead. To get a de-fragmented frame, use `newframe = frame.copy()`\n",
      "  coord[\"Component number : \" +  str(i)] = [vector[i] for vector in df.vector]\n",
      "C:\\Users\\hugop\\AppData\\Local\\Temp\\ipykernel_29096\\2411780168.py:3: PerformanceWarning: DataFrame is highly fragmented.  This is usually the result of calling `frame.insert` many times, which has poor performance.  Consider joining all columns at once using pd.concat(axis=1) instead. To get a de-fragmented frame, use `newframe = frame.copy()`\n",
      "  coord[\"Component number : \" +  str(i)] = [vector[i] for vector in df.vector]\n",
      "C:\\Users\\hugop\\AppData\\Local\\Temp\\ipykernel_29096\\2411780168.py:3: PerformanceWarning: DataFrame is highly fragmented.  This is usually the result of calling `frame.insert` many times, which has poor performance.  Consider joining all columns at once using pd.concat(axis=1) instead. To get a de-fragmented frame, use `newframe = frame.copy()`\n",
      "  coord[\"Component number : \" +  str(i)] = [vector[i] for vector in df.vector]\n",
      "C:\\Users\\hugop\\AppData\\Local\\Temp\\ipykernel_29096\\2411780168.py:3: PerformanceWarning: DataFrame is highly fragmented.  This is usually the result of calling `frame.insert` many times, which has poor performance.  Consider joining all columns at once using pd.concat(axis=1) instead. To get a de-fragmented frame, use `newframe = frame.copy()`\n",
      "  coord[\"Component number : \" +  str(i)] = [vector[i] for vector in df.vector]\n",
      "C:\\Users\\hugop\\AppData\\Local\\Temp\\ipykernel_29096\\2411780168.py:3: PerformanceWarning: DataFrame is highly fragmented.  This is usually the result of calling `frame.insert` many times, which has poor performance.  Consider joining all columns at once using pd.concat(axis=1) instead. To get a de-fragmented frame, use `newframe = frame.copy()`\n",
      "  coord[\"Component number : \" +  str(i)] = [vector[i] for vector in df.vector]\n",
      "C:\\Users\\hugop\\AppData\\Local\\Temp\\ipykernel_29096\\2411780168.py:3: PerformanceWarning: DataFrame is highly fragmented.  This is usually the result of calling `frame.insert` many times, which has poor performance.  Consider joining all columns at once using pd.concat(axis=1) instead. To get a de-fragmented frame, use `newframe = frame.copy()`\n",
      "  coord[\"Component number : \" +  str(i)] = [vector[i] for vector in df.vector]\n",
      "C:\\Users\\hugop\\AppData\\Local\\Temp\\ipykernel_29096\\2411780168.py:3: PerformanceWarning: DataFrame is highly fragmented.  This is usually the result of calling `frame.insert` many times, which has poor performance.  Consider joining all columns at once using pd.concat(axis=1) instead. To get a de-fragmented frame, use `newframe = frame.copy()`\n",
      "  coord[\"Component number : \" +  str(i)] = [vector[i] for vector in df.vector]\n",
      "C:\\Users\\hugop\\AppData\\Local\\Temp\\ipykernel_29096\\2411780168.py:3: PerformanceWarning: DataFrame is highly fragmented.  This is usually the result of calling `frame.insert` many times, which has poor performance.  Consider joining all columns at once using pd.concat(axis=1) instead. To get a de-fragmented frame, use `newframe = frame.copy()`\n",
      "  coord[\"Component number : \" +  str(i)] = [vector[i] for vector in df.vector]\n",
      "C:\\Users\\hugop\\AppData\\Local\\Temp\\ipykernel_29096\\2411780168.py:3: PerformanceWarning: DataFrame is highly fragmented.  This is usually the result of calling `frame.insert` many times, which has poor performance.  Consider joining all columns at once using pd.concat(axis=1) instead. To get a de-fragmented frame, use `newframe = frame.copy()`\n",
      "  coord[\"Component number : \" +  str(i)] = [vector[i] for vector in df.vector]\n",
      "C:\\Users\\hugop\\AppData\\Local\\Temp\\ipykernel_29096\\2411780168.py:3: PerformanceWarning: DataFrame is highly fragmented.  This is usually the result of calling `frame.insert` many times, which has poor performance.  Consider joining all columns at once using pd.concat(axis=1) instead. To get a de-fragmented frame, use `newframe = frame.copy()`\n",
      "  coord[\"Component number : \" +  str(i)] = [vector[i] for vector in df.vector]\n",
      "C:\\Users\\hugop\\AppData\\Local\\Temp\\ipykernel_29096\\2411780168.py:3: PerformanceWarning: DataFrame is highly fragmented.  This is usually the result of calling `frame.insert` many times, which has poor performance.  Consider joining all columns at once using pd.concat(axis=1) instead. To get a de-fragmented frame, use `newframe = frame.copy()`\n",
      "  coord[\"Component number : \" +  str(i)] = [vector[i] for vector in df.vector]\n",
      "C:\\Users\\hugop\\AppData\\Local\\Temp\\ipykernel_29096\\2411780168.py:3: PerformanceWarning: DataFrame is highly fragmented.  This is usually the result of calling `frame.insert` many times, which has poor performance.  Consider joining all columns at once using pd.concat(axis=1) instead. To get a de-fragmented frame, use `newframe = frame.copy()`\n",
      "  coord[\"Component number : \" +  str(i)] = [vector[i] for vector in df.vector]\n",
      "C:\\Users\\hugop\\AppData\\Local\\Temp\\ipykernel_29096\\2411780168.py:3: PerformanceWarning: DataFrame is highly fragmented.  This is usually the result of calling `frame.insert` many times, which has poor performance.  Consider joining all columns at once using pd.concat(axis=1) instead. To get a de-fragmented frame, use `newframe = frame.copy()`\n",
      "  coord[\"Component number : \" +  str(i)] = [vector[i] for vector in df.vector]\n",
      "C:\\Users\\hugop\\AppData\\Local\\Temp\\ipykernel_29096\\2411780168.py:3: PerformanceWarning: DataFrame is highly fragmented.  This is usually the result of calling `frame.insert` many times, which has poor performance.  Consider joining all columns at once using pd.concat(axis=1) instead. To get a de-fragmented frame, use `newframe = frame.copy()`\n",
      "  coord[\"Component number : \" +  str(i)] = [vector[i] for vector in df.vector]\n",
      "C:\\Users\\hugop\\AppData\\Local\\Temp\\ipykernel_29096\\2411780168.py:3: PerformanceWarning: DataFrame is highly fragmented.  This is usually the result of calling `frame.insert` many times, which has poor performance.  Consider joining all columns at once using pd.concat(axis=1) instead. To get a de-fragmented frame, use `newframe = frame.copy()`\n",
      "  coord[\"Component number : \" +  str(i)] = [vector[i] for vector in df.vector]\n",
      "C:\\Users\\hugop\\AppData\\Local\\Temp\\ipykernel_29096\\2411780168.py:3: PerformanceWarning: DataFrame is highly fragmented.  This is usually the result of calling `frame.insert` many times, which has poor performance.  Consider joining all columns at once using pd.concat(axis=1) instead. To get a de-fragmented frame, use `newframe = frame.copy()`\n",
      "  coord[\"Component number : \" +  str(i)] = [vector[i] for vector in df.vector]\n",
      "C:\\Users\\hugop\\AppData\\Local\\Temp\\ipykernel_29096\\2411780168.py:3: PerformanceWarning: DataFrame is highly fragmented.  This is usually the result of calling `frame.insert` many times, which has poor performance.  Consider joining all columns at once using pd.concat(axis=1) instead. To get a de-fragmented frame, use `newframe = frame.copy()`\n",
      "  coord[\"Component number : \" +  str(i)] = [vector[i] for vector in df.vector]\n",
      "C:\\Users\\hugop\\AppData\\Local\\Temp\\ipykernel_29096\\2411780168.py:3: PerformanceWarning: DataFrame is highly fragmented.  This is usually the result of calling `frame.insert` many times, which has poor performance.  Consider joining all columns at once using pd.concat(axis=1) instead. To get a de-fragmented frame, use `newframe = frame.copy()`\n",
      "  coord[\"Component number : \" +  str(i)] = [vector[i] for vector in df.vector]\n",
      "C:\\Users\\hugop\\AppData\\Local\\Temp\\ipykernel_29096\\2411780168.py:3: PerformanceWarning: DataFrame is highly fragmented.  This is usually the result of calling `frame.insert` many times, which has poor performance.  Consider joining all columns at once using pd.concat(axis=1) instead. To get a de-fragmented frame, use `newframe = frame.copy()`\n",
      "  coord[\"Component number : \" +  str(i)] = [vector[i] for vector in df.vector]\n",
      "C:\\Users\\hugop\\AppData\\Local\\Temp\\ipykernel_29096\\2411780168.py:3: PerformanceWarning: DataFrame is highly fragmented.  This is usually the result of calling `frame.insert` many times, which has poor performance.  Consider joining all columns at once using pd.concat(axis=1) instead. To get a de-fragmented frame, use `newframe = frame.copy()`\n",
      "  coord[\"Component number : \" +  str(i)] = [vector[i] for vector in df.vector]\n",
      "C:\\Users\\hugop\\AppData\\Local\\Temp\\ipykernel_29096\\2411780168.py:3: PerformanceWarning: DataFrame is highly fragmented.  This is usually the result of calling `frame.insert` many times, which has poor performance.  Consider joining all columns at once using pd.concat(axis=1) instead. To get a de-fragmented frame, use `newframe = frame.copy()`\n",
      "  coord[\"Component number : \" +  str(i)] = [vector[i] for vector in df.vector]\n",
      "C:\\Users\\hugop\\AppData\\Local\\Temp\\ipykernel_29096\\2411780168.py:3: PerformanceWarning: DataFrame is highly fragmented.  This is usually the result of calling `frame.insert` many times, which has poor performance.  Consider joining all columns at once using pd.concat(axis=1) instead. To get a de-fragmented frame, use `newframe = frame.copy()`\n",
      "  coord[\"Component number : \" +  str(i)] = [vector[i] for vector in df.vector]\n",
      "C:\\Users\\hugop\\AppData\\Local\\Temp\\ipykernel_29096\\2411780168.py:3: PerformanceWarning: DataFrame is highly fragmented.  This is usually the result of calling `frame.insert` many times, which has poor performance.  Consider joining all columns at once using pd.concat(axis=1) instead. To get a de-fragmented frame, use `newframe = frame.copy()`\n",
      "  coord[\"Component number : \" +  str(i)] = [vector[i] for vector in df.vector]\n",
      "C:\\Users\\hugop\\AppData\\Local\\Temp\\ipykernel_29096\\2411780168.py:3: PerformanceWarning: DataFrame is highly fragmented.  This is usually the result of calling `frame.insert` many times, which has poor performance.  Consider joining all columns at once using pd.concat(axis=1) instead. To get a de-fragmented frame, use `newframe = frame.copy()`\n",
      "  coord[\"Component number : \" +  str(i)] = [vector[i] for vector in df.vector]\n",
      "C:\\Users\\hugop\\AppData\\Local\\Temp\\ipykernel_29096\\2411780168.py:3: PerformanceWarning: DataFrame is highly fragmented.  This is usually the result of calling `frame.insert` many times, which has poor performance.  Consider joining all columns at once using pd.concat(axis=1) instead. To get a de-fragmented frame, use `newframe = frame.copy()`\n",
      "  coord[\"Component number : \" +  str(i)] = [vector[i] for vector in df.vector]\n",
      "C:\\Users\\hugop\\AppData\\Local\\Temp\\ipykernel_29096\\2411780168.py:3: PerformanceWarning: DataFrame is highly fragmented.  This is usually the result of calling `frame.insert` many times, which has poor performance.  Consider joining all columns at once using pd.concat(axis=1) instead. To get a de-fragmented frame, use `newframe = frame.copy()`\n",
      "  coord[\"Component number : \" +  str(i)] = [vector[i] for vector in df.vector]\n",
      "C:\\Users\\hugop\\AppData\\Local\\Temp\\ipykernel_29096\\2411780168.py:3: PerformanceWarning: DataFrame is highly fragmented.  This is usually the result of calling `frame.insert` many times, which has poor performance.  Consider joining all columns at once using pd.concat(axis=1) instead. To get a de-fragmented frame, use `newframe = frame.copy()`\n",
      "  coord[\"Component number : \" +  str(i)] = [vector[i] for vector in df.vector]\n",
      "C:\\Users\\hugop\\AppData\\Local\\Temp\\ipykernel_29096\\2411780168.py:3: PerformanceWarning: DataFrame is highly fragmented.  This is usually the result of calling `frame.insert` many times, which has poor performance.  Consider joining all columns at once using pd.concat(axis=1) instead. To get a de-fragmented frame, use `newframe = frame.copy()`\n",
      "  coord[\"Component number : \" +  str(i)] = [vector[i] for vector in df.vector]\n",
      "C:\\Users\\hugop\\AppData\\Local\\Temp\\ipykernel_29096\\2411780168.py:3: PerformanceWarning: DataFrame is highly fragmented.  This is usually the result of calling `frame.insert` many times, which has poor performance.  Consider joining all columns at once using pd.concat(axis=1) instead. To get a de-fragmented frame, use `newframe = frame.copy()`\n",
      "  coord[\"Component number : \" +  str(i)] = [vector[i] for vector in df.vector]\n",
      "C:\\Users\\hugop\\AppData\\Local\\Temp\\ipykernel_29096\\2411780168.py:3: PerformanceWarning: DataFrame is highly fragmented.  This is usually the result of calling `frame.insert` many times, which has poor performance.  Consider joining all columns at once using pd.concat(axis=1) instead. To get a de-fragmented frame, use `newframe = frame.copy()`\n",
      "  coord[\"Component number : \" +  str(i)] = [vector[i] for vector in df.vector]\n",
      "C:\\Users\\hugop\\AppData\\Local\\Temp\\ipykernel_29096\\2411780168.py:3: PerformanceWarning: DataFrame is highly fragmented.  This is usually the result of calling `frame.insert` many times, which has poor performance.  Consider joining all columns at once using pd.concat(axis=1) instead. To get a de-fragmented frame, use `newframe = frame.copy()`\n",
      "  coord[\"Component number : \" +  str(i)] = [vector[i] for vector in df.vector]\n",
      "C:\\Users\\hugop\\AppData\\Local\\Temp\\ipykernel_29096\\2411780168.py:3: PerformanceWarning: DataFrame is highly fragmented.  This is usually the result of calling `frame.insert` many times, which has poor performance.  Consider joining all columns at once using pd.concat(axis=1) instead. To get a de-fragmented frame, use `newframe = frame.copy()`\n",
      "  coord[\"Component number : \" +  str(i)] = [vector[i] for vector in df.vector]\n",
      "C:\\Users\\hugop\\AppData\\Local\\Temp\\ipykernel_29096\\2411780168.py:3: PerformanceWarning: DataFrame is highly fragmented.  This is usually the result of calling `frame.insert` many times, which has poor performance.  Consider joining all columns at once using pd.concat(axis=1) instead. To get a de-fragmented frame, use `newframe = frame.copy()`\n",
      "  coord[\"Component number : \" +  str(i)] = [vector[i] for vector in df.vector]\n",
      "C:\\Users\\hugop\\AppData\\Local\\Temp\\ipykernel_29096\\2411780168.py:3: PerformanceWarning: DataFrame is highly fragmented.  This is usually the result of calling `frame.insert` many times, which has poor performance.  Consider joining all columns at once using pd.concat(axis=1) instead. To get a de-fragmented frame, use `newframe = frame.copy()`\n",
      "  coord[\"Component number : \" +  str(i)] = [vector[i] for vector in df.vector]\n",
      "C:\\Users\\hugop\\AppData\\Local\\Temp\\ipykernel_29096\\2411780168.py:3: PerformanceWarning: DataFrame is highly fragmented.  This is usually the result of calling `frame.insert` many times, which has poor performance.  Consider joining all columns at once using pd.concat(axis=1) instead. To get a de-fragmented frame, use `newframe = frame.copy()`\n",
      "  coord[\"Component number : \" +  str(i)] = [vector[i] for vector in df.vector]\n",
      "C:\\Users\\hugop\\AppData\\Local\\Temp\\ipykernel_29096\\2411780168.py:3: PerformanceWarning: DataFrame is highly fragmented.  This is usually the result of calling `frame.insert` many times, which has poor performance.  Consider joining all columns at once using pd.concat(axis=1) instead. To get a de-fragmented frame, use `newframe = frame.copy()`\n",
      "  coord[\"Component number : \" +  str(i)] = [vector[i] for vector in df.vector]\n",
      "C:\\Users\\hugop\\AppData\\Local\\Temp\\ipykernel_29096\\2411780168.py:3: PerformanceWarning: DataFrame is highly fragmented.  This is usually the result of calling `frame.insert` many times, which has poor performance.  Consider joining all columns at once using pd.concat(axis=1) instead. To get a de-fragmented frame, use `newframe = frame.copy()`\n",
      "  coord[\"Component number : \" +  str(i)] = [vector[i] for vector in df.vector]\n",
      "C:\\Users\\hugop\\AppData\\Local\\Temp\\ipykernel_29096\\2411780168.py:3: PerformanceWarning: DataFrame is highly fragmented.  This is usually the result of calling `frame.insert` many times, which has poor performance.  Consider joining all columns at once using pd.concat(axis=1) instead. To get a de-fragmented frame, use `newframe = frame.copy()`\n",
      "  coord[\"Component number : \" +  str(i)] = [vector[i] for vector in df.vector]\n",
      "C:\\Users\\hugop\\AppData\\Local\\Temp\\ipykernel_29096\\2411780168.py:3: PerformanceWarning: DataFrame is highly fragmented.  This is usually the result of calling `frame.insert` many times, which has poor performance.  Consider joining all columns at once using pd.concat(axis=1) instead. To get a de-fragmented frame, use `newframe = frame.copy()`\n",
      "  coord[\"Component number : \" +  str(i)] = [vector[i] for vector in df.vector]\n",
      "C:\\Users\\hugop\\AppData\\Local\\Temp\\ipykernel_29096\\2411780168.py:3: PerformanceWarning: DataFrame is highly fragmented.  This is usually the result of calling `frame.insert` many times, which has poor performance.  Consider joining all columns at once using pd.concat(axis=1) instead. To get a de-fragmented frame, use `newframe = frame.copy()`\n",
      "  coord[\"Component number : \" +  str(i)] = [vector[i] for vector in df.vector]\n",
      "C:\\Users\\hugop\\AppData\\Local\\Temp\\ipykernel_29096\\2411780168.py:3: PerformanceWarning: DataFrame is highly fragmented.  This is usually the result of calling `frame.insert` many times, which has poor performance.  Consider joining all columns at once using pd.concat(axis=1) instead. To get a de-fragmented frame, use `newframe = frame.copy()`\n",
      "  coord[\"Component number : \" +  str(i)] = [vector[i] for vector in df.vector]\n",
      "C:\\Users\\hugop\\AppData\\Local\\Temp\\ipykernel_29096\\2411780168.py:3: PerformanceWarning: DataFrame is highly fragmented.  This is usually the result of calling `frame.insert` many times, which has poor performance.  Consider joining all columns at once using pd.concat(axis=1) instead. To get a de-fragmented frame, use `newframe = frame.copy()`\n",
      "  coord[\"Component number : \" +  str(i)] = [vector[i] for vector in df.vector]\n",
      "C:\\Users\\hugop\\AppData\\Local\\Temp\\ipykernel_29096\\2411780168.py:3: PerformanceWarning: DataFrame is highly fragmented.  This is usually the result of calling `frame.insert` many times, which has poor performance.  Consider joining all columns at once using pd.concat(axis=1) instead. To get a de-fragmented frame, use `newframe = frame.copy()`\n",
      "  coord[\"Component number : \" +  str(i)] = [vector[i] for vector in df.vector]\n",
      "C:\\Users\\hugop\\AppData\\Local\\Temp\\ipykernel_29096\\2411780168.py:3: PerformanceWarning: DataFrame is highly fragmented.  This is usually the result of calling `frame.insert` many times, which has poor performance.  Consider joining all columns at once using pd.concat(axis=1) instead. To get a de-fragmented frame, use `newframe = frame.copy()`\n",
      "  coord[\"Component number : \" +  str(i)] = [vector[i] for vector in df.vector]\n",
      "C:\\Users\\hugop\\AppData\\Local\\Temp\\ipykernel_29096\\2411780168.py:3: PerformanceWarning: DataFrame is highly fragmented.  This is usually the result of calling `frame.insert` many times, which has poor performance.  Consider joining all columns at once using pd.concat(axis=1) instead. To get a de-fragmented frame, use `newframe = frame.copy()`\n",
      "  coord[\"Component number : \" +  str(i)] = [vector[i] for vector in df.vector]\n",
      "C:\\Users\\hugop\\AppData\\Local\\Temp\\ipykernel_29096\\2411780168.py:3: PerformanceWarning: DataFrame is highly fragmented.  This is usually the result of calling `frame.insert` many times, which has poor performance.  Consider joining all columns at once using pd.concat(axis=1) instead. To get a de-fragmented frame, use `newframe = frame.copy()`\n",
      "  coord[\"Component number : \" +  str(i)] = [vector[i] for vector in df.vector]\n",
      "C:\\Users\\hugop\\AppData\\Local\\Temp\\ipykernel_29096\\2411780168.py:3: PerformanceWarning: DataFrame is highly fragmented.  This is usually the result of calling `frame.insert` many times, which has poor performance.  Consider joining all columns at once using pd.concat(axis=1) instead. To get a de-fragmented frame, use `newframe = frame.copy()`\n",
      "  coord[\"Component number : \" +  str(i)] = [vector[i] for vector in df.vector]\n",
      "C:\\Users\\hugop\\AppData\\Local\\Temp\\ipykernel_29096\\2411780168.py:3: PerformanceWarning: DataFrame is highly fragmented.  This is usually the result of calling `frame.insert` many times, which has poor performance.  Consider joining all columns at once using pd.concat(axis=1) instead. To get a de-fragmented frame, use `newframe = frame.copy()`\n",
      "  coord[\"Component number : \" +  str(i)] = [vector[i] for vector in df.vector]\n",
      "C:\\Users\\hugop\\AppData\\Local\\Temp\\ipykernel_29096\\2411780168.py:3: PerformanceWarning: DataFrame is highly fragmented.  This is usually the result of calling `frame.insert` many times, which has poor performance.  Consider joining all columns at once using pd.concat(axis=1) instead. To get a de-fragmented frame, use `newframe = frame.copy()`\n",
      "  coord[\"Component number : \" +  str(i)] = [vector[i] for vector in df.vector]\n",
      "C:\\Users\\hugop\\AppData\\Local\\Temp\\ipykernel_29096\\2411780168.py:3: PerformanceWarning: DataFrame is highly fragmented.  This is usually the result of calling `frame.insert` many times, which has poor performance.  Consider joining all columns at once using pd.concat(axis=1) instead. To get a de-fragmented frame, use `newframe = frame.copy()`\n",
      "  coord[\"Component number : \" +  str(i)] = [vector[i] for vector in df.vector]\n",
      "C:\\Users\\hugop\\AppData\\Local\\Temp\\ipykernel_29096\\2411780168.py:3: PerformanceWarning: DataFrame is highly fragmented.  This is usually the result of calling `frame.insert` many times, which has poor performance.  Consider joining all columns at once using pd.concat(axis=1) instead. To get a de-fragmented frame, use `newframe = frame.copy()`\n",
      "  coord[\"Component number : \" +  str(i)] = [vector[i] for vector in df.vector]\n",
      "C:\\Users\\hugop\\AppData\\Local\\Temp\\ipykernel_29096\\2411780168.py:3: PerformanceWarning: DataFrame is highly fragmented.  This is usually the result of calling `frame.insert` many times, which has poor performance.  Consider joining all columns at once using pd.concat(axis=1) instead. To get a de-fragmented frame, use `newframe = frame.copy()`\n",
      "  coord[\"Component number : \" +  str(i)] = [vector[i] for vector in df.vector]\n",
      "C:\\Users\\hugop\\AppData\\Local\\Temp\\ipykernel_29096\\2411780168.py:3: PerformanceWarning: DataFrame is highly fragmented.  This is usually the result of calling `frame.insert` many times, which has poor performance.  Consider joining all columns at once using pd.concat(axis=1) instead. To get a de-fragmented frame, use `newframe = frame.copy()`\n",
      "  coord[\"Component number : \" +  str(i)] = [vector[i] for vector in df.vector]\n",
      "C:\\Users\\hugop\\AppData\\Local\\Temp\\ipykernel_29096\\2411780168.py:3: PerformanceWarning: DataFrame is highly fragmented.  This is usually the result of calling `frame.insert` many times, which has poor performance.  Consider joining all columns at once using pd.concat(axis=1) instead. To get a de-fragmented frame, use `newframe = frame.copy()`\n",
      "  coord[\"Component number : \" +  str(i)] = [vector[i] for vector in df.vector]\n",
      "C:\\Users\\hugop\\AppData\\Local\\Temp\\ipykernel_29096\\2411780168.py:3: PerformanceWarning: DataFrame is highly fragmented.  This is usually the result of calling `frame.insert` many times, which has poor performance.  Consider joining all columns at once using pd.concat(axis=1) instead. To get a de-fragmented frame, use `newframe = frame.copy()`\n",
      "  coord[\"Component number : \" +  str(i)] = [vector[i] for vector in df.vector]\n",
      "C:\\Users\\hugop\\AppData\\Local\\Temp\\ipykernel_29096\\2411780168.py:3: PerformanceWarning: DataFrame is highly fragmented.  This is usually the result of calling `frame.insert` many times, which has poor performance.  Consider joining all columns at once using pd.concat(axis=1) instead. To get a de-fragmented frame, use `newframe = frame.copy()`\n",
      "  coord[\"Component number : \" +  str(i)] = [vector[i] for vector in df.vector]\n",
      "C:\\Users\\hugop\\AppData\\Local\\Temp\\ipykernel_29096\\2411780168.py:3: PerformanceWarning: DataFrame is highly fragmented.  This is usually the result of calling `frame.insert` many times, which has poor performance.  Consider joining all columns at once using pd.concat(axis=1) instead. To get a de-fragmented frame, use `newframe = frame.copy()`\n",
      "  coord[\"Component number : \" +  str(i)] = [vector[i] for vector in df.vector]\n",
      "C:\\Users\\hugop\\AppData\\Local\\Temp\\ipykernel_29096\\2411780168.py:3: PerformanceWarning: DataFrame is highly fragmented.  This is usually the result of calling `frame.insert` many times, which has poor performance.  Consider joining all columns at once using pd.concat(axis=1) instead. To get a de-fragmented frame, use `newframe = frame.copy()`\n",
      "  coord[\"Component number : \" +  str(i)] = [vector[i] for vector in df.vector]\n",
      "C:\\Users\\hugop\\AppData\\Local\\Temp\\ipykernel_29096\\2411780168.py:3: PerformanceWarning: DataFrame is highly fragmented.  This is usually the result of calling `frame.insert` many times, which has poor performance.  Consider joining all columns at once using pd.concat(axis=1) instead. To get a de-fragmented frame, use `newframe = frame.copy()`\n",
      "  coord[\"Component number : \" +  str(i)] = [vector[i] for vector in df.vector]\n",
      "C:\\Users\\hugop\\AppData\\Local\\Temp\\ipykernel_29096\\2411780168.py:3: PerformanceWarning: DataFrame is highly fragmented.  This is usually the result of calling `frame.insert` many times, which has poor performance.  Consider joining all columns at once using pd.concat(axis=1) instead. To get a de-fragmented frame, use `newframe = frame.copy()`\n",
      "  coord[\"Component number : \" +  str(i)] = [vector[i] for vector in df.vector]\n",
      "C:\\Users\\hugop\\AppData\\Local\\Temp\\ipykernel_29096\\2411780168.py:3: PerformanceWarning: DataFrame is highly fragmented.  This is usually the result of calling `frame.insert` many times, which has poor performance.  Consider joining all columns at once using pd.concat(axis=1) instead. To get a de-fragmented frame, use `newframe = frame.copy()`\n",
      "  coord[\"Component number : \" +  str(i)] = [vector[i] for vector in df.vector]\n",
      "C:\\Users\\hugop\\AppData\\Local\\Temp\\ipykernel_29096\\2411780168.py:3: PerformanceWarning: DataFrame is highly fragmented.  This is usually the result of calling `frame.insert` many times, which has poor performance.  Consider joining all columns at once using pd.concat(axis=1) instead. To get a de-fragmented frame, use `newframe = frame.copy()`\n",
      "  coord[\"Component number : \" +  str(i)] = [vector[i] for vector in df.vector]\n",
      "C:\\Users\\hugop\\AppData\\Local\\Temp\\ipykernel_29096\\2411780168.py:3: PerformanceWarning: DataFrame is highly fragmented.  This is usually the result of calling `frame.insert` many times, which has poor performance.  Consider joining all columns at once using pd.concat(axis=1) instead. To get a de-fragmented frame, use `newframe = frame.copy()`\n",
      "  coord[\"Component number : \" +  str(i)] = [vector[i] for vector in df.vector]\n",
      "C:\\Users\\hugop\\AppData\\Local\\Temp\\ipykernel_29096\\2411780168.py:3: PerformanceWarning: DataFrame is highly fragmented.  This is usually the result of calling `frame.insert` many times, which has poor performance.  Consider joining all columns at once using pd.concat(axis=1) instead. To get a de-fragmented frame, use `newframe = frame.copy()`\n",
      "  coord[\"Component number : \" +  str(i)] = [vector[i] for vector in df.vector]\n",
      "C:\\Users\\hugop\\AppData\\Local\\Temp\\ipykernel_29096\\2411780168.py:3: PerformanceWarning: DataFrame is highly fragmented.  This is usually the result of calling `frame.insert` many times, which has poor performance.  Consider joining all columns at once using pd.concat(axis=1) instead. To get a de-fragmented frame, use `newframe = frame.copy()`\n",
      "  coord[\"Component number : \" +  str(i)] = [vector[i] for vector in df.vector]\n",
      "C:\\Users\\hugop\\AppData\\Local\\Temp\\ipykernel_29096\\2411780168.py:3: PerformanceWarning: DataFrame is highly fragmented.  This is usually the result of calling `frame.insert` many times, which has poor performance.  Consider joining all columns at once using pd.concat(axis=1) instead. To get a de-fragmented frame, use `newframe = frame.copy()`\n",
      "  coord[\"Component number : \" +  str(i)] = [vector[i] for vector in df.vector]\n",
      "C:\\Users\\hugop\\AppData\\Local\\Temp\\ipykernel_29096\\2411780168.py:3: PerformanceWarning: DataFrame is highly fragmented.  This is usually the result of calling `frame.insert` many times, which has poor performance.  Consider joining all columns at once using pd.concat(axis=1) instead. To get a de-fragmented frame, use `newframe = frame.copy()`\n",
      "  coord[\"Component number : \" +  str(i)] = [vector[i] for vector in df.vector]\n",
      "C:\\Users\\hugop\\AppData\\Local\\Temp\\ipykernel_29096\\2411780168.py:3: PerformanceWarning: DataFrame is highly fragmented.  This is usually the result of calling `frame.insert` many times, which has poor performance.  Consider joining all columns at once using pd.concat(axis=1) instead. To get a de-fragmented frame, use `newframe = frame.copy()`\n",
      "  coord[\"Component number : \" +  str(i)] = [vector[i] for vector in df.vector]\n",
      "C:\\Users\\hugop\\AppData\\Local\\Temp\\ipykernel_29096\\2411780168.py:3: PerformanceWarning: DataFrame is highly fragmented.  This is usually the result of calling `frame.insert` many times, which has poor performance.  Consider joining all columns at once using pd.concat(axis=1) instead. To get a de-fragmented frame, use `newframe = frame.copy()`\n",
      "  coord[\"Component number : \" +  str(i)] = [vector[i] for vector in df.vector]\n",
      "C:\\Users\\hugop\\AppData\\Local\\Temp\\ipykernel_29096\\2411780168.py:3: PerformanceWarning: DataFrame is highly fragmented.  This is usually the result of calling `frame.insert` many times, which has poor performance.  Consider joining all columns at once using pd.concat(axis=1) instead. To get a de-fragmented frame, use `newframe = frame.copy()`\n",
      "  coord[\"Component number : \" +  str(i)] = [vector[i] for vector in df.vector]\n",
      "C:\\Users\\hugop\\AppData\\Local\\Temp\\ipykernel_29096\\2411780168.py:3: PerformanceWarning: DataFrame is highly fragmented.  This is usually the result of calling `frame.insert` many times, which has poor performance.  Consider joining all columns at once using pd.concat(axis=1) instead. To get a de-fragmented frame, use `newframe = frame.copy()`\n",
      "  coord[\"Component number : \" +  str(i)] = [vector[i] for vector in df.vector]\n",
      "C:\\Users\\hugop\\AppData\\Local\\Temp\\ipykernel_29096\\2411780168.py:3: PerformanceWarning: DataFrame is highly fragmented.  This is usually the result of calling `frame.insert` many times, which has poor performance.  Consider joining all columns at once using pd.concat(axis=1) instead. To get a de-fragmented frame, use `newframe = frame.copy()`\n",
      "  coord[\"Component number : \" +  str(i)] = [vector[i] for vector in df.vector]\n",
      "C:\\Users\\hugop\\AppData\\Local\\Temp\\ipykernel_29096\\2411780168.py:3: PerformanceWarning: DataFrame is highly fragmented.  This is usually the result of calling `frame.insert` many times, which has poor performance.  Consider joining all columns at once using pd.concat(axis=1) instead. To get a de-fragmented frame, use `newframe = frame.copy()`\n",
      "  coord[\"Component number : \" +  str(i)] = [vector[i] for vector in df.vector]\n",
      "C:\\Users\\hugop\\AppData\\Local\\Temp\\ipykernel_29096\\2411780168.py:3: PerformanceWarning: DataFrame is highly fragmented.  This is usually the result of calling `frame.insert` many times, which has poor performance.  Consider joining all columns at once using pd.concat(axis=1) instead. To get a de-fragmented frame, use `newframe = frame.copy()`\n",
      "  coord[\"Component number : \" +  str(i)] = [vector[i] for vector in df.vector]\n",
      "C:\\Users\\hugop\\AppData\\Local\\Temp\\ipykernel_29096\\2411780168.py:3: PerformanceWarning: DataFrame is highly fragmented.  This is usually the result of calling `frame.insert` many times, which has poor performance.  Consider joining all columns at once using pd.concat(axis=1) instead. To get a de-fragmented frame, use `newframe = frame.copy()`\n",
      "  coord[\"Component number : \" +  str(i)] = [vector[i] for vector in df.vector]\n",
      "C:\\Users\\hugop\\AppData\\Local\\Temp\\ipykernel_29096\\2411780168.py:3: PerformanceWarning: DataFrame is highly fragmented.  This is usually the result of calling `frame.insert` many times, which has poor performance.  Consider joining all columns at once using pd.concat(axis=1) instead. To get a de-fragmented frame, use `newframe = frame.copy()`\n",
      "  coord[\"Component number : \" +  str(i)] = [vector[i] for vector in df.vector]\n",
      "C:\\Users\\hugop\\AppData\\Local\\Temp\\ipykernel_29096\\2411780168.py:3: PerformanceWarning: DataFrame is highly fragmented.  This is usually the result of calling `frame.insert` many times, which has poor performance.  Consider joining all columns at once using pd.concat(axis=1) instead. To get a de-fragmented frame, use `newframe = frame.copy()`\n",
      "  coord[\"Component number : \" +  str(i)] = [vector[i] for vector in df.vector]\n",
      "C:\\Users\\hugop\\AppData\\Local\\Temp\\ipykernel_29096\\2411780168.py:3: PerformanceWarning: DataFrame is highly fragmented.  This is usually the result of calling `frame.insert` many times, which has poor performance.  Consider joining all columns at once using pd.concat(axis=1) instead. To get a de-fragmented frame, use `newframe = frame.copy()`\n",
      "  coord[\"Component number : \" +  str(i)] = [vector[i] for vector in df.vector]\n",
      "C:\\Users\\hugop\\AppData\\Local\\Temp\\ipykernel_29096\\2411780168.py:3: PerformanceWarning: DataFrame is highly fragmented.  This is usually the result of calling `frame.insert` many times, which has poor performance.  Consider joining all columns at once using pd.concat(axis=1) instead. To get a de-fragmented frame, use `newframe = frame.copy()`\n",
      "  coord[\"Component number : \" +  str(i)] = [vector[i] for vector in df.vector]\n",
      "C:\\Users\\hugop\\AppData\\Local\\Temp\\ipykernel_29096\\2411780168.py:3: PerformanceWarning: DataFrame is highly fragmented.  This is usually the result of calling `frame.insert` many times, which has poor performance.  Consider joining all columns at once using pd.concat(axis=1) instead. To get a de-fragmented frame, use `newframe = frame.copy()`\n",
      "  coord[\"Component number : \" +  str(i)] = [vector[i] for vector in df.vector]\n",
      "C:\\Users\\hugop\\AppData\\Local\\Temp\\ipykernel_29096\\2411780168.py:3: PerformanceWarning: DataFrame is highly fragmented.  This is usually the result of calling `frame.insert` many times, which has poor performance.  Consider joining all columns at once using pd.concat(axis=1) instead. To get a de-fragmented frame, use `newframe = frame.copy()`\n",
      "  coord[\"Component number : \" +  str(i)] = [vector[i] for vector in df.vector]\n",
      "C:\\Users\\hugop\\AppData\\Local\\Temp\\ipykernel_29096\\2411780168.py:3: PerformanceWarning: DataFrame is highly fragmented.  This is usually the result of calling `frame.insert` many times, which has poor performance.  Consider joining all columns at once using pd.concat(axis=1) instead. To get a de-fragmented frame, use `newframe = frame.copy()`\n",
      "  coord[\"Component number : \" +  str(i)] = [vector[i] for vector in df.vector]\n",
      "C:\\Users\\hugop\\AppData\\Local\\Temp\\ipykernel_29096\\2411780168.py:3: PerformanceWarning: DataFrame is highly fragmented.  This is usually the result of calling `frame.insert` many times, which has poor performance.  Consider joining all columns at once using pd.concat(axis=1) instead. To get a de-fragmented frame, use `newframe = frame.copy()`\n",
      "  coord[\"Component number : \" +  str(i)] = [vector[i] for vector in df.vector]\n",
      "C:\\Users\\hugop\\AppData\\Local\\Temp\\ipykernel_29096\\2411780168.py:3: PerformanceWarning: DataFrame is highly fragmented.  This is usually the result of calling `frame.insert` many times, which has poor performance.  Consider joining all columns at once using pd.concat(axis=1) instead. To get a de-fragmented frame, use `newframe = frame.copy()`\n",
      "  coord[\"Component number : \" +  str(i)] = [vector[i] for vector in df.vector]\n",
      "C:\\Users\\hugop\\AppData\\Local\\Temp\\ipykernel_29096\\2411780168.py:3: PerformanceWarning: DataFrame is highly fragmented.  This is usually the result of calling `frame.insert` many times, which has poor performance.  Consider joining all columns at once using pd.concat(axis=1) instead. To get a de-fragmented frame, use `newframe = frame.copy()`\n",
      "  coord[\"Component number : \" +  str(i)] = [vector[i] for vector in df.vector]\n",
      "C:\\Users\\hugop\\AppData\\Local\\Temp\\ipykernel_29096\\2411780168.py:3: PerformanceWarning: DataFrame is highly fragmented.  This is usually the result of calling `frame.insert` many times, which has poor performance.  Consider joining all columns at once using pd.concat(axis=1) instead. To get a de-fragmented frame, use `newframe = frame.copy()`\n",
      "  coord[\"Component number : \" +  str(i)] = [vector[i] for vector in df.vector]\n",
      "C:\\Users\\hugop\\AppData\\Local\\Temp\\ipykernel_29096\\2411780168.py:3: PerformanceWarning: DataFrame is highly fragmented.  This is usually the result of calling `frame.insert` many times, which has poor performance.  Consider joining all columns at once using pd.concat(axis=1) instead. To get a de-fragmented frame, use `newframe = frame.copy()`\n",
      "  coord[\"Component number : \" +  str(i)] = [vector[i] for vector in df.vector]\n",
      "C:\\Users\\hugop\\AppData\\Local\\Temp\\ipykernel_29096\\2411780168.py:3: PerformanceWarning: DataFrame is highly fragmented.  This is usually the result of calling `frame.insert` many times, which has poor performance.  Consider joining all columns at once using pd.concat(axis=1) instead. To get a de-fragmented frame, use `newframe = frame.copy()`\n",
      "  coord[\"Component number : \" +  str(i)] = [vector[i] for vector in df.vector]\n",
      "C:\\Users\\hugop\\AppData\\Local\\Temp\\ipykernel_29096\\2411780168.py:3: PerformanceWarning: DataFrame is highly fragmented.  This is usually the result of calling `frame.insert` many times, which has poor performance.  Consider joining all columns at once using pd.concat(axis=1) instead. To get a de-fragmented frame, use `newframe = frame.copy()`\n",
      "  coord[\"Component number : \" +  str(i)] = [vector[i] for vector in df.vector]\n",
      "C:\\Users\\hugop\\AppData\\Local\\Temp\\ipykernel_29096\\2411780168.py:3: PerformanceWarning: DataFrame is highly fragmented.  This is usually the result of calling `frame.insert` many times, which has poor performance.  Consider joining all columns at once using pd.concat(axis=1) instead. To get a de-fragmented frame, use `newframe = frame.copy()`\n",
      "  coord[\"Component number : \" +  str(i)] = [vector[i] for vector in df.vector]\n",
      "C:\\Users\\hugop\\AppData\\Local\\Temp\\ipykernel_29096\\2411780168.py:3: PerformanceWarning: DataFrame is highly fragmented.  This is usually the result of calling `frame.insert` many times, which has poor performance.  Consider joining all columns at once using pd.concat(axis=1) instead. To get a de-fragmented frame, use `newframe = frame.copy()`\n",
      "  coord[\"Component number : \" +  str(i)] = [vector[i] for vector in df.vector]\n",
      "C:\\Users\\hugop\\AppData\\Local\\Temp\\ipykernel_29096\\2411780168.py:3: PerformanceWarning: DataFrame is highly fragmented.  This is usually the result of calling `frame.insert` many times, which has poor performance.  Consider joining all columns at once using pd.concat(axis=1) instead. To get a de-fragmented frame, use `newframe = frame.copy()`\n",
      "  coord[\"Component number : \" +  str(i)] = [vector[i] for vector in df.vector]\n",
      "C:\\Users\\hugop\\AppData\\Local\\Temp\\ipykernel_29096\\2411780168.py:3: PerformanceWarning: DataFrame is highly fragmented.  This is usually the result of calling `frame.insert` many times, which has poor performance.  Consider joining all columns at once using pd.concat(axis=1) instead. To get a de-fragmented frame, use `newframe = frame.copy()`\n",
      "  coord[\"Component number : \" +  str(i)] = [vector[i] for vector in df.vector]\n",
      "C:\\Users\\hugop\\AppData\\Local\\Temp\\ipykernel_29096\\2411780168.py:3: PerformanceWarning: DataFrame is highly fragmented.  This is usually the result of calling `frame.insert` many times, which has poor performance.  Consider joining all columns at once using pd.concat(axis=1) instead. To get a de-fragmented frame, use `newframe = frame.copy()`\n",
      "  coord[\"Component number : \" +  str(i)] = [vector[i] for vector in df.vector]\n",
      "C:\\Users\\hugop\\AppData\\Local\\Temp\\ipykernel_29096\\2411780168.py:3: PerformanceWarning: DataFrame is highly fragmented.  This is usually the result of calling `frame.insert` many times, which has poor performance.  Consider joining all columns at once using pd.concat(axis=1) instead. To get a de-fragmented frame, use `newframe = frame.copy()`\n",
      "  coord[\"Component number : \" +  str(i)] = [vector[i] for vector in df.vector]\n",
      "C:\\Users\\hugop\\AppData\\Local\\Temp\\ipykernel_29096\\2411780168.py:3: PerformanceWarning: DataFrame is highly fragmented.  This is usually the result of calling `frame.insert` many times, which has poor performance.  Consider joining all columns at once using pd.concat(axis=1) instead. To get a de-fragmented frame, use `newframe = frame.copy()`\n",
      "  coord[\"Component number : \" +  str(i)] = [vector[i] for vector in df.vector]\n",
      "C:\\Users\\hugop\\AppData\\Local\\Temp\\ipykernel_29096\\2411780168.py:3: PerformanceWarning: DataFrame is highly fragmented.  This is usually the result of calling `frame.insert` many times, which has poor performance.  Consider joining all columns at once using pd.concat(axis=1) instead. To get a de-fragmented frame, use `newframe = frame.copy()`\n",
      "  coord[\"Component number : \" +  str(i)] = [vector[i] for vector in df.vector]\n",
      "C:\\Users\\hugop\\AppData\\Local\\Temp\\ipykernel_29096\\2411780168.py:3: PerformanceWarning: DataFrame is highly fragmented.  This is usually the result of calling `frame.insert` many times, which has poor performance.  Consider joining all columns at once using pd.concat(axis=1) instead. To get a de-fragmented frame, use `newframe = frame.copy()`\n",
      "  coord[\"Component number : \" +  str(i)] = [vector[i] for vector in df.vector]\n",
      "C:\\Users\\hugop\\AppData\\Local\\Temp\\ipykernel_29096\\2411780168.py:3: PerformanceWarning: DataFrame is highly fragmented.  This is usually the result of calling `frame.insert` many times, which has poor performance.  Consider joining all columns at once using pd.concat(axis=1) instead. To get a de-fragmented frame, use `newframe = frame.copy()`\n",
      "  coord[\"Component number : \" +  str(i)] = [vector[i] for vector in df.vector]\n",
      "C:\\Users\\hugop\\AppData\\Local\\Temp\\ipykernel_29096\\2411780168.py:3: PerformanceWarning: DataFrame is highly fragmented.  This is usually the result of calling `frame.insert` many times, which has poor performance.  Consider joining all columns at once using pd.concat(axis=1) instead. To get a de-fragmented frame, use `newframe = frame.copy()`\n",
      "  coord[\"Component number : \" +  str(i)] = [vector[i] for vector in df.vector]\n",
      "C:\\Users\\hugop\\AppData\\Local\\Temp\\ipykernel_29096\\2411780168.py:3: PerformanceWarning: DataFrame is highly fragmented.  This is usually the result of calling `frame.insert` many times, which has poor performance.  Consider joining all columns at once using pd.concat(axis=1) instead. To get a de-fragmented frame, use `newframe = frame.copy()`\n",
      "  coord[\"Component number : \" +  str(i)] = [vector[i] for vector in df.vector]\n",
      "C:\\Users\\hugop\\AppData\\Local\\Temp\\ipykernel_29096\\2411780168.py:3: PerformanceWarning: DataFrame is highly fragmented.  This is usually the result of calling `frame.insert` many times, which has poor performance.  Consider joining all columns at once using pd.concat(axis=1) instead. To get a de-fragmented frame, use `newframe = frame.copy()`\n",
      "  coord[\"Component number : \" +  str(i)] = [vector[i] for vector in df.vector]\n",
      "C:\\Users\\hugop\\AppData\\Local\\Temp\\ipykernel_29096\\2411780168.py:3: PerformanceWarning: DataFrame is highly fragmented.  This is usually the result of calling `frame.insert` many times, which has poor performance.  Consider joining all columns at once using pd.concat(axis=1) instead. To get a de-fragmented frame, use `newframe = frame.copy()`\n",
      "  coord[\"Component number : \" +  str(i)] = [vector[i] for vector in df.vector]\n",
      "C:\\Users\\hugop\\AppData\\Local\\Temp\\ipykernel_29096\\2411780168.py:3: PerformanceWarning: DataFrame is highly fragmented.  This is usually the result of calling `frame.insert` many times, which has poor performance.  Consider joining all columns at once using pd.concat(axis=1) instead. To get a de-fragmented frame, use `newframe = frame.copy()`\n",
      "  coord[\"Component number : \" +  str(i)] = [vector[i] for vector in df.vector]\n",
      "C:\\Users\\hugop\\AppData\\Local\\Temp\\ipykernel_29096\\2411780168.py:3: PerformanceWarning: DataFrame is highly fragmented.  This is usually the result of calling `frame.insert` many times, which has poor performance.  Consider joining all columns at once using pd.concat(axis=1) instead. To get a de-fragmented frame, use `newframe = frame.copy()`\n",
      "  coord[\"Component number : \" +  str(i)] = [vector[i] for vector in df.vector]\n",
      "C:\\Users\\hugop\\AppData\\Local\\Temp\\ipykernel_29096\\2411780168.py:3: PerformanceWarning: DataFrame is highly fragmented.  This is usually the result of calling `frame.insert` many times, which has poor performance.  Consider joining all columns at once using pd.concat(axis=1) instead. To get a de-fragmented frame, use `newframe = frame.copy()`\n",
      "  coord[\"Component number : \" +  str(i)] = [vector[i] for vector in df.vector]\n",
      "C:\\Users\\hugop\\AppData\\Local\\Temp\\ipykernel_29096\\2411780168.py:3: PerformanceWarning: DataFrame is highly fragmented.  This is usually the result of calling `frame.insert` many times, which has poor performance.  Consider joining all columns at once using pd.concat(axis=1) instead. To get a de-fragmented frame, use `newframe = frame.copy()`\n",
      "  coord[\"Component number : \" +  str(i)] = [vector[i] for vector in df.vector]\n",
      "C:\\Users\\hugop\\AppData\\Local\\Temp\\ipykernel_29096\\2411780168.py:3: PerformanceWarning: DataFrame is highly fragmented.  This is usually the result of calling `frame.insert` many times, which has poor performance.  Consider joining all columns at once using pd.concat(axis=1) instead. To get a de-fragmented frame, use `newframe = frame.copy()`\n",
      "  coord[\"Component number : \" +  str(i)] = [vector[i] for vector in df.vector]\n",
      "C:\\Users\\hugop\\AppData\\Local\\Temp\\ipykernel_29096\\2411780168.py:3: PerformanceWarning: DataFrame is highly fragmented.  This is usually the result of calling `frame.insert` many times, which has poor performance.  Consider joining all columns at once using pd.concat(axis=1) instead. To get a de-fragmented frame, use `newframe = frame.copy()`\n",
      "  coord[\"Component number : \" +  str(i)] = [vector[i] for vector in df.vector]\n",
      "C:\\Users\\hugop\\AppData\\Local\\Temp\\ipykernel_29096\\2411780168.py:3: PerformanceWarning: DataFrame is highly fragmented.  This is usually the result of calling `frame.insert` many times, which has poor performance.  Consider joining all columns at once using pd.concat(axis=1) instead. To get a de-fragmented frame, use `newframe = frame.copy()`\n",
      "  coord[\"Component number : \" +  str(i)] = [vector[i] for vector in df.vector]\n",
      "C:\\Users\\hugop\\AppData\\Local\\Temp\\ipykernel_29096\\2411780168.py:3: PerformanceWarning: DataFrame is highly fragmented.  This is usually the result of calling `frame.insert` many times, which has poor performance.  Consider joining all columns at once using pd.concat(axis=1) instead. To get a de-fragmented frame, use `newframe = frame.copy()`\n",
      "  coord[\"Component number : \" +  str(i)] = [vector[i] for vector in df.vector]\n",
      "C:\\Users\\hugop\\AppData\\Local\\Temp\\ipykernel_29096\\2411780168.py:3: PerformanceWarning: DataFrame is highly fragmented.  This is usually the result of calling `frame.insert` many times, which has poor performance.  Consider joining all columns at once using pd.concat(axis=1) instead. To get a de-fragmented frame, use `newframe = frame.copy()`\n",
      "  coord[\"Component number : \" +  str(i)] = [vector[i] for vector in df.vector]\n",
      "C:\\Users\\hugop\\AppData\\Local\\Temp\\ipykernel_29096\\2411780168.py:3: PerformanceWarning: DataFrame is highly fragmented.  This is usually the result of calling `frame.insert` many times, which has poor performance.  Consider joining all columns at once using pd.concat(axis=1) instead. To get a de-fragmented frame, use `newframe = frame.copy()`\n",
      "  coord[\"Component number : \" +  str(i)] = [vector[i] for vector in df.vector]\n",
      "C:\\Users\\hugop\\AppData\\Local\\Temp\\ipykernel_29096\\2411780168.py:3: PerformanceWarning: DataFrame is highly fragmented.  This is usually the result of calling `frame.insert` many times, which has poor performance.  Consider joining all columns at once using pd.concat(axis=1) instead. To get a de-fragmented frame, use `newframe = frame.copy()`\n",
      "  coord[\"Component number : \" +  str(i)] = [vector[i] for vector in df.vector]\n",
      "C:\\Users\\hugop\\AppData\\Local\\Temp\\ipykernel_29096\\2411780168.py:3: PerformanceWarning: DataFrame is highly fragmented.  This is usually the result of calling `frame.insert` many times, which has poor performance.  Consider joining all columns at once using pd.concat(axis=1) instead. To get a de-fragmented frame, use `newframe = frame.copy()`\n",
      "  coord[\"Component number : \" +  str(i)] = [vector[i] for vector in df.vector]\n",
      "C:\\Users\\hugop\\AppData\\Local\\Temp\\ipykernel_29096\\2411780168.py:3: PerformanceWarning: DataFrame is highly fragmented.  This is usually the result of calling `frame.insert` many times, which has poor performance.  Consider joining all columns at once using pd.concat(axis=1) instead. To get a de-fragmented frame, use `newframe = frame.copy()`\n",
      "  coord[\"Component number : \" +  str(i)] = [vector[i] for vector in df.vector]\n",
      "C:\\Users\\hugop\\AppData\\Local\\Temp\\ipykernel_29096\\2411780168.py:3: PerformanceWarning: DataFrame is highly fragmented.  This is usually the result of calling `frame.insert` many times, which has poor performance.  Consider joining all columns at once using pd.concat(axis=1) instead. To get a de-fragmented frame, use `newframe = frame.copy()`\n",
      "  coord[\"Component number : \" +  str(i)] = [vector[i] for vector in df.vector]\n",
      "C:\\Users\\hugop\\AppData\\Local\\Temp\\ipykernel_29096\\2411780168.py:3: PerformanceWarning: DataFrame is highly fragmented.  This is usually the result of calling `frame.insert` many times, which has poor performance.  Consider joining all columns at once using pd.concat(axis=1) instead. To get a de-fragmented frame, use `newframe = frame.copy()`\n",
      "  coord[\"Component number : \" +  str(i)] = [vector[i] for vector in df.vector]\n",
      "C:\\Users\\hugop\\AppData\\Local\\Temp\\ipykernel_29096\\2411780168.py:3: PerformanceWarning: DataFrame is highly fragmented.  This is usually the result of calling `frame.insert` many times, which has poor performance.  Consider joining all columns at once using pd.concat(axis=1) instead. To get a de-fragmented frame, use `newframe = frame.copy()`\n",
      "  coord[\"Component number : \" +  str(i)] = [vector[i] for vector in df.vector]\n",
      "C:\\Users\\hugop\\AppData\\Local\\Temp\\ipykernel_29096\\2411780168.py:3: PerformanceWarning: DataFrame is highly fragmented.  This is usually the result of calling `frame.insert` many times, which has poor performance.  Consider joining all columns at once using pd.concat(axis=1) instead. To get a de-fragmented frame, use `newframe = frame.copy()`\n",
      "  coord[\"Component number : \" +  str(i)] = [vector[i] for vector in df.vector]\n",
      "C:\\Users\\hugop\\AppData\\Local\\Temp\\ipykernel_29096\\2411780168.py:3: PerformanceWarning: DataFrame is highly fragmented.  This is usually the result of calling `frame.insert` many times, which has poor performance.  Consider joining all columns at once using pd.concat(axis=1) instead. To get a de-fragmented frame, use `newframe = frame.copy()`\n",
      "  coord[\"Component number : \" +  str(i)] = [vector[i] for vector in df.vector]\n",
      "C:\\Users\\hugop\\AppData\\Local\\Temp\\ipykernel_29096\\2411780168.py:3: PerformanceWarning: DataFrame is highly fragmented.  This is usually the result of calling `frame.insert` many times, which has poor performance.  Consider joining all columns at once using pd.concat(axis=1) instead. To get a de-fragmented frame, use `newframe = frame.copy()`\n",
      "  coord[\"Component number : \" +  str(i)] = [vector[i] for vector in df.vector]\n",
      "C:\\Users\\hugop\\AppData\\Local\\Temp\\ipykernel_29096\\2411780168.py:3: PerformanceWarning: DataFrame is highly fragmented.  This is usually the result of calling `frame.insert` many times, which has poor performance.  Consider joining all columns at once using pd.concat(axis=1) instead. To get a de-fragmented frame, use `newframe = frame.copy()`\n",
      "  coord[\"Component number : \" +  str(i)] = [vector[i] for vector in df.vector]\n",
      "C:\\Users\\hugop\\AppData\\Local\\Temp\\ipykernel_29096\\2411780168.py:3: PerformanceWarning: DataFrame is highly fragmented.  This is usually the result of calling `frame.insert` many times, which has poor performance.  Consider joining all columns at once using pd.concat(axis=1) instead. To get a de-fragmented frame, use `newframe = frame.copy()`\n",
      "  coord[\"Component number : \" +  str(i)] = [vector[i] for vector in df.vector]\n",
      "C:\\Users\\hugop\\AppData\\Local\\Temp\\ipykernel_29096\\2411780168.py:3: PerformanceWarning: DataFrame is highly fragmented.  This is usually the result of calling `frame.insert` many times, which has poor performance.  Consider joining all columns at once using pd.concat(axis=1) instead. To get a de-fragmented frame, use `newframe = frame.copy()`\n",
      "  coord[\"Component number : \" +  str(i)] = [vector[i] for vector in df.vector]\n",
      "C:\\Users\\hugop\\AppData\\Local\\Temp\\ipykernel_29096\\2411780168.py:3: PerformanceWarning: DataFrame is highly fragmented.  This is usually the result of calling `frame.insert` many times, which has poor performance.  Consider joining all columns at once using pd.concat(axis=1) instead. To get a de-fragmented frame, use `newframe = frame.copy()`\n",
      "  coord[\"Component number : \" +  str(i)] = [vector[i] for vector in df.vector]\n",
      "C:\\Users\\hugop\\AppData\\Local\\Temp\\ipykernel_29096\\2411780168.py:3: PerformanceWarning: DataFrame is highly fragmented.  This is usually the result of calling `frame.insert` many times, which has poor performance.  Consider joining all columns at once using pd.concat(axis=1) instead. To get a de-fragmented frame, use `newframe = frame.copy()`\n",
      "  coord[\"Component number : \" +  str(i)] = [vector[i] for vector in df.vector]\n",
      "C:\\Users\\hugop\\AppData\\Local\\Temp\\ipykernel_29096\\2411780168.py:3: PerformanceWarning: DataFrame is highly fragmented.  This is usually the result of calling `frame.insert` many times, which has poor performance.  Consider joining all columns at once using pd.concat(axis=1) instead. To get a de-fragmented frame, use `newframe = frame.copy()`\n",
      "  coord[\"Component number : \" +  str(i)] = [vector[i] for vector in df.vector]\n",
      "C:\\Users\\hugop\\AppData\\Local\\Temp\\ipykernel_29096\\2411780168.py:3: PerformanceWarning: DataFrame is highly fragmented.  This is usually the result of calling `frame.insert` many times, which has poor performance.  Consider joining all columns at once using pd.concat(axis=1) instead. To get a de-fragmented frame, use `newframe = frame.copy()`\n",
      "  coord[\"Component number : \" +  str(i)] = [vector[i] for vector in df.vector]\n",
      "C:\\Users\\hugop\\AppData\\Local\\Temp\\ipykernel_29096\\2411780168.py:3: PerformanceWarning: DataFrame is highly fragmented.  This is usually the result of calling `frame.insert` many times, which has poor performance.  Consider joining all columns at once using pd.concat(axis=1) instead. To get a de-fragmented frame, use `newframe = frame.copy()`\n",
      "  coord[\"Component number : \" +  str(i)] = [vector[i] for vector in df.vector]\n",
      "C:\\Users\\hugop\\AppData\\Local\\Temp\\ipykernel_29096\\2411780168.py:3: PerformanceWarning: DataFrame is highly fragmented.  This is usually the result of calling `frame.insert` many times, which has poor performance.  Consider joining all columns at once using pd.concat(axis=1) instead. To get a de-fragmented frame, use `newframe = frame.copy()`\n",
      "  coord[\"Component number : \" +  str(i)] = [vector[i] for vector in df.vector]\n",
      "C:\\Users\\hugop\\AppData\\Local\\Temp\\ipykernel_29096\\2411780168.py:3: PerformanceWarning: DataFrame is highly fragmented.  This is usually the result of calling `frame.insert` many times, which has poor performance.  Consider joining all columns at once using pd.concat(axis=1) instead. To get a de-fragmented frame, use `newframe = frame.copy()`\n",
      "  coord[\"Component number : \" +  str(i)] = [vector[i] for vector in df.vector]\n",
      "C:\\Users\\hugop\\AppData\\Local\\Temp\\ipykernel_29096\\2411780168.py:3: PerformanceWarning: DataFrame is highly fragmented.  This is usually the result of calling `frame.insert` many times, which has poor performance.  Consider joining all columns at once using pd.concat(axis=1) instead. To get a de-fragmented frame, use `newframe = frame.copy()`\n",
      "  coord[\"Component number : \" +  str(i)] = [vector[i] for vector in df.vector]\n",
      "C:\\Users\\hugop\\AppData\\Local\\Temp\\ipykernel_29096\\2411780168.py:3: PerformanceWarning: DataFrame is highly fragmented.  This is usually the result of calling `frame.insert` many times, which has poor performance.  Consider joining all columns at once using pd.concat(axis=1) instead. To get a de-fragmented frame, use `newframe = frame.copy()`\n",
      "  coord[\"Component number : \" +  str(i)] = [vector[i] for vector in df.vector]\n",
      "C:\\Users\\hugop\\AppData\\Local\\Temp\\ipykernel_29096\\2411780168.py:3: PerformanceWarning: DataFrame is highly fragmented.  This is usually the result of calling `frame.insert` many times, which has poor performance.  Consider joining all columns at once using pd.concat(axis=1) instead. To get a de-fragmented frame, use `newframe = frame.copy()`\n",
      "  coord[\"Component number : \" +  str(i)] = [vector[i] for vector in df.vector]\n",
      "C:\\Users\\hugop\\AppData\\Local\\Temp\\ipykernel_29096\\2411780168.py:3: PerformanceWarning: DataFrame is highly fragmented.  This is usually the result of calling `frame.insert` many times, which has poor performance.  Consider joining all columns at once using pd.concat(axis=1) instead. To get a de-fragmented frame, use `newframe = frame.copy()`\n",
      "  coord[\"Component number : \" +  str(i)] = [vector[i] for vector in df.vector]\n",
      "C:\\Users\\hugop\\AppData\\Local\\Temp\\ipykernel_29096\\2411780168.py:3: PerformanceWarning: DataFrame is highly fragmented.  This is usually the result of calling `frame.insert` many times, which has poor performance.  Consider joining all columns at once using pd.concat(axis=1) instead. To get a de-fragmented frame, use `newframe = frame.copy()`\n",
      "  coord[\"Component number : \" +  str(i)] = [vector[i] for vector in df.vector]\n",
      "C:\\Users\\hugop\\AppData\\Local\\Temp\\ipykernel_29096\\2411780168.py:3: PerformanceWarning: DataFrame is highly fragmented.  This is usually the result of calling `frame.insert` many times, which has poor performance.  Consider joining all columns at once using pd.concat(axis=1) instead. To get a de-fragmented frame, use `newframe = frame.copy()`\n",
      "  coord[\"Component number : \" +  str(i)] = [vector[i] for vector in df.vector]\n",
      "C:\\Users\\hugop\\AppData\\Local\\Temp\\ipykernel_29096\\2411780168.py:3: PerformanceWarning: DataFrame is highly fragmented.  This is usually the result of calling `frame.insert` many times, which has poor performance.  Consider joining all columns at once using pd.concat(axis=1) instead. To get a de-fragmented frame, use `newframe = frame.copy()`\n",
      "  coord[\"Component number : \" +  str(i)] = [vector[i] for vector in df.vector]\n",
      "C:\\Users\\hugop\\AppData\\Local\\Temp\\ipykernel_29096\\2411780168.py:3: PerformanceWarning: DataFrame is highly fragmented.  This is usually the result of calling `frame.insert` many times, which has poor performance.  Consider joining all columns at once using pd.concat(axis=1) instead. To get a de-fragmented frame, use `newframe = frame.copy()`\n",
      "  coord[\"Component number : \" +  str(i)] = [vector[i] for vector in df.vector]\n",
      "C:\\Users\\hugop\\AppData\\Local\\Temp\\ipykernel_29096\\2411780168.py:3: PerformanceWarning: DataFrame is highly fragmented.  This is usually the result of calling `frame.insert` many times, which has poor performance.  Consider joining all columns at once using pd.concat(axis=1) instead. To get a de-fragmented frame, use `newframe = frame.copy()`\n",
      "  coord[\"Component number : \" +  str(i)] = [vector[i] for vector in df.vector]\n",
      "C:\\Users\\hugop\\AppData\\Local\\Temp\\ipykernel_29096\\2411780168.py:3: PerformanceWarning: DataFrame is highly fragmented.  This is usually the result of calling `frame.insert` many times, which has poor performance.  Consider joining all columns at once using pd.concat(axis=1) instead. To get a de-fragmented frame, use `newframe = frame.copy()`\n",
      "  coord[\"Component number : \" +  str(i)] = [vector[i] for vector in df.vector]\n",
      "C:\\Users\\hugop\\AppData\\Local\\Temp\\ipykernel_29096\\2411780168.py:3: PerformanceWarning: DataFrame is highly fragmented.  This is usually the result of calling `frame.insert` many times, which has poor performance.  Consider joining all columns at once using pd.concat(axis=1) instead. To get a de-fragmented frame, use `newframe = frame.copy()`\n",
      "  coord[\"Component number : \" +  str(i)] = [vector[i] for vector in df.vector]\n",
      "C:\\Users\\hugop\\AppData\\Local\\Temp\\ipykernel_29096\\2411780168.py:3: PerformanceWarning: DataFrame is highly fragmented.  This is usually the result of calling `frame.insert` many times, which has poor performance.  Consider joining all columns at once using pd.concat(axis=1) instead. To get a de-fragmented frame, use `newframe = frame.copy()`\n",
      "  coord[\"Component number : \" +  str(i)] = [vector[i] for vector in df.vector]\n",
      "C:\\Users\\hugop\\AppData\\Local\\Temp\\ipykernel_29096\\2411780168.py:3: PerformanceWarning: DataFrame is highly fragmented.  This is usually the result of calling `frame.insert` many times, which has poor performance.  Consider joining all columns at once using pd.concat(axis=1) instead. To get a de-fragmented frame, use `newframe = frame.copy()`\n",
      "  coord[\"Component number : \" +  str(i)] = [vector[i] for vector in df.vector]\n",
      "C:\\Users\\hugop\\AppData\\Local\\Temp\\ipykernel_29096\\2411780168.py:3: PerformanceWarning: DataFrame is highly fragmented.  This is usually the result of calling `frame.insert` many times, which has poor performance.  Consider joining all columns at once using pd.concat(axis=1) instead. To get a de-fragmented frame, use `newframe = frame.copy()`\n",
      "  coord[\"Component number : \" +  str(i)] = [vector[i] for vector in df.vector]\n",
      "C:\\Users\\hugop\\AppData\\Local\\Temp\\ipykernel_29096\\2411780168.py:3: PerformanceWarning: DataFrame is highly fragmented.  This is usually the result of calling `frame.insert` many times, which has poor performance.  Consider joining all columns at once using pd.concat(axis=1) instead. To get a de-fragmented frame, use `newframe = frame.copy()`\n",
      "  coord[\"Component number : \" +  str(i)] = [vector[i] for vector in df.vector]\n",
      "C:\\Users\\hugop\\AppData\\Local\\Temp\\ipykernel_29096\\2411780168.py:3: PerformanceWarning: DataFrame is highly fragmented.  This is usually the result of calling `frame.insert` many times, which has poor performance.  Consider joining all columns at once using pd.concat(axis=1) instead. To get a de-fragmented frame, use `newframe = frame.copy()`\n",
      "  coord[\"Component number : \" +  str(i)] = [vector[i] for vector in df.vector]\n",
      "C:\\Users\\hugop\\AppData\\Local\\Temp\\ipykernel_29096\\2411780168.py:3: PerformanceWarning: DataFrame is highly fragmented.  This is usually the result of calling `frame.insert` many times, which has poor performance.  Consider joining all columns at once using pd.concat(axis=1) instead. To get a de-fragmented frame, use `newframe = frame.copy()`\n",
      "  coord[\"Component number : \" +  str(i)] = [vector[i] for vector in df.vector]\n",
      "C:\\Users\\hugop\\AppData\\Local\\Temp\\ipykernel_29096\\2411780168.py:3: PerformanceWarning: DataFrame is highly fragmented.  This is usually the result of calling `frame.insert` many times, which has poor performance.  Consider joining all columns at once using pd.concat(axis=1) instead. To get a de-fragmented frame, use `newframe = frame.copy()`\n",
      "  coord[\"Component number : \" +  str(i)] = [vector[i] for vector in df.vector]\n",
      "C:\\Users\\hugop\\AppData\\Local\\Temp\\ipykernel_29096\\2411780168.py:3: PerformanceWarning: DataFrame is highly fragmented.  This is usually the result of calling `frame.insert` many times, which has poor performance.  Consider joining all columns at once using pd.concat(axis=1) instead. To get a de-fragmented frame, use `newframe = frame.copy()`\n",
      "  coord[\"Component number : \" +  str(i)] = [vector[i] for vector in df.vector]\n"
     ]
    },
    {
     "data": {
      "text/plain": "                     Component number : 0  Component number : 1  \\\ntitle                                                             \nAkta mannen                     -0.323536              0.218550   \nAKTA MANNEN (Remix)             -0.286205              0.118415   \nRÄKNA MINA DAGAR                -0.508152              0.301819   \nFIENDES FIENDE                  -0.628705             -0.127128   \nSwedens Most Wanted             -0.519253              0.145445   \n...                                   ...                   ...   \nUtomlands                       -0.144533             -0.043671   \nKommer hem                      -0.209525              0.132551   \nGöra upp en eld                 -0.435933              0.423048   \nEn glasspinne                   -0.604454              0.207218   \nÖver bron                       -0.581605              0.511269   \n\n                     Component number : 2  Component number : 3  \\\ntitle                                                             \nAkta mannen                     -0.243383              0.738940   \nAKTA MANNEN (Remix)              0.005393              0.787857   \nRÄKNA MINA DAGAR                 0.098235              0.613381   \nFIENDES FIENDE                   0.165091              0.535491   \nSwedens Most Wanted             -0.192458              0.742116   \n...                                   ...                   ...   \nUtomlands                        0.078965              0.829369   \nKommer hem                       0.404540              0.663137   \nGöra upp en eld                  0.135454              0.858141   \nEn glasspinne                    0.152858              0.914027   \nÖver bron                       -0.377696              1.027043   \n\n                     Component number : 4  Component number : 5  \\\ntitle                                                             \nAkta mannen                     -0.383923             -1.070134   \nAKTA MANNEN (Remix)             -0.444760             -0.851626   \nRÄKNA MINA DAGAR                -0.536447             -0.911988   \nFIENDES FIENDE                  -0.687048             -0.503443   \nSwedens Most Wanted             -0.993546             -0.566952   \n...                                   ...                   ...   \nUtomlands                       -0.695918             -0.793911   \nKommer hem                      -0.480649             -0.446542   \nGöra upp en eld                 -0.480672             -0.831188   \nEn glasspinne                   -0.394924             -0.614971   \nÖver bron                       -0.427985             -0.653207   \n\n                     Component number : 6  Component number : 7  \\\ntitle                                                             \nAkta mannen                      1.017983              0.604150   \nAKTA MANNEN (Remix)              0.798257              0.318395   \nRÄKNA MINA DAGAR                 0.379101              0.570630   \nFIENDES FIENDE                   0.716770             -0.215387   \nSwedens Most Wanted              0.557691              0.179574   \n...                                   ...                   ...   \nUtomlands                        0.798901              0.121183   \nKommer hem                       0.800462             -0.013574   \nGöra upp en eld                  0.624664              0.478146   \nEn glasspinne                    0.792442              0.042239   \nÖver bron                        1.143636              0.734640   \n\n                     Component number : 8  Component number : 9  ...  \\\ntitle                                                            ...   \nAkta mannen                      1.170265              0.120151  ...   \nAKTA MANNEN (Remix)              0.858604              0.129711  ...   \nRÄKNA MINA DAGAR                 0.417202              0.081752  ...   \nFIENDES FIENDE                   0.580041              0.150880  ...   \nSwedens Most Wanted              0.248438              0.408312  ...   \n...                                   ...                   ...  ...   \nUtomlands                        1.086621              0.056513  ...   \nKommer hem                       0.991292              0.592383  ...   \nGöra upp en eld                  0.788589              0.564669  ...   \nEn glasspinne                    0.673287              0.704842  ...   \nÖver bron                        1.281772              0.436576  ...   \n\n                     Component number : 290  Component number : 291  \\\ntitle                                                                 \nAkta mannen                        0.412552                2.158168   \nAKTA MANNEN (Remix)                0.546664                1.957639   \nRÄKNA MINA DAGAR                   0.143388                1.560512   \nFIENDES FIENDE                     0.191191                1.580887   \nSwedens Most Wanted               -0.095785                1.290618   \n...                                     ...                     ...   \nUtomlands                          0.301416                1.893805   \nKommer hem                         0.250105                1.728528   \nGöra upp en eld                   -0.080187                2.139979   \nEn glasspinne                      0.366977                2.282323   \nÖver bron                         -0.226547                2.097868   \n\n                     Component number : 292  Component number : 293  \\\ntitle                                                                 \nAkta mannen                       -0.187578                0.290639   \nAKTA MANNEN (Remix)               -0.105755                0.201019   \nRÄKNA MINA DAGAR                   0.181176               -0.167158   \nFIENDES FIENDE                    -0.026094                0.266933   \nSwedens Most Wanted                0.186634               -0.145206   \n...                                     ...                     ...   \nUtomlands                          0.582079                0.288260   \nKommer hem                         0.204013                0.085371   \nGöra upp en eld                    0.681793                0.102496   \nEn glasspinne                      0.429216                0.708291   \nÖver bron                          0.628154                0.171936   \n\n                     Component number : 294  Component number : 295  \\\ntitle                                                                 \nAkta mannen                        1.445562               -0.073892   \nAKTA MANNEN (Remix)                1.272892                0.087163   \nRÄKNA MINA DAGAR                   1.426659                0.037823   \nFIENDES FIENDE                     0.941341               -0.038395   \nSwedens Most Wanted                1.325497               -0.429149   \n...                                     ...                     ...   \nUtomlands                          1.028085               -0.061473   \nKommer hem                         1.352078               -0.217666   \nGöra upp en eld                    1.270701                0.133784   \nEn glasspinne                      1.398295               -0.067848   \nÖver bron                          1.791374               -0.458783   \n\n                     Component number : 296  Component number : 297  \\\ntitle                                                                 \nAkta mannen                        0.426937                0.803153   \nAKTA MANNEN (Remix)                0.444093                0.773832   \nRÄKNA MINA DAGAR                   0.317662                0.446977   \nFIENDES FIENDE                     0.241822                0.306447   \nSwedens Most Wanted                0.405196                0.296642   \n...                                     ...                     ...   \nUtomlands                          0.152287                0.032745   \nKommer hem                         0.468099               -0.159211   \nGöra upp en eld                    0.141162                0.661484   \nEn glasspinne                      0.209809               -0.225799   \nÖver bron                          0.102699                0.256049   \n\n                     Component number : 298  Component number : 299  \ntitle                                                                \nAkta mannen                        0.379012                1.284066  \nAKTA MANNEN (Remix)                0.403869                1.085515  \nRÄKNA MINA DAGAR                   0.233264                1.179435  \nFIENDES FIENDE                     0.750941                0.936042  \nSwedens Most Wanted                0.660241                1.023623  \n...                                     ...                     ...  \nUtomlands                          0.535582                1.316827  \nKommer hem                         0.763365                1.323674  \nGöra upp en eld                    0.252405                1.334288  \nEn glasspinne                      0.617715                0.905466  \nÖver bron                          0.508834                1.086695  \n\n[431 rows x 300 columns]",
      "text/html": "<div>\n<style scoped>\n    .dataframe tbody tr th:only-of-type {\n        vertical-align: middle;\n    }\n\n    .dataframe tbody tr th {\n        vertical-align: top;\n    }\n\n    .dataframe thead th {\n        text-align: right;\n    }\n</style>\n<table border=\"1\" class=\"dataframe\">\n  <thead>\n    <tr style=\"text-align: right;\">\n      <th></th>\n      <th>Component number : 0</th>\n      <th>Component number : 1</th>\n      <th>Component number : 2</th>\n      <th>Component number : 3</th>\n      <th>Component number : 4</th>\n      <th>Component number : 5</th>\n      <th>Component number : 6</th>\n      <th>Component number : 7</th>\n      <th>Component number : 8</th>\n      <th>Component number : 9</th>\n      <th>...</th>\n      <th>Component number : 290</th>\n      <th>Component number : 291</th>\n      <th>Component number : 292</th>\n      <th>Component number : 293</th>\n      <th>Component number : 294</th>\n      <th>Component number : 295</th>\n      <th>Component number : 296</th>\n      <th>Component number : 297</th>\n      <th>Component number : 298</th>\n      <th>Component number : 299</th>\n    </tr>\n    <tr>\n      <th>title</th>\n      <th></th>\n      <th></th>\n      <th></th>\n      <th></th>\n      <th></th>\n      <th></th>\n      <th></th>\n      <th></th>\n      <th></th>\n      <th></th>\n      <th></th>\n      <th></th>\n      <th></th>\n      <th></th>\n      <th></th>\n      <th></th>\n      <th></th>\n      <th></th>\n      <th></th>\n      <th></th>\n      <th></th>\n    </tr>\n  </thead>\n  <tbody>\n    <tr>\n      <th>Akta mannen</th>\n      <td>-0.323536</td>\n      <td>0.218550</td>\n      <td>-0.243383</td>\n      <td>0.738940</td>\n      <td>-0.383923</td>\n      <td>-1.070134</td>\n      <td>1.017983</td>\n      <td>0.604150</td>\n      <td>1.170265</td>\n      <td>0.120151</td>\n      <td>...</td>\n      <td>0.412552</td>\n      <td>2.158168</td>\n      <td>-0.187578</td>\n      <td>0.290639</td>\n      <td>1.445562</td>\n      <td>-0.073892</td>\n      <td>0.426937</td>\n      <td>0.803153</td>\n      <td>0.379012</td>\n      <td>1.284066</td>\n    </tr>\n    <tr>\n      <th>AKTA MANNEN (Remix)</th>\n      <td>-0.286205</td>\n      <td>0.118415</td>\n      <td>0.005393</td>\n      <td>0.787857</td>\n      <td>-0.444760</td>\n      <td>-0.851626</td>\n      <td>0.798257</td>\n      <td>0.318395</td>\n      <td>0.858604</td>\n      <td>0.129711</td>\n      <td>...</td>\n      <td>0.546664</td>\n      <td>1.957639</td>\n      <td>-0.105755</td>\n      <td>0.201019</td>\n      <td>1.272892</td>\n      <td>0.087163</td>\n      <td>0.444093</td>\n      <td>0.773832</td>\n      <td>0.403869</td>\n      <td>1.085515</td>\n    </tr>\n    <tr>\n      <th>RÄKNA MINA DAGAR</th>\n      <td>-0.508152</td>\n      <td>0.301819</td>\n      <td>0.098235</td>\n      <td>0.613381</td>\n      <td>-0.536447</td>\n      <td>-0.911988</td>\n      <td>0.379101</td>\n      <td>0.570630</td>\n      <td>0.417202</td>\n      <td>0.081752</td>\n      <td>...</td>\n      <td>0.143388</td>\n      <td>1.560512</td>\n      <td>0.181176</td>\n      <td>-0.167158</td>\n      <td>1.426659</td>\n      <td>0.037823</td>\n      <td>0.317662</td>\n      <td>0.446977</td>\n      <td>0.233264</td>\n      <td>1.179435</td>\n    </tr>\n    <tr>\n      <th>FIENDES FIENDE</th>\n      <td>-0.628705</td>\n      <td>-0.127128</td>\n      <td>0.165091</td>\n      <td>0.535491</td>\n      <td>-0.687048</td>\n      <td>-0.503443</td>\n      <td>0.716770</td>\n      <td>-0.215387</td>\n      <td>0.580041</td>\n      <td>0.150880</td>\n      <td>...</td>\n      <td>0.191191</td>\n      <td>1.580887</td>\n      <td>-0.026094</td>\n      <td>0.266933</td>\n      <td>0.941341</td>\n      <td>-0.038395</td>\n      <td>0.241822</td>\n      <td>0.306447</td>\n      <td>0.750941</td>\n      <td>0.936042</td>\n    </tr>\n    <tr>\n      <th>Swedens Most Wanted</th>\n      <td>-0.519253</td>\n      <td>0.145445</td>\n      <td>-0.192458</td>\n      <td>0.742116</td>\n      <td>-0.993546</td>\n      <td>-0.566952</td>\n      <td>0.557691</td>\n      <td>0.179574</td>\n      <td>0.248438</td>\n      <td>0.408312</td>\n      <td>...</td>\n      <td>-0.095785</td>\n      <td>1.290618</td>\n      <td>0.186634</td>\n      <td>-0.145206</td>\n      <td>1.325497</td>\n      <td>-0.429149</td>\n      <td>0.405196</td>\n      <td>0.296642</td>\n      <td>0.660241</td>\n      <td>1.023623</td>\n    </tr>\n    <tr>\n      <th>...</th>\n      <td>...</td>\n      <td>...</td>\n      <td>...</td>\n      <td>...</td>\n      <td>...</td>\n      <td>...</td>\n      <td>...</td>\n      <td>...</td>\n      <td>...</td>\n      <td>...</td>\n      <td>...</td>\n      <td>...</td>\n      <td>...</td>\n      <td>...</td>\n      <td>...</td>\n      <td>...</td>\n      <td>...</td>\n      <td>...</td>\n      <td>...</td>\n      <td>...</td>\n      <td>...</td>\n    </tr>\n    <tr>\n      <th>Utomlands</th>\n      <td>-0.144533</td>\n      <td>-0.043671</td>\n      <td>0.078965</td>\n      <td>0.829369</td>\n      <td>-0.695918</td>\n      <td>-0.793911</td>\n      <td>0.798901</td>\n      <td>0.121183</td>\n      <td>1.086621</td>\n      <td>0.056513</td>\n      <td>...</td>\n      <td>0.301416</td>\n      <td>1.893805</td>\n      <td>0.582079</td>\n      <td>0.288260</td>\n      <td>1.028085</td>\n      <td>-0.061473</td>\n      <td>0.152287</td>\n      <td>0.032745</td>\n      <td>0.535582</td>\n      <td>1.316827</td>\n    </tr>\n    <tr>\n      <th>Kommer hem</th>\n      <td>-0.209525</td>\n      <td>0.132551</td>\n      <td>0.404540</td>\n      <td>0.663137</td>\n      <td>-0.480649</td>\n      <td>-0.446542</td>\n      <td>0.800462</td>\n      <td>-0.013574</td>\n      <td>0.991292</td>\n      <td>0.592383</td>\n      <td>...</td>\n      <td>0.250105</td>\n      <td>1.728528</td>\n      <td>0.204013</td>\n      <td>0.085371</td>\n      <td>1.352078</td>\n      <td>-0.217666</td>\n      <td>0.468099</td>\n      <td>-0.159211</td>\n      <td>0.763365</td>\n      <td>1.323674</td>\n    </tr>\n    <tr>\n      <th>Göra upp en eld</th>\n      <td>-0.435933</td>\n      <td>0.423048</td>\n      <td>0.135454</td>\n      <td>0.858141</td>\n      <td>-0.480672</td>\n      <td>-0.831188</td>\n      <td>0.624664</td>\n      <td>0.478146</td>\n      <td>0.788589</td>\n      <td>0.564669</td>\n      <td>...</td>\n      <td>-0.080187</td>\n      <td>2.139979</td>\n      <td>0.681793</td>\n      <td>0.102496</td>\n      <td>1.270701</td>\n      <td>0.133784</td>\n      <td>0.141162</td>\n      <td>0.661484</td>\n      <td>0.252405</td>\n      <td>1.334288</td>\n    </tr>\n    <tr>\n      <th>En glasspinne</th>\n      <td>-0.604454</td>\n      <td>0.207218</td>\n      <td>0.152858</td>\n      <td>0.914027</td>\n      <td>-0.394924</td>\n      <td>-0.614971</td>\n      <td>0.792442</td>\n      <td>0.042239</td>\n      <td>0.673287</td>\n      <td>0.704842</td>\n      <td>...</td>\n      <td>0.366977</td>\n      <td>2.282323</td>\n      <td>0.429216</td>\n      <td>0.708291</td>\n      <td>1.398295</td>\n      <td>-0.067848</td>\n      <td>0.209809</td>\n      <td>-0.225799</td>\n      <td>0.617715</td>\n      <td>0.905466</td>\n    </tr>\n    <tr>\n      <th>Över bron</th>\n      <td>-0.581605</td>\n      <td>0.511269</td>\n      <td>-0.377696</td>\n      <td>1.027043</td>\n      <td>-0.427985</td>\n      <td>-0.653207</td>\n      <td>1.143636</td>\n      <td>0.734640</td>\n      <td>1.281772</td>\n      <td>0.436576</td>\n      <td>...</td>\n      <td>-0.226547</td>\n      <td>2.097868</td>\n      <td>0.628154</td>\n      <td>0.171936</td>\n      <td>1.791374</td>\n      <td>-0.458783</td>\n      <td>0.102699</td>\n      <td>0.256049</td>\n      <td>0.508834</td>\n      <td>1.086695</td>\n    </tr>\n  </tbody>\n</table>\n<p>431 rows × 300 columns</p>\n</div>"
     },
     "execution_count": 9,
     "metadata": {},
     "output_type": "execute_result"
    }
   ],
   "source": [
    "coord = pd.DataFrame()\n",
    "for i in range (0, 300):\n",
    "    coord[\"Component number : \" +  str(i)] = [vector[i] for vector in df.vector]\n",
    "coord = coord.set_index(df.index)\n",
    "coord"
   ]
  },
  {
   "cell_type": "code",
   "execution_count": 10,
   "metadata": {
    "pycharm": {
     "name": "#%%\n"
    }
   },
   "outputs": [
    {
     "name": "stderr",
     "output_type": "stream",
     "text": [
      "C:\\Users\\hugop\\.virtualenvs\\Swedish_rap_map-uGa4tHyC\\lib\\site-packages\\sklearn\\manifold\\_t_sne.py:996: FutureWarning: The PCA initialization in TSNE will change to have the standard deviation of PC1 equal to 1e-4 in 1.2. This will ensure better convergence.\n",
      "  warnings.warn(\n"
     ]
    },
    {
     "data": {
      "text/plain": "                        comp_1     comp_2     comp_3\ntitle                                               \nAkta mannen         -10.412619 -31.377893  36.856438\nAKTA MANNEN (Remix)  -5.899105 -28.339056  34.825394\nRÄKNA MINA DAGAR      1.376687 -27.639044 -11.312381\nFIENDES FIENDE      -10.369431 -35.278965  -4.205988\nSwedens Most Wanted  24.301130  -9.117384 -27.259850\n...                        ...        ...        ...\nUtomlands             1.517263  38.474117  11.824321\nKommer hem           -8.700085  34.425541   0.946129\nGöra upp en eld     -21.867487  25.402626  11.077250\nEn glasspinne       -39.290401  32.708633 -14.324455\nÖver bron           -59.875046  20.383099 -16.742262\n\n[431 rows x 3 columns]",
      "text/html": "<div>\n<style scoped>\n    .dataframe tbody tr th:only-of-type {\n        vertical-align: middle;\n    }\n\n    .dataframe tbody tr th {\n        vertical-align: top;\n    }\n\n    .dataframe thead th {\n        text-align: right;\n    }\n</style>\n<table border=\"1\" class=\"dataframe\">\n  <thead>\n    <tr style=\"text-align: right;\">\n      <th></th>\n      <th>comp_1</th>\n      <th>comp_2</th>\n      <th>comp_3</th>\n    </tr>\n    <tr>\n      <th>title</th>\n      <th></th>\n      <th></th>\n      <th></th>\n    </tr>\n  </thead>\n  <tbody>\n    <tr>\n      <th>Akta mannen</th>\n      <td>-10.412619</td>\n      <td>-31.377893</td>\n      <td>36.856438</td>\n    </tr>\n    <tr>\n      <th>AKTA MANNEN (Remix)</th>\n      <td>-5.899105</td>\n      <td>-28.339056</td>\n      <td>34.825394</td>\n    </tr>\n    <tr>\n      <th>RÄKNA MINA DAGAR</th>\n      <td>1.376687</td>\n      <td>-27.639044</td>\n      <td>-11.312381</td>\n    </tr>\n    <tr>\n      <th>FIENDES FIENDE</th>\n      <td>-10.369431</td>\n      <td>-35.278965</td>\n      <td>-4.205988</td>\n    </tr>\n    <tr>\n      <th>Swedens Most Wanted</th>\n      <td>24.301130</td>\n      <td>-9.117384</td>\n      <td>-27.259850</td>\n    </tr>\n    <tr>\n      <th>...</th>\n      <td>...</td>\n      <td>...</td>\n      <td>...</td>\n    </tr>\n    <tr>\n      <th>Utomlands</th>\n      <td>1.517263</td>\n      <td>38.474117</td>\n      <td>11.824321</td>\n    </tr>\n    <tr>\n      <th>Kommer hem</th>\n      <td>-8.700085</td>\n      <td>34.425541</td>\n      <td>0.946129</td>\n    </tr>\n    <tr>\n      <th>Göra upp en eld</th>\n      <td>-21.867487</td>\n      <td>25.402626</td>\n      <td>11.077250</td>\n    </tr>\n    <tr>\n      <th>En glasspinne</th>\n      <td>-39.290401</td>\n      <td>32.708633</td>\n      <td>-14.324455</td>\n    </tr>\n    <tr>\n      <th>Över bron</th>\n      <td>-59.875046</td>\n      <td>20.383099</td>\n      <td>-16.742262</td>\n    </tr>\n  </tbody>\n</table>\n<p>431 rows × 3 columns</p>\n</div>"
     },
     "execution_count": 10,
     "metadata": {},
     "output_type": "execute_result"
    }
   ],
   "source": [
    "from sklearn.manifold import TSNE\n",
    "\n",
    "tsne = TSNE(n_components=3, init=\"pca\", learning_rate=\"auto\")\n",
    "vector_embedded = tsne.fit_transform(coord)\n",
    "coord = pd.DataFrame(data=vector_embedded, columns=[\"comp_1\", \"comp_2\", \"comp_3\"])\n",
    "coord = coord.set_index(df.index)\n",
    "coord"
   ]
  },
  {
   "cell_type": "code",
   "execution_count": 11,
   "metadata": {
    "pycharm": {
     "name": "#%%\n"
    }
   },
   "outputs": [
    {
     "data": {
      "text/plain": "                    artist                                             lyrics  \\\ntitle                                                                           \nAkta mannen          1.Cuz  [har, akta, mannen, akta, mannen, akta, mannen...   \nAKTA MANNEN (Remix)  1.Cuz  [wahzaa, yei, gonzalez, refräng, einár, har, a...   \nRÄKNA MINA DAGAR     1.Cuz  [känns, hatar, gatan, hataren, hatar, massa, h...   \nFIENDES FIENDE       1.Cuz  [det, tufft, magen, känner, nånting, lurt, dra...   \nSwedens Most Wanted  1.Cuz  [hehe, grrr, shhh, grrr, dnoteondabeat, yeah, ...   \n...                    ...                                                ...   \nUtomlands            Zacke  [det, himmel, tittar, kan, blå, låtsas, utomla...   \nKommer hem           Zacke  [fuckar, allting, ställer, volontär, sluta, lä...   \nGöra upp en eld      Zacke  [älskar, bränner, älskar, bränner, hur, älska,...   \nEn glasspinne        Zacke  [det, det, det, det, verse, sätta, lås, aldrig...   \nÖver bron            Zacke  [alla, alla, alla, vet, alla, alla, alla, bruk...   \n\n                     len(lyrics)  \\\ntitle                              \nAkta mannen                  270   \nAKTA MANNEN (Remix)          348   \nRÄKNA MINA DAGAR             247   \nFIENDES FIENDE               222   \nSwedens Most Wanted          144   \n...                          ...   \nUtomlands                    211   \nKommer hem                   288   \nGöra upp en eld              216   \nEn glasspinne                174   \nÖver bron                    213   \n\n                                                                vector  \\\ntitle                                                                    \nAkta mannen          [-0.3235356130533748, 0.21854964894828974, -0....   \nAKTA MANNEN (Remix)  [-0.2862051797324213, 0.11841541860552354, 0.0...   \nRÄKNA MINA DAGAR     [-0.508152278208057, 0.30181914583029534, 0.09...   \nFIENDES FIENDE       [-0.6287049030935442, -0.1271283285742676, 0.1...   \nSwedens Most Wanted  [-0.5192530212096043, 0.145445215386442, -0.19...   \n...                                                                ...   \nUtomlands            [-0.14453262962859953, -0.043670980392191645, ...   \nKommer hem           [-0.20952458516694605, 0.1325509944387401, 0.4...   \nGöra upp en eld      [-0.43593270552379115, 0.4230476091788323, 0.1...   \nEn glasspinne        [-0.6044544778421692, 0.20721761845908632, 0.1...   \nÖver bron            [-0.5816051751864908, 0.5112688402544725, -0.3...   \n\n                        comp_1     comp_2     comp_3  \ntitle                                                 \nAkta mannen         -10.412619 -31.377893  36.856438  \nAKTA MANNEN (Remix)  -5.899105 -28.339056  34.825394  \nRÄKNA MINA DAGAR      1.376687 -27.639044 -11.312381  \nFIENDES FIENDE      -10.369431 -35.278965  -4.205988  \nSwedens Most Wanted  24.301130  -9.117384 -27.259850  \n...                        ...        ...        ...  \nUtomlands             1.517263  38.474117  11.824321  \nKommer hem           -8.700085  34.425541   0.946129  \nGöra upp en eld     -21.867487  25.402626  11.077250  \nEn glasspinne       -39.290401  32.708633 -14.324455  \nÖver bron           -59.875046  20.383099 -16.742262  \n\n[431 rows x 7 columns]",
      "text/html": "<div>\n<style scoped>\n    .dataframe tbody tr th:only-of-type {\n        vertical-align: middle;\n    }\n\n    .dataframe tbody tr th {\n        vertical-align: top;\n    }\n\n    .dataframe thead th {\n        text-align: right;\n    }\n</style>\n<table border=\"1\" class=\"dataframe\">\n  <thead>\n    <tr style=\"text-align: right;\">\n      <th></th>\n      <th>artist</th>\n      <th>lyrics</th>\n      <th>len(lyrics)</th>\n      <th>vector</th>\n      <th>comp_1</th>\n      <th>comp_2</th>\n      <th>comp_3</th>\n    </tr>\n    <tr>\n      <th>title</th>\n      <th></th>\n      <th></th>\n      <th></th>\n      <th></th>\n      <th></th>\n      <th></th>\n      <th></th>\n    </tr>\n  </thead>\n  <tbody>\n    <tr>\n      <th>Akta mannen</th>\n      <td>1.Cuz</td>\n      <td>[har, akta, mannen, akta, mannen, akta, mannen...</td>\n      <td>270</td>\n      <td>[-0.3235356130533748, 0.21854964894828974, -0....</td>\n      <td>-10.412619</td>\n      <td>-31.377893</td>\n      <td>36.856438</td>\n    </tr>\n    <tr>\n      <th>AKTA MANNEN (Remix)</th>\n      <td>1.Cuz</td>\n      <td>[wahzaa, yei, gonzalez, refräng, einár, har, a...</td>\n      <td>348</td>\n      <td>[-0.2862051797324213, 0.11841541860552354, 0.0...</td>\n      <td>-5.899105</td>\n      <td>-28.339056</td>\n      <td>34.825394</td>\n    </tr>\n    <tr>\n      <th>RÄKNA MINA DAGAR</th>\n      <td>1.Cuz</td>\n      <td>[känns, hatar, gatan, hataren, hatar, massa, h...</td>\n      <td>247</td>\n      <td>[-0.508152278208057, 0.30181914583029534, 0.09...</td>\n      <td>1.376687</td>\n      <td>-27.639044</td>\n      <td>-11.312381</td>\n    </tr>\n    <tr>\n      <th>FIENDES FIENDE</th>\n      <td>1.Cuz</td>\n      <td>[det, tufft, magen, känner, nånting, lurt, dra...</td>\n      <td>222</td>\n      <td>[-0.6287049030935442, -0.1271283285742676, 0.1...</td>\n      <td>-10.369431</td>\n      <td>-35.278965</td>\n      <td>-4.205988</td>\n    </tr>\n    <tr>\n      <th>Swedens Most Wanted</th>\n      <td>1.Cuz</td>\n      <td>[hehe, grrr, shhh, grrr, dnoteondabeat, yeah, ...</td>\n      <td>144</td>\n      <td>[-0.5192530212096043, 0.145445215386442, -0.19...</td>\n      <td>24.301130</td>\n      <td>-9.117384</td>\n      <td>-27.259850</td>\n    </tr>\n    <tr>\n      <th>...</th>\n      <td>...</td>\n      <td>...</td>\n      <td>...</td>\n      <td>...</td>\n      <td>...</td>\n      <td>...</td>\n      <td>...</td>\n    </tr>\n    <tr>\n      <th>Utomlands</th>\n      <td>Zacke</td>\n      <td>[det, himmel, tittar, kan, blå, låtsas, utomla...</td>\n      <td>211</td>\n      <td>[-0.14453262962859953, -0.043670980392191645, ...</td>\n      <td>1.517263</td>\n      <td>38.474117</td>\n      <td>11.824321</td>\n    </tr>\n    <tr>\n      <th>Kommer hem</th>\n      <td>Zacke</td>\n      <td>[fuckar, allting, ställer, volontär, sluta, lä...</td>\n      <td>288</td>\n      <td>[-0.20952458516694605, 0.1325509944387401, 0.4...</td>\n      <td>-8.700085</td>\n      <td>34.425541</td>\n      <td>0.946129</td>\n    </tr>\n    <tr>\n      <th>Göra upp en eld</th>\n      <td>Zacke</td>\n      <td>[älskar, bränner, älskar, bränner, hur, älska,...</td>\n      <td>216</td>\n      <td>[-0.43593270552379115, 0.4230476091788323, 0.1...</td>\n      <td>-21.867487</td>\n      <td>25.402626</td>\n      <td>11.077250</td>\n    </tr>\n    <tr>\n      <th>En glasspinne</th>\n      <td>Zacke</td>\n      <td>[det, det, det, det, verse, sätta, lås, aldrig...</td>\n      <td>174</td>\n      <td>[-0.6044544778421692, 0.20721761845908632, 0.1...</td>\n      <td>-39.290401</td>\n      <td>32.708633</td>\n      <td>-14.324455</td>\n    </tr>\n    <tr>\n      <th>Över bron</th>\n      <td>Zacke</td>\n      <td>[alla, alla, alla, vet, alla, alla, alla, bruk...</td>\n      <td>213</td>\n      <td>[-0.5816051751864908, 0.5112688402544725, -0.3...</td>\n      <td>-59.875046</td>\n      <td>20.383099</td>\n      <td>-16.742262</td>\n    </tr>\n  </tbody>\n</table>\n<p>431 rows × 7 columns</p>\n</div>"
     },
     "execution_count": 11,
     "metadata": {},
     "output_type": "execute_result"
    }
   ],
   "source": [
    "df[\"comp_1\"] = coord.comp_1\n",
    "df[\"comp_2\"] = coord.comp_2\n",
    "df[\"comp_3\"] = coord.comp_3\n",
    "df"
   ]
  },
  {
   "cell_type": "code",
   "execution_count": 19,
   "metadata": {
    "pycharm": {
     "name": "#%%\n"
    }
   },
   "outputs": [
    {
     "data": {
      "application/vnd.plotly.v1+json": {
       "data": [
        {
         "hovertemplate": "title=Akta mannen<br>comp_1=%{x}<br>comp_2=%{y}<br>comp_3=%{z}<extra></extra>",
         "legendgroup": "Akta mannen",
         "marker": {
          "color": "#636efa",
          "symbol": "circle"
         },
         "mode": "markers",
         "name": "Akta mannen",
         "scene": "scene",
         "showlegend": true,
         "x": [
          -10.412618637084961
         ],
         "y": [
          -31.377893447875977
         ],
         "z": [
          36.85643768310547
         ],
         "type": "scatter3d"
        },
        {
         "hovertemplate": "title=AKTA MANNEN (Remix)<br>comp_1=%{x}<br>comp_2=%{y}<br>comp_3=%{z}<extra></extra>",
         "legendgroup": "AKTA MANNEN (Remix)",
         "marker": {
          "color": "#EF553B",
          "symbol": "circle"
         },
         "mode": "markers",
         "name": "AKTA MANNEN (Remix)",
         "scene": "scene",
         "showlegend": true,
         "x": [
          -5.899104595184326
         ],
         "y": [
          -28.33905601501465
         ],
         "z": [
          34.82539367675781
         ],
         "type": "scatter3d"
        },
        {
         "hovertemplate": "title=RÄKNA MINA DAGAR<br>comp_1=%{x}<br>comp_2=%{y}<br>comp_3=%{z}<extra></extra>",
         "legendgroup": "RÄKNA MINA DAGAR",
         "marker": {
          "color": "#00cc96",
          "symbol": "circle"
         },
         "mode": "markers",
         "name": "RÄKNA MINA DAGAR",
         "scene": "scene",
         "showlegend": true,
         "x": [
          1.3766870498657227
         ],
         "y": [
          -27.6390438079834
         ],
         "z": [
          -11.31238079071045
         ],
         "type": "scatter3d"
        },
        {
         "hovertemplate": "title=FIENDES FIENDE<br>comp_1=%{x}<br>comp_2=%{y}<br>comp_3=%{z}<extra></extra>",
         "legendgroup": "FIENDES FIENDE",
         "marker": {
          "color": "#ab63fa",
          "symbol": "circle"
         },
         "mode": "markers",
         "name": "FIENDES FIENDE",
         "scene": "scene",
         "showlegend": true,
         "x": [
          -10.369430541992188
         ],
         "y": [
          -35.27896499633789
         ],
         "z": [
          -4.20598840713501
         ],
         "type": "scatter3d"
        },
        {
         "hovertemplate": "title=Swedens Most Wanted<br>comp_1=%{x}<br>comp_2=%{y}<br>comp_3=%{z}<extra></extra>",
         "legendgroup": "Swedens Most Wanted",
         "marker": {
          "color": "#FFA15A",
          "symbol": "circle"
         },
         "mode": "markers",
         "name": "Swedens Most Wanted",
         "scene": "scene",
         "showlegend": true,
         "x": [
          24.301130294799805
         ],
         "y": [
          -9.11738395690918
         ],
         "z": [
          -27.259849548339844
         ],
         "type": "scatter3d"
        },
        {
         "hovertemplate": "title=Livet vi lever<br>comp_1=%{x}<br>comp_2=%{y}<br>comp_3=%{z}<extra></extra>",
         "legendgroup": "Livet vi lever",
         "marker": {
          "color": "#19d3f3",
          "symbol": "circle"
         },
         "mode": "markers",
         "name": "Livet vi lever",
         "scene": "scene",
         "showlegend": true,
         "x": [
          -50.55474090576172
         ],
         "y": [
          -4.524715423583984
         ],
         "z": [
          -30.883798599243164
         ],
         "type": "scatter3d"
        },
        {
         "hovertemplate": "title=Caravaggio<br>comp_1=%{x}<br>comp_2=%{y}<br>comp_3=%{z}<extra></extra>",
         "legendgroup": "Caravaggio",
         "marker": {
          "color": "#FF6692",
          "symbol": "circle"
         },
         "mode": "markers",
         "name": "Caravaggio",
         "scene": "scene",
         "showlegend": true,
         "x": [
          14.543366432189941
         ],
         "y": [
          -14.827009201049805
         ],
         "z": [
          -16.282638549804688
         ],
         "type": "scatter3d"
        },
        {
         "hovertemplate": "title=BILEN<br>comp_1=%{x}<br>comp_2=%{y}<br>comp_3=%{z}<extra></extra>",
         "legendgroup": "BILEN",
         "marker": {
          "color": "#B6E880",
          "symbol": "circle"
         },
         "mode": "markers",
         "name": "BILEN",
         "scene": "scene",
         "showlegend": true,
         "x": [
          4.813615322113037
         ],
         "y": [
          -21.197328567504883
         ],
         "z": [
          15.6347017288208
         ],
         "type": "scatter3d"
        },
        {
         "hovertemplate": "title=Tre Hjärnor<br>comp_1=%{x}<br>comp_2=%{y}<br>comp_3=%{z}<extra></extra>",
         "legendgroup": "Tre Hjärnor",
         "marker": {
          "color": "#FF97FF",
          "symbol": "circle"
         },
         "mode": "markers",
         "name": "Tre Hjärnor",
         "scene": "scene",
         "showlegend": true,
         "x": [
          -17.957300186157227
         ],
         "y": [
          26.022647857666016
         ],
         "z": [
          23.45894432067871
         ],
         "type": "scatter3d"
        },
        {
         "hovertemplate": "title=Sirener<br>comp_1=%{x}<br>comp_2=%{y}<br>comp_3=%{z}<extra></extra>",
         "legendgroup": "Sirener",
         "marker": {
          "color": "#FECB52",
          "symbol": "circle"
         },
         "mode": "markers",
         "name": "Sirener",
         "scene": "scene",
         "showlegend": true,
         "x": [
          11.592989921569824
         ],
         "y": [
          26.52065086364746
         ],
         "z": [
          33.826778411865234
         ],
         "type": "scatter3d"
        },
        {
         "hovertemplate": "title=EXTRA<br>comp_1=%{x}<br>comp_2=%{y}<br>comp_3=%{z}<extra></extra>",
         "legendgroup": "EXTRA",
         "marker": {
          "color": "#636efa",
          "symbol": "circle"
         },
         "mode": "markers",
         "name": "EXTRA",
         "scene": "scene",
         "showlegend": true,
         "x": [
          17.557289123535156
         ],
         "y": [
          0.4973365366458893
         ],
         "z": [
          -0.8755128383636475
         ],
         "type": "scatter3d"
        },
        {
         "hovertemplate": "title=A.D.A.M<br>comp_1=%{x}<br>comp_2=%{y}<br>comp_3=%{z}<extra></extra>",
         "legendgroup": "A.D.A.M",
         "marker": {
          "color": "#EF553B",
          "symbol": "circle"
         },
         "mode": "markers",
         "name": "A.D.A.M",
         "scene": "scene",
         "showlegend": true,
         "x": [
          41.52574157714844
         ],
         "y": [
          -11.911879539489746
         ],
         "z": [
          35.768558502197266
         ],
         "type": "scatter3d"
        },
        {
         "hovertemplate": "title=Konst från Betong<br>comp_1=%{x}<br>comp_2=%{y}<br>comp_3=%{z}<extra></extra>",
         "legendgroup": "Konst från Betong",
         "marker": {
          "color": "#00cc96",
          "symbol": "circle"
         },
         "mode": "markers",
         "name": "Konst från Betong",
         "scene": "scene",
         "showlegend": true,
         "x": [
          24.4979248046875
         ],
         "y": [
          4.9866414070129395
         ],
         "z": [
          15.327848434448242
         ],
         "type": "scatter3d"
        },
        {
         "hovertemplate": "title=Trap$tar<br>comp_1=%{x}<br>comp_2=%{y}<br>comp_3=%{z}<extra></extra>",
         "legendgroup": "Trap$tar",
         "marker": {
          "color": "#ab63fa",
          "symbol": "circle"
         },
         "mode": "markers",
         "name": "Trap$tar",
         "scene": "scene",
         "showlegend": true,
         "x": [
          -8.9476900100708
         ],
         "y": [
          3.6801748275756836
         ],
         "z": [
          27.49311637878418
         ],
         "type": "scatter3d"
        },
        {
         "hovertemplate": "title=Grindar<br>comp_1=%{x}<br>comp_2=%{y}<br>comp_3=%{z}<extra></extra>",
         "legendgroup": "Grindar",
         "marker": {
          "color": "#FFA15A",
          "symbol": "circle"
         },
         "mode": "markers",
         "name": "Grindar",
         "scene": "scene",
         "showlegend": true,
         "x": [
          0.45026323199272156
         ],
         "y": [
          -12.472683906555176
         ],
         "z": [
          7.026844501495361
         ],
         "type": "scatter3d"
        },
        {
         "hovertemplate": "title=Wave<br>comp_1=%{x}<br>comp_2=%{y}<br>comp_3=%{z}<extra></extra>",
         "legendgroup": "Wave",
         "marker": {
          "color": "#19d3f3",
          "symbol": "circle"
         },
         "mode": "markers",
         "name": "Wave",
         "scene": "scene",
         "showlegend": true,
         "x": [
          28.520389556884766
         ],
         "y": [
          -16.593109130859375
         ],
         "z": [
          12.760394096374512
         ],
         "type": "scatter3d"
        },
        {
         "hovertemplate": "title=SÖDERMALM<br>comp_1=%{x}<br>comp_2=%{y}<br>comp_3=%{z}<extra></extra>",
         "legendgroup": "SÖDERMALM",
         "marker": {
          "color": "#FF6692",
          "symbol": "circle"
         },
         "mode": "markers",
         "name": "SÖDERMALM",
         "scene": "scene",
         "showlegend": true,
         "x": [
          19.70440673828125
         ],
         "y": [
          -28.887619018554688
         ],
         "z": [
          -18.856698989868164
         ],
         "type": "scatter3d"
        },
        {
         "hovertemplate": "title=ADOOMI<br>comp_1=%{x}<br>comp_2=%{y}<br>comp_3=%{z}<extra></extra>",
         "legendgroup": "ADOOMI",
         "marker": {
          "color": "#B6E880",
          "symbol": "circle"
         },
         "mode": "markers",
         "name": "ADOOMI",
         "scene": "scene",
         "showlegend": true,
         "x": [
          21.199668884277344
         ],
         "y": [
          -10.181236267089844
         ],
         "z": [
          -3.547081708908081
         ],
         "type": "scatter3d"
        },
        {
         "hovertemplate": "title=Hey Chica<br>comp_1=%{x}<br>comp_2=%{y}<br>comp_3=%{z}<extra></extra>",
         "legendgroup": "Hey Chica",
         "marker": {
          "color": "#FF97FF",
          "symbol": "circle"
         },
         "mode": "markers",
         "name": "Hey Chica",
         "scene": "scene",
         "showlegend": true,
         "x": [
          16.560720443725586
         ],
         "y": [
          8.671414375305176
         ],
         "z": [
          -19.88534164428711
         ],
         "type": "scatter3d"
        },
        {
         "hovertemplate": "title=Mami<br>comp_1=%{x}<br>comp_2=%{y}<br>comp_3=%{z}<extra></extra>",
         "legendgroup": "Mami",
         "marker": {
          "color": "#FECB52",
          "symbol": "circle"
         },
         "mode": "markers",
         "name": "Mami",
         "scene": "scene",
         "showlegend": true,
         "x": [
          17.364303588867188
         ],
         "y": [
          14.098774909973145
         ],
         "z": [
          14.710855484008789
         ],
         "type": "scatter3d"
        },
        {
         "hovertemplate": "title=My Cool<br>comp_1=%{x}<br>comp_2=%{y}<br>comp_3=%{z}<extra></extra>",
         "legendgroup": "My Cool",
         "marker": {
          "color": "#636efa",
          "symbol": "circle"
         },
         "mode": "markers",
         "name": "My Cool",
         "scene": "scene",
         "showlegend": true,
         "x": [
          54.41815948486328
         ],
         "y": [
          16.316028594970703
         ],
         "z": [
          -4.56709098815918
         ],
         "type": "scatter3d"
        },
        {
         "hovertemplate": "title=Vad Ska Du Bli?<br>comp_1=%{x}<br>comp_2=%{y}<br>comp_3=%{z}<extra></extra>",
         "legendgroup": "Vad Ska Du Bli?",
         "marker": {
          "color": "#EF553B",
          "symbol": "circle"
         },
         "mode": "markers",
         "name": "Vad Ska Du Bli?",
         "scene": "scene",
         "showlegend": true,
         "x": [
          -34.40536117553711
         ],
         "y": [
          3.3113961219787598
         ],
         "z": [
          -38.29601287841797
         ],
         "type": "scatter3d"
        },
        {
         "hovertemplate": "title=Dopeboy<br>comp_1=%{x}<br>comp_2=%{y}<br>comp_3=%{z}<extra></extra>",
         "legendgroup": "Dopeboy",
         "marker": {
          "color": "#00cc96",
          "symbol": "circle"
         },
         "mode": "markers",
         "name": "Dopeboy",
         "scene": "scene",
         "showlegend": true,
         "x": [
          52.39365768432617
         ],
         "y": [
          14.565876007080078
         ],
         "z": [
          4.679304122924805
         ],
         "type": "scatter3d"
        },
        {
         "hovertemplate": "title=Let Me<br>comp_1=%{x}<br>comp_2=%{y}<br>comp_3=%{z}<extra></extra>",
         "legendgroup": "Let Me",
         "marker": {
          "color": "#ab63fa",
          "symbol": "circle"
         },
         "mode": "markers",
         "name": "Let Me",
         "scene": "scene",
         "showlegend": true,
         "x": [
          47.299617767333984
         ],
         "y": [
          9.326375961303711
         ],
         "z": [
          0.4238870441913605
         ],
         "type": "scatter3d"
        },
        {
         "hovertemplate": "title=Before U Know It<br>comp_1=%{x}<br>comp_2=%{y}<br>comp_3=%{z}<extra></extra>",
         "legendgroup": "Before U Know It",
         "marker": {
          "color": "#FFA15A",
          "symbol": "circle"
         },
         "mode": "markers",
         "name": "Before U Know It",
         "scene": "scene",
         "showlegend": true,
         "x": [
          39.37628936767578
         ],
         "y": [
          17.85215187072754
         ],
         "z": [
          -10.68543529510498
         ],
         "type": "scatter3d"
        },
        {
         "hovertemplate": "title=They Wanna Know<br>comp_1=%{x}<br>comp_2=%{y}<br>comp_3=%{z}<extra></extra>",
         "legendgroup": "They Wanna Know",
         "marker": {
          "color": "#19d3f3",
          "symbol": "circle"
         },
         "mode": "markers",
         "name": "They Wanna Know",
         "scene": "scene",
         "showlegend": true,
         "x": [
          47.98429489135742
         ],
         "y": [
          23.558088302612305
         ],
         "z": [
          -4.7057294845581055
         ],
         "type": "scatter3d"
        },
        {
         "hovertemplate": "title=Knock You Out (Main Theme of Street Fighter 3: Third Strike Online Edition)<br>comp_1=%{x}<br>comp_2=%{y}<br>comp_3=%{z}<extra></extra>",
         "legendgroup": "Knock You Out (Main Theme of Street Fighter 3: Third Strike Online Edition)",
         "marker": {
          "color": "#FF6692",
          "symbol": "circle"
         },
         "mode": "markers",
         "name": "Knock You Out (Main Theme of Street Fighter 3: Third Strike Online Edition)",
         "scene": "scene",
         "showlegend": true,
         "x": [
          38.87209701538086
         ],
         "y": [
          -7.484017372131348
         ],
         "z": [
          -16.558734893798828
         ],
         "type": "scatter3d"
        },
        {
         "hovertemplate": "title=Stockholm Paris<br>comp_1=%{x}<br>comp_2=%{y}<br>comp_3=%{z}<extra></extra>",
         "legendgroup": "Stockholm Paris",
         "marker": {
          "color": "#B6E880",
          "symbol": "circle"
         },
         "mode": "markers",
         "name": "Stockholm Paris",
         "scene": "scene",
         "showlegend": true,
         "x": [
          21.170265197753906
         ],
         "y": [
          -15.316828727722168
         ],
         "z": [
          42.96882247924805
         ],
         "type": "scatter3d"
        },
        {
         "hovertemplate": "title=Scared Of The Dark<br>comp_1=%{x}<br>comp_2=%{y}<br>comp_3=%{z}<extra></extra>",
         "legendgroup": "Scared Of The Dark",
         "marker": {
          "color": "#FF97FF",
          "symbol": "circle"
         },
         "mode": "markers",
         "name": "Scared Of The Dark",
         "scene": "scene",
         "showlegend": true,
         "x": [
          51.25569152832031
         ],
         "y": [
          -4.966770172119141
         ],
         "z": [
          10.920780181884766
         ],
         "type": "scatter3d"
        },
        {
         "hovertemplate": "title=Hurts<br>comp_1=%{x}<br>comp_2=%{y}<br>comp_3=%{z}<extra></extra>",
         "legendgroup": "Hurts",
         "marker": {
          "color": "#FECB52",
          "symbol": "circle"
         },
         "mode": "markers",
         "name": "Hurts",
         "scene": "scene",
         "showlegend": true,
         "x": [
          43.535057067871094
         ],
         "y": [
          17.325769424438477
         ],
         "z": [
          1.742785930633545
         ],
         "type": "scatter3d"
        },
        {
         "hovertemplate": "title=Goes Around Comes Around<br>comp_1=%{x}<br>comp_2=%{y}<br>comp_3=%{z}<extra></extra>",
         "legendgroup": "Goes Around Comes Around",
         "marker": {
          "color": "#636efa",
          "symbol": "circle"
         },
         "mode": "markers",
         "name": "Goes Around Comes Around",
         "scene": "scene",
         "showlegend": true,
         "x": [
          38.55611801147461
         ],
         "y": [
          9.44975757598877
         ],
         "z": [
          -1.4585988521575928
         ],
         "type": "scatter3d"
        },
        {
         "hovertemplate": "title=Wait in Summer<br>comp_1=%{x}<br>comp_2=%{y}<br>comp_3=%{z}<extra></extra>",
         "legendgroup": "Wait in Summer",
         "marker": {
          "color": "#EF553B",
          "symbol": "circle"
         },
         "mode": "markers",
         "name": "Wait in Summer",
         "scene": "scene",
         "showlegend": true,
         "x": [
          38.463157653808594
         ],
         "y": [
          8.794395446777344
         ],
         "z": [
          -15.270525932312012
         ],
         "type": "scatter3d"
        },
        {
         "hovertemplate": "title=Son of a Gun<br>comp_1=%{x}<br>comp_2=%{y}<br>comp_3=%{z}<extra></extra>",
         "legendgroup": "Son of a Gun",
         "marker": {
          "color": "#00cc96",
          "symbol": "circle"
         },
         "mode": "markers",
         "name": "Son of a Gun",
         "scene": "scene",
         "showlegend": true,
         "x": [
          77.06671142578125
         ],
         "y": [
          4.264607906341553
         ],
         "z": [
          -14.400785446166992
         ],
         "type": "scatter3d"
        },
        {
         "hovertemplate": "title=Come Back 2 You<br>comp_1=%{x}<br>comp_2=%{y}<br>comp_3=%{z}<extra></extra>",
         "legendgroup": "Come Back 2 You",
         "marker": {
          "color": "#ab63fa",
          "symbol": "circle"
         },
         "mode": "markers",
         "name": "Come Back 2 You",
         "scene": "scene",
         "showlegend": true,
         "x": [
          70.85504913330078
         ],
         "y": [
          -11.637401580810547
         ],
         "z": [
          2.425323486328125
         ],
         "type": "scatter3d"
        },
        {
         "hovertemplate": "title=Come Back 2<br>comp_1=%{x}<br>comp_2=%{y}<br>comp_3=%{z}<extra></extra>",
         "legendgroup": "Come Back 2",
         "marker": {
          "color": "#FFA15A",
          "symbol": "circle"
         },
         "mode": "markers",
         "name": "Come Back 2",
         "scene": "scene",
         "showlegend": true,
         "x": [
          71.5176773071289
         ],
         "y": [
          -6.322370529174805
         ],
         "z": [
          5.453658103942871
         ],
         "type": "scatter3d"
        },
        {
         "hovertemplate": "title=1990-nånting<br>comp_1=%{x}<br>comp_2=%{y}<br>comp_3=%{z}<extra></extra>",
         "legendgroup": "1990-nånting",
         "marker": {
          "color": "#19d3f3",
          "symbol": "circle"
         },
         "mode": "markers",
         "name": "1990-nånting",
         "scene": "scene",
         "showlegend": true,
         "x": [
          7.312378406524658
         ],
         "y": [
          -13.856500625610352
         ],
         "z": [
          37.46955871582031
         ],
         "type": "scatter3d"
        },
        {
         "hovertemplate": "title=Bomfalleralla<br>comp_1=%{x}<br>comp_2=%{y}<br>comp_3=%{z}<extra></extra>",
         "legendgroup": "Bomfalleralla",
         "marker": {
          "color": "#FF6692",
          "symbol": "circle"
         },
         "mode": "markers",
         "name": "Bomfalleralla",
         "scene": "scene",
         "showlegend": true,
         "x": [
          -13.965580940246582
         ],
         "y": [
          15.909045219421387
         ],
         "z": [
          24.82561683654785
         ],
         "type": "scatter3d"
        },
        {
         "hovertemplate": "title=Jobb<br>comp_1=%{x}<br>comp_2=%{y}<br>comp_3=%{z}<extra></extra>",
         "legendgroup": "Jobb",
         "marker": {
          "color": "#B6E880",
          "symbol": "circle"
         },
         "mode": "markers",
         "name": "Jobb",
         "scene": "scene",
         "showlegend": true,
         "x": [
          -64.1011962890625
         ],
         "y": [
          16.402618408203125
         ],
         "z": [
          -4.898409366607666
         ],
         "type": "scatter3d"
        },
        {
         "hovertemplate": "title=Sverigetrotters<br>comp_1=%{x}<br>comp_2=%{y}<br>comp_3=%{z}<extra></extra>",
         "legendgroup": "Sverigetrotters",
         "marker": {
          "color": "#FF97FF",
          "symbol": "circle"
         },
         "mode": "markers",
         "name": "Sverigetrotters",
         "scene": "scene",
         "showlegend": true,
         "x": [
          -7.1688923835754395
         ],
         "y": [
          26.19057273864746
         ],
         "z": [
          34.99828338623047
         ],
         "type": "scatter3d"
        },
        {
         "hovertemplate": "title=Natten Till Idag<br>comp_1=%{x}<br>comp_2=%{y}<br>comp_3=%{z}<extra></extra>",
         "legendgroup": "Natten Till Idag",
         "marker": {
          "color": "#FECB52",
          "symbol": "circle"
         },
         "mode": "markers",
         "name": "Natten Till Idag",
         "scene": "scene",
         "showlegend": true,
         "x": [
          -33.874671936035156
         ],
         "y": [
          4.168076992034912
         ],
         "z": [
          11.073453903198242
         ],
         "type": "scatter3d"
        },
        {
         "hovertemplate": "title=Jag Kunde inte Bry mig Mindre<br>comp_1=%{x}<br>comp_2=%{y}<br>comp_3=%{z}<extra></extra>",
         "legendgroup": "Jag Kunde inte Bry mig Mindre",
         "marker": {
          "color": "#636efa",
          "symbol": "circle"
         },
         "mode": "markers",
         "name": "Jag Kunde inte Bry mig Mindre",
         "scene": "scene",
         "showlegend": true,
         "x": [
          -3.8866055011749268
         ],
         "y": [
          5.752945899963379
         ],
         "z": [
          -45.002872467041016
         ],
         "type": "scatter3d"
        },
        {
         "hovertemplate": "title=Bomfalleralla [English]<br>comp_1=%{x}<br>comp_2=%{y}<br>comp_3=%{z}<extra></extra>",
         "legendgroup": "Bomfalleralla [English]",
         "marker": {
          "color": "#EF553B",
          "symbol": "circle"
         },
         "mode": "markers",
         "name": "Bomfalleralla [English]",
         "scene": "scene",
         "showlegend": true,
         "x": [
          -19.649213790893555
         ],
         "y": [
          16.50296974182129
         ],
         "z": [
          25.285831451416016
         ],
         "type": "scatter3d"
        },
        {
         "hovertemplate": "title=Le Parkour<br>comp_1=%{x}<br>comp_2=%{y}<br>comp_3=%{z}<extra></extra>",
         "legendgroup": "Le Parkour",
         "marker": {
          "color": "#00cc96",
          "symbol": "circle"
         },
         "mode": "markers",
         "name": "Le Parkour",
         "scene": "scene",
         "showlegend": true,
         "x": [
          -34.55339050292969
         ],
         "y": [
          35.367103576660156
         ],
         "z": [
          15.57337760925293
         ],
         "type": "scatter3d"
        },
        {
         "hovertemplate": "title=Hej hej<br>comp_1=%{x}<br>comp_2=%{y}<br>comp_3=%{z}<extra></extra>",
         "legendgroup": "Hej hej",
         "marker": {
          "color": "#ab63fa",
          "symbol": "circle"
         },
         "mode": "markers",
         "name": "Hej hej",
         "scene": "scene",
         "showlegend": true,
         "x": [
          8.704808235168457
         ],
         "y": [
          22.894546508789062
         ],
         "z": [
          12.478034973144531
         ],
         "type": "scatter3d"
        },
        {
         "hovertemplate": "title=Benen på ryggen<br>comp_1=%{x}<br>comp_2=%{y}<br>comp_3=%{z}<extra></extra>",
         "legendgroup": "Benen på ryggen",
         "marker": {
          "color": "#FFA15A",
          "symbol": "circle"
         },
         "mode": "markers",
         "name": "Benen på ryggen",
         "scene": "scene",
         "showlegend": true,
         "x": [
          -30.303054809570312
         ],
         "y": [
          32.952144622802734
         ],
         "z": [
          23.15998077392578
         ],
         "type": "scatter3d"
        },
        {
         "hovertemplate": "title=Kall<br>comp_1=%{x}<br>comp_2=%{y}<br>comp_3=%{z}<extra></extra>",
         "legendgroup": "Kall",
         "marker": {
          "color": "#19d3f3",
          "symbol": "circle"
         },
         "mode": "markers",
         "name": "Kall",
         "scene": "scene",
         "showlegend": true,
         "x": [
          2.2885916233062744
         ],
         "y": [
          -43.12482833862305
         ],
         "z": [
          -3.8164303302764893
         ],
         "type": "scatter3d"
        },
        {
         "hovertemplate": "title=Drip<br>comp_1=%{x}<br>comp_2=%{y}<br>comp_3=%{z}<extra></extra>",
         "legendgroup": "Drip",
         "marker": {
          "color": "#FF6692",
          "symbol": "circle"
         },
         "mode": "markers",
         "name": "Drip",
         "scene": "scene",
         "showlegend": true,
         "x": [
          25.635366439819336
         ],
         "y": [
          -4.908853054046631
         ],
         "z": [
          -12.678976058959961
         ],
         "type": "scatter3d"
        },
        {
         "hovertemplate": "title=724<br>comp_1=%{x}<br>comp_2=%{y}<br>comp_3=%{z}<extra></extra>",
         "legendgroup": "724",
         "marker": {
          "color": "#B6E880",
          "symbol": "circle"
         },
         "mode": "markers",
         "name": "724",
         "scene": "scene",
         "showlegend": true,
         "x": [
          6.799349784851074
         ],
         "y": [
          -18.654054641723633
         ],
         "z": [
          -14.086787223815918
         ],
         "type": "scatter3d"
        },
        {
         "hovertemplate": "title=1942<br>comp_1=%{x}<br>comp_2=%{y}<br>comp_3=%{z}<extra></extra>",
         "legendgroup": "1942",
         "marker": {
          "color": "#FF97FF",
          "symbol": "circle"
         },
         "mode": "markers",
         "name": "1942",
         "scene": "scene",
         "showlegend": true,
         "x": [
          -4.180106163024902
         ],
         "y": [
          -5.021557807922363
         ],
         "z": [
          -34.43942642211914
         ],
         "type": "scatter3d"
        },
        {
         "hovertemplate": "title=Va Mig<br>comp_1=%{x}<br>comp_2=%{y}<br>comp_3=%{z}<extra></extra>",
         "legendgroup": "Va Mig",
         "marker": {
          "color": "#FECB52",
          "symbol": "circle"
         },
         "mode": "markers",
         "name": "Va Mig",
         "scene": "scene",
         "showlegend": true,
         "x": [
          8.579289436340332
         ],
         "y": [
          -19.183650970458984
         ],
         "z": [
          -25.04246711730957
         ],
         "type": "scatter3d"
        },
        {
         "hovertemplate": "title=Hon<br>comp_1=%{x}<br>comp_2=%{y}<br>comp_3=%{z}<extra></extra>",
         "legendgroup": "Hon",
         "marker": {
          "color": "#636efa",
          "symbol": "circle"
         },
         "mode": "markers",
         "name": "Hon",
         "scene": "scene",
         "showlegend": true,
         "x": [
          -24.908584594726562
         ],
         "y": [
          -36.111793518066406
         ],
         "z": [
          5.862968444824219
         ],
         "type": "scatter3d"
        },
        {
         "hovertemplate": "title=Blessed<br>comp_1=%{x}<br>comp_2=%{y}<br>comp_3=%{z}<extra></extra>",
         "legendgroup": "Blessed",
         "marker": {
          "color": "#EF553B",
          "symbol": "circle"
         },
         "mode": "markers",
         "name": "Blessed",
         "scene": "scene",
         "showlegend": true,
         "x": [
          25.49808120727539
         ],
         "y": [
          -0.7226115465164185
         ],
         "z": [
          -18.165544509887695
         ],
         "type": "scatter3d"
        },
        {
         "hovertemplate": "title=Mama<br>comp_1=%{x}<br>comp_2=%{y}<br>comp_3=%{z}<extra></extra>",
         "legendgroup": "Mama",
         "marker": {
          "color": "#00cc96",
          "symbol": "circle"
         },
         "mode": "markers",
         "name": "Mama",
         "scene": "scene",
         "showlegend": true,
         "x": [
          -20.66714096069336
         ],
         "y": [
          -45.06478500366211
         ],
         "z": [
          11.589425086975098
         ],
         "type": "scatter3d"
        },
        {
         "hovertemplate": "title=Sativa<br>comp_1=%{x}<br>comp_2=%{y}<br>comp_3=%{z}<extra></extra>",
         "legendgroup": "Sativa",
         "marker": {
          "color": "#ab63fa",
          "symbol": "circle"
         },
         "mode": "markers",
         "name": "Sativa",
         "scene": "scene",
         "showlegend": true,
         "x": [
          17.491010665893555
         ],
         "y": [
          -20.079261779785156
         ],
         "z": [
          -9.947026252746582
         ],
         "type": "scatter3d"
        },
        {
         "hovertemplate": "title=Jag & Du<br>comp_1=%{x}<br>comp_2=%{y}<br>comp_3=%{z}<extra></extra>",
         "legendgroup": "Jag & Du",
         "marker": {
          "color": "#FFA15A",
          "symbol": "circle"
         },
         "mode": "markers",
         "name": "Jag & Du",
         "scene": "scene",
         "showlegend": true,
         "x": [
          -5.959447383880615
         ],
         "y": [
          -8.392410278320312
         ],
         "z": [
          -43.98994445800781
         ],
         "type": "scatter3d"
        },
        {
         "hovertemplate": "title=Tagga Ner Remix<br>comp_1=%{x}<br>comp_2=%{y}<br>comp_3=%{z}<extra></extra>",
         "legendgroup": "Tagga Ner Remix",
         "marker": {
          "color": "#19d3f3",
          "symbol": "circle"
         },
         "mode": "markers",
         "name": "Tagga Ner Remix",
         "scene": "scene",
         "showlegend": true,
         "x": [
          4.490790367126465
         ],
         "y": [
          5.097512722015381
         ],
         "z": [
          -20.793222427368164
         ],
         "type": "scatter3d"
        },
        {
         "hovertemplate": "title=Lika bra<br>comp_1=%{x}<br>comp_2=%{y}<br>comp_3=%{z}<extra></extra>",
         "legendgroup": "Lika bra",
         "marker": {
          "color": "#FF6692",
          "symbol": "circle"
         },
         "mode": "markers",
         "name": "Lika bra",
         "scene": "scene",
         "showlegend": true,
         "x": [
          -12.616340637207031
         ],
         "y": [
          18.552051544189453
         ],
         "z": [
          -2.8318581581115723
         ],
         "type": "scatter3d"
        },
        {
         "hovertemplate": "title=Vem E Han<br>comp_1=%{x}<br>comp_2=%{y}<br>comp_3=%{z}<extra></extra>",
         "legendgroup": "Vem E Han",
         "marker": {
          "color": "#B6E880",
          "symbol": "circle"
         },
         "mode": "markers",
         "name": "Vem E Han",
         "scene": "scene",
         "showlegend": true,
         "x": [
          13.24692440032959
         ],
         "y": [
          18.2899227142334
         ],
         "z": [
          -25.02078628540039
         ],
         "type": "scatter3d"
        },
        {
         "hovertemplate": "title=Älska Nån<br>comp_1=%{x}<br>comp_2=%{y}<br>comp_3=%{z}<extra></extra>",
         "legendgroup": "Älska Nån",
         "marker": {
          "color": "#FF97FF",
          "symbol": "circle"
         },
         "mode": "markers",
         "name": "Älska Nån",
         "scene": "scene",
         "showlegend": true,
         "x": [
          2.747488260269165
         ],
         "y": [
          -0.2749340832233429
         ],
         "z": [
          -38.19352722167969
         ],
         "type": "scatter3d"
        },
        {
         "hovertemplate": "title=Tagga Ner<br>comp_1=%{x}<br>comp_2=%{y}<br>comp_3=%{z}<extra></extra>",
         "legendgroup": "Tagga Ner",
         "marker": {
          "color": "#FECB52",
          "symbol": "circle"
         },
         "mode": "markers",
         "name": "Tagga Ner",
         "scene": "scene",
         "showlegend": true,
         "x": [
          6.433674335479736
         ],
         "y": [
          7.969276428222656
         ],
         "z": [
          -25.423770904541016
         ],
         "type": "scatter3d"
        },
        {
         "hovertemplate": "title=Vandraren<br>comp_1=%{x}<br>comp_2=%{y}<br>comp_3=%{z}<extra></extra>",
         "legendgroup": "Vandraren",
         "marker": {
          "color": "#636efa",
          "symbol": "circle"
         },
         "mode": "markers",
         "name": "Vandraren",
         "scene": "scene",
         "showlegend": true,
         "x": [
          -34.05495834350586
         ],
         "y": [
          13.048877716064453
         ],
         "z": [
          -29.547143936157227
         ],
         "type": "scatter3d"
        },
        {
         "hovertemplate": "title=Torneträsket<br>comp_1=%{x}<br>comp_2=%{y}<br>comp_3=%{z}<extra></extra>",
         "legendgroup": "Torneträsket",
         "marker": {
          "color": "#EF553B",
          "symbol": "circle"
         },
         "mode": "markers",
         "name": "Torneträsket",
         "scene": "scene",
         "showlegend": true,
         "x": [
          -28.92744255065918
         ],
         "y": [
          6.367343902587891
         ],
         "z": [
          -13.096412658691406
         ],
         "type": "scatter3d"
        },
        {
         "hovertemplate": "title=Gå På Salong<br>comp_1=%{x}<br>comp_2=%{y}<br>comp_3=%{z}<extra></extra>",
         "legendgroup": "Gå På Salong",
         "marker": {
          "color": "#00cc96",
          "symbol": "circle"
         },
         "mode": "markers",
         "name": "Gå På Salong",
         "scene": "scene",
         "showlegend": true,
         "x": [
          25.4703311920166
         ],
         "y": [
          29.46988296508789
         ],
         "z": [
          -6.72613000869751
         ],
         "type": "scatter3d"
        },
        {
         "hovertemplate": "title=7 lr 8<br>comp_1=%{x}<br>comp_2=%{y}<br>comp_3=%{z}<extra></extra>",
         "legendgroup": "7 lr 8",
         "marker": {
          "color": "#ab63fa",
          "symbol": "circle"
         },
         "mode": "markers",
         "name": "7 lr 8",
         "scene": "scene",
         "showlegend": true,
         "x": [
          22.718849182128906
         ],
         "y": [
          14.552264213562012
         ],
         "z": [
          -1.4997073411941528
         ],
         "type": "scatter3d"
        },
        {
         "hovertemplate": "title=Tjejerna Tjejerna Tjejerna<br>comp_1=%{x}<br>comp_2=%{y}<br>comp_3=%{z}<extra></extra>",
         "legendgroup": "Tjejerna Tjejerna Tjejerna",
         "marker": {
          "color": "#FFA15A",
          "symbol": "circle"
         },
         "mode": "markers",
         "name": "Tjejerna Tjejerna Tjejerna",
         "scene": "scene",
         "showlegend": true,
         "x": [
          12.369376182556152
         ],
         "y": [
          -21.18730926513672
         ],
         "z": [
          42.71025848388672
         ],
         "type": "scatter3d"
        },
        {
         "hovertemplate": "title=F.A.M.E (LeyLey)<br>comp_1=%{x}<br>comp_2=%{y}<br>comp_3=%{z}<extra></extra>",
         "legendgroup": "F.A.M.E (LeyLey)",
         "marker": {
          "color": "#19d3f3",
          "symbol": "circle"
         },
         "mode": "markers",
         "name": "F.A.M.E (LeyLey)",
         "scene": "scene",
         "showlegend": true,
         "x": [
          22.433334350585938,
          16.79985237121582
         ],
         "y": [
          24.696205139160156,
          26.239465713500977
         ],
         "z": [
          25.145978927612305,
          22.529027938842773
         ],
         "type": "scatter3d"
        },
        {
         "hovertemplate": "title=Nån Annan<br>comp_1=%{x}<br>comp_2=%{y}<br>comp_3=%{z}<extra></extra>",
         "legendgroup": "Nån Annan",
         "marker": {
          "color": "#FF6692",
          "symbol": "circle"
         },
         "mode": "markers",
         "name": "Nån Annan",
         "scene": "scene",
         "showlegend": true,
         "x": [
          -1.8254135847091675
         ],
         "y": [
          5.005903720855713
         ],
         "z": [
          -32.14179611206055
         ],
         "type": "scatter3d"
        },
        {
         "hovertemplate": "title=Naiv<br>comp_1=%{x}<br>comp_2=%{y}<br>comp_3=%{z}<extra></extra>",
         "legendgroup": "Naiv",
         "marker": {
          "color": "#B6E880",
          "symbol": "circle"
         },
         "mode": "markers",
         "name": "Naiv",
         "scene": "scene",
         "showlegend": true,
         "x": [
          -9.67674732208252
         ],
         "y": [
          7.7799153327941895
         ],
         "z": [
          -34.88499450683594
         ],
         "type": "scatter3d"
        },
        {
         "hovertemplate": "title=Aldrig igen<br>comp_1=%{x}<br>comp_2=%{y}<br>comp_3=%{z}<extra></extra>",
         "legendgroup": "Aldrig igen",
         "marker": {
          "color": "#FF97FF",
          "symbol": "circle"
         },
         "mode": "markers",
         "name": "Aldrig igen",
         "scene": "scene",
         "showlegend": true,
         "x": [
          -44.91270065307617
         ],
         "y": [
          23.091365814208984
         ],
         "z": [
          -16.925601959228516
         ],
         "type": "scatter3d"
        },
        {
         "hovertemplate": "title=Trender<br>comp_1=%{x}<br>comp_2=%{y}<br>comp_3=%{z}<extra></extra>",
         "legendgroup": "Trender",
         "marker": {
          "color": "#FECB52",
          "symbol": "circle"
         },
         "mode": "markers",
         "name": "Trender",
         "scene": "scene",
         "showlegend": true,
         "x": [
          27.87828826904297
         ],
         "y": [
          3.500408172607422
         ],
         "z": [
          5.128095626831055
         ],
         "type": "scatter3d"
        },
        {
         "hovertemplate": "title=Inte meningen<br>comp_1=%{x}<br>comp_2=%{y}<br>comp_3=%{z}<extra></extra>",
         "legendgroup": "Inte meningen",
         "marker": {
          "color": "#636efa",
          "symbol": "circle"
         },
         "mode": "markers",
         "name": "Inte meningen",
         "scene": "scene",
         "showlegend": true,
         "x": [
          8.627692222595215
         ],
         "y": [
          -9.194564819335938
         ],
         "z": [
          -9.460478782653809
         ],
         "type": "scatter3d"
        },
        {
         "hovertemplate": "title=LeyLey (F.A.M.E Remix)<br>comp_1=%{x}<br>comp_2=%{y}<br>comp_3=%{z}<extra></extra>",
         "legendgroup": "LeyLey (F.A.M.E Remix)",
         "marker": {
          "color": "#EF553B",
          "symbol": "circle"
         },
         "mode": "markers",
         "name": "LeyLey (F.A.M.E Remix)",
         "scene": "scene",
         "showlegend": true,
         "x": [
          15.809690475463867
         ],
         "y": [
          19.92889976501465
         ],
         "z": [
          23.882169723510742
         ],
         "type": "scatter3d"
        },
        {
         "hovertemplate": "title=Förebild<br>comp_1=%{x}<br>comp_2=%{y}<br>comp_3=%{z}<extra></extra>",
         "legendgroup": "Förebild",
         "marker": {
          "color": "#00cc96",
          "symbol": "circle"
         },
         "mode": "markers",
         "name": "Förebild",
         "scene": "scene",
         "showlegend": true,
         "x": [
          -1.5575531721115112
         ],
         "y": [
          4.681760787963867
         ],
         "z": [
          -14.907658576965332
         ],
         "type": "scatter3d"
        },
        {
         "hovertemplate": "title=Hela Livet<br>comp_1=%{x}<br>comp_2=%{y}<br>comp_3=%{z}<extra></extra>",
         "legendgroup": "Hela Livet",
         "marker": {
          "color": "#ab63fa",
          "symbol": "circle"
         },
         "mode": "markers",
         "name": "Hela Livet",
         "scene": "scene",
         "showlegend": true,
         "x": [
          -3.465954303741455
         ],
         "y": [
          -39.78468704223633
         ],
         "z": [
          -15.609621047973633
         ],
         "type": "scatter3d"
        },
        {
         "hovertemplate": "title=All In<br>comp_1=%{x}<br>comp_2=%{y}<br>comp_3=%{z}<extra></extra>",
         "legendgroup": "All In",
         "marker": {
          "color": "#FFA15A",
          "symbol": "circle"
         },
         "mode": "markers",
         "name": "All In",
         "scene": "scene",
         "showlegend": true,
         "x": [
          -0.7229101061820984
         ],
         "y": [
          1.8770115375518799
         ],
         "z": [
          31.393278121948242
         ],
         "type": "scatter3d"
        },
        {
         "hovertemplate": "title=PIPPI<br>comp_1=%{x}<br>comp_2=%{y}<br>comp_3=%{z}<extra></extra>",
         "legendgroup": "PIPPI",
         "marker": {
          "color": "#19d3f3",
          "symbol": "circle"
         },
         "mode": "markers",
         "name": "PIPPI",
         "scene": "scene",
         "showlegend": true,
         "x": [
          -4.991739273071289
         ],
         "y": [
          -3.286430597305298
         ],
         "z": [
          7.434741497039795
         ],
         "type": "scatter3d"
        },
        {
         "hovertemplate": "title=DAG HAMMARSKJÖLD<br>comp_1=%{x}<br>comp_2=%{y}<br>comp_3=%{z}<extra></extra>",
         "legendgroup": "DAG HAMMARSKJÖLD",
         "marker": {
          "color": "#FF6692",
          "symbol": "circle"
         },
         "mode": "markers",
         "name": "DAG HAMMARSKJÖLD",
         "scene": "scene",
         "showlegend": true,
         "x": [
          23.27024269104004
         ],
         "y": [
          -9.638051986694336
         ],
         "z": [
          18.715503692626953
         ],
         "type": "scatter3d"
        },
        {
         "hovertemplate": "title=Fram<br>comp_1=%{x}<br>comp_2=%{y}<br>comp_3=%{z}<extra></extra>",
         "legendgroup": "Fram",
         "marker": {
          "color": "#B6E880",
          "symbol": "circle"
         },
         "mode": "markers",
         "name": "Fram",
         "scene": "scene",
         "showlegend": true,
         "x": [
          23.734569549560547
         ],
         "y": [
          -5.188317775726318
         ],
         "z": [
          12.434038162231445
         ],
         "type": "scatter3d"
        },
        {
         "hovertemplate": "title=VÄRLDSKLASS<br>comp_1=%{x}<br>comp_2=%{y}<br>comp_3=%{z}<extra></extra>",
         "legendgroup": "VÄRLDSKLASS",
         "marker": {
          "color": "#FF97FF",
          "symbol": "circle"
         },
         "mode": "markers",
         "name": "VÄRLDSKLASS",
         "scene": "scene",
         "showlegend": true,
         "x": [
          27.97486114501953
         ],
         "y": [
          -19.665403366088867
         ],
         "z": [
          24.974756240844727
         ],
         "type": "scatter3d"
        },
        {
         "hovertemplate": "title=Akhi<br>comp_1=%{x}<br>comp_2=%{y}<br>comp_3=%{z}<extra></extra>",
         "legendgroup": "Akhi",
         "marker": {
          "color": "#FECB52",
          "symbol": "circle"
         },
         "mode": "markers",
         "name": "Akhi",
         "scene": "scene",
         "showlegend": true,
         "x": [
          -1.3456968069076538
         ],
         "y": [
          -35.661006927490234
         ],
         "z": [
          -8.299193382263184
         ],
         "type": "scatter3d"
        },
        {
         "hovertemplate": "title=TILL MIG<br>comp_1=%{x}<br>comp_2=%{y}<br>comp_3=%{z}<extra></extra>",
         "legendgroup": "TILL MIG",
         "marker": {
          "color": "#636efa",
          "symbol": "circle"
         },
         "mode": "markers",
         "name": "TILL MIG",
         "scene": "scene",
         "showlegend": true,
         "x": [
          29.6815185546875
         ],
         "y": [
          -9.985505104064941
         ],
         "z": [
          26.657135009765625
         ],
         "type": "scatter3d"
        },
        {
         "hovertemplate": "title=Oj Oj Oj<br>comp_1=%{x}<br>comp_2=%{y}<br>comp_3=%{z}<extra></extra>",
         "legendgroup": "Oj Oj Oj",
         "marker": {
          "color": "#EF553B",
          "symbol": "circle"
         },
         "mode": "markers",
         "name": "Oj Oj Oj",
         "scene": "scene",
         "showlegend": true,
         "x": [
          5.880366802215576
         ],
         "y": [
          -7.747961521148682
         ],
         "z": [
          21.482845306396484
         ],
         "type": "scatter3d"
        },
        {
         "hovertemplate": "title=Va<br>comp_1=%{x}<br>comp_2=%{y}<br>comp_3=%{z}<extra></extra>",
         "legendgroup": "Va",
         "marker": {
          "color": "#00cc96",
          "symbol": "circle"
         },
         "mode": "markers",
         "name": "Va",
         "scene": "scene",
         "showlegend": true,
         "x": [
          6.314654350280762
         ],
         "y": [
          -12.732678413391113
         ],
         "z": [
          15.747281074523926
         ],
         "type": "scatter3d"
        },
        {
         "hovertemplate": "title=För Laxen<br>comp_1=%{x}<br>comp_2=%{y}<br>comp_3=%{z}<extra></extra>",
         "legendgroup": "För Laxen",
         "marker": {
          "color": "#ab63fa",
          "symbol": "circle"
         },
         "mode": "markers",
         "name": "För Laxen",
         "scene": "scene",
         "showlegend": true,
         "x": [
          -8.660859107971191
         ],
         "y": [
          14.464842796325684
         ],
         "z": [
          11.73739242553711
         ],
         "type": "scatter3d"
        },
        {
         "hovertemplate": "title=LIGA<br>comp_1=%{x}<br>comp_2=%{y}<br>comp_3=%{z}<extra></extra>",
         "legendgroup": "LIGA",
         "marker": {
          "color": "#FFA15A",
          "symbol": "circle"
         },
         "mode": "markers",
         "name": "LIGA",
         "scene": "scene",
         "showlegend": true,
         "x": [
          11.672045707702637
         ],
         "y": [
          -2.087268590927124
         ],
         "z": [
          -13.49453353881836
         ],
         "type": "scatter3d"
        },
        {
         "hovertemplate": "title=Calcium<br>comp_1=%{x}<br>comp_2=%{y}<br>comp_3=%{z}<extra></extra>",
         "legendgroup": "Calcium",
         "marker": {
          "color": "#19d3f3",
          "symbol": "circle"
         },
         "mode": "markers",
         "name": "Calcium",
         "scene": "scene",
         "showlegend": true,
         "x": [
          67.81495666503906
         ],
         "y": [
          -9.29965877532959
         ],
         "z": [
          -24.135242462158203
         ],
         "type": "scatter3d"
        },
        {
         "hovertemplate": "title=Peroxide<br>comp_1=%{x}<br>comp_2=%{y}<br>comp_3=%{z}<extra></extra>",
         "legendgroup": "Peroxide",
         "marker": {
          "color": "#FF6692",
          "symbol": "circle"
         },
         "mode": "markers",
         "name": "Peroxide",
         "scene": "scene",
         "showlegend": true,
         "x": [
          71.73579406738281
         ],
         "y": [
          7.197569370269775
         ],
         "z": [
          -2.9498202800750732
         ],
         "type": "scatter3d"
        },
        {
         "hovertemplate": "title=AAA Powerline<br>comp_1=%{x}<br>comp_2=%{y}<br>comp_3=%{z}<extra></extra>",
         "legendgroup": "AAA Powerline",
         "marker": {
          "color": "#B6E880",
          "symbol": "circle"
         },
         "mode": "markers",
         "name": "AAA Powerline",
         "scene": "scene",
         "showlegend": true,
         "x": [
          54.96261215209961
         ],
         "y": [
          -17.537595748901367
         ],
         "z": [
          -24.567840576171875
         ],
         "type": "scatter3d"
        },
        {
         "hovertemplate": "title=Fragile<br>comp_1=%{x}<br>comp_2=%{y}<br>comp_3=%{z}<extra></extra>",
         "legendgroup": "Fragile",
         "marker": {
          "color": "#FF97FF",
          "symbol": "circle"
         },
         "mode": "markers",
         "name": "Fragile",
         "scene": "scene",
         "showlegend": true,
         "x": [
          57.234798431396484
         ],
         "y": [
          -0.9080433249473572
         ],
         "z": [
          -28.42569923400879
         ],
         "type": "scatter3d"
        },
        {
         "hovertemplate": "title=Play Em Like Atari<br>comp_1=%{x}<br>comp_2=%{y}<br>comp_3=%{z}<extra></extra>",
         "legendgroup": "Play Em Like Atari",
         "marker": {
          "color": "#FECB52",
          "symbol": "circle"
         },
         "mode": "markers",
         "name": "Play Em Like Atari",
         "scene": "scene",
         "showlegend": true,
         "x": [
          68.48046112060547
         ],
         "y": [
          9.054821968078613
         ],
         "z": [
          -19.291423797607422
         ],
         "type": "scatter3d"
        },
        {
         "hovertemplate": "title=Security!<br>comp_1=%{x}<br>comp_2=%{y}<br>comp_3=%{z}<extra></extra>",
         "legendgroup": "Security!",
         "marker": {
          "color": "#636efa",
          "symbol": "circle"
         },
         "mode": "markers",
         "name": "Security!",
         "scene": "scene",
         "showlegend": true,
         "x": [
          54.966190338134766
         ],
         "y": [
          9.029109001159668
         ],
         "z": [
          12.144126892089844
         ],
         "type": "scatter3d"
        },
        {
         "hovertemplate": "title=Sugar & Diesel<br>comp_1=%{x}<br>comp_2=%{y}<br>comp_3=%{z}<extra></extra>",
         "legendgroup": "Sugar & Diesel",
         "marker": {
          "color": "#EF553B",
          "symbol": "circle"
         },
         "mode": "markers",
         "name": "Sugar & Diesel",
         "scene": "scene",
         "showlegend": true,
         "x": [
          45.5006103515625
         ],
         "y": [
          4.369352340698242
         ],
         "z": [
          -19.82916831970215
         ],
         "type": "scatter3d"
        },
        {
         "hovertemplate": "title=Hold Me Down Like Gravity<br>comp_1=%{x}<br>comp_2=%{y}<br>comp_3=%{z}<extra></extra>",
         "legendgroup": "Hold Me Down Like Gravity",
         "marker": {
          "color": "#00cc96",
          "symbol": "circle"
         },
         "mode": "markers",
         "name": "Hold Me Down Like Gravity",
         "scene": "scene",
         "showlegend": true,
         "x": [
          49.16252517700195
         ],
         "y": [
          21.913799285888672
         ],
         "z": [
          -22.565624237060547
         ],
         "type": "scatter3d"
        },
        {
         "hovertemplate": "title=GT-R<br>comp_1=%{x}<br>comp_2=%{y}<br>comp_3=%{z}<extra></extra>",
         "legendgroup": "GT-R",
         "marker": {
          "color": "#ab63fa",
          "symbol": "circle"
         },
         "mode": "markers",
         "name": "GT-R",
         "scene": "scene",
         "showlegend": true,
         "x": [
          58.1468391418457
         ],
         "y": [
          -8.992318153381348
         ],
         "z": [
          -19.506813049316406
         ],
         "type": "scatter3d"
        },
        {
         "hovertemplate": "title=Black Boy<br>comp_1=%{x}<br>comp_2=%{y}<br>comp_3=%{z}<extra></extra>",
         "legendgroup": "Black Boy",
         "marker": {
          "color": "#FFA15A",
          "symbol": "circle"
         },
         "mode": "markers",
         "name": "Black Boy",
         "scene": "scene",
         "showlegend": true,
         "x": [
          65.56475830078125
         ],
         "y": [
          16.880552291870117
         ],
         "z": [
          5.688731670379639
         ],
         "type": "scatter3d"
        },
        {
         "hovertemplate": "title=Katten i trakten<br>comp_1=%{x}<br>comp_2=%{y}<br>comp_3=%{z}<extra></extra>",
         "legendgroup": "Katten i trakten",
         "marker": {
          "color": "#19d3f3",
          "symbol": "circle"
         },
         "mode": "markers",
         "name": "Katten i trakten",
         "scene": "scene",
         "showlegend": true,
         "x": [
          26.991308212280273
         ],
         "y": [
          -18.53822135925293
         ],
         "z": [
          -12.930696487426758
         ],
         "type": "scatter3d"
        },
        {
         "hovertemplate": "title=Första Klass<br>comp_1=%{x}<br>comp_2=%{y}<br>comp_3=%{z}<extra></extra>",
         "legendgroup": "Första Klass",
         "marker": {
          "color": "#FF6692",
          "symbol": "circle"
         },
         "mode": "markers",
         "name": "Första Klass",
         "scene": "scene",
         "showlegend": true,
         "x": [
          19.92107391357422
         ],
         "y": [
          28.129371643066406
         ],
         "z": [
          7.230301856994629
         ],
         "type": "scatter3d"
        },
        {
         "hovertemplate": "title=Rör Mig<br>comp_1=%{x}<br>comp_2=%{y}<br>comp_3=%{z}<extra></extra>",
         "legendgroup": "Rör Mig",
         "marker": {
          "color": "#B6E880",
          "symbol": "circle"
         },
         "mode": "markers",
         "name": "Rör Mig",
         "scene": "scene",
         "showlegend": true,
         "x": [
          -4.737355709075928
         ],
         "y": [
          -6.693878650665283
         ],
         "z": [
          17.740327835083008
         ],
         "type": "scatter3d"
        },
        {
         "hovertemplate": "title=Fusk<br>comp_1=%{x}<br>comp_2=%{y}<br>comp_3=%{z}<extra></extra>",
         "legendgroup": "Fusk",
         "marker": {
          "color": "#FF97FF",
          "symbol": "circle"
         },
         "mode": "markers",
         "name": "Fusk",
         "scene": "scene",
         "showlegend": true,
         "x": [
          16.613075256347656
         ],
         "y": [
          6.758790493011475
         ],
         "z": [
          -10.005477905273438
         ],
         "type": "scatter3d"
        },
        {
         "hovertemplate": "title=F Mitt X<br>comp_1=%{x}<br>comp_2=%{y}<br>comp_3=%{z}<extra></extra>",
         "legendgroup": "F Mitt X",
         "marker": {
          "color": "#FECB52",
          "symbol": "circle"
         },
         "mode": "markers",
         "name": "F Mitt X",
         "scene": "scene",
         "showlegend": true,
         "x": [
          23.03579330444336
         ],
         "y": [
          9.762240409851074
         ],
         "z": [
          24.653541564941406
         ],
         "type": "scatter3d"
        },
        {
         "hovertemplate": "title=Nu Vi Skiner<br>comp_1=%{x}<br>comp_2=%{y}<br>comp_3=%{z}<extra></extra>",
         "legendgroup": "Nu Vi Skiner",
         "marker": {
          "color": "#636efa",
          "symbol": "circle"
         },
         "mode": "markers",
         "name": "Nu Vi Skiner",
         "scene": "scene",
         "showlegend": true,
         "x": [
          -3.5648350715637207
         ],
         "y": [
          -13.827934265136719
         ],
         "z": [
          0.20962047576904297
         ],
         "type": "scatter3d"
        },
        {
         "hovertemplate": "title=Nr 1<br>comp_1=%{x}<br>comp_2=%{y}<br>comp_3=%{z}<extra></extra>",
         "legendgroup": "Nr 1",
         "marker": {
          "color": "#EF553B",
          "symbol": "circle"
         },
         "mode": "markers",
         "name": "Nr 1",
         "scene": "scene",
         "showlegend": true,
         "x": [
          -0.043574824929237366
         ],
         "y": [
          -18.625030517578125
         ],
         "z": [
          28.26724624633789
         ],
         "type": "scatter3d"
        },
        {
         "hovertemplate": "title=Unge Med Extra Energi<br>comp_1=%{x}<br>comp_2=%{y}<br>comp_3=%{z}<extra></extra>",
         "legendgroup": "Unge Med Extra Energi",
         "marker": {
          "color": "#00cc96",
          "symbol": "circle"
         },
         "mode": "markers",
         "name": "Unge Med Extra Energi",
         "scene": "scene",
         "showlegend": true,
         "x": [
          -2.08498215675354
         ],
         "y": [
          -16.120092391967773
         ],
         "z": [
          -7.078098297119141
         ],
         "type": "scatter3d"
        },
        {
         "hovertemplate": "title=HipHop<br>comp_1=%{x}<br>comp_2=%{y}<br>comp_3=%{z}<extra></extra>",
         "legendgroup": "HipHop",
         "marker": {
          "color": "#ab63fa",
          "symbol": "circle"
         },
         "mode": "markers",
         "name": "HipHop",
         "scene": "scene",
         "showlegend": true,
         "x": [
          13.481329917907715
         ],
         "y": [
          0.18530607223510742
         ],
         "z": [
          -6.044277191162109
         ],
         "type": "scatter3d"
        },
        {
         "hovertemplate": "title=Feelings<br>comp_1=%{x}<br>comp_2=%{y}<br>comp_3=%{z}<extra></extra>",
         "legendgroup": "Feelings",
         "marker": {
          "color": "#FFA15A",
          "symbol": "circle"
         },
         "mode": "markers",
         "name": "Feelings",
         "scene": "scene",
         "showlegend": true,
         "x": [
          -4.837735652923584
         ],
         "y": [
          -22.29909896850586
         ],
         "z": [
          -4.0896477699279785
         ],
         "type": "scatter3d"
        },
        {
         "hovertemplate": "title=Rulla fram<br>comp_1=%{x}<br>comp_2=%{y}<br>comp_3=%{z}<extra></extra>",
         "legendgroup": "Rulla fram",
         "marker": {
          "color": "#19d3f3",
          "symbol": "circle"
         },
         "mode": "markers",
         "name": "Rulla fram",
         "scene": "scene",
         "showlegend": true,
         "x": [
          -4.444258689880371
         ],
         "y": [
          -17.13416290283203
         ],
         "z": [
          -21.709829330444336
         ],
         "type": "scatter3d"
        },
        {
         "hovertemplate": "title=Underbar<br>comp_1=%{x}<br>comp_2=%{y}<br>comp_3=%{z}<extra></extra>",
         "legendgroup": "Underbar",
         "marker": {
          "color": "#FF6692",
          "symbol": "circle"
         },
         "mode": "markers",
         "name": "Underbar",
         "scene": "scene",
         "showlegend": true,
         "x": [
          -40.58310317993164
         ],
         "y": [
          9.701663970947266
         ],
         "z": [
          -16.885873794555664
         ],
         "type": "scatter3d"
        },
        {
         "hovertemplate": "title=Mitt rop på hjälp<br>comp_1=%{x}<br>comp_2=%{y}<br>comp_3=%{z}<extra></extra>",
         "legendgroup": "Mitt rop på hjälp",
         "marker": {
          "color": "#B6E880",
          "symbol": "circle"
         },
         "mode": "markers",
         "name": "Mitt rop på hjälp",
         "scene": "scene",
         "showlegend": true,
         "x": [
          -29.272642135620117
         ],
         "y": [
          -23.2509822845459
         ],
         "z": [
          -14.266446113586426
         ],
         "type": "scatter3d"
        },
        {
         "hovertemplate": "title=Rullar Fram<br>comp_1=%{x}<br>comp_2=%{y}<br>comp_3=%{z}<extra></extra>",
         "legendgroup": "Rullar Fram",
         "marker": {
          "color": "#FF97FF",
          "symbol": "circle"
         },
         "mode": "markers",
         "name": "Rullar Fram",
         "scene": "scene",
         "showlegend": true,
         "x": [
          -7.310916900634766
         ],
         "y": [
          -17.974504470825195
         ],
         "z": [
          -26.818111419677734
         ],
         "type": "scatter3d"
        },
        {
         "hovertemplate": "title=I staden där vi bor<br>comp_1=%{x}<br>comp_2=%{y}<br>comp_3=%{z}<extra></extra>",
         "legendgroup": "I staden där vi bor",
         "marker": {
          "color": "#FECB52",
          "symbol": "circle"
         },
         "mode": "markers",
         "name": "I staden där vi bor",
         "scene": "scene",
         "showlegend": true,
         "x": [
          -40.11384201049805
         ],
         "y": [
          -9.808035850524902
         ],
         "z": [
          42.984066009521484
         ],
         "type": "scatter3d"
        },
        {
         "hovertemplate": "title=Ända tills hjärtat slutar slå<br>comp_1=%{x}<br>comp_2=%{y}<br>comp_3=%{z}<extra></extra>",
         "legendgroup": "Ända tills hjärtat slutar slå",
         "marker": {
          "color": "#636efa",
          "symbol": "circle"
         },
         "mode": "markers",
         "name": "Ända tills hjärtat slutar slå",
         "scene": "scene",
         "showlegend": true,
         "x": [
          -35.93647766113281
         ],
         "y": [
          22.436567306518555
         ],
         "z": [
          9.409235954284668
         ],
         "type": "scatter3d"
        },
        {
         "hovertemplate": "title=Du har mail<br>comp_1=%{x}<br>comp_2=%{y}<br>comp_3=%{z}<extra></extra>",
         "legendgroup": "Du har mail",
         "marker": {
          "color": "#EF553B",
          "symbol": "circle"
         },
         "mode": "markers",
         "name": "Du har mail",
         "scene": "scene",
         "showlegend": true,
         "x": [
          -39.10774230957031
         ],
         "y": [
          7.722356796264648
         ],
         "z": [
          -24.827075958251953
         ],
         "type": "scatter3d"
        },
        {
         "hovertemplate": "title=Gränslandet<br>comp_1=%{x}<br>comp_2=%{y}<br>comp_3=%{z}<extra></extra>",
         "legendgroup": "Gränslandet",
         "marker": {
          "color": "#00cc96",
          "symbol": "circle"
         },
         "mode": "markers",
         "name": "Gränslandet",
         "scene": "scene",
         "showlegend": true,
         "x": [
          -34.20793151855469
         ],
         "y": [
          -23.986860275268555
         ],
         "z": [
          -21.411653518676758
         ],
         "type": "scatter3d"
        },
        {
         "hovertemplate": "title=Upp<br>comp_1=%{x}<br>comp_2=%{y}<br>comp_3=%{z}<extra></extra>",
         "legendgroup": "Upp",
         "marker": {
          "color": "#ab63fa",
          "symbol": "circle"
         },
         "mode": "markers",
         "name": "Upp",
         "scene": "scene",
         "showlegend": true,
         "x": [
          -48.55570983886719
         ],
         "y": [
          29.501188278198242
         ],
         "z": [
          3.2142422199249268
         ],
         "type": "scatter3d"
        },
        {
         "hovertemplate": "title=Miljoner indianer<br>comp_1=%{x}<br>comp_2=%{y}<br>comp_3=%{z}<extra></extra>",
         "legendgroup": "Miljoner indianer",
         "marker": {
          "color": "#FFA15A",
          "symbol": "circle"
         },
         "mode": "markers",
         "name": "Miljoner indianer",
         "scene": "scene",
         "showlegend": true,
         "x": [
          -11.44420337677002
         ],
         "y": [
          -23.370849609375
         ],
         "z": [
          17.232646942138672
         ],
         "type": "scatter3d"
        },
        {
         "hovertemplate": "title=HotSpot<br>comp_1=%{x}<br>comp_2=%{y}<br>comp_3=%{z}<extra></extra>",
         "legendgroup": "HotSpot",
         "marker": {
          "color": "#19d3f3",
          "symbol": "circle"
         },
         "mode": "markers",
         "name": "HotSpot",
         "scene": "scene",
         "showlegend": true,
         "x": [
          34.15433120727539
         ],
         "y": [
          -1.4768742322921753
         ],
         "z": [
          39.07195281982422
         ],
         "type": "scatter3d"
        },
        {
         "hovertemplate": "title=Sprayad<br>comp_1=%{x}<br>comp_2=%{y}<br>comp_3=%{z}<extra></extra>",
         "legendgroup": "Sprayad",
         "marker": {
          "color": "#FF6692",
          "symbol": "circle"
         },
         "mode": "markers",
         "name": "Sprayad",
         "scene": "scene",
         "showlegend": true,
         "x": [
          29.864734649658203
         ],
         "y": [
          -4.122513294219971
         ],
         "z": [
          32.63363265991211
         ],
         "type": "scatter3d"
        },
        {
         "hovertemplate": "title=Apoteket<br>comp_1=%{x}<br>comp_2=%{y}<br>comp_3=%{z}<extra></extra>",
         "legendgroup": "Apoteket",
         "marker": {
          "color": "#B6E880",
          "symbol": "circle"
         },
         "mode": "markers",
         "name": "Apoteket",
         "scene": "scene",
         "showlegend": true,
         "x": [
          13.427395820617676
         ],
         "y": [
          -9.56871509552002
         ],
         "z": [
          40.550045013427734
         ],
         "type": "scatter3d"
        },
        {
         "hovertemplate": "title=FÖRSENT 2<br>comp_1=%{x}<br>comp_2=%{y}<br>comp_3=%{z}<extra></extra>",
         "legendgroup": "FÖRSENT 2",
         "marker": {
          "color": "#FF97FF",
          "symbol": "circle"
         },
         "mode": "markers",
         "name": "FÖRSENT 2",
         "scene": "scene",
         "showlegend": true,
         "x": [
          5.308891773223877
         ],
         "y": [
          -27.631378173828125
         ],
         "z": [
          19.957921981811523
         ],
         "type": "scatter3d"
        },
        {
         "hovertemplate": "title=BIG MAC<br>comp_1=%{x}<br>comp_2=%{y}<br>comp_3=%{z}<extra></extra>",
         "legendgroup": "BIG MAC",
         "marker": {
          "color": "#FECB52",
          "symbol": "circle"
         },
         "mode": "markers",
         "name": "BIG MAC",
         "scene": "scene",
         "showlegend": true,
         "x": [
          26.144594192504883
         ],
         "y": [
          -5.018454074859619
         ],
         "z": [
          37.89921951293945
         ],
         "type": "scatter3d"
        },
        {
         "hovertemplate": "title=PILOTER<br>comp_1=%{x}<br>comp_2=%{y}<br>comp_3=%{z}<extra></extra>",
         "legendgroup": "PILOTER",
         "marker": {
          "color": "#636efa",
          "symbol": "circle"
         },
         "mode": "markers",
         "name": "PILOTER",
         "scene": "scene",
         "showlegend": true,
         "x": [
          1.9266393184661865
         ],
         "y": [
          18.152250289916992
         ],
         "z": [
          42.115028381347656
         ],
         "type": "scatter3d"
        },
        {
         "hovertemplate": "title=PUTA<br>comp_1=%{x}<br>comp_2=%{y}<br>comp_3=%{z}<extra></extra>",
         "legendgroup": "PUTA",
         "marker": {
          "color": "#EF553B",
          "symbol": "circle"
         },
         "mode": "markers",
         "name": "PUTA",
         "scene": "scene",
         "showlegend": true,
         "x": [
          14.810060501098633
         ],
         "y": [
          -14.664237022399902
         ],
         "z": [
          21.845937728881836
         ],
         "type": "scatter3d"
        },
        {
         "hovertemplate": "title=Gangsta Christmas<br>comp_1=%{x}<br>comp_2=%{y}<br>comp_3=%{z}<extra></extra>",
         "legendgroup": "Gangsta Christmas",
         "marker": {
          "color": "#00cc96",
          "symbol": "circle"
         },
         "mode": "markers",
         "name": "Gangsta Christmas",
         "scene": "scene",
         "showlegend": true,
         "x": [
          8.488821983337402
         ],
         "y": [
          -35.72600555419922
         ],
         "z": [
          10.914458274841309
         ],
         "type": "scatter3d"
        },
        {
         "hovertemplate": "title=INGEN ANNAN<br>comp_1=%{x}<br>comp_2=%{y}<br>comp_3=%{z}<extra></extra>",
         "legendgroup": "INGEN ANNAN",
         "marker": {
          "color": "#ab63fa",
          "symbol": "circle"
         },
         "mode": "markers",
         "name": "INGEN ANNAN",
         "scene": "scene",
         "showlegend": true,
         "x": [
          11.798651695251465
         ],
         "y": [
          -5.0670695304870605
         ],
         "z": [
          13.195046424865723
         ],
         "type": "scatter3d"
        },
        {
         "hovertemplate": "title=G-CODE<br>comp_1=%{x}<br>comp_2=%{y}<br>comp_3=%{z}<extra></extra>",
         "legendgroup": "G-CODE",
         "marker": {
          "color": "#FFA15A",
          "symbol": "circle"
         },
         "mode": "markers",
         "name": "G-CODE",
         "scene": "scene",
         "showlegend": true,
         "x": [
          8.832500457763672
         ],
         "y": [
          -2.5800578594207764
         ],
         "z": [
          3.447293281555176
         ],
         "type": "scatter3d"
        },
        {
         "hovertemplate": "title=Från Hjärtat<br>comp_1=%{x}<br>comp_2=%{y}<br>comp_3=%{z}<extra></extra>",
         "legendgroup": "Från Hjärtat",
         "marker": {
          "color": "#19d3f3",
          "symbol": "circle"
         },
         "mode": "markers",
         "name": "Från Hjärtat",
         "scene": "scene",
         "showlegend": true,
         "x": [
          -22.344573974609375
         ],
         "y": [
          5.818244457244873
         ],
         "z": [
          -21.60112762451172
         ],
         "type": "scatter3d"
        },
        {
         "hovertemplate": "title=Hon dansar vidare i livet<br>comp_1=%{x}<br>comp_2=%{y}<br>comp_3=%{z}<extra></extra>",
         "legendgroup": "Hon dansar vidare i livet",
         "marker": {
          "color": "#FF6692",
          "symbol": "circle"
         },
         "mode": "markers",
         "name": "Hon dansar vidare i livet",
         "scene": "scene",
         "showlegend": true,
         "x": [
          -29.397668838500977
         ],
         "y": [
          -7.714700222015381
         ],
         "z": [
          -10.782977104187012
         ],
         "type": "scatter3d"
        },
        {
         "hovertemplate": "title=Pari<br>comp_1=%{x}<br>comp_2=%{y}<br>comp_3=%{z}<extra></extra>",
         "legendgroup": "Pari",
         "marker": {
          "color": "#B6E880",
          "symbol": "circle"
         },
         "mode": "markers",
         "name": "Pari",
         "scene": "scene",
         "showlegend": true,
         "x": [
          34.5289192199707
         ],
         "y": [
          11.093483924865723
         ],
         "z": [
          17.197385787963867
         ],
         "type": "scatter3d"
        },
        {
         "hovertemplate": "title=Mandy Moore<br>comp_1=%{x}<br>comp_2=%{y}<br>comp_3=%{z}<extra></extra>",
         "legendgroup": "Mandy Moore",
         "marker": {
          "color": "#FF97FF",
          "symbol": "circle"
         },
         "mode": "markers",
         "name": "Mandy Moore",
         "scene": "scene",
         "showlegend": true,
         "x": [
          32.19324493408203
         ],
         "y": [
          16.47267723083496
         ],
         "z": [
          29.137187957763672
         ],
         "type": "scatter3d"
        },
        {
         "hovertemplate": "title=Gift<br>comp_1=%{x}<br>comp_2=%{y}<br>comp_3=%{z}<extra></extra>",
         "legendgroup": "Gift",
         "marker": {
          "color": "#FECB52",
          "symbol": "circle"
         },
         "mode": "markers",
         "name": "Gift",
         "scene": "scene",
         "showlegend": true,
         "x": [
          -44.17950439453125
         ],
         "y": [
          -33.07026672363281
         ],
         "z": [
          -30.571170806884766
         ],
         "type": "scatter3d"
        },
        {
         "hovertemplate": "title=Kärleksbrev<br>comp_1=%{x}<br>comp_2=%{y}<br>comp_3=%{z}<extra></extra>",
         "legendgroup": "Kärleksbrev",
         "marker": {
          "color": "#636efa",
          "symbol": "circle"
         },
         "mode": "markers",
         "name": "Kärleksbrev",
         "scene": "scene",
         "showlegend": true,
         "x": [
          -55.0650520324707
         ],
         "y": [
          -0.20657530426979065
         ],
         "z": [
          -17.04660987854004
         ],
         "type": "scatter3d"
        },
        {
         "hovertemplate": "title=Hur kan du säga saker<br>comp_1=%{x}<br>comp_2=%{y}<br>comp_3=%{z}<extra></extra>",
         "legendgroup": "Hur kan du säga saker",
         "marker": {
          "color": "#EF553B",
          "symbol": "circle"
         },
         "mode": "markers",
         "name": "Hur kan du säga saker",
         "scene": "scene",
         "showlegend": true,
         "x": [
          -55.26069641113281
         ],
         "y": [
          9.600412368774414
         ],
         "z": [
          -19.106199264526367
         ],
         "type": "scatter3d"
        },
        {
         "hovertemplate": "title=Barn av vår tid<br>comp_1=%{x}<br>comp_2=%{y}<br>comp_3=%{z}<extra></extra>",
         "legendgroup": "Barn av vår tid",
         "marker": {
          "color": "#00cc96",
          "symbol": "circle"
         },
         "mode": "markers",
         "name": "Barn av vår tid",
         "scene": "scene",
         "showlegend": true,
         "x": [
          -15.507105827331543
         ],
         "y": [
          9.41490364074707
         ],
         "z": [
          0.5923617482185364
         ],
         "type": "scatter3d"
        },
        {
         "hovertemplate": "title=Gudarna på Västerbron<br>comp_1=%{x}<br>comp_2=%{y}<br>comp_3=%{z}<extra></extra>",
         "legendgroup": "Gudarna på Västerbron",
         "marker": {
          "color": "#ab63fa",
          "symbol": "circle"
         },
         "mode": "markers",
         "name": "Gudarna på Västerbron",
         "scene": "scene",
         "showlegend": true,
         "x": [
          -16.073068618774414
         ],
         "y": [
          -0.5104689002037048
         ],
         "z": [
          -20.850322723388672
         ],
         "type": "scatter3d"
        },
        {
         "hovertemplate": "title=Vindar på Mars<br>comp_1=%{x}<br>comp_2=%{y}<br>comp_3=%{z}<extra></extra>",
         "legendgroup": "Vindar på Mars",
         "marker": {
          "color": "#FFA15A",
          "symbol": "circle"
         },
         "mode": "markers",
         "name": "Vindar på Mars",
         "scene": "scene",
         "showlegend": true,
         "x": [
          -32.693607330322266
         ],
         "y": [
          -25.595783233642578
         ],
         "z": [
          27.674501419067383
         ],
         "type": "scatter3d"
        },
        {
         "hovertemplate": "title=HOV1<br>comp_1=%{x}<br>comp_2=%{y}<br>comp_3=%{z}<extra></extra>",
         "legendgroup": "HOV1",
         "marker": {
          "color": "#19d3f3",
          "symbol": "circle"
         },
         "mode": "markers",
         "name": "HOV1",
         "scene": "scene",
         "showlegend": true,
         "x": [
          -7.505679607391357
         ],
         "y": [
          -5.9175920486450195
         ],
         "z": [
          -7.23130989074707
         ],
         "type": "scatter3d"
        },
        {
         "hovertemplate": "title=She’s a Freak<br>comp_1=%{x}<br>comp_2=%{y}<br>comp_3=%{z}<extra></extra>",
         "legendgroup": "She’s a Freak",
         "marker": {
          "color": "#FF6692",
          "symbol": "circle"
         },
         "mode": "markers",
         "name": "She’s a Freak",
         "scene": "scene",
         "showlegend": true,
         "x": [
          59.489261627197266
         ],
         "y": [
          4.460967063903809
         ],
         "z": [
          -2.7440104484558105
         ],
         "type": "scatter3d"
        },
        {
         "hovertemplate": "title=Bullet<br>comp_1=%{x}<br>comp_2=%{y}<br>comp_3=%{z}<extra></extra>",
         "legendgroup": "Bullet",
         "marker": {
          "color": "#B6E880",
          "symbol": "circle"
         },
         "mode": "markers",
         "name": "Bullet",
         "scene": "scene",
         "showlegend": true,
         "x": [
          44.218109130859375
         ],
         "y": [
          1.6713426113128662
         ],
         "z": [
          -10.00904369354248
         ],
         "type": "scatter3d"
        },
        {
         "hovertemplate": "title=La La Song<br>comp_1=%{x}<br>comp_2=%{y}<br>comp_3=%{z}<extra></extra>",
         "legendgroup": "La La Song",
         "marker": {
          "color": "#FF97FF",
          "symbol": "circle"
         },
         "mode": "markers",
         "name": "La La Song",
         "scene": "scene",
         "showlegend": true,
         "x": [
          59.66655349731445
         ],
         "y": [
          13.807555198669434
         ],
         "z": [
          -18.17977523803711
         ],
         "type": "scatter3d"
        },
        {
         "hovertemplate": "title=Area Turns Red<br>comp_1=%{x}<br>comp_2=%{y}<br>comp_3=%{z}<extra></extra>",
         "legendgroup": "Area Turns Red",
         "marker": {
          "color": "#FECB52",
          "symbol": "circle"
         },
         "mode": "markers",
         "name": "Area Turns Red",
         "scene": "scene",
         "showlegend": true,
         "x": [
          44.57820129394531
         ],
         "y": [
          -10.894744873046875
         ],
         "z": [
          -8.09837818145752
         ],
         "type": "scatter3d"
        },
        {
         "hovertemplate": "title=The Thief<br>comp_1=%{x}<br>comp_2=%{y}<br>comp_3=%{z}<extra></extra>",
         "legendgroup": "The Thief",
         "marker": {
          "color": "#636efa",
          "symbol": "circle"
         },
         "mode": "markers",
         "name": "The Thief",
         "scene": "scene",
         "showlegend": true,
         "x": [
          53.41743087768555
         ],
         "y": [
          8.279111862182617
         ],
         "z": [
          -24.701805114746094
         ],
         "type": "scatter3d"
        },
        {
         "hovertemplate": "title=Fire Fire<br>comp_1=%{x}<br>comp_2=%{y}<br>comp_3=%{z}<extra></extra>",
         "legendgroup": "Fire Fire",
         "marker": {
          "color": "#EF553B",
          "symbol": "circle"
         },
         "mode": "markers",
         "name": "Fire Fire",
         "scene": "scene",
         "showlegend": true,
         "x": [
          37.44756317138672
         ],
         "y": [
          -4.853956699371338
         ],
         "z": [
          -4.779096603393555
         ],
         "type": "scatter3d"
        },
        {
         "hovertemplate": "title=No. 1 Svartskalle<br>comp_1=%{x}<br>comp_2=%{y}<br>comp_3=%{z}<extra></extra>",
         "legendgroup": "No. 1 Svartskalle",
         "marker": {
          "color": "#00cc96",
          "symbol": "circle"
         },
         "mode": "markers",
         "name": "No. 1 Svartskalle",
         "scene": "scene",
         "showlegend": true,
         "x": [
          54.68762969970703
         ],
         "y": [
          23.787792205810547
         ],
         "z": [
          -14.239500999450684
         ],
         "type": "scatter3d"
        },
        {
         "hovertemplate": "title=No 1 Swartskalle<br>comp_1=%{x}<br>comp_2=%{y}<br>comp_3=%{z}<extra></extra>",
         "legendgroup": "No 1 Swartskalle",
         "marker": {
          "color": "#ab63fa",
          "symbol": "circle"
         },
         "mode": "markers",
         "name": "No 1 Swartskalle",
         "scene": "scene",
         "showlegend": true,
         "x": [
          49.2006950378418
         ],
         "y": [
          26.486162185668945
         ],
         "z": [
          -14.167974472045898
         ],
         "type": "scatter3d"
        },
        {
         "hovertemplate": "title=Mah Boyz<br>comp_1=%{x}<br>comp_2=%{y}<br>comp_3=%{z}<extra></extra>",
         "legendgroup": "Mah Boyz",
         "marker": {
          "color": "#FFA15A",
          "symbol": "circle"
         },
         "mode": "markers",
         "name": "Mah Boyz",
         "scene": "scene",
         "showlegend": true,
         "x": [
          47.37486267089844
         ],
         "y": [
          -19.902690887451172
         ],
         "z": [
          -2.2665274143218994
         ],
         "type": "scatter3d"
        },
        {
         "hovertemplate": "title=Ride<br>comp_1=%{x}<br>comp_2=%{y}<br>comp_3=%{z}<extra></extra>",
         "legendgroup": "Ride",
         "marker": {
          "color": "#19d3f3",
          "symbol": "circle"
         },
         "mode": "markers",
         "name": "Ride",
         "scene": "scene",
         "showlegend": true,
         "x": [
          65.97213745117188
         ],
         "y": [
          2.70817494392395
         ],
         "z": [
          -12.066795349121094
         ],
         "type": "scatter3d"
        },
        {
         "hovertemplate": "title=BOSS<br>comp_1=%{x}<br>comp_2=%{y}<br>comp_3=%{z}<extra></extra>",
         "legendgroup": "BOSS",
         "marker": {
          "color": "#FF6692",
          "symbol": "circle"
         },
         "mode": "markers",
         "name": "BOSS",
         "scene": "scene",
         "showlegend": true,
         "x": [
          17.263248443603516
         ],
         "y": [
          -0.34883299469947815
         ],
         "z": [
          22.268442153930664
         ],
         "type": "scatter3d"
        },
        {
         "hovertemplate": "title=FRESH HOME<br>comp_1=%{x}<br>comp_2=%{y}<br>comp_3=%{z}<extra></extra>",
         "legendgroup": "FRESH HOME",
         "marker": {
          "color": "#B6E880",
          "symbol": "circle"
         },
         "mode": "markers",
         "name": "FRESH HOME",
         "scene": "scene",
         "showlegend": true,
         "x": [
          5.8258748054504395
         ],
         "y": [
          5.760727405548096
         ],
         "z": [
          -5.0306620597839355
         ],
         "type": "scatter3d"
        },
        {
         "hovertemplate": "title=Juligen<br>comp_1=%{x}<br>comp_2=%{y}<br>comp_3=%{z}<extra></extra>",
         "legendgroup": "Juligen",
         "marker": {
          "color": "#FF97FF",
          "symbol": "circle"
         },
         "mode": "markers",
         "name": "Juligen",
         "scene": "scene",
         "showlegend": true,
         "x": [
          -28.2275390625
         ],
         "y": [
          -20.783695220947266
         ],
         "z": [
          12.597671508789062
         ],
         "type": "scatter3d"
        },
        {
         "hovertemplate": "title=Vart Tog Den Söta Lilla Flickan Vägen<br>comp_1=%{x}<br>comp_2=%{y}<br>comp_3=%{z}<extra></extra>",
         "legendgroup": "Vart Tog Den Söta Lilla Flickan Vägen",
         "marker": {
          "color": "#FECB52",
          "symbol": "circle"
         },
         "mode": "markers",
         "name": "Vart Tog Den Söta Lilla Flickan Vägen",
         "scene": "scene",
         "showlegend": true,
         "x": [
          -23.191286087036133
         ],
         "y": [
          -15.298047065734863
         ],
         "z": [
          -15.950238227844238
         ],
         "type": "scatter3d"
        },
        {
         "hovertemplate": "title=87-87<br>comp_1=%{x}<br>comp_2=%{y}<br>comp_3=%{z}<extra></extra>",
         "legendgroup": "87-87",
         "marker": {
          "color": "#636efa",
          "symbol": "circle"
         },
         "mode": "markers",
         "name": "87-87",
         "scene": "scene",
         "showlegend": true,
         "x": [
          -7.474165916442871
         ],
         "y": [
          -35.43585968017578
         ],
         "z": [
          10.047593116760254
         ],
         "type": "scatter3d"
        },
        {
         "hovertemplate": "title=Hubbabubba<br>comp_1=%{x}<br>comp_2=%{y}<br>comp_3=%{z}<extra></extra>",
         "legendgroup": "Hubbabubba",
         "marker": {
          "color": "#EF553B",
          "symbol": "circle"
         },
         "mode": "markers",
         "name": "Hubbabubba",
         "scene": "scene",
         "showlegend": true,
         "x": [
          -23.506372451782227
         ],
         "y": [
          13.050589561462402
         ],
         "z": [
          8.184754371643066
         ],
         "type": "scatter3d"
        },
        {
         "hovertemplate": "title=Tre Gringos<br>comp_1=%{x}<br>comp_2=%{y}<br>comp_3=%{z}<extra></extra>",
         "legendgroup": "Tre Gringos",
         "marker": {
          "color": "#00cc96",
          "symbol": "circle"
         },
         "mode": "markers",
         "name": "Tre Gringos",
         "scene": "scene",
         "showlegend": true,
         "x": [
          -9.09701919555664
         ],
         "y": [
          -35.3648681640625
         ],
         "z": [
          20.03984260559082
         ],
         "type": "scatter3d"
        },
        {
         "hovertemplate": "title=Relalalaxa<br>comp_1=%{x}<br>comp_2=%{y}<br>comp_3=%{z}<extra></extra>",
         "legendgroup": "Relalalaxa",
         "marker": {
          "color": "#ab63fa",
          "symbol": "circle"
         },
         "mode": "markers",
         "name": "Relalalaxa",
         "scene": "scene",
         "showlegend": true,
         "x": [
          -11.8809175491333
         ],
         "y": [
          37.2809944152832
         ],
         "z": [
          13.791531562805176
         ],
         "type": "scatter3d"
        },
        {
         "hovertemplate": "title=Grannar<br>comp_1=%{x}<br>comp_2=%{y}<br>comp_3=%{z}<extra></extra>",
         "legendgroup": "Grannar",
         "marker": {
          "color": "#FFA15A",
          "symbol": "circle"
         },
         "mode": "markers",
         "name": "Grannar",
         "scene": "scene",
         "showlegend": true,
         "x": [
          -23.08672332763672
         ],
         "y": [
          -15.867159843444824
         ],
         "z": [
          24.882165908813477
         ],
         "type": "scatter3d"
        },
        {
         "hovertemplate": "title=Mammas tema<br>comp_1=%{x}<br>comp_2=%{y}<br>comp_3=%{z}<extra></extra>",
         "legendgroup": "Mammas tema",
         "marker": {
          "color": "#19d3f3",
          "symbol": "circle"
         },
         "mode": "markers",
         "name": "Mammas tema",
         "scene": "scene",
         "showlegend": true,
         "x": [
          -25.851099014282227
         ],
         "y": [
          8.802865982055664
         ],
         "z": [
          3.284076690673828
         ],
         "type": "scatter3d"
        },
        {
         "hovertemplate": "title=Plast<br>comp_1=%{x}<br>comp_2=%{y}<br>comp_3=%{z}<extra></extra>",
         "legendgroup": "Plast",
         "marker": {
          "color": "#FF6692",
          "symbol": "circle"
         },
         "mode": "markers",
         "name": "Plast",
         "scene": "scene",
         "showlegend": true,
         "x": [
          -60.353172302246094
         ],
         "y": [
          5.133285045623779
         ],
         "z": [
          -6.338286399841309
         ],
         "type": "scatter3d"
        },
        {
         "hovertemplate": "title=Vi vinner ni stinker<br>comp_1=%{x}<br>comp_2=%{y}<br>comp_3=%{z}<extra></extra>",
         "legendgroup": "Vi vinner ni stinker",
         "marker": {
          "color": "#B6E880",
          "symbol": "circle"
         },
         "mode": "markers",
         "name": "Vi vinner ni stinker",
         "scene": "scene",
         "showlegend": true,
         "x": [
          -32.679664611816406
         ],
         "y": [
          33.39776611328125
         ],
         "z": [
          -23.632389068603516
         ],
         "type": "scatter3d"
        },
        {
         "hovertemplate": "title=Mina områden<br>comp_1=%{x}<br>comp_2=%{y}<br>comp_3=%{z}<extra></extra>",
         "legendgroup": "Mina områden",
         "marker": {
          "color": "#FF97FF",
          "symbol": "circle"
         },
         "mode": "markers",
         "name": "Mina områden",
         "scene": "scene",
         "showlegend": true,
         "x": [
          -17.95973014831543
         ],
         "y": [
          -8.361207962036133
         ],
         "z": [
          29.52741050720215
         ],
         "type": "scatter3d"
        },
        {
         "hovertemplate": "title=Svarta Duvor & Vissna Liljor<br>comp_1=%{x}<br>comp_2=%{y}<br>comp_3=%{z}<extra></extra>",
         "legendgroup": "Svarta Duvor & Vissna Liljor",
         "marker": {
          "color": "#FECB52",
          "symbol": "circle"
         },
         "mode": "markers",
         "name": "Svarta Duvor & Vissna Liljor",
         "scene": "scene",
         "showlegend": true,
         "x": [
          -26.54490089416504
         ],
         "y": [
          -8.176810264587402
         ],
         "z": [
          34.46786880493164
         ],
         "type": "scatter3d"
        },
        {
         "hovertemplate": "title=Underklassmusik<br>comp_1=%{x}<br>comp_2=%{y}<br>comp_3=%{z}<extra></extra>",
         "legendgroup": "Underklassmusik",
         "marker": {
          "color": "#636efa",
          "symbol": "circle"
         },
         "mode": "markers",
         "name": "Underklassmusik",
         "scene": "scene",
         "showlegend": true,
         "x": [
          -33.17873001098633
         ],
         "y": [
          -2.617189884185791
         ],
         "z": [
          29.49040985107422
         ],
         "type": "scatter3d"
        },
        {
         "hovertemplate": "title=AM43 (Stress Remix)<br>comp_1=%{x}<br>comp_2=%{y}<br>comp_3=%{z}<extra></extra>",
         "legendgroup": "AM43 (Stress Remix)",
         "marker": {
          "color": "#EF553B",
          "symbol": "circle"
         },
         "mode": "markers",
         "name": "AM43 (Stress Remix)",
         "scene": "scene",
         "showlegend": true,
         "x": [
          16.310781478881836
         ],
         "y": [
          -12.086250305175781
         ],
         "z": [
          -196.3737030029297
         ],
         "type": "scatter3d"
        },
        {
         "hovertemplate": "title=En fjärils vingslag<br>comp_1=%{x}<br>comp_2=%{y}<br>comp_3=%{z}<extra></extra>",
         "legendgroup": "En fjärils vingslag",
         "marker": {
          "color": "#00cc96",
          "symbol": "circle"
         },
         "mode": "markers",
         "name": "En fjärils vingslag",
         "scene": "scene",
         "showlegend": true,
         "x": [
          -18.94766616821289
         ],
         "y": [
          2.869515895843506
         ],
         "z": [
          -30.140853881835938
         ],
         "type": "scatter3d"
        },
        {
         "hovertemplate": "title=Lilla flicka<br>comp_1=%{x}<br>comp_2=%{y}<br>comp_3=%{z}<extra></extra>",
         "legendgroup": "Lilla flicka",
         "marker": {
          "color": "#ab63fa",
          "symbol": "circle"
         },
         "mode": "markers",
         "name": "Lilla flicka",
         "scene": "scene",
         "showlegend": true,
         "x": [
          -20.232845306396484
         ],
         "y": [
          -0.7845672965049744
         ],
         "z": [
          6.047204494476318
         ],
         "type": "scatter3d"
        },
        {
         "hovertemplate": "title=Ställ Dig Upp<br>comp_1=%{x}<br>comp_2=%{y}<br>comp_3=%{z}<extra></extra>",
         "legendgroup": "Ställ Dig Upp",
         "marker": {
          "color": "#FFA15A",
          "symbol": "circle"
         },
         "mode": "markers",
         "name": "Ställ Dig Upp",
         "scene": "scene",
         "showlegend": true,
         "x": [
          -26.695144653320312
         ],
         "y": [
          -26.15317726135254
         ],
         "z": [
          2.122321844100952
         ],
         "type": "scatter3d"
        },
        {
         "hovertemplate": "title=Dra Inte Oss Tillbaka<br>comp_1=%{x}<br>comp_2=%{y}<br>comp_3=%{z}<extra></extra>",
         "legendgroup": "Dra Inte Oss Tillbaka",
         "marker": {
          "color": "#19d3f3",
          "symbol": "circle"
         },
         "mode": "markers",
         "name": "Dra Inte Oss Tillbaka",
         "scene": "scene",
         "showlegend": true,
         "x": [
          -26.774295806884766
         ],
         "y": [
          -0.2563858926296234
         ],
         "z": [
          33.3609619140625
         ],
         "type": "scatter3d"
        },
        {
         "hovertemplate": "title=Så fort<br>comp_1=%{x}<br>comp_2=%{y}<br>comp_3=%{z}<extra></extra>",
         "legendgroup": "Så fort",
         "marker": {
          "color": "#FF6692",
          "symbol": "circle"
         },
         "mode": "markers",
         "name": "Så fort",
         "scene": "scene",
         "showlegend": true,
         "x": [
          -8.158909797668457
         ],
         "y": [
          -7.495529651641846
         ],
         "z": [
          28.37063980102539
         ],
         "type": "scatter3d"
        },
        {
         "hovertemplate": "title=Underklassmusik (Radio Edit)<br>comp_1=%{x}<br>comp_2=%{y}<br>comp_3=%{z}<extra></extra>",
         "legendgroup": "Underklassmusik (Radio Edit)",
         "marker": {
          "color": "#B6E880",
          "symbol": "circle"
         },
         "mode": "markers",
         "name": "Underklassmusik (Radio Edit)",
         "scene": "scene",
         "showlegend": true,
         "x": [
          -37.17116165161133
         ],
         "y": [
          -2.317779779434204
         ],
         "z": [
          23.63558578491211
         ],
         "type": "scatter3d"
        },
        {
         "hovertemplate": "title=Själen av en vän<br>comp_1=%{x}<br>comp_2=%{y}<br>comp_3=%{z}<extra></extra>",
         "legendgroup": "Själen av en vän",
         "marker": {
          "color": "#FF97FF",
          "symbol": "circle"
         },
         "mode": "markers",
         "name": "Själen av en vän",
         "scene": "scene",
         "showlegend": true,
         "x": [
          -12.969888687133789
         ],
         "y": [
          -0.7303093671798706
         ],
         "z": [
          -12.31407356262207
         ],
         "type": "scatter3d"
        },
        {
         "hovertemplate": "title=Du och Jag<br>comp_1=%{x}<br>comp_2=%{y}<br>comp_3=%{z}<extra></extra>",
         "legendgroup": "Du och Jag",
         "marker": {
          "color": "#FECB52",
          "symbol": "circle"
         },
         "mode": "markers",
         "name": "Du och Jag",
         "scene": "scene",
         "showlegend": true,
         "x": [
          -50.068843841552734
         ],
         "y": [
          14.115117073059082
         ],
         "z": [
          -10.7763090133667
         ],
         "type": "scatter3d"
        },
        {
         "hovertemplate": "title=Nu måste vi dra<br>comp_1=%{x}<br>comp_2=%{y}<br>comp_3=%{z}<extra></extra>",
         "legendgroup": "Nu måste vi dra",
         "marker": {
          "color": "#636efa",
          "symbol": "circle"
         },
         "mode": "markers",
         "name": "Nu måste vi dra",
         "scene": "scene",
         "showlegend": true,
         "x": [
          -13.79051399230957
         ],
         "y": [
          -2.8846347332000732
         ],
         "z": [
          -38.48484420776367
         ],
         "type": "scatter3d"
        },
        {
         "hovertemplate": "title=Leva i frid<br>comp_1=%{x}<br>comp_2=%{y}<br>comp_3=%{z}<extra></extra>",
         "legendgroup": "Leva i frid",
         "marker": {
          "color": "#EF553B",
          "symbol": "circle"
         },
         "mode": "markers",
         "name": "Leva i frid",
         "scene": "scene",
         "showlegend": true,
         "x": [
          -36.636497497558594
         ],
         "y": [
          -4.5046162605285645
         ],
         "z": [
          -21.258655548095703
         ],
         "type": "scatter3d"
        },
        {
         "hovertemplate": "title=Mamma<br>comp_1=%{x}<br>comp_2=%{y}<br>comp_3=%{z}<extra></extra>",
         "legendgroup": "Mamma",
         "marker": {
          "color": "#00cc96",
          "symbol": "circle"
         },
         "mode": "markers",
         "name": "Mamma",
         "scene": "scene",
         "showlegend": true,
         "x": [
          -30.806747436523438
         ],
         "y": [
          -31.593164443969727
         ],
         "z": [
          -9.497018814086914
         ],
         "type": "scatter3d"
        },
        {
         "hovertemplate": "title=Grabbarna från förorten<br>comp_1=%{x}<br>comp_2=%{y}<br>comp_3=%{z}<extra></extra>",
         "legendgroup": "Grabbarna från förorten",
         "marker": {
          "color": "#ab63fa",
          "symbol": "circle"
         },
         "mode": "markers",
         "name": "Grabbarna från förorten",
         "scene": "scene",
         "showlegend": true,
         "x": [
          6.319085121154785
         ],
         "y": [
          0.931768536567688
         ],
         "z": [
          33.039207458496094
         ],
         "type": "scatter3d"
        },
        {
         "hovertemplate": "title=Privatfest<br>comp_1=%{x}<br>comp_2=%{y}<br>comp_3=%{z}<extra></extra>",
         "legendgroup": "Privatfest",
         "marker": {
          "color": "#FFA15A",
          "symbol": "circle"
         },
         "mode": "markers",
         "name": "Privatfest",
         "scene": "scene",
         "showlegend": true,
         "x": [
          -3.5018489360809326
         ],
         "y": [
          -25.81973648071289
         ],
         "z": [
          3.627603530883789
         ],
         "type": "scatter3d"
        },
        {
         "hovertemplate": "title=2000-Talet<br>comp_1=%{x}<br>comp_2=%{y}<br>comp_3=%{z}<extra></extra>",
         "legendgroup": "2000-Talet",
         "marker": {
          "color": "#19d3f3",
          "symbol": "circle"
         },
         "mode": "markers",
         "name": "2000-Talet",
         "scene": "scene",
         "showlegend": true,
         "x": [
          -23.776508331298828
         ],
         "y": [
          -14.235492706298828
         ],
         "z": [
          5.320359230041504
         ],
         "type": "scatter3d"
        },
        {
         "hovertemplate": "title=Kelian<br>comp_1=%{x}<br>comp_2=%{y}<br>comp_3=%{z}<extra></extra>",
         "legendgroup": "Kelian",
         "marker": {
          "color": "#FF6692",
          "symbol": "circle"
         },
         "mode": "markers",
         "name": "Kelian",
         "scene": "scene",
         "showlegend": true,
         "x": [
          -12.432522773742676
         ],
         "y": [
          -38.890872955322266
         ],
         "z": [
          -16.754831314086914
         ],
         "type": "scatter3d"
        },
        {
         "hovertemplate": "title=Ensamma mammor<br>comp_1=%{x}<br>comp_2=%{y}<br>comp_3=%{z}<extra></extra>",
         "legendgroup": "Ensamma mammor",
         "marker": {
          "color": "#B6E880",
          "symbol": "circle"
         },
         "mode": "markers",
         "name": "Ensamma mammor",
         "scene": "scene",
         "showlegend": true,
         "x": [
          -35.12843322753906
         ],
         "y": [
          -28.73153305053711
         ],
         "z": [
          -11.570651054382324
         ],
         "type": "scatter3d"
        },
        {
         "hovertemplate": "title=I staden<br>comp_1=%{x}<br>comp_2=%{y}<br>comp_3=%{z}<extra></extra>",
         "legendgroup": "I staden",
         "marker": {
          "color": "#FF97FF",
          "symbol": "circle"
         },
         "mode": "markers",
         "name": "I staden",
         "scene": "scene",
         "showlegend": true,
         "x": [
          -37.360595703125
         ],
         "y": [
          -6.299532890319824
         ],
         "z": [
          37.03803634643555
         ],
         "type": "scatter3d"
        },
        {
         "hovertemplate": "title=Bra vibrationer<br>comp_1=%{x}<br>comp_2=%{y}<br>comp_3=%{z}<extra></extra>",
         "legendgroup": "Bra vibrationer",
         "marker": {
          "color": "#FECB52",
          "symbol": "circle"
         },
         "mode": "markers",
         "name": "Bra vibrationer",
         "scene": "scene",
         "showlegend": true,
         "x": [
          22.719636917114258
         ],
         "y": [
          13.925885200500488
         ],
         "z": [
          -16.471284866333008
         ],
         "type": "scatter3d"
        },
        {
         "hovertemplate": "title=Ortens favoriter (Remix)<br>comp_1=%{x}<br>comp_2=%{y}<br>comp_3=%{z}<extra></extra>",
         "legendgroup": "Ortens favoriter (Remix)",
         "marker": {
          "color": "#636efa",
          "symbol": "circle"
         },
         "mode": "markers",
         "name": "Ortens favoriter (Remix)",
         "scene": "scene",
         "showlegend": true,
         "x": [
          -5.614201545715332
         ],
         "y": [
          -2.321929454803467
         ],
         "z": [
          39.142845153808594
         ],
         "type": "scatter3d"
        },
        {
         "hovertemplate": "title=Chilla Lide<br>comp_1=%{x}<br>comp_2=%{y}<br>comp_3=%{z}<extra></extra>",
         "legendgroup": "Chilla Lide",
         "marker": {
          "color": "#EF553B",
          "symbol": "circle"
         },
         "mode": "markers",
         "name": "Chilla Lide",
         "scene": "scene",
         "showlegend": true,
         "x": [
          -9.065629005432129
         ],
         "y": [
          28.911808013916016
         ],
         "z": [
          13.282970428466797
         ],
         "type": "scatter3d"
        },
        {
         "hovertemplate": "title=Välkommen hem<br>comp_1=%{x}<br>comp_2=%{y}<br>comp_3=%{z}<extra></extra>",
         "legendgroup": "Välkommen hem",
         "marker": {
          "color": "#00cc96",
          "symbol": "circle"
         },
         "mode": "markers",
         "name": "Välkommen hem",
         "scene": "scene",
         "showlegend": true,
         "x": [
          1.52426016330719
         ],
         "y": [
          -3.6879451274871826
         ],
         "z": [
          43.63469314575195
         ],
         "type": "scatter3d"
        },
        {
         "hovertemplate": "title=Pang Pang<br>comp_1=%{x}<br>comp_2=%{y}<br>comp_3=%{z}<extra></extra>",
         "legendgroup": "Pang Pang",
         "marker": {
          "color": "#ab63fa",
          "symbol": "circle"
         },
         "mode": "markers",
         "name": "Pang Pang",
         "scene": "scene",
         "showlegend": true,
         "x": [
          -12.681021690368652
         ],
         "y": [
          -17.36097526550293
         ],
         "z": [
          28.798070907592773
         ],
         "type": "scatter3d"
        },
        {
         "hovertemplate": "title=Fakkin Fin<br>comp_1=%{x}<br>comp_2=%{y}<br>comp_3=%{z}<extra></extra>",
         "legendgroup": "Fakkin Fin",
         "marker": {
          "color": "#FFA15A",
          "symbol": "circle"
         },
         "mode": "markers",
         "name": "Fakkin Fin",
         "scene": "scene",
         "showlegend": true,
         "x": [
          -21.726865768432617
         ],
         "y": [
          19.66061019897461
         ],
         "z": [
          0.45339590311050415
         ],
         "type": "scatter3d"
        },
        {
         "hovertemplate": "title=Motattack<br>comp_1=%{x}<br>comp_2=%{y}<br>comp_3=%{z}<extra></extra>",
         "legendgroup": "Motattack",
         "marker": {
          "color": "#19d3f3",
          "symbol": "circle"
         },
         "mode": "markers",
         "name": "Motattack",
         "scene": "scene",
         "showlegend": true,
         "x": [
          -25.966598510742188
         ],
         "y": [
          0.01969836838543415
         ],
         "z": [
          21.284292221069336
         ],
         "type": "scatter3d"
        },
        {
         "hovertemplate": "title=Så Ajaib<br>comp_1=%{x}<br>comp_2=%{y}<br>comp_3=%{z}<extra></extra>",
         "legendgroup": "Så Ajaib",
         "marker": {
          "color": "#FF6692",
          "symbol": "circle"
         },
         "mode": "markers",
         "name": "Så Ajaib",
         "scene": "scene",
         "showlegend": true,
         "x": [
          -0.5808511972427368
         ],
         "y": [
          25.972854614257812
         ],
         "z": [
          22.103975296020508
         ],
         "type": "scatter3d"
        },
        {
         "hovertemplate": "title=Broder del. 2<br>comp_1=%{x}<br>comp_2=%{y}<br>comp_3=%{z}<extra></extra>",
         "legendgroup": "Broder del. 2",
         "marker": {
          "color": "#B6E880",
          "symbol": "circle"
         },
         "mode": "markers",
         "name": "Broder del. 2",
         "scene": "scene",
         "showlegend": true,
         "x": [
          -30.221561431884766
         ],
         "y": [
          -10.096853256225586
         ],
         "z": [
          19.989017486572266
         ],
         "type": "scatter3d"
        },
        {
         "hovertemplate": "title=Jagbaesån<br>comp_1=%{x}<br>comp_2=%{y}<br>comp_3=%{z}<extra></extra>",
         "legendgroup": "Jagbaesån",
         "marker": {
          "color": "#FF97FF",
          "symbol": "circle"
         },
         "mode": "markers",
         "name": "Jagbaesån",
         "scene": "scene",
         "showlegend": true,
         "x": [
          7.627996921539307
         ],
         "y": [
          -0.64520263671875
         ],
         "z": [
          -28.319318771362305
         ],
         "type": "scatter3d"
        },
        {
         "hovertemplate": "title=Ortens Favoriter<br>comp_1=%{x}<br>comp_2=%{y}<br>comp_3=%{z}<extra></extra>",
         "legendgroup": "Ortens Favoriter",
         "marker": {
          "color": "#FECB52",
          "symbol": "circle"
         },
         "mode": "markers",
         "name": "Ortens Favoriter",
         "scene": "scene",
         "showlegend": true,
         "x": [
          -5.138051509857178
         ],
         "y": [
          4.631508827209473
         ],
         "z": [
          38.98003387451172
         ],
         "type": "scatter3d"
        },
        {
         "hovertemplate": "title=Stronger<br>comp_1=%{x}<br>comp_2=%{y}<br>comp_3=%{z}<extra></extra>",
         "legendgroup": "Stronger",
         "marker": {
          "color": "#636efa",
          "symbol": "circle"
         },
         "mode": "markers",
         "name": "Stronger",
         "scene": "scene",
         "showlegend": true,
         "x": [
          44.71702575683594
         ],
         "y": [
          -0.5618769526481628
         ],
         "z": [
          0.5486494302749634
         ],
         "type": "scatter3d"
        },
        {
         "hovertemplate": "title=Rock Away<br>comp_1=%{x}<br>comp_2=%{y}<br>comp_3=%{z}<extra></extra>",
         "legendgroup": "Rock Away",
         "marker": {
          "color": "#EF553B",
          "symbol": "circle"
         },
         "mode": "markers",
         "name": "Rock Away",
         "scene": "scene",
         "showlegend": true,
         "x": [
          66.65120697021484
         ],
         "y": [
          21.41164779663086
         ],
         "z": [
          -7.407411575317383
         ],
         "type": "scatter3d"
        },
        {
         "hovertemplate": "title=Hold On<br>comp_1=%{x}<br>comp_2=%{y}<br>comp_3=%{z}<extra></extra>",
         "legendgroup": "Hold On",
         "marker": {
          "color": "#00cc96",
          "symbol": "circle"
         },
         "mode": "markers",
         "name": "Hold On",
         "scene": "scene",
         "showlegend": true,
         "x": [
          61.110958099365234
         ],
         "y": [
          0.6687635183334351
         ],
         "z": [
          7.928412437438965
         ],
         "type": "scatter3d"
        },
        {
         "hovertemplate": "title=Be Somebody<br>comp_1=%{x}<br>comp_2=%{y}<br>comp_3=%{z}<extra></extra>",
         "legendgroup": "Be Somebody",
         "marker": {
          "color": "#ab63fa",
          "symbol": "circle"
         },
         "mode": "markers",
         "name": "Be Somebody",
         "scene": "scene",
         "showlegend": true,
         "x": [
          45.696533203125
         ],
         "y": [
          4.327394008636475
         ],
         "z": [
          11.53413200378418
         ],
         "type": "scatter3d"
        },
        {
         "hovertemplate": "title=Calling Out<br>comp_1=%{x}<br>comp_2=%{y}<br>comp_3=%{z}<extra></extra>",
         "legendgroup": "Calling Out",
         "marker": {
          "color": "#FFA15A",
          "symbol": "circle"
         },
         "mode": "markers",
         "name": "Calling Out",
         "scene": "scene",
         "showlegend": true,
         "x": [
          61.83319091796875
         ],
         "y": [
          -7.089173316955566
         ],
         "z": [
          -12.18268871307373
         ],
         "type": "scatter3d"
        },
        {
         "hovertemplate": "title=Top Notch<br>comp_1=%{x}<br>comp_2=%{y}<br>comp_3=%{z}<extra></extra>",
         "legendgroup": "Top Notch",
         "marker": {
          "color": "#19d3f3",
          "symbol": "circle"
         },
         "mode": "markers",
         "name": "Top Notch",
         "scene": "scene",
         "showlegend": true,
         "x": [
          48.37888717651367
         ],
         "y": [
          -5.980742454528809
         ],
         "z": [
          -22.620859146118164
         ],
         "type": "scatter3d"
        },
        {
         "hovertemplate": "title=Get The Picture<br>comp_1=%{x}<br>comp_2=%{y}<br>comp_3=%{z}<extra></extra>",
         "legendgroup": "Get The Picture",
         "marker": {
          "color": "#FF6692",
          "symbol": "circle"
         },
         "mode": "markers",
         "name": "Get The Picture",
         "scene": "scene",
         "showlegend": true,
         "x": [
          53.09158706665039
         ],
         "y": [
          5.992645263671875
         ],
         "z": [
          -15.201364517211914
         ],
         "type": "scatter3d"
        },
        {
         "hovertemplate": "title=I’m Not Pop<br>comp_1=%{x}<br>comp_2=%{y}<br>comp_3=%{z}<extra></extra>",
         "legendgroup": "I’m Not Pop",
         "marker": {
          "color": "#B6E880",
          "symbol": "circle"
         },
         "mode": "markers",
         "name": "I’m Not Pop",
         "scene": "scene",
         "showlegend": true,
         "x": [
          66.63876342773438
         ],
         "y": [
          14.637924194335938
         ],
         "z": [
          -11.585066795349121
         ],
         "type": "scatter3d"
        },
        {
         "hovertemplate": "title=Do It<br>comp_1=%{x}<br>comp_2=%{y}<br>comp_3=%{z}<extra></extra>",
         "legendgroup": "Do It",
         "marker": {
          "color": "#FF97FF",
          "symbol": "circle"
         },
         "mode": "markers",
         "name": "Do It",
         "scene": "scene",
         "showlegend": true,
         "x": [
          58.56483459472656
         ],
         "y": [
          -9.761344909667969
         ],
         "z": [
          5.9356608390808105
         ],
         "type": "scatter3d"
        },
        {
         "hovertemplate": "title=Get to Know Me<br>comp_1=%{x}<br>comp_2=%{y}<br>comp_3=%{z}<extra></extra>",
         "legendgroup": "Get to Know Me",
         "marker": {
          "color": "#FECB52",
          "symbol": "circle"
         },
         "mode": "markers",
         "name": "Get to Know Me",
         "scene": "scene",
         "showlegend": true,
         "x": [
          58.704559326171875
         ],
         "y": [
          8.491798400878906
         ],
         "z": [
          -10.439048767089844
         ],
         "type": "scatter3d"
        },
        {
         "hovertemplate": "title=Badman<br>comp_1=%{x}<br>comp_2=%{y}<br>comp_3=%{z}<extra></extra>",
         "legendgroup": "Badman",
         "marker": {
          "color": "#636efa",
          "symbol": "circle"
         },
         "mode": "markers",
         "name": "Badman",
         "scene": "scene",
         "showlegend": true,
         "x": [
          24.599918365478516
         ],
         "y": [
          -33.04332733154297
         ],
         "z": [
          2.6746718883514404
         ],
         "type": "scatter3d"
        },
        {
         "hovertemplate": "title=Haffa Guzz<br>comp_1=%{x}<br>comp_2=%{y}<br>comp_3=%{z}<extra></extra>",
         "legendgroup": "Haffa Guzz",
         "marker": {
          "color": "#EF553B",
          "symbol": "circle"
         },
         "mode": "markers",
         "name": "Haffa Guzz",
         "scene": "scene",
         "showlegend": true,
         "x": [
          23.308866500854492
         ],
         "y": [
          -33.6285400390625
         ],
         "z": [
          -12.859879493713379
         ],
         "type": "scatter3d"
        },
        {
         "hovertemplate": "title=Höj Volymen<br>comp_1=%{x}<br>comp_2=%{y}<br>comp_3=%{z}<extra></extra>",
         "legendgroup": "Höj Volymen",
         "marker": {
          "color": "#00cc96",
          "symbol": "circle"
         },
         "mode": "markers",
         "name": "Höj Volymen",
         "scene": "scene",
         "showlegend": true,
         "x": [
          -4.235926151275635
         ],
         "y": [
          11.202672004699707
         ],
         "z": [
          25.249317169189453
         ],
         "type": "scatter3d"
        },
        {
         "hovertemplate": "title=Förlåt<br>comp_1=%{x}<br>comp_2=%{y}<br>comp_3=%{z}<extra></extra>",
         "legendgroup": "Förlåt",
         "marker": {
          "color": "#ab63fa",
          "symbol": "circle"
         },
         "mode": "markers",
         "name": "Förlåt",
         "scene": "scene",
         "showlegend": true,
         "x": [
          -2.0489585399627686
         ],
         "y": [
          13.174195289611816
         ],
         "z": [
          -31.391408920288086
         ],
         "type": "scatter3d"
        },
        {
         "hovertemplate": "title=Alla Fel På Samma Gång<br>comp_1=%{x}<br>comp_2=%{y}<br>comp_3=%{z}<extra></extra>",
         "legendgroup": "Alla Fel På Samma Gång",
         "marker": {
          "color": "#FFA15A",
          "symbol": "circle"
         },
         "mode": "markers",
         "name": "Alla Fel På Samma Gång",
         "scene": "scene",
         "showlegend": true,
         "x": [
          -11.334900856018066
         ],
         "y": [
          14.052055358886719
         ],
         "z": [
          -13.266247749328613
         ],
         "type": "scatter3d"
        },
        {
         "hovertemplate": "title=Lever Som Vi Lär<br>comp_1=%{x}<br>comp_2=%{y}<br>comp_3=%{z}<extra></extra>",
         "legendgroup": "Lever Som Vi Lär",
         "marker": {
          "color": "#19d3f3",
          "symbol": "circle"
         },
         "mode": "markers",
         "name": "Lever Som Vi Lär",
         "scene": "scene",
         "showlegend": true,
         "x": [
          -32.38128662109375
         ],
         "y": [
          -12.5791654586792
         ],
         "z": [
          29.90757942199707
         ],
         "type": "scatter3d"
        },
        {
         "hovertemplate": "title=Min<br>comp_1=%{x}<br>comp_2=%{y}<br>comp_3=%{z}<extra></extra>",
         "legendgroup": "Min",
         "marker": {
          "color": "#FF6692",
          "symbol": "circle"
         },
         "mode": "markers",
         "name": "Min",
         "scene": "scene",
         "showlegend": true,
         "x": [
          -26.729585647583008
         ],
         "y": [
          14.73880672454834
         ],
         "z": [
          20.388324737548828
         ],
         "type": "scatter3d"
        },
        {
         "hovertemplate": "title=Tuggare Utan Gränser<br>comp_1=%{x}<br>comp_2=%{y}<br>comp_3=%{z}<extra></extra>",
         "legendgroup": "Tuggare Utan Gränser",
         "marker": {
          "color": "#B6E880",
          "symbol": "circle"
         },
         "mode": "markers",
         "name": "Tuggare Utan Gränser",
         "scene": "scene",
         "showlegend": true,
         "x": [
          -30.170734405517578
         ],
         "y": [
          7.812849521636963
         ],
         "z": [
          38.90463638305664
         ],
         "type": "scatter3d"
        },
        {
         "hovertemplate": "title=Tuggare Intro<br>comp_1=%{x}<br>comp_2=%{y}<br>comp_3=%{z}<extra></extra>",
         "legendgroup": "Tuggare Intro",
         "marker": {
          "color": "#FF97FF",
          "symbol": "circle"
         },
         "mode": "markers",
         "name": "Tuggare Intro",
         "scene": "scene",
         "showlegend": true,
         "x": [
          -11.34421157836914
         ],
         "y": [
          2.6814985275268555
         ],
         "z": [
          47.479469299316406
         ],
         "type": "scatter3d"
        },
        {
         "hovertemplate": "title=Minns Mitt Namn<br>comp_1=%{x}<br>comp_2=%{y}<br>comp_3=%{z}<extra></extra>",
         "legendgroup": "Minns Mitt Namn",
         "marker": {
          "color": "#FECB52",
          "symbol": "circle"
         },
         "mode": "markers",
         "name": "Minns Mitt Namn",
         "scene": "scene",
         "showlegend": true,
         "x": [
          -39.02081298828125
         ],
         "y": [
          -22.598066329956055
         ],
         "z": [
          26.642738342285156
         ],
         "type": "scatter3d"
        },
        {
         "hovertemplate": "title=Knäpper Mina Fingrar [Remix]<br>comp_1=%{x}<br>comp_2=%{y}<br>comp_3=%{z}<extra></extra>",
         "legendgroup": "Knäpper Mina Fingrar [Remix]",
         "marker": {
          "color": "#636efa",
          "symbol": "circle"
         },
         "mode": "markers",
         "name": "Knäpper Mina Fingrar [Remix]",
         "scene": "scene",
         "showlegend": true,
         "x": [
          13.120219230651855
         ],
         "y": [
          5.735180854797363
         ],
         "z": [
          17.900775909423828
         ],
         "type": "scatter3d"
        },
        {
         "hovertemplate": "title=Knäpper Mina Fingrar<br>comp_1=%{x}<br>comp_2=%{y}<br>comp_3=%{z}<extra></extra>",
         "legendgroup": "Knäpper Mina Fingrar",
         "marker": {
          "color": "#EF553B",
          "symbol": "circle"
         },
         "mode": "markers",
         "name": "Knäpper Mina Fingrar",
         "scene": "scene",
         "showlegend": true,
         "x": [
          20.06230926513672
         ],
         "y": [
          -1.1754976511001587
         ],
         "z": [
          31.317840576171875
         ],
         "type": "scatter3d"
        },
        {
         "hovertemplate": "title=Gang Gang<br>comp_1=%{x}<br>comp_2=%{y}<br>comp_3=%{z}<extra></extra>",
         "legendgroup": "Gang Gang",
         "marker": {
          "color": "#00cc96",
          "symbol": "circle"
         },
         "mode": "markers",
         "name": "Gang Gang",
         "scene": "scene",
         "showlegend": true,
         "x": [
          2.9794504642486572
         ],
         "y": [
          -1.8356636762619019
         ],
         "z": [
          -4.835641384124756
         ],
         "type": "scatter3d"
        },
        {
         "hovertemplate": "title=Ey Gäri<br>comp_1=%{x}<br>comp_2=%{y}<br>comp_3=%{z}<extra></extra>",
         "legendgroup": "Ey Gäri",
         "marker": {
          "color": "#ab63fa",
          "symbol": "circle"
         },
         "mode": "markers",
         "name": "Ey Gäri",
         "scene": "scene",
         "showlegend": true,
         "x": [
          3.122300386428833
         ],
         "y": [
          -10.993212699890137
         ],
         "z": [
          -33.3618278503418
         ],
         "type": "scatter3d"
        },
        {
         "hovertemplate": "title=Visa vid vindens ängar<br>comp_1=%{x}<br>comp_2=%{y}<br>comp_3=%{z}<extra></extra>",
         "legendgroup": "Visa vid vindens ängar",
         "marker": {
          "color": "#FFA15A",
          "symbol": "circle"
         },
         "mode": "markers",
         "name": "Visa vid vindens ängar",
         "scene": "scene",
         "showlegend": true,
         "x": [
          -22.46770477294922
         ],
         "y": [
          9.678170204162598
         ],
         "z": [
          -34.5228385925293
         ],
         "type": "scatter3d"
        },
        {
         "hovertemplate": "title=Bästa Vän<br>comp_1=%{x}<br>comp_2=%{y}<br>comp_3=%{z}<extra></extra>",
         "legendgroup": "Bästa Vän",
         "marker": {
          "color": "#19d3f3",
          "symbol": "circle"
         },
         "mode": "markers",
         "name": "Bästa Vän",
         "scene": "scene",
         "showlegend": true,
         "x": [
          -11.117215156555176
         ],
         "y": [
          -15.717498779296875
         ],
         "z": [
          -9.82746410369873
         ],
         "type": "scatter3d"
        },
        {
         "hovertemplate": "title=Alla rätt<br>comp_1=%{x}<br>comp_2=%{y}<br>comp_3=%{z}<extra></extra>",
         "legendgroup": "Alla rätt",
         "marker": {
          "color": "#FF6692",
          "symbol": "circle"
         },
         "mode": "markers",
         "name": "Alla rätt",
         "scene": "scene",
         "showlegend": true,
         "x": [
          15.291303634643555
         ],
         "y": [
          3.5651447772979736
         ],
         "z": [
          11.195375442504883
         ],
         "type": "scatter3d"
        },
        {
         "hovertemplate": "title=Säg mitt namn<br>comp_1=%{x}<br>comp_2=%{y}<br>comp_3=%{z}<extra></extra>",
         "legendgroup": "Säg mitt namn",
         "marker": {
          "color": "#B6E880",
          "symbol": "circle"
         },
         "mode": "markers",
         "name": "Säg mitt namn",
         "scene": "scene",
         "showlegend": true,
         "x": [
          36.526493072509766
         ],
         "y": [
          -14.626954078674316
         ],
         "z": [
          24.0524845123291
         ],
         "type": "scatter3d"
        },
        {
         "hovertemplate": "title=Knäpper mina fingrar (Torka dina tårar Remake)<br>comp_1=%{x}<br>comp_2=%{y}<br>comp_3=%{z}<extra></extra>",
         "legendgroup": "Knäpper mina fingrar (Torka dina tårar Remake)",
         "marker": {
          "color": "#FF97FF",
          "symbol": "circle"
         },
         "mode": "markers",
         "name": "Knäpper mina fingrar (Torka dina tårar Remake)",
         "scene": "scene",
         "showlegend": true,
         "x": [
          -32.85039520263672
         ],
         "y": [
          8.06895923614502
         ],
         "z": [
          -4.955077171325684
         ],
         "type": "scatter3d"
        },
        {
         "hovertemplate": "title=Bäng bäng<br>comp_1=%{x}<br>comp_2=%{y}<br>comp_3=%{z}<extra></extra>",
         "legendgroup": "Bäng bäng",
         "marker": {
          "color": "#FECB52",
          "symbol": "circle"
         },
         "mode": "markers",
         "name": "Bäng bäng",
         "scene": "scene",
         "showlegend": true,
         "x": [
          16.202516555786133
         ],
         "y": [
          0.006597007624804974
         ],
         "z": [
          41.60625076293945
         ],
         "type": "scatter3d"
        },
        {
         "hovertemplate": "title=Don’t Hate the Player<br>comp_1=%{x}<br>comp_2=%{y}<br>comp_3=%{z}<extra></extra>",
         "legendgroup": "Don’t Hate the Player",
         "marker": {
          "color": "#636efa",
          "symbol": "circle"
         },
         "mode": "markers",
         "name": "Don’t Hate the Player",
         "scene": "scene",
         "showlegend": true,
         "x": [
          47.59343719482422
         ],
         "y": [
          11.173673629760742
         ],
         "z": [
          -8.891169548034668
         ],
         "type": "scatter3d"
        },
        {
         "hovertemplate": "title=Bandit Queen<br>comp_1=%{x}<br>comp_2=%{y}<br>comp_3=%{z}<extra></extra>",
         "legendgroup": "Bandit Queen",
         "marker": {
          "color": "#EF553B",
          "symbol": "circle"
         },
         "mode": "markers",
         "name": "Bandit Queen",
         "scene": "scene",
         "showlegend": true,
         "x": [
          61.54596710205078
         ],
         "y": [
          11.316752433776855
         ],
         "z": [
          0.8041991591453552
         ],
         "type": "scatter3d"
        },
        {
         "hovertemplate": "title=Long Arm of the Law<br>comp_1=%{x}<br>comp_2=%{y}<br>comp_3=%{z}<extra></extra>",
         "legendgroup": "Long Arm of the Law",
         "marker": {
          "color": "#00cc96",
          "symbol": "circle"
         },
         "mode": "markers",
         "name": "Long Arm of the Law",
         "scene": "scene",
         "showlegend": true,
         "x": [
          56.68385314941406
         ],
         "y": [
          -1.9788906574249268
         ],
         "z": [
          -8.827913284301758
         ],
         "type": "scatter3d"
        },
        {
         "hovertemplate": "title=Fort Europa<br>comp_1=%{x}<br>comp_2=%{y}<br>comp_3=%{z}<extra></extra>",
         "legendgroup": "Fort Europa",
         "marker": {
          "color": "#ab63fa",
          "symbol": "circle"
         },
         "mode": "markers",
         "name": "Fort Europa",
         "scene": "scene",
         "showlegend": true,
         "x": [
          49.74843978881836
         ],
         "y": [
          -4.3008832931518555
         ],
         "z": [
          -5.472193717956543
         ],
         "type": "scatter3d"
        },
        {
         "hovertemplate": "title=Topp Doggz<br>comp_1=%{x}<br>comp_2=%{y}<br>comp_3=%{z}<extra></extra>",
         "legendgroup": "Topp Doggz",
         "marker": {
          "color": "#FFA15A",
          "symbol": "circle"
         },
         "mode": "markers",
         "name": "Topp Doggz",
         "scene": "scene",
         "showlegend": true,
         "x": [
          34.09409713745117
         ],
         "y": [
          -9.826879501342773
         ],
         "z": [
          38.42878723144531
         ],
         "type": "scatter3d"
        },
        {
         "hovertemplate": "title=The Struggle Continues<br>comp_1=%{x}<br>comp_2=%{y}<br>comp_3=%{z}<extra></extra>",
         "legendgroup": "The Struggle Continues",
         "marker": {
          "color": "#19d3f3",
          "symbol": "circle"
         },
         "mode": "markers",
         "name": "The Struggle Continues",
         "scene": "scene",
         "showlegend": true,
         "x": [
          53.33444595336914
         ],
         "y": [
          -11.109138488769531
         ],
         "z": [
          -2.1141982078552246
         ],
         "type": "scatter3d"
        },
        {
         "hovertemplate": "title=Fly Away<br>comp_1=%{x}<br>comp_2=%{y}<br>comp_3=%{z}<extra></extra>",
         "legendgroup": "Fly Away",
         "marker": {
          "color": "#FF6692",
          "symbol": "circle"
         },
         "mode": "markers",
         "name": "Fly Away",
         "scene": "scene",
         "showlegend": true,
         "x": [
          51.72342300415039
         ],
         "y": [
          4.135533332824707
         ],
         "z": [
          -5.764837741851807
         ],
         "type": "scatter3d"
        },
        {
         "hovertemplate": "title=Jag sköt Palme<br>comp_1=%{x}<br>comp_2=%{y}<br>comp_3=%{z}<extra></extra>",
         "legendgroup": "Jag sköt Palme",
         "marker": {
          "color": "#B6E880",
          "symbol": "circle"
         },
         "mode": "markers",
         "name": "Jag sköt Palme",
         "scene": "scene",
         "showlegend": true,
         "x": [
          -12.128625869750977
         ],
         "y": [
          -13.690343856811523
         ],
         "z": [
          15.029242515563965
         ],
         "type": "scatter3d"
        },
        {
         "hovertemplate": "title=Aldrig<br>comp_1=%{x}<br>comp_2=%{y}<br>comp_3=%{z}<extra></extra>",
         "legendgroup": "Aldrig",
         "marker": {
          "color": "#FF97FF",
          "symbol": "circle"
         },
         "mode": "markers",
         "name": "Aldrig",
         "scene": "scene",
         "showlegend": true,
         "x": [
          -6.803006649017334
         ],
         "y": [
          5.586969375610352
         ],
         "z": [
          -22.839645385742188
         ],
         "type": "scatter3d"
        },
        {
         "hovertemplate": "title=Magic<br>comp_1=%{x}<br>comp_2=%{y}<br>comp_3=%{z}<extra></extra>",
         "legendgroup": "Magic",
         "marker": {
          "color": "#FECB52",
          "symbol": "circle"
         },
         "mode": "markers",
         "name": "Magic",
         "scene": "scene",
         "showlegend": true,
         "x": [
          54.96228790283203
         ],
         "y": [
          -3.3540780544281006
         ],
         "z": [
          0.9081910848617554
         ],
         "type": "scatter3d"
        },
        {
         "hovertemplate": "title=Giftig<br>comp_1=%{x}<br>comp_2=%{y}<br>comp_3=%{z}<extra></extra>",
         "legendgroup": "Giftig",
         "marker": {
          "color": "#636efa",
          "symbol": "circle"
         },
         "mode": "markers",
         "name": "Giftig",
         "scene": "scene",
         "showlegend": true,
         "x": [
          -36.966583251953125
         ],
         "y": [
          13.223650932312012
         ],
         "z": [
          25.878515243530273
         ],
         "type": "scatter3d"
        },
        {
         "hovertemplate": "title=Glassigt<br>comp_1=%{x}<br>comp_2=%{y}<br>comp_3=%{z}<extra></extra>",
         "legendgroup": "Glassigt",
         "marker": {
          "color": "#EF553B",
          "symbol": "circle"
         },
         "mode": "markers",
         "name": "Glassigt",
         "scene": "scene",
         "showlegend": true,
         "x": [
          -24.420278549194336
         ],
         "y": [
          -3.406820058822632
         ],
         "z": [
          -18.678241729736328
         ],
         "type": "scatter3d"
        },
        {
         "hovertemplate": "title=Jag talar ut<br>comp_1=%{x}<br>comp_2=%{y}<br>comp_3=%{z}<extra></extra>",
         "legendgroup": "Jag talar ut",
         "marker": {
          "color": "#00cc96",
          "symbol": "circle"
         },
         "mode": "markers",
         "name": "Jag talar ut",
         "scene": "scene",
         "showlegend": true,
         "x": [
          0.5267568230628967
         ],
         "y": [
          13.232244491577148
         ],
         "z": [
          -43.186119079589844
         ],
         "type": "scatter3d"
        },
        {
         "hovertemplate": "title=Känslan kommer tillbaks<br>comp_1=%{x}<br>comp_2=%{y}<br>comp_3=%{z}<extra></extra>",
         "legendgroup": "Känslan kommer tillbaks",
         "marker": {
          "color": "#ab63fa",
          "symbol": "circle"
         },
         "mode": "markers",
         "name": "Känslan kommer tillbaks",
         "scene": "scene",
         "showlegend": true,
         "x": [
          -27.718198776245117
         ],
         "y": [
          37.52178192138672
         ],
         "z": [
          11.94996166229248
         ],
         "type": "scatter3d"
        },
        {
         "hovertemplate": "title=Ledig<br>comp_1=%{x}<br>comp_2=%{y}<br>comp_3=%{z}<extra></extra>",
         "legendgroup": "Ledig",
         "marker": {
          "color": "#FFA15A",
          "symbol": "circle"
         },
         "mode": "markers",
         "name": "Ledig",
         "scene": "scene",
         "showlegend": true,
         "x": [
          9.672560691833496
         ],
         "y": [
          7.315684795379639
         ],
         "z": [
          -35.969749450683594
         ],
         "type": "scatter3d"
        },
        {
         "hovertemplate": "title=Gömma mig<br>comp_1=%{x}<br>comp_2=%{y}<br>comp_3=%{z}<extra></extra>",
         "legendgroup": "Gömma mig",
         "marker": {
          "color": "#19d3f3",
          "symbol": "circle"
         },
         "mode": "markers",
         "name": "Gömma mig",
         "scene": "scene",
         "showlegend": true,
         "x": [
          -15.1982421875
         ],
         "y": [
          12.299440383911133
         ],
         "z": [
          -22.172176361083984
         ],
         "type": "scatter3d"
        },
        {
         "hovertemplate": "title=Håll Käften<br>comp_1=%{x}<br>comp_2=%{y}<br>comp_3=%{z}<extra></extra>",
         "legendgroup": "Håll Käften",
         "marker": {
          "color": "#FF6692",
          "symbol": "circle"
         },
         "mode": "markers",
         "name": "Håll Käften",
         "scene": "scene",
         "showlegend": true,
         "x": [
          3.9790220260620117
         ],
         "y": [
          1.3662725687026978
         ],
         "z": [
          8.030383110046387
         ],
         "type": "scatter3d"
        },
        {
         "hovertemplate": "title=Inget att förlora<br>comp_1=%{x}<br>comp_2=%{y}<br>comp_3=%{z}<extra></extra>",
         "legendgroup": "Inget att förlora",
         "marker": {
          "color": "#B6E880",
          "symbol": "circle"
         },
         "mode": "markers",
         "name": "Inget att förlora",
         "scene": "scene",
         "showlegend": true,
         "x": [
          -40.017208099365234
         ],
         "y": [
          21.084716796875
         ],
         "z": [
          -23.315654754638672
         ],
         "type": "scatter3d"
        },
        {
         "hovertemplate": "title=Vissa tycker<br>comp_1=%{x}<br>comp_2=%{y}<br>comp_3=%{z}<extra></extra>",
         "legendgroup": "Vissa tycker",
         "marker": {
          "color": "#FF97FF",
          "symbol": "circle"
         },
         "mode": "markers",
         "name": "Vissa tycker",
         "scene": "scene",
         "showlegend": true,
         "x": [
          -50.030269622802734
         ],
         "y": [
          17.325634002685547
         ],
         "z": [
          -24.624221801757812
         ],
         "type": "scatter3d"
        },
        {
         "hovertemplate": "title=Tick tack<br>comp_1=%{x}<br>comp_2=%{y}<br>comp_3=%{z}<extra></extra>",
         "legendgroup": "Tick tack",
         "marker": {
          "color": "#FECB52",
          "symbol": "circle"
         },
         "mode": "markers",
         "name": "Tick tack",
         "scene": "scene",
         "showlegend": true,
         "x": [
          -29.094242095947266
         ],
         "y": [
          -3.5604071617126465
         ],
         "z": [
          -30.149139404296875
         ],
         "type": "scatter3d"
        },
        {
         "hovertemplate": "title=Segertåget<br>comp_1=%{x}<br>comp_2=%{y}<br>comp_3=%{z}<extra></extra>",
         "legendgroup": "Segertåget",
         "marker": {
          "color": "#636efa",
          "symbol": "circle"
         },
         "mode": "markers",
         "name": "Segertåget",
         "scene": "scene",
         "showlegend": true,
         "x": [
          7.25584602355957
         ],
         "y": [
          11.268078804016113
         ],
         "z": [
          34.209476470947266
         ],
         "type": "scatter3d"
        },
        {
         "hovertemplate": "title=Krossa alla fönster<br>comp_1=%{x}<br>comp_2=%{y}<br>comp_3=%{z}<extra></extra>",
         "legendgroup": "Krossa alla fönster",
         "marker": {
          "color": "#EF553B",
          "symbol": "circle"
         },
         "mode": "markers",
         "name": "Krossa alla fönster",
         "scene": "scene",
         "showlegend": true,
         "x": [
          -23.746400833129883
         ],
         "y": [
          24.141246795654297
         ],
         "z": [
          -37.171165466308594
         ],
         "type": "scatter3d"
        },
        {
         "hovertemplate": "title=Kärlek vid sista ögonkastet<br>comp_1=%{x}<br>comp_2=%{y}<br>comp_3=%{z}<extra></extra>",
         "legendgroup": "Kärlek vid sista ögonkastet",
         "marker": {
          "color": "#00cc96",
          "symbol": "circle"
         },
         "mode": "markers",
         "name": "Kärlek vid sista ögonkastet",
         "scene": "scene",
         "showlegend": true,
         "x": [
          -49.500789642333984
         ],
         "y": [
          5.097781181335449
         ],
         "z": [
          -12.204941749572754
         ],
         "type": "scatter3d"
        },
        {
         "hovertemplate": "title=Alla som inte dansar<br>comp_1=%{x}<br>comp_2=%{y}<br>comp_3=%{z}<extra></extra>",
         "legendgroup": "Alla som inte dansar",
         "marker": {
          "color": "#ab63fa",
          "symbol": "circle"
         },
         "mode": "markers",
         "name": "Alla som inte dansar",
         "scene": "scene",
         "showlegend": true,
         "x": [
          -22.88334846496582
         ],
         "y": [
          -7.457785606384277
         ],
         "z": [
          49.600006103515625
         ],
         "type": "scatter3d"
        },
        {
         "hovertemplate": "title=Pengar<br>comp_1=%{x}<br>comp_2=%{y}<br>comp_3=%{z}<extra></extra>",
         "legendgroup": "Pengar",
         "marker": {
          "color": "#FFA15A",
          "symbol": "circle"
         },
         "mode": "markers",
         "name": "Pengar",
         "scene": "scene",
         "showlegend": true,
         "x": [
          0.38061976432800293
         ],
         "y": [
          29.616016387939453
         ],
         "z": [
          -7.548088550567627
         ],
         "type": "scatter3d"
        },
        {
         "hovertemplate": "title=Liv och död<br>comp_1=%{x}<br>comp_2=%{y}<br>comp_3=%{z}<extra></extra>",
         "legendgroup": "Liv och död",
         "marker": {
          "color": "#19d3f3",
          "symbol": "circle"
         },
         "mode": "markers",
         "name": "Liv och död",
         "scene": "scene",
         "showlegend": true,
         "x": [
          -43.509620666503906
         ],
         "y": [
          -31.541854858398438
         ],
         "z": [
          -7.286157608032227
         ],
         "type": "scatter3d"
        },
        {
         "hovertemplate": "title=Stora fötter stora skor<br>comp_1=%{x}<br>comp_2=%{y}<br>comp_3=%{z}<extra></extra>",
         "legendgroup": "Stora fötter stora skor",
         "marker": {
          "color": "#FF6692",
          "symbol": "circle"
         },
         "mode": "markers",
         "name": "Stora fötter stora skor",
         "scene": "scene",
         "showlegend": true,
         "x": [
          -11.163975715637207
         ],
         "y": [
          22.917200088500977
         ],
         "z": [
          -13.639965057373047
         ],
         "type": "scatter3d"
        },
        {
         "hovertemplate": "title=Bränner<br>comp_1=%{x}<br>comp_2=%{y}<br>comp_3=%{z}<extra></extra>",
         "legendgroup": "Bränner",
         "marker": {
          "color": "#B6E880",
          "symbol": "circle"
         },
         "mode": "markers",
         "name": "Bränner",
         "scene": "scene",
         "showlegend": true,
         "x": [
          -16.252687454223633
         ],
         "y": [
          33.46424102783203
         ],
         "z": [
          -21.235855102539062
         ],
         "type": "scatter3d"
        },
        {
         "hovertemplate": "title=Stora trygga vargen<br>comp_1=%{x}<br>comp_2=%{y}<br>comp_3=%{z}<extra></extra>",
         "legendgroup": "Stora trygga vargen",
         "marker": {
          "color": "#FF97FF",
          "symbol": "circle"
         },
         "mode": "markers",
         "name": "Stora trygga vargen",
         "scene": "scene",
         "showlegend": true,
         "x": [
          -32.561378479003906
         ],
         "y": [
          -17.831392288208008
         ],
         "z": [
          -37.008060455322266
         ],
         "type": "scatter3d"
        },
        {
         "hovertemplate": "title=Slut för alltid<br>comp_1=%{x}<br>comp_2=%{y}<br>comp_3=%{z}<extra></extra>",
         "legendgroup": "Slut för alltid",
         "marker": {
          "color": "#FECB52",
          "symbol": "circle"
         },
         "mode": "markers",
         "name": "Slut för alltid",
         "scene": "scene",
         "showlegend": true,
         "x": [
          -27.848072052001953
         ],
         "y": [
          -10.771882057189941
         ],
         "z": [
          -1.2479959726333618
         ],
         "type": "scatter3d"
        },
        {
         "hovertemplate": "title=Miss Decibel<br>comp_1=%{x}<br>comp_2=%{y}<br>comp_3=%{z}<extra></extra>",
         "legendgroup": "Miss Decibel",
         "marker": {
          "color": "#636efa",
          "symbol": "circle"
         },
         "mode": "markers",
         "name": "Miss Decibel",
         "scene": "scene",
         "showlegend": true,
         "x": [
          -20.180036544799805
         ],
         "y": [
          -31.75370216369629
         ],
         "z": [
          -26.058570861816406
         ],
         "type": "scatter3d"
        },
        {
         "hovertemplate": "title=Där Palmerna Bor<br>comp_1=%{x}<br>comp_2=%{y}<br>comp_3=%{z}<extra></extra>",
         "legendgroup": "Där Palmerna Bor",
         "marker": {
          "color": "#EF553B",
          "symbol": "circle"
         },
         "mode": "markers",
         "name": "Där Palmerna Bor",
         "scene": "scene",
         "showlegend": true,
         "x": [
          -43.72748565673828
         ],
         "y": [
          -0.14655523002147675
         ],
         "z": [
          38.15911865234375
         ],
         "type": "scatter3d"
        },
        {
         "hovertemplate": "title=Se på mig nu<br>comp_1=%{x}<br>comp_2=%{y}<br>comp_3=%{z}<extra></extra>",
         "legendgroup": "Se på mig nu",
         "marker": {
          "color": "#00cc96",
          "symbol": "circle"
         },
         "mode": "markers",
         "name": "Se på mig nu",
         "scene": "scene",
         "showlegend": true,
         "x": [
          -26.344858169555664
         ],
         "y": [
          -17.19792938232422
         ],
         "z": [
          -5.856019973754883
         ],
         "type": "scatter3d"
        },
        {
         "hovertemplate": "title=In i dimman<br>comp_1=%{x}<br>comp_2=%{y}<br>comp_3=%{z}<extra></extra>",
         "legendgroup": "In i dimman",
         "marker": {
          "color": "#ab63fa",
          "symbol": "circle"
         },
         "mode": "markers",
         "name": "In i dimman",
         "scene": "scene",
         "showlegend": true,
         "x": [
          -57.47037887573242
         ],
         "y": [
          -0.15235635638237
         ],
         "z": [
          9.515644073486328
         ],
         "type": "scatter3d"
        },
        {
         "hovertemplate": "title=Odödlig Kärlek<br>comp_1=%{x}<br>comp_2=%{y}<br>comp_3=%{z}<extra></extra>",
         "legendgroup": "Odödlig Kärlek",
         "marker": {
          "color": "#FFA15A",
          "symbol": "circle"
         },
         "mode": "markers",
         "name": "Odödlig Kärlek",
         "scene": "scene",
         "showlegend": true,
         "x": [
          -48.05982971191406
         ],
         "y": [
          -17.052587509155273
         ],
         "z": [
          3.0279722213745117
         ],
         "type": "scatter3d"
        },
        {
         "hovertemplate": "title=Sann Romans<br>comp_1=%{x}<br>comp_2=%{y}<br>comp_3=%{z}<extra></extra>",
         "legendgroup": "Sann Romans",
         "marker": {
          "color": "#19d3f3",
          "symbol": "circle"
         },
         "mode": "markers",
         "name": "Sann Romans",
         "scene": "scene",
         "showlegend": true,
         "x": [
          -19.950794219970703
         ],
         "y": [
          -21.474720001220703
         ],
         "z": [
          -30.358840942382812
         ],
         "type": "scatter3d"
        },
        {
         "hovertemplate": "title=Oändlig<br>comp_1=%{x}<br>comp_2=%{y}<br>comp_3=%{z}<extra></extra>",
         "legendgroup": "Oändlig",
         "marker": {
          "color": "#FF6692",
          "symbol": "circle"
         },
         "mode": "markers",
         "name": "Oändlig",
         "scene": "scene",
         "showlegend": true,
         "x": [
          -53.774993896484375
         ],
         "y": [
          -7.211946964263916
         ],
         "z": [
          -5.185248851776123
         ],
         "type": "scatter3d"
        },
        {
         "hovertemplate": "title=Sagoland<br>comp_1=%{x}<br>comp_2=%{y}<br>comp_3=%{z}<extra></extra>",
         "legendgroup": "Sagoland",
         "marker": {
          "color": "#B6E880",
          "symbol": "circle"
         },
         "mode": "markers",
         "name": "Sagoland",
         "scene": "scene",
         "showlegend": true,
         "x": [
          -19.731502532958984
         ],
         "y": [
          2.992189407348633
         ],
         "z": [
          -8.033720016479492
         ],
         "type": "scatter3d"
        },
        {
         "hovertemplate": "title=Sista minuten<br>comp_1=%{x}<br>comp_2=%{y}<br>comp_3=%{z}<extra></extra>",
         "legendgroup": "Sista minuten",
         "marker": {
          "color": "#FF97FF",
          "symbol": "circle"
         },
         "mode": "markers",
         "name": "Sista minuten",
         "scene": "scene",
         "showlegend": true,
         "x": [
          -26.937456130981445
         ],
         "y": [
          27.465360641479492
         ],
         "z": [
          -14.363692283630371
         ],
         "type": "scatter3d"
        },
        {
         "hovertemplate": "title=Yalla Kompis<br>comp_1=%{x}<br>comp_2=%{y}<br>comp_3=%{z}<extra></extra>",
         "legendgroup": "Yalla Kompis",
         "marker": {
          "color": "#FECB52",
          "symbol": "circle"
         },
         "mode": "markers",
         "name": "Yalla Kompis",
         "scene": "scene",
         "showlegend": true,
         "x": [
          14.255115509033203
         ],
         "y": [
          31.869068145751953
         ],
         "z": [
          -16.24418067932129
         ],
         "type": "scatter3d"
        },
        {
         "hovertemplate": "title=50 länder<br>comp_1=%{x}<br>comp_2=%{y}<br>comp_3=%{z}<extra></extra>",
         "legendgroup": "50 länder",
         "marker": {
          "color": "#636efa",
          "symbol": "circle"
         },
         "mode": "markers",
         "name": "50 länder",
         "scene": "scene",
         "showlegend": true,
         "x": [
          -49.26783752441406
         ],
         "y": [
          -8.8698091506958
         ],
         "z": [
          20.55690574645996
         ],
         "type": "scatter3d"
        },
        {
         "hovertemplate": "title=Vi e familj<br>comp_1=%{x}<br>comp_2=%{y}<br>comp_3=%{z}<extra></extra>",
         "legendgroup": "Vi e familj",
         "marker": {
          "color": "#EF553B",
          "symbol": "circle"
         },
         "mode": "markers",
         "name": "Vi e familj",
         "scene": "scene",
         "showlegend": true,
         "x": [
          -45.886783599853516
         ],
         "y": [
          -3.397812843322754
         ],
         "z": [
          -24.068410873413086
         ],
         "type": "scatter3d"
        },
        {
         "hovertemplate": "title=Sista resan<br>comp_1=%{x}<br>comp_2=%{y}<br>comp_3=%{z}<extra></extra>",
         "legendgroup": "Sista resan",
         "marker": {
          "color": "#00cc96",
          "symbol": "circle"
         },
         "mode": "markers",
         "name": "Sista resan",
         "scene": "scene",
         "showlegend": true,
         "x": [
          -29.057161331176758
         ],
         "y": [
          21.62668800354004
         ],
         "z": [
          -24.646284103393555
         ],
         "type": "scatter3d"
        },
        {
         "hovertemplate": "title=Biografi<br>comp_1=%{x}<br>comp_2=%{y}<br>comp_3=%{z}<extra></extra>",
         "legendgroup": "Biografi",
         "marker": {
          "color": "#ab63fa",
          "symbol": "circle"
         },
         "mode": "markers",
         "name": "Biografi",
         "scene": "scene",
         "showlegend": true,
         "x": [
          3.9436190128326416
         ],
         "y": [
          23.652809143066406
         ],
         "z": [
          -39.54397201538086
         ],
         "type": "scatter3d"
        },
        {
         "hovertemplate": "title=Postkodsmiljonär<br>comp_1=%{x}<br>comp_2=%{y}<br>comp_3=%{z}<extra></extra>",
         "legendgroup": "Postkodsmiljonär",
         "marker": {
          "color": "#FFA15A",
          "symbol": "circle"
         },
         "mode": "markers",
         "name": "Postkodsmiljonär",
         "scene": "scene",
         "showlegend": true,
         "x": [
          -3.5414724349975586
         ],
         "y": [
          19.98896598815918
         ],
         "z": [
          4.4624714851379395
         ],
         "type": "scatter3d"
        },
        {
         "hovertemplate": "title=Inshallah<br>comp_1=%{x}<br>comp_2=%{y}<br>comp_3=%{z}<extra></extra>",
         "legendgroup": "Inshallah",
         "marker": {
          "color": "#19d3f3",
          "symbol": "circle"
         },
         "mode": "markers",
         "name": "Inshallah",
         "scene": "scene",
         "showlegend": true,
         "x": [
          -48.442787170410156
         ],
         "y": [
          -11.45287036895752
         ],
         "z": [
          -21.590320587158203
         ],
         "type": "scatter3d"
        },
        {
         "hovertemplate": "title=Rapstjärna<br>comp_1=%{x}<br>comp_2=%{y}<br>comp_3=%{z}<extra></extra>",
         "legendgroup": "Rapstjärna",
         "marker": {
          "color": "#FF6692",
          "symbol": "circle"
         },
         "mode": "markers",
         "name": "Rapstjärna",
         "scene": "scene",
         "showlegend": true,
         "x": [
          -1.3438913822174072
         ],
         "y": [
          23.330102920532227
         ],
         "z": [
          -1.5960702896118164
         ],
         "type": "scatter3d"
        },
        {
         "hovertemplate": "title=Porten<br>comp_1=%{x}<br>comp_2=%{y}<br>comp_3=%{z}<extra></extra>",
         "legendgroup": "Porten",
         "marker": {
          "color": "#B6E880",
          "symbol": "circle"
         },
         "mode": "markers",
         "name": "Porten",
         "scene": "scene",
         "showlegend": true,
         "x": [
          -22.51189613342285
         ],
         "y": [
          16.428909301757812
         ],
         "z": [
          -22.510976791381836
         ],
         "type": "scatter3d"
        },
        {
         "hovertemplate": "title=Svartskalle och kriminell<br>comp_1=%{x}<br>comp_2=%{y}<br>comp_3=%{z}<extra></extra>",
         "legendgroup": "Svartskalle och kriminell",
         "marker": {
          "color": "#FF97FF",
          "symbol": "circle"
         },
         "mode": "markers",
         "name": "Svartskalle och kriminell",
         "scene": "scene",
         "showlegend": true,
         "x": [
          -42.655025482177734
         ],
         "y": [
          -4.131594181060791
         ],
         "z": [
          18.45965576171875
         ],
         "type": "scatter3d"
        },
        {
         "hovertemplate": "title=Tunga steg<br>comp_1=%{x}<br>comp_2=%{y}<br>comp_3=%{z}<extra></extra>",
         "legendgroup": "Tunga steg",
         "marker": {
          "color": "#FECB52",
          "symbol": "circle"
         },
         "mode": "markers",
         "name": "Tunga steg",
         "scene": "scene",
         "showlegend": true,
         "x": [
          -31.93271827697754
         ],
         "y": [
          17.16977882385254
         ],
         "z": [
          -12.330564498901367
         ],
         "type": "scatter3d"
        },
        {
         "hovertemplate": "title=Sodavatten<br>comp_1=%{x}<br>comp_2=%{y}<br>comp_3=%{z}<extra></extra>",
         "legendgroup": "Sodavatten",
         "marker": {
          "color": "#636efa",
          "symbol": "circle"
         },
         "mode": "markers",
         "name": "Sodavatten",
         "scene": "scene",
         "showlegend": true,
         "x": [
          10.9806489944458
         ],
         "y": [
          -30.713010787963867
         ],
         "z": [
          30.96912956237793
         ],
         "type": "scatter3d"
        },
        {
         "hovertemplate": "title=Halvvägs<br>comp_1=%{x}<br>comp_2=%{y}<br>comp_3=%{z}<extra></extra>",
         "legendgroup": "Halvvägs",
         "marker": {
          "color": "#EF553B",
          "symbol": "circle"
         },
         "mode": "markers",
         "name": "Halvvägs",
         "scene": "scene",
         "showlegend": true,
         "x": [
          1.1912071704864502
         ],
         "y": [
          -30.589160919189453
         ],
         "z": [
          12.568404197692871
         ],
         "type": "scatter3d"
        },
        {
         "hovertemplate": "title=Limousin<br>comp_1=%{x}<br>comp_2=%{y}<br>comp_3=%{z}<extra></extra>",
         "legendgroup": "Limousin",
         "marker": {
          "color": "#00cc96",
          "symbol": "circle"
         },
         "mode": "markers",
         "name": "Limousin",
         "scene": "scene",
         "showlegend": true,
         "x": [
          -6.288731575012207
         ],
         "y": [
          17.047828674316406
         ],
         "z": [
          33.853187561035156
         ],
         "type": "scatter3d"
        },
        {
         "hovertemplate": "title=Äppelknyckarjazz<br>comp_1=%{x}<br>comp_2=%{y}<br>comp_3=%{z}<extra></extra>",
         "legendgroup": "Äppelknyckarjazz",
         "marker": {
          "color": "#ab63fa",
          "symbol": "circle"
         },
         "mode": "markers",
         "name": "Äppelknyckarjazz",
         "scene": "scene",
         "showlegend": true,
         "x": [
          -8.201397895812988
         ],
         "y": [
          6.848197937011719
         ],
         "z": [
          2.8210654258728027
         ],
         "type": "scatter3d"
        },
        {
         "hovertemplate": "title=Stick iväg Jack del II<br>comp_1=%{x}<br>comp_2=%{y}<br>comp_3=%{z}<extra></extra>",
         "legendgroup": "Stick iväg Jack del II",
         "marker": {
          "color": "#FFA15A",
          "symbol": "circle"
         },
         "mode": "markers",
         "name": "Stick iväg Jack del II",
         "scene": "scene",
         "showlegend": true,
         "x": [
          -34.45107650756836
         ],
         "y": [
          -17.104551315307617
         ],
         "z": [
          4.070306777954102
         ],
         "type": "scatter3d"
        },
        {
         "hovertemplate": "title=Hett kol<br>comp_1=%{x}<br>comp_2=%{y}<br>comp_3=%{z}<extra></extra>",
         "legendgroup": "Hett kol",
         "marker": {
          "color": "#19d3f3",
          "symbol": "circle"
         },
         "mode": "markers",
         "name": "Hett kol",
         "scene": "scene",
         "showlegend": true,
         "x": [
          -26.32237434387207
         ],
         "y": [
          -3.899083375930786
         ],
         "z": [
          -1.772369384765625
         ],
         "type": "scatter3d"
        },
        {
         "hovertemplate": "title=Na Na Nah!<br>comp_1=%{x}<br>comp_2=%{y}<br>comp_3=%{z}<extra></extra>",
         "legendgroup": "Na Na Nah!",
         "marker": {
          "color": "#FF6692",
          "symbol": "circle"
         },
         "mode": "markers",
         "name": "Na Na Nah!",
         "scene": "scene",
         "showlegend": true,
         "x": [
          -14.724455833435059
         ],
         "y": [
          -21.94586944580078
         ],
         "z": [
          7.118101596832275
         ],
         "type": "scatter3d"
        },
        {
         "hovertemplate": "title=Nitroglycerin<br>comp_1=%{x}<br>comp_2=%{y}<br>comp_3=%{z}<extra></extra>",
         "legendgroup": "Nitroglycerin",
         "marker": {
          "color": "#B6E880",
          "symbol": "circle"
         },
         "mode": "markers",
         "name": "Nitroglycerin",
         "scene": "scene",
         "showlegend": true,
         "x": [
          -25.56838607788086
         ],
         "y": [
          18.905710220336914
         ],
         "z": [
          31.342506408691406
         ],
         "type": "scatter3d"
        },
        {
         "hovertemplate": "title=Fel del av gården<br>comp_1=%{x}<br>comp_2=%{y}<br>comp_3=%{z}<extra></extra>",
         "legendgroup": "Fel del av gården",
         "marker": {
          "color": "#FF97FF",
          "symbol": "circle"
         },
         "mode": "markers",
         "name": "Fel del av gården",
         "scene": "scene",
         "showlegend": true,
         "x": [
          -44.87732696533203
         ],
         "y": [
          -4.88334846496582
         ],
         "z": [
          11.706792831420898
         ],
         "type": "scatter3d"
        },
        {
         "hovertemplate": "title=Dansa i regnet<br>comp_1=%{x}<br>comp_2=%{y}<br>comp_3=%{z}<extra></extra>",
         "legendgroup": "Dansa i regnet",
         "marker": {
          "color": "#FECB52",
          "symbol": "circle"
         },
         "mode": "markers",
         "name": "Dansa i regnet",
         "scene": "scene",
         "showlegend": true,
         "x": [
          17.084707260131836
         ],
         "y": [
          -24.727685928344727
         ],
         "z": [
          14.604726791381836
         ],
         "type": "scatter3d"
        },
        {
         "hovertemplate": "title=Cali<br>comp_1=%{x}<br>comp_2=%{y}<br>comp_3=%{z}<extra></extra>",
         "legendgroup": "Cali",
         "marker": {
          "color": "#636efa",
          "symbol": "circle"
         },
         "mode": "markers",
         "name": "Cali",
         "scene": "scene",
         "showlegend": true,
         "x": [
          -1.1176660060882568
         ],
         "y": [
          27.45302963256836
         ],
         "z": [
          6.020190715789795
         ],
         "type": "scatter3d"
        },
        {
         "hovertemplate": "title=Blåser Min Rök<br>comp_1=%{x}<br>comp_2=%{y}<br>comp_3=%{z}<extra></extra>",
         "legendgroup": "Blåser Min Rök",
         "marker": {
          "color": "#EF553B",
          "symbol": "circle"
         },
         "mode": "markers",
         "name": "Blåser Min Rök",
         "scene": "scene",
         "showlegend": true,
         "x": [
          -8.302750587463379
         ],
         "y": [
          6.6178364753723145
         ],
         "z": [
          -7.356942176818848
         ],
         "type": "scatter3d"
        },
        {
         "hovertemplate": "title=Namnet Va Näääkish<br>comp_1=%{x}<br>comp_2=%{y}<br>comp_3=%{z}<extra></extra>",
         "legendgroup": "Namnet Va Näääkish",
         "marker": {
          "color": "#00cc96",
          "symbol": "circle"
         },
         "mode": "markers",
         "name": "Namnet Va Näääkish",
         "scene": "scene",
         "showlegend": true,
         "x": [
          2.287518262863159
         ],
         "y": [
          10.901527404785156
         ],
         "z": [
          11.097579956054688
         ],
         "type": "scatter3d"
        },
        {
         "hovertemplate": "title=Maskrosbarn<br>comp_1=%{x}<br>comp_2=%{y}<br>comp_3=%{z}<extra></extra>",
         "legendgroup": "Maskrosbarn",
         "marker": {
          "color": "#ab63fa",
          "symbol": "circle"
         },
         "mode": "markers",
         "name": "Maskrosbarn",
         "scene": "scene",
         "showlegend": true,
         "x": [
          -36.84048843383789
         ],
         "y": [
          -7.528858184814453
         ],
         "z": [
          -1.282211422920227
         ],
         "type": "scatter3d"
        },
        {
         "hovertemplate": "title=Så Jag Lever Mitt Liv<br>comp_1=%{x}<br>comp_2=%{y}<br>comp_3=%{z}<extra></extra>",
         "legendgroup": "Så Jag Lever Mitt Liv",
         "marker": {
          "color": "#FFA15A",
          "symbol": "circle"
         },
         "mode": "markers",
         "name": "Så Jag Lever Mitt Liv",
         "scene": "scene",
         "showlegend": true,
         "x": [
          8.456337928771973
         ],
         "y": [
          17.398502349853516
         ],
         "z": [
          -1.831031322479248
         ],
         "type": "scatter3d"
        },
        {
         "hovertemplate": "title=Vi är kvar här<br>comp_1=%{x}<br>comp_2=%{y}<br>comp_3=%{z}<extra></extra>",
         "legendgroup": "Vi är kvar här",
         "marker": {
          "color": "#19d3f3",
          "symbol": "circle"
         },
         "mode": "markers",
         "name": "Vi är kvar här",
         "scene": "scene",
         "showlegend": true,
         "x": [
          10.087969779968262
         ],
         "y": [
          -7.49751091003418
         ],
         "z": [
          28.99308967590332
         ],
         "type": "scatter3d"
        },
        {
         "hovertemplate": "title=Jetlag<br>comp_1=%{x}<br>comp_2=%{y}<br>comp_3=%{z}<extra></extra>",
         "legendgroup": "Jetlag",
         "marker": {
          "color": "#FF6692",
          "symbol": "circle"
         },
         "mode": "markers",
         "name": "Jetlag",
         "scene": "scene",
         "showlegend": true,
         "x": [
          -11.09372615814209
         ],
         "y": [
          5.680417537689209
         ],
         "z": [
          -14.207486152648926
         ],
         "type": "scatter3d"
        },
        {
         "hovertemplate": "title=Vithaj (feat. sexfemman)<br>comp_1=%{x}<br>comp_2=%{y}<br>comp_3=%{z}<extra></extra>",
         "legendgroup": "Vithaj (feat. sexfemman)",
         "marker": {
          "color": "#B6E880",
          "symbol": "circle"
         },
         "mode": "markers",
         "name": "Vithaj (feat. sexfemman)",
         "scene": "scene",
         "showlegend": true,
         "x": [
          14.47763729095459
         ],
         "y": [
          8.973721504211426
         ],
         "z": [
          2.9161131381988525
         ],
         "type": "scatter3d"
        },
        {
         "hovertemplate": "title=Hela helgen<br>comp_1=%{x}<br>comp_2=%{y}<br>comp_3=%{z}<extra></extra>",
         "legendgroup": "Hela helgen",
         "marker": {
          "color": "#FF97FF",
          "symbol": "circle"
         },
         "mode": "markers",
         "name": "Hela helgen",
         "scene": "scene",
         "showlegend": true,
         "x": [
          3.8115742206573486
         ],
         "y": [
          11.584917068481445
         ],
         "z": [
          1.7897568941116333
         ],
         "type": "scatter3d"
        },
        {
         "hovertemplate": "title=Mina Gangsters<br>comp_1=%{x}<br>comp_2=%{y}<br>comp_3=%{z}<extra></extra>",
         "legendgroup": "Mina Gangsters",
         "marker": {
          "color": "#FECB52",
          "symbol": "circle"
         },
         "mode": "markers",
         "name": "Mina Gangsters",
         "scene": "scene",
         "showlegend": true,
         "x": [
          8.933462142944336
         ],
         "y": [
          13.095260620117188
         ],
         "z": [
          6.474672317504883
         ],
         "type": "scatter3d"
        },
        {
         "hovertemplate": "title=Lakan<br>comp_1=%{x}<br>comp_2=%{y}<br>comp_3=%{z}<extra></extra>",
         "legendgroup": "Lakan",
         "marker": {
          "color": "#636efa",
          "symbol": "circle"
         },
         "mode": "markers",
         "name": "Lakan",
         "scene": "scene",
         "showlegend": true,
         "x": [
          -36.13323211669922
         ],
         "y": [
          13.182595252990723
         ],
         "z": [
          3.0169591903686523
         ],
         "type": "scatter3d"
        },
        {
         "hovertemplate": "title=Du måste finnas<br>comp_1=%{x}<br>comp_2=%{y}<br>comp_3=%{z}<extra></extra>",
         "legendgroup": "Du måste finnas",
         "marker": {
          "color": "#EF553B",
          "symbol": "circle"
         },
         "mode": "markers",
         "name": "Du måste finnas",
         "scene": "scene",
         "showlegend": true,
         "x": [
          -13.17166805267334
         ],
         "y": [
          -1.9260444641113281
         ],
         "z": [
          -48.123172760009766
         ],
         "type": "scatter3d"
        },
        {
         "hovertemplate": "title=Samma gäri<br>comp_1=%{x}<br>comp_2=%{y}<br>comp_3=%{z}<extra></extra>",
         "legendgroup": "Samma gäri",
         "marker": {
          "color": "#00cc96",
          "symbol": "circle"
         },
         "mode": "markers",
         "name": "Samma gäri",
         "scene": "scene",
         "showlegend": true,
         "x": [
          19.71651268005371
         ],
         "y": [
          15.051926612854004
         ],
         "z": [
          39.53336715698242
         ],
         "type": "scatter3d"
        },
        {
         "hovertemplate": "title=Kanske var vi rätt bra ändå<br>comp_1=%{x}<br>comp_2=%{y}<br>comp_3=%{z}<extra></extra>",
         "legendgroup": "Kanske var vi rätt bra ändå",
         "marker": {
          "color": "#ab63fa",
          "symbol": "circle"
         },
         "mode": "markers",
         "name": "Kanske var vi rätt bra ändå",
         "scene": "scene",
         "showlegend": true,
         "x": [
          -37.18431091308594
         ],
         "y": [
          16.150245666503906
         ],
         "z": [
          -37.231849670410156
         ],
         "type": "scatter3d"
        },
        {
         "hovertemplate": "title=Kate Moss<br>comp_1=%{x}<br>comp_2=%{y}<br>comp_3=%{z}<extra></extra>",
         "legendgroup": "Kate Moss",
         "marker": {
          "color": "#FFA15A",
          "symbol": "circle"
         },
         "mode": "markers",
         "name": "Kate Moss",
         "scene": "scene",
         "showlegend": true,
         "x": [
          39.213130950927734
         ],
         "y": [
          -0.7971185445785522
         ],
         "z": [
          26.762693405151367
         ],
         "type": "scatter3d"
        },
        {
         "hovertemplate": "title=Jag gråter bara i regnet<br>comp_1=%{x}<br>comp_2=%{y}<br>comp_3=%{z}<extra></extra>",
         "legendgroup": "Jag gråter bara i regnet",
         "marker": {
          "color": "#19d3f3",
          "symbol": "circle"
         },
         "mode": "markers",
         "name": "Jag gråter bara i regnet",
         "scene": "scene",
         "showlegend": true,
         "x": [
          -21.60155487060547
         ],
         "y": [
          0.12204576283693314
         ],
         "z": [
          -42.78056716918945
         ],
         "type": "scatter3d"
        },
        {
         "hovertemplate": "title=Stark<br>comp_1=%{x}<br>comp_2=%{y}<br>comp_3=%{z}<extra></extra>",
         "legendgroup": "Stark",
         "marker": {
          "color": "#FF6692",
          "symbol": "circle"
         },
         "mode": "markers",
         "name": "Stark",
         "scene": "scene",
         "showlegend": true,
         "x": [
          -46.60664367675781
         ],
         "y": [
          8.778338432312012
         ],
         "z": [
          -32.871742248535156
         ],
         "type": "scatter3d"
        },
        {
         "hovertemplate": "title=Mi Amor<br>comp_1=%{x}<br>comp_2=%{y}<br>comp_3=%{z}<extra></extra>",
         "legendgroup": "Mi Amor",
         "marker": {
          "color": "#B6E880",
          "symbol": "circle"
         },
         "mode": "markers",
         "name": "Mi Amor",
         "scene": "scene",
         "showlegend": true,
         "x": [
          -43.50714874267578
         ],
         "y": [
          21.91886329650879
         ],
         "z": [
          23.285388946533203
         ],
         "type": "scatter3d"
        },
        {
         "hovertemplate": "title=Över dig<br>comp_1=%{x}<br>comp_2=%{y}<br>comp_3=%{z}<extra></extra>",
         "legendgroup": "Över dig",
         "marker": {
          "color": "#FF97FF",
          "symbol": "circle"
         },
         "mode": "markers",
         "name": "Över dig",
         "scene": "scene",
         "showlegend": true,
         "x": [
          21.703514099121094
         ],
         "y": [
          9.334207534790039
         ],
         "z": [
          -31.13593292236328
         ],
         "type": "scatter3d"
        },
        {
         "hovertemplate": "title=Längesen<br>comp_1=%{x}<br>comp_2=%{y}<br>comp_3=%{z}<extra></extra>",
         "legendgroup": "Längesen",
         "marker": {
          "color": "#FECB52",
          "symbol": "circle"
         },
         "mode": "markers",
         "name": "Längesen",
         "scene": "scene",
         "showlegend": true,
         "x": [
          -37.955387115478516
         ],
         "y": [
          -13.922442436218262
         ],
         "z": [
          -4.418062210083008
         ],
         "type": "scatter3d"
        },
        {
         "hovertemplate": "title=Toppen av ett berg<br>comp_1=%{x}<br>comp_2=%{y}<br>comp_3=%{z}<extra></extra>",
         "legendgroup": "Toppen av ett berg",
         "marker": {
          "color": "#636efa",
          "symbol": "circle"
         },
         "mode": "markers",
         "name": "Toppen av ett berg",
         "scene": "scene",
         "showlegend": true,
         "x": [
          26.33319091796875
         ],
         "y": [
          -28.439834594726562
         ],
         "z": [
          24.935977935791016
         ],
         "type": "scatter3d"
        },
        {
         "hovertemplate": "title=Lev nu dö sen<br>comp_1=%{x}<br>comp_2=%{y}<br>comp_3=%{z}<extra></extra>",
         "legendgroup": "Lev nu dö sen",
         "marker": {
          "color": "#EF553B",
          "symbol": "circle"
         },
         "mode": "markers",
         "name": "Lev nu dö sen",
         "scene": "scene",
         "showlegend": true,
         "x": [
          -2.6315910816192627
         ],
         "y": [
          -29.25979232788086
         ],
         "z": [
          -26.759218215942383
         ],
         "type": "scatter3d"
        },
        {
         "hovertemplate": "title=Kul på vägen<br>comp_1=%{x}<br>comp_2=%{y}<br>comp_3=%{z}<extra></extra>",
         "legendgroup": "Kul på vägen",
         "marker": {
          "color": "#00cc96",
          "symbol": "circle"
         },
         "mode": "markers",
         "name": "Kul på vägen",
         "scene": "scene",
         "showlegend": true,
         "x": [
          -14.253008842468262
         ],
         "y": [
          24.453256607055664
         ],
         "z": [
          7.022796630859375
         ],
         "type": "scatter3d"
        },
        {
         "hovertemplate": "title=Det går bra nu<br>comp_1=%{x}<br>comp_2=%{y}<br>comp_3=%{z}<extra></extra>",
         "legendgroup": "Det går bra nu",
         "marker": {
          "color": "#ab63fa",
          "symbol": "circle"
         },
         "mode": "markers",
         "name": "Det går bra nu",
         "scene": "scene",
         "showlegend": true,
         "x": [
          -15.513272285461426
         ],
         "y": [
          20.645370483398438
         ],
         "z": [
          37.48603820800781
         ],
         "type": "scatter3d"
        },
        {
         "hovertemplate": "title=Regnet<br>comp_1=%{x}<br>comp_2=%{y}<br>comp_3=%{z}<extra></extra>",
         "legendgroup": "Regnet",
         "marker": {
          "color": "#FFA15A",
          "symbol": "circle"
         },
         "mode": "markers",
         "name": "Regnet",
         "scene": "scene",
         "showlegend": true,
         "x": [
          -44.25261306762695
         ],
         "y": [
          8.660181999206543
         ],
         "z": [
          9.088221549987793
         ],
         "type": "scatter3d"
        },
        {
         "hovertemplate": "title=Fredrik Snortare & Cecilia Synd<br>comp_1=%{x}<br>comp_2=%{y}<br>comp_3=%{z}<extra></extra>",
         "legendgroup": "Fredrik Snortare & Cecilia Synd",
         "marker": {
          "color": "#19d3f3",
          "symbol": "circle"
         },
         "mode": "markers",
         "name": "Fredrik Snortare & Cecilia Synd",
         "scene": "scene",
         "showlegend": true,
         "x": [
          6.055553436279297
         ],
         "y": [
          -25.442699432373047
         ],
         "z": [
          0.8014287948608398
         ],
         "type": "scatter3d"
        },
        {
         "hovertemplate": "title=Vinden Har Vänt<br>comp_1=%{x}<br>comp_2=%{y}<br>comp_3=%{z}<extra></extra>",
         "legendgroup": "Vinden Har Vänt",
         "marker": {
          "color": "#FF6692",
          "symbol": "circle"
         },
         "mode": "markers",
         "name": "Vinden Har Vänt",
         "scene": "scene",
         "showlegend": true,
         "x": [
          -20.364288330078125
         ],
         "y": [
          11.97391414642334
         ],
         "z": [
          39.52534866333008
         ],
         "type": "scatter3d"
        },
        {
         "hovertemplate": "title=Mikrofonkåt<br>comp_1=%{x}<br>comp_2=%{y}<br>comp_3=%{z}<extra></extra>",
         "legendgroup": "Mikrofonkåt",
         "marker": {
          "color": "#B6E880",
          "symbol": "circle"
         },
         "mode": "markers",
         "name": "Mikrofonkåt",
         "scene": "scene",
         "showlegend": true,
         "x": [
          -13.911816596984863
         ],
         "y": [
          12.349245071411133
         ],
         "z": [
          36.773094177246094
         ],
         "type": "scatter3d"
        },
        {
         "hovertemplate": "title=Se på mig nu - Singelversion<br>comp_1=%{x}<br>comp_2=%{y}<br>comp_3=%{z}<extra></extra>",
         "legendgroup": "Se på mig nu - Singelversion",
         "marker": {
          "color": "#FF97FF",
          "symbol": "circle"
         },
         "mode": "markers",
         "name": "Se på mig nu - Singelversion",
         "scene": "scene",
         "showlegend": true,
         "x": [
          -22.148557662963867
         ],
         "y": [
          30.872398376464844
         ],
         "z": [
          -6.707339763641357
         ],
         "type": "scatter3d"
        },
        {
         "hovertemplate": "title=Mammas Gata<br>comp_1=%{x}<br>comp_2=%{y}<br>comp_3=%{z}<extra></extra>",
         "legendgroup": "Mammas Gata",
         "marker": {
          "color": "#FECB52",
          "symbol": "circle"
         },
         "mode": "markers",
         "name": "Mammas Gata",
         "scene": "scene",
         "showlegend": true,
         "x": [
          -36.821739196777344
         ],
         "y": [
          -1.226972222328186
         ],
         "z": [
          3.252962112426758
         ],
         "type": "scatter3d"
        },
        {
         "hovertemplate": "title=These Walls Don’t Lie<br>comp_1=%{x}<br>comp_2=%{y}<br>comp_3=%{z}<extra></extra>",
         "legendgroup": "These Walls Don’t Lie",
         "marker": {
          "color": "#636efa",
          "symbol": "circle"
         },
         "mode": "markers",
         "name": "These Walls Don’t Lie",
         "scene": "scene",
         "showlegend": true,
         "x": [
          63.426597595214844
         ],
         "y": [
          -3.4912068843841553
         ],
         "z": [
          -4.605093955993652
         ],
         "type": "scatter3d"
        },
        {
         "hovertemplate": "title=Long Distance Runner<br>comp_1=%{x}<br>comp_2=%{y}<br>comp_3=%{z}<extra></extra>",
         "legendgroup": "Long Distance Runner",
         "marker": {
          "color": "#EF553B",
          "symbol": "circle"
         },
         "mode": "markers",
         "name": "Long Distance Runner",
         "scene": "scene",
         "showlegend": true,
         "x": [
          57.50990295410156
         ],
         "y": [
          -0.5973548889160156
         ],
         "z": [
          -16.39118194580078
         ],
         "type": "scatter3d"
        },
        {
         "hovertemplate": "title=Svennebanan<br>comp_1=%{x}<br>comp_2=%{y}<br>comp_3=%{z}<extra></extra>",
         "legendgroup": "Svennebanan",
         "marker": {
          "color": "#00cc96",
          "symbol": "circle"
         },
         "mode": "markers",
         "name": "Svennebanan",
         "scene": "scene",
         "showlegend": true,
         "x": [
          13.056761741638184
         ],
         "y": [
          -17.373855590820312
         ],
         "z": [
          34.153404235839844
         ],
         "type": "scatter3d"
        },
        {
         "hovertemplate": "title=Lullabies to Myself<br>comp_1=%{x}<br>comp_2=%{y}<br>comp_3=%{z}<extra></extra>",
         "legendgroup": "Lullabies to Myself",
         "marker": {
          "color": "#ab63fa",
          "symbol": "circle"
         },
         "mode": "markers",
         "name": "Lullabies to Myself",
         "scene": "scene",
         "showlegend": true,
         "x": [
          47.19993209838867
         ],
         "y": [
          -9.570015907287598
         ],
         "z": [
          2.2700769901275635
         ],
         "type": "scatter3d"
        },
        {
         "hovertemplate": "title=Headache<br>comp_1=%{x}<br>comp_2=%{y}<br>comp_3=%{z}<extra></extra>",
         "legendgroup": "Headache",
         "marker": {
          "color": "#FFA15A",
          "symbol": "circle"
         },
         "mode": "markers",
         "name": "Headache",
         "scene": "scene",
         "showlegend": true,
         "x": [
          61.51948928833008
         ],
         "y": [
          -12.685620307922363
         ],
         "z": [
          -6.573967933654785
         ],
         "type": "scatter3d"
        },
        {
         "hovertemplate": "title=Dekadansen<br>comp_1=%{x}<br>comp_2=%{y}<br>comp_3=%{z}<extra></extra>",
         "legendgroup": "Dekadansen",
         "marker": {
          "color": "#19d3f3",
          "symbol": "circle"
         },
         "mode": "markers",
         "name": "Dekadansen",
         "scene": "scene",
         "showlegend": true,
         "x": [
          -16.93916893005371
         ],
         "y": [
          4.476853847503662
         ],
         "z": [
          19.73714256286621
         ],
         "type": "scatter3d"
        },
        {
         "hovertemplate": "title=Kråksången<br>comp_1=%{x}<br>comp_2=%{y}<br>comp_3=%{z}<extra></extra>",
         "legendgroup": "Kråksången",
         "marker": {
          "color": "#FF6692",
          "symbol": "circle"
         },
         "mode": "markers",
         "name": "Kråksången",
         "scene": "scene",
         "showlegend": true,
         "x": [
          -10.0990571975708
         ],
         "y": [
          -7.018035888671875
         ],
         "z": [
          -16.678909301757812
         ],
         "type": "scatter3d"
        },
        {
         "hovertemplate": "title=Off the Record<br>comp_1=%{x}<br>comp_2=%{y}<br>comp_3=%{z}<extra></extra>",
         "legendgroup": "Off the Record",
         "marker": {
          "color": "#B6E880",
          "symbol": "circle"
         },
         "mode": "markers",
         "name": "Off the Record",
         "scene": "scene",
         "showlegend": true,
         "x": [
          49.95254898071289
         ],
         "y": [
          -2.525265693664551
         ],
         "z": [
          -14.002286911010742
         ],
         "type": "scatter3d"
        },
        {
         "hovertemplate": "title=Vegan Pussy<br>comp_1=%{x}<br>comp_2=%{y}<br>comp_3=%{z}<extra></extra>",
         "legendgroup": "Vegan Pussy",
         "marker": {
          "color": "#FF97FF",
          "symbol": "circle"
         },
         "mode": "markers",
         "name": "Vegan Pussy",
         "scene": "scene",
         "showlegend": true,
         "x": [
          65.52556610107422
         ],
         "y": [
          5.918236255645752
         ],
         "z": [
          -27.040035247802734
         ],
         "type": "scatter3d"
        },
        {
         "hovertemplate": "title=Ingen Kärlek<br>comp_1=%{x}<br>comp_2=%{y}<br>comp_3=%{z}<extra></extra>",
         "legendgroup": "Ingen Kärlek",
         "marker": {
          "color": "#FECB52",
          "symbol": "circle"
         },
         "mode": "markers",
         "name": "Ingen Kärlek",
         "scene": "scene",
         "showlegend": true,
         "x": [
          -50.70856857299805
         ],
         "y": [
          24.27083969116211
         ],
         "z": [
          -9.261312484741211
         ],
         "type": "scatter3d"
        },
        {
         "hovertemplate": "title=På lokal<br>comp_1=%{x}<br>comp_2=%{y}<br>comp_3=%{z}<extra></extra>",
         "legendgroup": "På lokal",
         "marker": {
          "color": "#636efa",
          "symbol": "circle"
         },
         "mode": "markers",
         "name": "På lokal",
         "scene": "scene",
         "showlegend": true,
         "x": [
          -3.978153705596924
         ],
         "y": [
          -21.801494598388672
         ],
         "z": [
          10.4481840133667
         ],
         "type": "scatter3d"
        },
        {
         "hovertemplate": "title=Du kommer aldrig få se mig<br>comp_1=%{x}<br>comp_2=%{y}<br>comp_3=%{z}<extra></extra>",
         "legendgroup": "Du kommer aldrig få se mig",
         "marker": {
          "color": "#EF553B",
          "symbol": "circle"
         },
         "mode": "markers",
         "name": "Du kommer aldrig få se mig",
         "scene": "scene",
         "showlegend": true,
         "x": [
          -17.67205047607422
         ],
         "y": [
          -8.12890911102295
         ],
         "z": [
          -40.06075668334961
         ],
         "type": "scatter3d"
        },
        {
         "hovertemplate": "title=Psykofarmakajesus<br>comp_1=%{x}<br>comp_2=%{y}<br>comp_3=%{z}<extra></extra>",
         "legendgroup": "Psykofarmakajesus",
         "marker": {
          "color": "#00cc96",
          "symbol": "circle"
         },
         "mode": "markers",
         "name": "Psykofarmakajesus",
         "scene": "scene",
         "showlegend": true,
         "x": [
          -44.019229888916016
         ],
         "y": [
          -3.1364924907684326
         ],
         "z": [
          -10.3087739944458
         ],
         "type": "scatter3d"
        },
        {
         "hovertemplate": "title=Kakafoni<br>comp_1=%{x}<br>comp_2=%{y}<br>comp_3=%{z}<extra></extra>",
         "legendgroup": "Kakafoni",
         "marker": {
          "color": "#ab63fa",
          "symbol": "circle"
         },
         "mode": "markers",
         "name": "Kakafoni",
         "scene": "scene",
         "showlegend": true,
         "x": [
          -49.91041564941406
         ],
         "y": [
          6.632728576660156
         ],
         "z": [
          -3.914658546447754
         ],
         "type": "scatter3d"
        },
        {
         "hovertemplate": "title=Barrabas<br>comp_1=%{x}<br>comp_2=%{y}<br>comp_3=%{z}<extra></extra>",
         "legendgroup": "Barrabas",
         "marker": {
          "color": "#FFA15A",
          "symbol": "circle"
         },
         "mode": "markers",
         "name": "Barrabas",
         "scene": "scene",
         "showlegend": true,
         "x": [
          -39.136966705322266
         ],
         "y": [
          2.8655405044555664
         ],
         "z": [
          -5.0006937980651855
         ],
         "type": "scatter3d"
        },
        {
         "hovertemplate": "title=Blackout<br>comp_1=%{x}<br>comp_2=%{y}<br>comp_3=%{z}<extra></extra>",
         "legendgroup": "Blackout",
         "marker": {
          "color": "#19d3f3",
          "symbol": "circle"
         },
         "mode": "markers",
         "name": "Blackout",
         "scene": "scene",
         "showlegend": true,
         "x": [
          -41.70942306518555
         ],
         "y": [
          9.104373931884766
         ],
         "z": [
          -0.9869592189788818
         ],
         "type": "scatter3d"
        },
        {
         "hovertemplate": "title=Stanna hemma<br>comp_1=%{x}<br>comp_2=%{y}<br>comp_3=%{z}<extra></extra>",
         "legendgroup": "Stanna hemma",
         "marker": {
          "color": "#FF6692",
          "symbol": "circle"
         },
         "mode": "markers",
         "name": "Stanna hemma",
         "scene": "scene",
         "showlegend": true,
         "x": [
          -14.433670997619629
         ],
         "y": [
          -3.6386680603027344
         ],
         "z": [
          1.5584434270858765
         ],
         "type": "scatter3d"
        },
        {
         "hovertemplate": "title=Solen försvann<br>comp_1=%{x}<br>comp_2=%{y}<br>comp_3=%{z}<extra></extra>",
         "legendgroup": "Solen försvann",
         "marker": {
          "color": "#B6E880",
          "symbol": "circle"
         },
         "mode": "markers",
         "name": "Solen försvann",
         "scene": "scene",
         "showlegend": true,
         "x": [
          1.4911648035049438
         ],
         "y": [
          -6.3271942138671875
         ],
         "z": [
          -15.091714859008789
         ],
         "type": "scatter3d"
        },
        {
         "hovertemplate": "title=Anna<br>comp_1=%{x}<br>comp_2=%{y}<br>comp_3=%{z}<extra></extra>",
         "legendgroup": "Anna",
         "marker": {
          "color": "#FF97FF",
          "symbol": "circle"
         },
         "mode": "markers",
         "name": "Anna",
         "scene": "scene",
         "showlegend": true,
         "x": [
          -31.85247802734375
         ],
         "y": [
          18.10746192932129
         ],
         "z": [
          -4.257788181304932
         ],
         "type": "scatter3d"
        },
        {
         "hovertemplate": "title=Tänd Alla Ljus<br>comp_1=%{x}<br>comp_2=%{y}<br>comp_3=%{z}<extra></extra>",
         "legendgroup": "Tänd Alla Ljus",
         "marker": {
          "color": "#FECB52",
          "symbol": "circle"
         },
         "mode": "markers",
         "name": "Tänd Alla Ljus",
         "scene": "scene",
         "showlegend": true,
         "x": [
          12.041313171386719
         ],
         "y": [
          24.043415069580078
         ],
         "z": [
          -3.374941349029541
         ],
         "type": "scatter3d"
        },
        {
         "hovertemplate": "title=Svär på min mamma<br>comp_1=%{x}<br>comp_2=%{y}<br>comp_3=%{z}<extra></extra>",
         "legendgroup": "Svär på min mamma",
         "marker": {
          "color": "#636efa",
          "symbol": "circle"
         },
         "mode": "markers",
         "name": "Svär på min mamma",
         "scene": "scene",
         "showlegend": true,
         "x": [
          19.91049575805664
         ],
         "y": [
          -10.5681791305542
         ],
         "z": [
          -12.878571510314941
         ],
         "type": "scatter3d"
        },
        {
         "hovertemplate": "title=För Evigt<br>comp_1=%{x}<br>comp_2=%{y}<br>comp_3=%{z}<extra></extra>",
         "legendgroup": "För Evigt",
         "marker": {
          "color": "#EF553B",
          "symbol": "circle"
         },
         "mode": "markers",
         "name": "För Evigt",
         "scene": "scene",
         "showlegend": true,
         "x": [
          -38.865928649902344
         ],
         "y": [
          -5.756400108337402
         ],
         "z": [
          -34.58867263793945
         ],
         "type": "scatter3d"
        },
        {
         "hovertemplate": "title=I•M•A•M<br>comp_1=%{x}<br>comp_2=%{y}<br>comp_3=%{z}<extra></extra>",
         "legendgroup": "I•M•A•M",
         "marker": {
          "color": "#00cc96",
          "symbol": "circle"
         },
         "mode": "markers",
         "name": "I•M•A•M",
         "scene": "scene",
         "showlegend": true,
         "x": [
          30.995283126831055
         ],
         "y": [
          9.378876686096191
         ],
         "z": [
          34.10920333862305
         ],
         "type": "scatter3d"
        },
        {
         "hovertemplate": "title=Jag Dör För Dig<br>comp_1=%{x}<br>comp_2=%{y}<br>comp_3=%{z}<extra></extra>",
         "legendgroup": "Jag Dör För Dig",
         "marker": {
          "color": "#ab63fa",
          "symbol": "circle"
         },
         "mode": "markers",
         "name": "Jag Dör För Dig",
         "scene": "scene",
         "showlegend": true,
         "x": [
          -36.09310531616211
         ],
         "y": [
          -31.475942611694336
         ],
         "z": [
          -1.0378755331039429
         ],
         "type": "scatter3d"
        },
        {
         "hovertemplate": "title=Vikken Då<br>comp_1=%{x}<br>comp_2=%{y}<br>comp_3=%{z}<extra></extra>",
         "legendgroup": "Vikken Då",
         "marker": {
          "color": "#FFA15A",
          "symbol": "circle"
         },
         "mode": "markers",
         "name": "Vikken Då",
         "scene": "scene",
         "showlegend": true,
         "x": [
          -49.74562072753906
         ],
         "y": [
          9.36319637298584
         ],
         "z": [
          21.52921485900879
         ],
         "type": "scatter3d"
        },
        {
         "hovertemplate": "title=IMAM COBAIN<br>comp_1=%{x}<br>comp_2=%{y}<br>comp_3=%{z}<extra></extra>",
         "legendgroup": "IMAM COBAIN",
         "marker": {
          "color": "#19d3f3",
          "symbol": "circle"
         },
         "mode": "markers",
         "name": "IMAM COBAIN",
         "scene": "scene",
         "showlegend": true,
         "x": [
          27.019264221191406
         ],
         "y": [
          3.6940317153930664
         ],
         "z": [
          -7.8418049812316895
         ],
         "type": "scatter3d"
        },
        {
         "hovertemplate": "title=I min zon<br>comp_1=%{x}<br>comp_2=%{y}<br>comp_3=%{z}<extra></extra>",
         "legendgroup": "I min zon",
         "marker": {
          "color": "#FF6692",
          "symbol": "circle"
         },
         "mode": "markers",
         "name": "I min zon",
         "scene": "scene",
         "showlegend": true,
         "x": [
          -15.931201934814453
         ],
         "y": [
          10.823466300964355
         ],
         "z": [
          10.349979400634766
         ],
         "type": "scatter3d"
        },
        {
         "hovertemplate": "title=Sett Henne<br>comp_1=%{x}<br>comp_2=%{y}<br>comp_3=%{z}<extra></extra>",
         "legendgroup": "Sett Henne",
         "marker": {
          "color": "#B6E880",
          "symbol": "circle"
         },
         "mode": "markers",
         "name": "Sett Henne",
         "scene": "scene",
         "showlegend": true,
         "x": [
          -23.145084381103516
         ],
         "y": [
          16.172910690307617
         ],
         "z": [
          -10.86289119720459
         ],
         "type": "scatter3d"
        },
        {
         "hovertemplate": "title=Bulletproof Baby<br>comp_1=%{x}<br>comp_2=%{y}<br>comp_3=%{z}<extra></extra>",
         "legendgroup": "Bulletproof Baby",
         "marker": {
          "color": "#FF97FF",
          "symbol": "circle"
         },
         "mode": "markers",
         "name": "Bulletproof Baby",
         "scene": "scene",
         "showlegend": true,
         "x": [
          5.7548370361328125
         ],
         "y": [
          2.1947436332702637
         ],
         "z": [
          18.187400817871094
         ],
         "type": "scatter3d"
        },
        {
         "hovertemplate": "title=Mister Cool<br>comp_1=%{x}<br>comp_2=%{y}<br>comp_3=%{z}<extra></extra>",
         "legendgroup": "Mister Cool",
         "marker": {
          "color": "#FECB52",
          "symbol": "circle"
         },
         "mode": "markers",
         "name": "Mister Cool",
         "scene": "scene",
         "showlegend": true,
         "x": [
          30.531694412231445
         ],
         "y": [
          -30.49355125427246
         ],
         "z": [
          7.680630683898926
         ],
         "type": "scatter3d"
        },
        {
         "hovertemplate": "title=Längst fram i taxin<br>comp_1=%{x}<br>comp_2=%{y}<br>comp_3=%{z}<extra></extra>",
         "legendgroup": "Längst fram i taxin",
         "marker": {
          "color": "#636efa",
          "symbol": "circle"
         },
         "mode": "markers",
         "name": "Längst fram i taxin",
         "scene": "scene",
         "showlegend": true,
         "x": [
          9.3953275680542
         ],
         "y": [
          14.315156936645508
         ],
         "z": [
          -14.23003101348877
         ],
         "type": "scatter3d"
        },
        {
         "hovertemplate": "title=Kommer ifrån<br>comp_1=%{x}<br>comp_2=%{y}<br>comp_3=%{z}<extra></extra>",
         "legendgroup": "Kommer ifrån",
         "marker": {
          "color": "#EF553B",
          "symbol": "circle"
         },
         "mode": "markers",
         "name": "Kommer ifrån",
         "scene": "scene",
         "showlegend": true,
         "x": [
          -46.531795501708984
         ],
         "y": [
          -0.09615164250135422
         ],
         "z": [
          2.1055872440338135
         ],
         "type": "scatter3d"
        },
        {
         "hovertemplate": "title=Snook, svett & tårar<br>comp_1=%{x}<br>comp_2=%{y}<br>comp_3=%{z}<extra></extra>",
         "legendgroup": "Snook, svett & tårar",
         "marker": {
          "color": "#00cc96",
          "symbol": "circle"
         },
         "mode": "markers",
         "name": "Snook, svett & tårar",
         "scene": "scene",
         "showlegend": true,
         "x": [
          -18.50299072265625
         ],
         "y": [
          -14.081475257873535
         ],
         "z": [
          0.11981800943613052
         ],
         "type": "scatter3d"
        },
        {
         "hovertemplate": "title=Inga problem<br>comp_1=%{x}<br>comp_2=%{y}<br>comp_3=%{z}<extra></extra>",
         "legendgroup": "Inga problem",
         "marker": {
          "color": "#ab63fa",
          "symbol": "circle"
         },
         "mode": "markers",
         "name": "Inga problem",
         "scene": "scene",
         "showlegend": true,
         "x": [
          -47.25397491455078
         ],
         "y": [
          7.12884521484375
         ],
         "z": [
          -22.668643951416016
         ],
         "type": "scatter3d"
        },
        {
         "hovertemplate": "title=Lejonhjärta<br>comp_1=%{x}<br>comp_2=%{y}<br>comp_3=%{z}<extra></extra>",
         "legendgroup": "Lejonhjärta",
         "marker": {
          "color": "#FFA15A",
          "symbol": "circle"
         },
         "mode": "markers",
         "name": "Lejonhjärta",
         "scene": "scene",
         "showlegend": true,
         "x": [
          -34.52685546875
         ],
         "y": [
          12.983346939086914
         ],
         "z": [
          13.560403823852539
         ],
         "type": "scatter3d"
        },
        {
         "hovertemplate": "title=17 juni<br>comp_1=%{x}<br>comp_2=%{y}<br>comp_3=%{z}<extra></extra>",
         "legendgroup": "17 juni",
         "marker": {
          "color": "#19d3f3",
          "symbol": "circle"
         },
         "mode": "markers",
         "name": "17 juni",
         "scene": "scene",
         "showlegend": true,
         "x": [
          7.170716762542725
         ],
         "y": [
          13.41383171081543
         ],
         "z": [
          20.669780731201172
         ],
         "type": "scatter3d"
        },
        {
         "hovertemplate": "title=Hiphop<br>comp_1=%{x}<br>comp_2=%{y}<br>comp_3=%{z}<extra></extra>",
         "legendgroup": "Hiphop",
         "marker": {
          "color": "#FF6692",
          "symbol": "circle"
         },
         "mode": "markers",
         "name": "Hiphop",
         "scene": "scene",
         "showlegend": true,
         "x": [
          -24.27121925354004
         ],
         "y": [
          -0.11694388836622238
         ],
         "z": [
          41.46770477294922
         ],
         "type": "scatter3d"
        },
        {
         "hovertemplate": "title=Älskling jag är hemma nu<br>comp_1=%{x}<br>comp_2=%{y}<br>comp_3=%{z}<extra></extra>",
         "legendgroup": "Älskling jag är hemma nu",
         "marker": {
          "color": "#B6E880",
          "symbol": "circle"
         },
         "mode": "markers",
         "name": "Älskling jag är hemma nu",
         "scene": "scene",
         "showlegend": true,
         "x": [
          -16.954269409179688
         ],
         "y": [
          -9.307938575744629
         ],
         "z": [
          -25.486480712890625
         ],
         "type": "scatter3d"
        },
        {
         "hovertemplate": "title=Bejbi<br>comp_1=%{x}<br>comp_2=%{y}<br>comp_3=%{z}<extra></extra>",
         "legendgroup": "Bejbi",
         "marker": {
          "color": "#FF97FF",
          "symbol": "circle"
         },
         "mode": "markers",
         "name": "Bejbi",
         "scene": "scene",
         "showlegend": true,
         "x": [
          -31.089330673217773
         ],
         "y": [
          -7.075074672698975
         ],
         "z": [
          8.377265930175781
         ],
         "type": "scatter3d"
        },
        {
         "hovertemplate": "title=This Kind of Funk<br>comp_1=%{x}<br>comp_2=%{y}<br>comp_3=%{z}<extra></extra>",
         "legendgroup": "This Kind of Funk",
         "marker": {
          "color": "#FECB52",
          "symbol": "circle"
         },
         "mode": "markers",
         "name": "This Kind of Funk",
         "scene": "scene",
         "showlegend": true,
         "x": [
          57.673133850097656
         ],
         "y": [
          -18.904098510742188
         ],
         "z": [
          0.9526852965354919
         ],
         "type": "scatter3d"
        },
        {
         "hovertemplate": "title=Snapphaneklanen<br>comp_1=%{x}<br>comp_2=%{y}<br>comp_3=%{z}<extra></extra>",
         "legendgroup": "Snapphaneklanen",
         "marker": {
          "color": "#636efa",
          "symbol": "circle"
         },
         "mode": "markers",
         "name": "Snapphaneklanen",
         "scene": "scene",
         "showlegend": true,
         "x": [
          -28.982919692993164
         ],
         "y": [
          5.858326435089111
         ],
         "z": [
          28.703649520874023
         ],
         "type": "scatter3d"
        },
        {
         "hovertemplate": "title=Du Vill Så Du Kan<br>comp_1=%{x}<br>comp_2=%{y}<br>comp_3=%{z}<extra></extra>",
         "legendgroup": "Du Vill Så Du Kan",
         "marker": {
          "color": "#EF553B",
          "symbol": "circle"
         },
         "mode": "markers",
         "name": "Du Vill Så Du Kan",
         "scene": "scene",
         "showlegend": true,
         "x": [
          -40.929969787597656
         ],
         "y": [
          14.507110595703125
         ],
         "z": [
          -8.396724700927734
         ],
         "type": "scatter3d"
        },
        {
         "hovertemplate": "title=Vakna<br>comp_1=%{x}<br>comp_2=%{y}<br>comp_3=%{z}<extra></extra>",
         "legendgroup": "Vakna",
         "marker": {
          "color": "#00cc96",
          "symbol": "circle"
         },
         "mode": "markers",
         "name": "Vakna",
         "scene": "scene",
         "showlegend": true,
         "x": [
          -55.02428436279297
         ],
         "y": [
          12.400010108947754
         ],
         "z": [
          5.859129905700684
         ],
         "type": "scatter3d"
        },
        {
         "hovertemplate": "title=Ctrl+alt+del<br>comp_1=%{x}<br>comp_2=%{y}<br>comp_3=%{z}<extra></extra>",
         "legendgroup": "Ctrl+alt+del",
         "marker": {
          "color": "#ab63fa",
          "symbol": "circle"
         },
         "mode": "markers",
         "name": "Ctrl+alt+del",
         "scene": "scene",
         "showlegend": true,
         "x": [
          -49.69902420043945
         ],
         "y": [
          18.598966598510742
         ],
         "z": [
          5.003593444824219
         ],
         "type": "scatter3d"
        },
        {
         "hovertemplate": "title=Falsk Matematik (Del III)<br>comp_1=%{x}<br>comp_2=%{y}<br>comp_3=%{z}<extra></extra>",
         "legendgroup": "Falsk Matematik (Del III)",
         "marker": {
          "color": "#FFA15A",
          "symbol": "circle"
         },
         "mode": "markers",
         "name": "Falsk Matematik (Del III)",
         "scene": "scene",
         "showlegend": true,
         "x": [
          -21.211013793945312
         ],
         "y": [
          7.807006359100342
         ],
         "z": [
          31.825443267822266
         ],
         "type": "scatter3d"
        },
        {
         "hovertemplate": "title=Kenneths Nya<br>comp_1=%{x}<br>comp_2=%{y}<br>comp_3=%{z}<extra></extra>",
         "legendgroup": "Kenneths Nya",
         "marker": {
          "color": "#19d3f3",
          "symbol": "circle"
         },
         "mode": "markers",
         "name": "Kenneths Nya",
         "scene": "scene",
         "showlegend": true,
         "x": [
          -41.943695068359375
         ],
         "y": [
          7.34798526763916
         ],
         "z": [
          -9.945554733276367
         ],
         "type": "scatter3d"
        },
        {
         "hovertemplate": "title=Mäster Bläster<br>comp_1=%{x}<br>comp_2=%{y}<br>comp_3=%{z}<extra></extra>",
         "legendgroup": "Mäster Bläster",
         "marker": {
          "color": "#FF6692",
          "symbol": "circle"
         },
         "mode": "markers",
         "name": "Mäster Bläster",
         "scene": "scene",
         "showlegend": true,
         "x": [
          -16.304534912109375
         ],
         "y": [
          3.982797622680664
         ],
         "z": [
          37.51417541503906
         ],
         "type": "scatter3d"
        },
        {
         "hovertemplate": "title=En Varning<br>comp_1=%{x}<br>comp_2=%{y}<br>comp_3=%{z}<extra></extra>",
         "legendgroup": "En Varning",
         "marker": {
          "color": "#B6E880",
          "symbol": "circle"
         },
         "mode": "markers",
         "name": "En Varning",
         "scene": "scene",
         "showlegend": true,
         "x": [
          -51.505035400390625
         ],
         "y": [
          18.154558181762695
         ],
         "z": [
          12.033451080322266
         ],
         "type": "scatter3d"
        },
        {
         "hovertemplate": "title=Vetande<br>comp_1=%{x}<br>comp_2=%{y}<br>comp_3=%{z}<extra></extra>",
         "legendgroup": "Vetande",
         "marker": {
          "color": "#FF97FF",
          "symbol": "circle"
         },
         "mode": "markers",
         "name": "Vetande",
         "scene": "scene",
         "showlegend": true,
         "x": [
          -54.45058059692383
         ],
         "y": [
          18.69847297668457
         ],
         "z": [
          -1.6551109552383423
         ],
         "type": "scatter3d"
        },
        {
         "hovertemplate": "title=Okunskap<br>comp_1=%{x}<br>comp_2=%{y}<br>comp_3=%{z}<extra></extra>",
         "legendgroup": "Okunskap",
         "marker": {
          "color": "#FECB52",
          "symbol": "circle"
         },
         "mode": "markers",
         "name": "Okunskap",
         "scene": "scene",
         "showlegend": true,
         "x": [
          -58.186100006103516
         ],
         "y": [
          23.45482635498047
         ],
         "z": [
          4.446232795715332
         ],
         "type": "scatter3d"
        },
        {
         "hovertemplate": "title=Cashen dom tas<br>comp_1=%{x}<br>comp_2=%{y}<br>comp_3=%{z}<extra></extra>",
         "legendgroup": "Cashen dom tas",
         "marker": {
          "color": "#636efa",
          "symbol": "circle"
         },
         "mode": "markers",
         "name": "Cashen dom tas",
         "scene": "scene",
         "showlegend": true,
         "x": [
          -14.974991798400879
         ],
         "y": [
          16.377010345458984
         ],
         "z": [
          47.66204833984375
         ],
         "type": "scatter3d"
        },
        {
         "hovertemplate": "title=De E Knas<br>comp_1=%{x}<br>comp_2=%{y}<br>comp_3=%{z}<extra></extra>",
         "legendgroup": "De E Knas",
         "marker": {
          "color": "#EF553B",
          "symbol": "circle"
         },
         "mode": "markers",
         "name": "De E Knas",
         "scene": "scene",
         "showlegend": true,
         "x": [
          -34.724735260009766
         ],
         "y": [
          28.525333404541016
         ],
         "z": [
          -6.370769023895264
         ],
         "type": "scatter3d"
        },
        {
         "hovertemplate": "title=Snubben<br>comp_1=%{x}<br>comp_2=%{y}<br>comp_3=%{z}<extra></extra>",
         "legendgroup": "Snubben",
         "marker": {
          "color": "#00cc96",
          "symbol": "circle"
         },
         "mode": "markers",
         "name": "Snubben",
         "scene": "scene",
         "showlegend": true,
         "x": [
          -15.825240135192871
         ],
         "y": [
          -5.3810038566589355
         ],
         "z": [
          -7.00656795501709
         ],
         "type": "scatter3d"
        },
        {
         "hovertemplate": "title=Blend Dom<br>comp_1=%{x}<br>comp_2=%{y}<br>comp_3=%{z}<extra></extra>",
         "legendgroup": "Blend Dom",
         "marker": {
          "color": "#ab63fa",
          "symbol": "circle"
         },
         "mode": "markers",
         "name": "Blend Dom",
         "scene": "scene",
         "showlegend": true,
         "x": [
          -3.1405673027038574
         ],
         "y": [
          5.384688377380371
         ],
         "z": [
          16.000762939453125
         ],
         "type": "scatter3d"
        },
        {
         "hovertemplate": "title=Mecka<br>comp_1=%{x}<br>comp_2=%{y}<br>comp_3=%{z}<extra></extra>",
         "legendgroup": "Mecka",
         "marker": {
          "color": "#FFA15A",
          "symbol": "circle"
         },
         "mode": "markers",
         "name": "Mecka",
         "scene": "scene",
         "showlegend": true,
         "x": [
          13.713776588439941
         ],
         "y": [
          -9.111071586608887
         ],
         "z": [
          -31.04475212097168
         ],
         "type": "scatter3d"
        },
        {
         "hovertemplate": "title=Fint Väder<br>comp_1=%{x}<br>comp_2=%{y}<br>comp_3=%{z}<extra></extra>",
         "legendgroup": "Fint Väder",
         "marker": {
          "color": "#19d3f3",
          "symbol": "circle"
         },
         "mode": "markers",
         "name": "Fint Väder",
         "scene": "scene",
         "showlegend": true,
         "x": [
          -16.240041732788086
         ],
         "y": [
          -23.189773559570312
         ],
         "z": [
          -15.543882369995117
         ],
         "type": "scatter3d"
        },
        {
         "hovertemplate": "title=Kompisar från förr<br>comp_1=%{x}<br>comp_2=%{y}<br>comp_3=%{z}<extra></extra>",
         "legendgroup": "Kompisar från förr",
         "marker": {
          "color": "#FF6692",
          "symbol": "circle"
         },
         "mode": "markers",
         "name": "Kompisar från förr",
         "scene": "scene",
         "showlegend": true,
         "x": [
          -43.219181060791016
         ],
         "y": [
          -14.453271865844727
         ],
         "z": [
          14.043437957763672
         ],
         "type": "scatter3d"
        },
        {
         "hovertemplate": "title=Borta I Tankar<br>comp_1=%{x}<br>comp_2=%{y}<br>comp_3=%{z}<extra></extra>",
         "legendgroup": "Borta I Tankar",
         "marker": {
          "color": "#B6E880",
          "symbol": "circle"
         },
         "mode": "markers",
         "name": "Borta I Tankar",
         "scene": "scene",
         "showlegend": true,
         "x": [
          -34.947898864746094
         ],
         "y": [
          1.704039216041565
         ],
         "z": [
          -12.526302337646484
         ],
         "type": "scatter3d"
        },
        {
         "hovertemplate": "title=Halva Inne<br>comp_1=%{x}<br>comp_2=%{y}<br>comp_3=%{z}<extra></extra>",
         "legendgroup": "Halva Inne",
         "marker": {
          "color": "#FF97FF",
          "symbol": "circle"
         },
         "mode": "markers",
         "name": "Halva Inne",
         "scene": "scene",
         "showlegend": true,
         "x": [
          -7.205165386199951
         ],
         "y": [
          -20.655330657958984
         ],
         "z": [
          -15.693390846252441
         ],
         "type": "scatter3d"
        },
        {
         "hovertemplate": "title=Ainaziz<br>comp_1=%{x}<br>comp_2=%{y}<br>comp_3=%{z}<extra></extra>",
         "legendgroup": "Ainaziz",
         "marker": {
          "color": "#FECB52",
          "symbol": "circle"
         },
         "mode": "markers",
         "name": "Ainaziz",
         "scene": "scene",
         "showlegend": true,
         "x": [
          -18.43293571472168
         ],
         "y": [
          0.8310208320617676
         ],
         "z": [
          28.607282638549805
         ],
         "type": "scatter3d"
        },
        {
         "hovertemplate": "title=Hiphopper<br>comp_1=%{x}<br>comp_2=%{y}<br>comp_3=%{z}<extra></extra>",
         "legendgroup": "Hiphopper",
         "marker": {
          "color": "#636efa",
          "symbol": "circle"
         },
         "mode": "markers",
         "name": "Hiphopper",
         "scene": "scene",
         "showlegend": true,
         "x": [
          38.52131271362305
         ],
         "y": [
          6.0161519050598145
         ],
         "z": [
          -32.19263458251953
         ],
         "type": "scatter3d"
        },
        {
         "hovertemplate": "title=Hiphopper feat: Teddybears STHLM<br>comp_1=%{x}<br>comp_2=%{y}<br>comp_3=%{z}<extra></extra>",
         "legendgroup": "Hiphopper feat: Teddybears STHLM",
         "marker": {
          "color": "#EF553B",
          "symbol": "circle"
         },
         "mode": "markers",
         "name": "Hiphopper feat: Teddybears STHLM",
         "scene": "scene",
         "showlegend": true,
         "x": [
          44.76237487792969
         ],
         "y": [
          5.4797258377075195
         ],
         "z": [
          -35.943389892578125
         ],
         "type": "scatter3d"
        },
        {
         "hovertemplate": "title=All yours feat: awa<br>comp_1=%{x}<br>comp_2=%{y}<br>comp_3=%{z}<extra></extra>",
         "legendgroup": "All yours feat: awa",
         "marker": {
          "color": "#00cc96",
          "symbol": "circle"
         },
         "mode": "markers",
         "name": "All yours feat: awa",
         "scene": "scene",
         "showlegend": true,
         "x": [
          47.57120132446289
         ],
         "y": [
          13.298436164855957
         ],
         "z": [
          -17.290546417236328
         ],
         "type": "scatter3d"
        },
        {
         "hovertemplate": "title=Featherweight<br>comp_1=%{x}<br>comp_2=%{y}<br>comp_3=%{z}<extra></extra>",
         "legendgroup": "Featherweight",
         "marker": {
          "color": "#ab63fa",
          "symbol": "circle"
         },
         "mode": "markers",
         "name": "Featherweight",
         "scene": "scene",
         "showlegend": true,
         "x": [
          57.874778747558594
         ],
         "y": [
          -17.236177444458008
         ],
         "z": [
          -13.031168937683105
         ],
         "type": "scatter3d"
        },
        {
         "hovertemplate": "title=Spinning<br>comp_1=%{x}<br>comp_2=%{y}<br>comp_3=%{z}<extra></extra>",
         "legendgroup": "Spinning",
         "marker": {
          "color": "#FFA15A",
          "symbol": "circle"
         },
         "mode": "markers",
         "name": "Spinning",
         "scene": "scene",
         "showlegend": true,
         "x": [
          47.272682189941406
         ],
         "y": [
          -17.250171661376953
         ],
         "z": [
          -15.772278785705566
         ],
         "type": "scatter3d"
        },
        {
         "hovertemplate": "title=Wrenches<br>comp_1=%{x}<br>comp_2=%{y}<br>comp_3=%{z}<extra></extra>",
         "legendgroup": "Wrenches",
         "marker": {
          "color": "#19d3f3",
          "symbol": "circle"
         },
         "mode": "markers",
         "name": "Wrenches",
         "scene": "scene",
         "showlegend": true,
         "x": [
          65.98792266845703
         ],
         "y": [
          -1.2369331121444702
         ],
         "z": [
          -20.319293975830078
         ],
         "type": "scatter3d"
        },
        {
         "hovertemplate": "title=Migraine<br>comp_1=%{x}<br>comp_2=%{y}<br>comp_3=%{z}<extra></extra>",
         "legendgroup": "Migraine",
         "marker": {
          "color": "#FF6692",
          "symbol": "circle"
         },
         "mode": "markers",
         "name": "Migraine",
         "scene": "scene",
         "showlegend": true,
         "x": [
          53.900882720947266
         ],
         "y": [
          -9.514399528503418
         ],
         "z": [
          -10.965178489685059
         ],
         "type": "scatter3d"
        },
        {
         "hovertemplate": "title=Hiphopper - Feat. Teddybears Sthlm, Single Edit<br>comp_1=%{x}<br>comp_2=%{y}<br>comp_3=%{z}<extra></extra>",
         "legendgroup": "Hiphopper - Feat. Teddybears Sthlm, Single Edit",
         "marker": {
          "color": "#B6E880",
          "symbol": "circle"
         },
         "mode": "markers",
         "name": "Hiphopper - Feat. Teddybears Sthlm, Single Edit",
         "scene": "scene",
         "showlegend": true,
         "x": [
          41.96723937988281
         ],
         "y": [
          11.464109420776367
         ],
         "z": [
          -33.84904479980469
         ],
         "type": "scatter3d"
        },
        {
         "hovertemplate": "title=She (feat. masayah)<br>comp_1=%{x}<br>comp_2=%{y}<br>comp_3=%{z}<extra></extra>",
         "legendgroup": "She (feat. masayah)",
         "marker": {
          "color": "#FF97FF",
          "symbol": "circle"
         },
         "mode": "markers",
         "name": "She (feat. masayah)",
         "scene": "scene",
         "showlegend": true,
         "x": [
          52.11815643310547
         ],
         "y": [
          3.4449100494384766
         ],
         "z": [
          4.368502616882324
         ],
         "type": "scatter3d"
        },
        {
         "hovertemplate": "title=In the Sun<br>comp_1=%{x}<br>comp_2=%{y}<br>comp_3=%{z}<extra></extra>",
         "legendgroup": "In the Sun",
         "marker": {
          "color": "#FECB52",
          "symbol": "circle"
         },
         "mode": "markers",
         "name": "In the Sun",
         "scene": "scene",
         "showlegend": true,
         "x": [
          71.33612823486328
         ],
         "y": [
          -6.81215238571167
         ],
         "z": [
          -13.068796157836914
         ],
         "type": "scatter3d"
        },
        {
         "hovertemplate": "title=Alla vill till himmelen men ingen vill dö<br>comp_1=%{x}<br>comp_2=%{y}<br>comp_3=%{z}<extra></extra>",
         "legendgroup": "Alla vill till himmelen men ingen vill dö",
         "marker": {
          "color": "#636efa",
          "symbol": "circle"
         },
         "mode": "markers",
         "name": "Alla vill till himmelen men ingen vill dö",
         "scene": "scene",
         "showlegend": true,
         "x": [
          -57.34305191040039
         ],
         "y": [
          14.043083190917969
         ],
         "z": [
          -9.443306922912598
         ],
         "type": "scatter3d"
        },
        {
         "hovertemplate": "title=Resten av ditt liv<br>comp_1=%{x}<br>comp_2=%{y}<br>comp_3=%{z}<extra></extra>",
         "legendgroup": "Resten av ditt liv",
         "marker": {
          "color": "#EF553B",
          "symbol": "circle"
         },
         "mode": "markers",
         "name": "Resten av ditt liv",
         "scene": "scene",
         "showlegend": true,
         "x": [
          -36.230499267578125
         ],
         "y": [
          1.2844141721725464
         ],
         "z": [
          -29.67028045654297
         ],
         "type": "scatter3d"
        },
        {
         "hovertemplate": "title=Flickan Och Kråkan<br>comp_1=%{x}<br>comp_2=%{y}<br>comp_3=%{z}<extra></extra>",
         "legendgroup": "Flickan Och Kråkan",
         "marker": {
          "color": "#00cc96",
          "symbol": "circle"
         },
         "mode": "markers",
         "name": "Flickan Och Kråkan",
         "scene": "scene",
         "showlegend": true,
         "x": [
          -25.559926986694336
         ],
         "y": [
          -39.33417892456055
         ],
         "z": [
          -5.2953691482543945
         ],
         "type": "scatter3d"
        },
        {
         "hovertemplate": "title=The Botten Is Nådd<br>comp_1=%{x}<br>comp_2=%{y}<br>comp_3=%{z}<extra></extra>",
         "legendgroup": "The Botten Is Nådd",
         "marker": {
          "color": "#ab63fa",
          "symbol": "circle"
         },
         "mode": "markers",
         "name": "The Botten Is Nådd",
         "scene": "scene",
         "showlegend": true,
         "x": [
          -29.667823791503906
         ],
         "y": [
          6.327387809753418
         ],
         "z": [
          -23.96795082092285
         ],
         "type": "scatter3d"
        },
        {
         "hovertemplate": "title=Spring<br>comp_1=%{x}<br>comp_2=%{y}<br>comp_3=%{z}<extra></extra>",
         "legendgroup": "Spring",
         "marker": {
          "color": "#FFA15A",
          "symbol": "circle"
         },
         "mode": "markers",
         "name": "Spring",
         "scene": "scene",
         "showlegend": true,
         "x": [
          -31.740711212158203
         ],
         "y": [
          28.347572326660156
         ],
         "z": [
          15.814676284790039
         ],
         "type": "scatter3d"
        },
        {
         "hovertemplate": "title=Fallskärm<br>comp_1=%{x}<br>comp_2=%{y}<br>comp_3=%{z}<extra></extra>",
         "legendgroup": "Fallskärm",
         "marker": {
          "color": "#19d3f3",
          "symbol": "circle"
         },
         "mode": "markers",
         "name": "Fallskärm",
         "scene": "scene",
         "showlegend": true,
         "x": [
          -16.058837890625
         ],
         "y": [
          -27.243804931640625
         ],
         "z": [
          14.052571296691895
         ],
         "type": "scatter3d"
        },
        {
         "hovertemplate": "title=Inte stor nog<br>comp_1=%{x}<br>comp_2=%{y}<br>comp_3=%{z}<extra></extra>",
         "legendgroup": "Inte stor nog",
         "marker": {
          "color": "#FF6692",
          "symbol": "circle"
         },
         "mode": "markers",
         "name": "Inte stor nog",
         "scene": "scene",
         "showlegend": true,
         "x": [
          -48.15492248535156
         ],
         "y": [
          21.807273864746094
         ],
         "z": [
          -31.24428367614746
         ],
         "type": "scatter3d"
        },
        {
         "hovertemplate": "title=Det löser sej<br>comp_1=%{x}<br>comp_2=%{y}<br>comp_3=%{z}<extra></extra>",
         "legendgroup": "Det löser sej",
         "marker": {
          "color": "#B6E880",
          "symbol": "circle"
         },
         "mode": "markers",
         "name": "Det löser sej",
         "scene": "scene",
         "showlegend": true,
         "x": [
          -35.700157165527344
         ],
         "y": [
          24.858747482299805
         ],
         "z": [
          -14.927992820739746
         ],
         "type": "scatter3d"
        },
        {
         "hovertemplate": "title=Den svenska skammen<br>comp_1=%{x}<br>comp_2=%{y}<br>comp_3=%{z}<extra></extra>",
         "legendgroup": "Den svenska skammen",
         "marker": {
          "color": "#FF97FF",
          "symbol": "circle"
         },
         "mode": "markers",
         "name": "Den svenska skammen",
         "scene": "scene",
         "showlegend": true,
         "x": [
          -20.58220672607422
         ],
         "y": [
          -11.156628608703613
         ],
         "z": [
          12.125554084777832
         ],
         "type": "scatter3d"
        },
        {
         "hovertemplate": "title=Misstänkt<br>comp_1=%{x}<br>comp_2=%{y}<br>comp_3=%{z}<extra></extra>",
         "legendgroup": "Misstänkt",
         "marker": {
          "color": "#FECB52",
          "symbol": "circle"
         },
         "mode": "markers",
         "name": "Misstänkt",
         "scene": "scene",
         "showlegend": true,
         "x": [
          -42.925636291503906
         ],
         "y": [
          22.975215911865234
         ],
         "z": [
          -3.4620563983917236
         ],
         "type": "scatter3d"
        },
        {
         "hovertemplate": "title=Säga mig<br>comp_1=%{x}<br>comp_2=%{y}<br>comp_3=%{z}<extra></extra>",
         "legendgroup": "Säga mig",
         "marker": {
          "color": "#636efa",
          "symbol": "circle"
         },
         "mode": "markers",
         "name": "Säga mig",
         "scene": "scene",
         "showlegend": true,
         "x": [
          -39.57325744628906
         ],
         "y": [
          -18.393463134765625
         ],
         "z": [
          -12.012848854064941
         ],
         "type": "scatter3d"
        },
        {
         "hovertemplate": "title=Svartskallar<br>comp_1=%{x}<br>comp_2=%{y}<br>comp_3=%{z}<extra></extra>",
         "legendgroup": "Svartskallar",
         "marker": {
          "color": "#EF553B",
          "symbol": "circle"
         },
         "mode": "markers",
         "name": "Svartskallar",
         "scene": "scene",
         "showlegend": true,
         "x": [
          -1.2483147382736206
         ],
         "y": [
          -9.38547134399414
         ],
         "z": [
          36.69249725341797
         ],
         "type": "scatter3d"
        },
        {
         "hovertemplate": "title=Stolthet<br>comp_1=%{x}<br>comp_2=%{y}<br>comp_3=%{z}<extra></extra>",
         "legendgroup": "Stolthet",
         "marker": {
          "color": "#00cc96",
          "symbol": "circle"
         },
         "mode": "markers",
         "name": "Stolthet",
         "scene": "scene",
         "showlegend": true,
         "x": [
          -20.13981056213379
         ],
         "y": [
          -27.23365592956543
         ],
         "z": [
          -3.608426094055176
         ],
         "type": "scatter3d"
        },
        {
         "hovertemplate": "title=Vägen hem<br>comp_1=%{x}<br>comp_2=%{y}<br>comp_3=%{z}<extra></extra>",
         "legendgroup": "Vägen hem",
         "marker": {
          "color": "#ab63fa",
          "symbol": "circle"
         },
         "mode": "markers",
         "name": "Vägen hem",
         "scene": "scene",
         "showlegend": true,
         "x": [
          -16.324424743652344
         ],
         "y": [
          35.806373596191406
         ],
         "z": [
          -1.0096360445022583
         ],
         "type": "scatter3d"
        },
        {
         "hovertemplate": "title=Nightime<br>comp_1=%{x}<br>comp_2=%{y}<br>comp_3=%{z}<extra></extra>",
         "legendgroup": "Nightime",
         "marker": {
          "color": "#FFA15A",
          "symbol": "circle"
         },
         "mode": "markers",
         "name": "Nightime",
         "scene": "scene",
         "showlegend": true,
         "x": [
          26.758485794067383
         ],
         "y": [
          18.035140991210938
         ],
         "z": [
          12.994695663452148
         ],
         "type": "scatter3d"
        },
        {
         "hovertemplate": "title=Pappas låt<br>comp_1=%{x}<br>comp_2=%{y}<br>comp_3=%{z}<extra></extra>",
         "legendgroup": "Pappas låt",
         "marker": {
          "color": "#19d3f3",
          "symbol": "circle"
         },
         "mode": "markers",
         "name": "Pappas låt",
         "scene": "scene",
         "showlegend": true,
         "x": [
          -31.56074333190918
         ],
         "y": [
          -37.35114669799805
         ],
         "z": [
          -15.56106185913086
         ],
         "type": "scatter3d"
        },
        {
         "hovertemplate": "title=Elden<br>comp_1=%{x}<br>comp_2=%{y}<br>comp_3=%{z}<extra></extra>",
         "legendgroup": "Elden",
         "marker": {
          "color": "#FF6692",
          "symbol": "circle"
         },
         "mode": "markers",
         "name": "Elden",
         "scene": "scene",
         "showlegend": true,
         "x": [
          12.049324035644531
         ],
         "y": [
          7.6283278465271
         ],
         "z": [
          26.272598266601562
         ],
         "type": "scatter3d"
        },
        {
         "hovertemplate": "title=Mitt folk<br>comp_1=%{x}<br>comp_2=%{y}<br>comp_3=%{z}<extra></extra>",
         "legendgroup": "Mitt folk",
         "marker": {
          "color": "#B6E880",
          "symbol": "circle"
         },
         "mode": "markers",
         "name": "Mitt folk",
         "scene": "scene",
         "showlegend": true,
         "x": [
          -24.230154037475586
         ],
         "y": [
          -6.697215557098389
         ],
         "z": [
          26.83910369873047
         ],
         "type": "scatter3d"
        },
        {
         "hovertemplate": "title=Rom & Kush<br>comp_1=%{x}<br>comp_2=%{y}<br>comp_3=%{z}<extra></extra>",
         "legendgroup": "Rom & Kush",
         "marker": {
          "color": "#FF97FF",
          "symbol": "circle"
         },
         "mode": "markers",
         "name": "Rom & Kush",
         "scene": "scene",
         "showlegend": true,
         "x": [
          16.284160614013672
         ],
         "y": [
          8.374861717224121
         ],
         "z": [
          32.9836311340332
         ],
         "type": "scatter3d"
        },
        {
         "hovertemplate": "title=FUBU<br>comp_1=%{x}<br>comp_2=%{y}<br>comp_3=%{z}<extra></extra>",
         "legendgroup": "FUBU",
         "marker": {
          "color": "#FECB52",
          "symbol": "circle"
         },
         "mode": "markers",
         "name": "FUBU",
         "scene": "scene",
         "showlegend": true,
         "x": [
          18.709911346435547
         ],
         "y": [
          -10.749789237976074
         ],
         "z": [
          32.29436492919922
         ],
         "type": "scatter3d"
        },
        {
         "hovertemplate": "title=Fläta/Inte mitt krig<br>comp_1=%{x}<br>comp_2=%{y}<br>comp_3=%{z}<extra></extra>",
         "legendgroup": "Fläta/Inte mitt krig",
         "marker": {
          "color": "#636efa",
          "symbol": "circle"
         },
         "mode": "markers",
         "name": "Fläta/Inte mitt krig",
         "scene": "scene",
         "showlegend": true,
         "x": [
          -5.407670021057129
         ],
         "y": [
          -14.38414478302002
         ],
         "z": [
          20.767419815063477
         ],
         "type": "scatter3d"
        },
        {
         "hovertemplate": "title=Vvvalsta<br>comp_1=%{x}<br>comp_2=%{y}<br>comp_3=%{z}<extra></extra>",
         "legendgroup": "Vvvalsta",
         "marker": {
          "color": "#EF553B",
          "symbol": "circle"
         },
         "mode": "markers",
         "name": "Vvvalsta",
         "scene": "scene",
         "showlegend": true,
         "x": [
          17.450515747070312
         ],
         "y": [
          -18.761606216430664
         ],
         "z": [
          0.19367250800132751
         ],
         "type": "scatter3d"
        },
        {
         "hovertemplate": "title=RUTHLESS<br>comp_1=%{x}<br>comp_2=%{y}<br>comp_3=%{z}<extra></extra>",
         "legendgroup": "RUTHLESS",
         "marker": {
          "color": "#00cc96",
          "symbol": "circle"
         },
         "mode": "markers",
         "name": "RUTHLESS",
         "scene": "scene",
         "showlegend": true,
         "x": [
          5.2738823890686035
         ],
         "y": [
          -22.497774124145508
         ],
         "z": [
          -6.348113059997559
         ],
         "type": "scatter3d"
        },
        {
         "hovertemplate": "title=TAKE1 | PART 1<br>comp_1=%{x}<br>comp_2=%{y}<br>comp_3=%{z}<extra></extra>",
         "legendgroup": "TAKE1 | PART 1",
         "marker": {
          "color": "#ab63fa",
          "symbol": "circle"
         },
         "mode": "markers",
         "name": "TAKE1 | PART 1",
         "scene": "scene",
         "showlegend": true,
         "x": [
          15.001583099365234
         ],
         "y": [
          -17.73479461669922
         ],
         "z": [
          9.13248062133789
         ],
         "type": "scatter3d"
        },
        {
         "hovertemplate": "title=VCFlow<br>comp_1=%{x}<br>comp_2=%{y}<br>comp_3=%{z}<extra></extra>",
         "legendgroup": "VCFlow",
         "marker": {
          "color": "#FFA15A",
          "symbol": "circle"
         },
         "mode": "markers",
         "name": "VCFlow",
         "scene": "scene",
         "showlegend": true,
         "x": [
          14.834699630737305
         ],
         "y": [
          -10.88976764678955
         ],
         "z": [
          4.823385238647461
         ],
         "type": "scatter3d"
        },
        {
         "hovertemplate": "title=Dirty Kalle<br>comp_1=%{x}<br>comp_2=%{y}<br>comp_3=%{z}<extra></extra>",
         "legendgroup": "Dirty Kalle",
         "marker": {
          "color": "#19d3f3",
          "symbol": "circle"
         },
         "mode": "markers",
         "name": "Dirty Kalle",
         "scene": "scene",
         "showlegend": true,
         "x": [
          11.939448356628418
         ],
         "y": [
          -30.476118087768555
         ],
         "z": [
          -7.524717807769775
         ],
         "type": "scatter3d"
        },
        {
         "hovertemplate": "title=Bra trakt<br>comp_1=%{x}<br>comp_2=%{y}<br>comp_3=%{z}<extra></extra>",
         "legendgroup": "Bra trakt",
         "marker": {
          "color": "#FF6692",
          "symbol": "circle"
         },
         "mode": "markers",
         "name": "Bra trakt",
         "scene": "scene",
         "showlegend": true,
         "x": [
          23.72710418701172
         ],
         "y": [
          -23.461843490600586
         ],
         "z": [
          1.4526351690292358
         ],
         "type": "scatter3d"
        },
        {
         "hovertemplate": "title=HAYAT<br>comp_1=%{x}<br>comp_2=%{y}<br>comp_3=%{z}<extra></extra>",
         "legendgroup": "HAYAT",
         "marker": {
          "color": "#B6E880",
          "symbol": "circle"
         },
         "mode": "markers",
         "name": "HAYAT",
         "scene": "scene",
         "showlegend": true,
         "x": [
          -15.323942184448242
         ],
         "y": [
          -3.82083797454834
         ],
         "z": [
          21.267501831054688
         ],
         "type": "scatter3d"
        },
        {
         "hovertemplate": "title=SooYs<br>comp_1=%{x}<br>comp_2=%{y}<br>comp_3=%{z}<extra></extra>",
         "legendgroup": "SooYs",
         "marker": {
          "color": "#FF97FF",
          "symbol": "circle"
         },
         "mode": "markers",
         "name": "SooYs",
         "scene": "scene",
         "showlegend": true,
         "x": [
          8.026516914367676
         ],
         "y": [
          -15.420835494995117
         ],
         "z": [
          -1.2956981658935547
         ],
         "type": "scatter3d"
        },
        {
         "hovertemplate": "title=A.P.T.A<br>comp_1=%{x}<br>comp_2=%{y}<br>comp_3=%{z}<extra></extra>",
         "legendgroup": "A.P.T.A",
         "marker": {
          "color": "#FECB52",
          "symbol": "circle"
         },
         "mode": "markers",
         "name": "A.P.T.A",
         "scene": "scene",
         "showlegend": true,
         "x": [
          19.413972854614258
         ],
         "y": [
          -28.92106056213379
         ],
         "z": [
          0.6167633533477783
         ],
         "type": "scatter3d"
        },
        {
         "hovertemplate": "title=Trakten min<br>comp_1=%{x}<br>comp_2=%{y}<br>comp_3=%{z}<extra></extra>",
         "legendgroup": "Trakten min",
         "marker": {
          "color": "#636efa",
          "symbol": "circle"
         },
         "mode": "markers",
         "name": "Trakten min",
         "scene": "scene",
         "showlegend": true,
         "x": [
          20.72391128540039
         ],
         "y": [
          -16.357929229736328
         ],
         "z": [
          -24.58644676208496
         ],
         "type": "scatter3d"
        },
        {
         "hovertemplate": "title=Hiphop N RnB<br>comp_1=%{x}<br>comp_2=%{y}<br>comp_3=%{z}<extra></extra>",
         "legendgroup": "Hiphop N RnB",
         "marker": {
          "color": "#EF553B",
          "symbol": "circle"
         },
         "mode": "markers",
         "name": "Hiphop N RnB",
         "scene": "scene",
         "showlegend": true,
         "x": [
          -11.12321662902832
         ],
         "y": [
          14.089070320129395
         ],
         "z": [
          -45.11898422241211
         ],
         "type": "scatter3d"
        },
        {
         "hovertemplate": "title=Chicago<br>comp_1=%{x}<br>comp_2=%{y}<br>comp_3=%{z}<extra></extra>",
         "legendgroup": "Chicago",
         "marker": {
          "color": "#00cc96",
          "symbol": "circle"
         },
         "mode": "markers",
         "name": "Chicago",
         "scene": "scene",
         "showlegend": true,
         "x": [
          30.14080047607422
         ],
         "y": [
          -8.676335334777832
         ],
         "z": [
          6.042908668518066
         ],
         "type": "scatter3d"
        },
        {
         "hovertemplate": "title=Young & Heartless<br>comp_1=%{x}<br>comp_2=%{y}<br>comp_3=%{z}<extra></extra>",
         "legendgroup": "Young & Heartless",
         "marker": {
          "color": "#ab63fa",
          "symbol": "circle"
         },
         "mode": "markers",
         "name": "Young & Heartless",
         "scene": "scene",
         "showlegend": true,
         "x": [
          33.5987663269043
         ],
         "y": [
          -2.609532117843628
         ],
         "z": [
          17.44060516357422
         ],
         "type": "scatter3d"
        },
        {
         "hovertemplate": "title=PT:1<br>comp_1=%{x}<br>comp_2=%{y}<br>comp_3=%{z}<extra></extra>",
         "legendgroup": "PT:1",
         "marker": {
          "color": "#FFA15A",
          "symbol": "circle"
         },
         "mode": "markers",
         "name": "PT:1",
         "scene": "scene",
         "showlegend": true,
         "x": [
          -11.374730110168457
         ],
         "y": [
          20.485076904296875
         ],
         "z": [
          -31.527395248413086
         ],
         "type": "scatter3d"
        },
        {
         "hovertemplate": "title=Workin<br>comp_1=%{x}<br>comp_2=%{y}<br>comp_3=%{z}<extra></extra>",
         "legendgroup": "Workin",
         "marker": {
          "color": "#19d3f3",
          "symbol": "circle"
         },
         "mode": "markers",
         "name": "Workin",
         "scene": "scene",
         "showlegend": true,
         "x": [
          17.095945358276367
         ],
         "y": [
          -2.150838851928711
         ],
         "z": [
          -21.63066291809082
         ],
         "type": "scatter3d"
        },
        {
         "hovertemplate": "title=Spiderman (Intro)<br>comp_1=%{x}<br>comp_2=%{y}<br>comp_3=%{z}<extra></extra>",
         "legendgroup": "Spiderman (Intro)",
         "marker": {
          "color": "#FF6692",
          "symbol": "circle"
         },
         "mode": "markers",
         "name": "Spiderman (Intro)",
         "scene": "scene",
         "showlegend": true,
         "x": [
          17.2647647857666
         ],
         "y": [
          -8.738946914672852
         ],
         "z": [
          -21.020410537719727
         ],
         "type": "scatter3d"
        },
        {
         "hovertemplate": "title=Source<br>comp_1=%{x}<br>comp_2=%{y}<br>comp_3=%{z}<extra></extra>",
         "legendgroup": "Source",
         "marker": {
          "color": "#B6E880",
          "symbol": "circle"
         },
         "mode": "markers",
         "name": "Source",
         "scene": "scene",
         "showlegend": true,
         "x": [
          30.365276336669922
         ],
         "y": [
          0.2613627314567566
         ],
         "z": [
          23.570451736450195
         ],
         "type": "scatter3d"
        },
        {
         "hovertemplate": "title=Min Bitch<br>comp_1=%{x}<br>comp_2=%{y}<br>comp_3=%{z}<extra></extra>",
         "legendgroup": "Min Bitch",
         "marker": {
          "color": "#FF97FF",
          "symbol": "circle"
         },
         "mode": "markers",
         "name": "Min Bitch",
         "scene": "scene",
         "showlegend": true,
         "x": [
          1.658506989479065
         ],
         "y": [
          20.51056671142578
         ],
         "z": [
          -22.18648338317871
         ],
         "type": "scatter3d"
        },
        {
         "hovertemplate": "title=Hey (Rinkeby)<br>comp_1=%{x}<br>comp_2=%{y}<br>comp_3=%{z}<extra></extra>",
         "legendgroup": "Hey (Rinkeby)",
         "marker": {
          "color": "#FECB52",
          "symbol": "circle"
         },
         "mode": "markers",
         "name": "Hey (Rinkeby)",
         "scene": "scene",
         "showlegend": true,
         "x": [
          -4.211965560913086
         ],
         "y": [
          -2.138115406036377
         ],
         "z": [
          -25.703229904174805
         ],
         "type": "scatter3d"
        },
        {
         "hovertemplate": "title=Polisen<br>comp_1=%{x}<br>comp_2=%{y}<br>comp_3=%{z}<extra></extra>",
         "legendgroup": "Polisen",
         "marker": {
          "color": "#636efa",
          "symbol": "circle"
         },
         "mode": "markers",
         "name": "Polisen",
         "scene": "scene",
         "showlegend": true,
         "x": [
          -0.6106061935424805
         ],
         "y": [
          11.965997695922852
         ],
         "z": [
          -11.015495300292969
         ],
         "type": "scatter3d"
        },
        {
         "hovertemplate": "title=Rondellen<br>comp_1=%{x}<br>comp_2=%{y}<br>comp_3=%{z}<extra></extra>",
         "legendgroup": "Rondellen",
         "marker": {
          "color": "#EF553B",
          "symbol": "circle"
         },
         "mode": "markers",
         "name": "Rondellen",
         "scene": "scene",
         "showlegend": true,
         "x": [
          3.4293718338012695
         ],
         "y": [
          7.8377580642700195
         ],
         "z": [
          47.47102355957031
         ],
         "type": "scatter3d"
        },
        {
         "hovertemplate": "title=Tala fult<br>comp_1=%{x}<br>comp_2=%{y}<br>comp_3=%{z}<extra></extra>",
         "legendgroup": "Tala fult",
         "marker": {
          "color": "#00cc96",
          "symbol": "circle"
         },
         "mode": "markers",
         "name": "Tala fult",
         "scene": "scene",
         "showlegend": true,
         "x": [
          -38.82984924316406
         ],
         "y": [
          14.766229629516602
         ],
         "z": [
          32.346309661865234
         ],
         "type": "scatter3d"
        },
        {
         "hovertemplate": "title=Ohojaja<br>comp_1=%{x}<br>comp_2=%{y}<br>comp_3=%{z}<extra></extra>",
         "legendgroup": "Ohojaja",
         "marker": {
          "color": "#ab63fa",
          "symbol": "circle"
         },
         "mode": "markers",
         "name": "Ohojaja",
         "scene": "scene",
         "showlegend": true,
         "x": [
          -17.29917335510254
         ],
         "y": [
          -12.240653991699219
         ],
         "z": [
          38.5998649597168
         ],
         "type": "scatter3d"
        },
        {
         "hovertemplate": "title=Spy på dom<br>comp_1=%{x}<br>comp_2=%{y}<br>comp_3=%{z}<extra></extra>",
         "legendgroup": "Spy på dom",
         "marker": {
          "color": "#FFA15A",
          "symbol": "circle"
         },
         "mode": "markers",
         "name": "Spy på dom",
         "scene": "scene",
         "showlegend": true,
         "x": [
          -0.31454265117645264
         ],
         "y": [
          28.696468353271484
         ],
         "z": [
          -23.635732650756836
         ],
         "type": "scatter3d"
        },
        {
         "hovertemplate": "title=Utomlands<br>comp_1=%{x}<br>comp_2=%{y}<br>comp_3=%{z}<extra></extra>",
         "legendgroup": "Utomlands",
         "marker": {
          "color": "#19d3f3",
          "symbol": "circle"
         },
         "mode": "markers",
         "name": "Utomlands",
         "scene": "scene",
         "showlegend": true,
         "x": [
          1.517263412475586
         ],
         "y": [
          38.474117279052734
         ],
         "z": [
          11.824320793151855
         ],
         "type": "scatter3d"
        },
        {
         "hovertemplate": "title=Kommer hem<br>comp_1=%{x}<br>comp_2=%{y}<br>comp_3=%{z}<extra></extra>",
         "legendgroup": "Kommer hem",
         "marker": {
          "color": "#FF6692",
          "symbol": "circle"
         },
         "mode": "markers",
         "name": "Kommer hem",
         "scene": "scene",
         "showlegend": true,
         "x": [
          -8.700084686279297
         ],
         "y": [
          34.425540924072266
         ],
         "z": [
          0.9461286664009094
         ],
         "type": "scatter3d"
        },
        {
         "hovertemplate": "title=Göra upp en eld<br>comp_1=%{x}<br>comp_2=%{y}<br>comp_3=%{z}<extra></extra>",
         "legendgroup": "Göra upp en eld",
         "marker": {
          "color": "#B6E880",
          "symbol": "circle"
         },
         "mode": "markers",
         "name": "Göra upp en eld",
         "scene": "scene",
         "showlegend": true,
         "x": [
          -21.86748695373535
         ],
         "y": [
          25.402626037597656
         ],
         "z": [
          11.077249526977539
         ],
         "type": "scatter3d"
        },
        {
         "hovertemplate": "title=En glasspinne<br>comp_1=%{x}<br>comp_2=%{y}<br>comp_3=%{z}<extra></extra>",
         "legendgroup": "En glasspinne",
         "marker": {
          "color": "#FF97FF",
          "symbol": "circle"
         },
         "mode": "markers",
         "name": "En glasspinne",
         "scene": "scene",
         "showlegend": true,
         "x": [
          -39.290401458740234
         ],
         "y": [
          32.70863342285156
         ],
         "z": [
          -14.324455261230469
         ],
         "type": "scatter3d"
        },
        {
         "hovertemplate": "title=Över bron<br>comp_1=%{x}<br>comp_2=%{y}<br>comp_3=%{z}<extra></extra>",
         "legendgroup": "Över bron",
         "marker": {
          "color": "#FECB52",
          "symbol": "circle"
         },
         "mode": "markers",
         "name": "Över bron",
         "scene": "scene",
         "showlegend": true,
         "x": [
          -59.87504577636719
         ],
         "y": [
          20.383098602294922
         ],
         "z": [
          -16.74226188659668
         ],
         "type": "scatter3d"
        }
       ],
       "layout": {
        "template": {
         "data": {
          "histogram2dcontour": [
           {
            "type": "histogram2dcontour",
            "colorbar": {
             "outlinewidth": 0,
             "ticks": ""
            },
            "colorscale": [
             [
              0.0,
              "#0d0887"
             ],
             [
              0.1111111111111111,
              "#46039f"
             ],
             [
              0.2222222222222222,
              "#7201a8"
             ],
             [
              0.3333333333333333,
              "#9c179e"
             ],
             [
              0.4444444444444444,
              "#bd3786"
             ],
             [
              0.5555555555555556,
              "#d8576b"
             ],
             [
              0.6666666666666666,
              "#ed7953"
             ],
             [
              0.7777777777777778,
              "#fb9f3a"
             ],
             [
              0.8888888888888888,
              "#fdca26"
             ],
             [
              1.0,
              "#f0f921"
             ]
            ]
           }
          ],
          "choropleth": [
           {
            "type": "choropleth",
            "colorbar": {
             "outlinewidth": 0,
             "ticks": ""
            }
           }
          ],
          "histogram2d": [
           {
            "type": "histogram2d",
            "colorbar": {
             "outlinewidth": 0,
             "ticks": ""
            },
            "colorscale": [
             [
              0.0,
              "#0d0887"
             ],
             [
              0.1111111111111111,
              "#46039f"
             ],
             [
              0.2222222222222222,
              "#7201a8"
             ],
             [
              0.3333333333333333,
              "#9c179e"
             ],
             [
              0.4444444444444444,
              "#bd3786"
             ],
             [
              0.5555555555555556,
              "#d8576b"
             ],
             [
              0.6666666666666666,
              "#ed7953"
             ],
             [
              0.7777777777777778,
              "#fb9f3a"
             ],
             [
              0.8888888888888888,
              "#fdca26"
             ],
             [
              1.0,
              "#f0f921"
             ]
            ]
           }
          ],
          "heatmap": [
           {
            "type": "heatmap",
            "colorbar": {
             "outlinewidth": 0,
             "ticks": ""
            },
            "colorscale": [
             [
              0.0,
              "#0d0887"
             ],
             [
              0.1111111111111111,
              "#46039f"
             ],
             [
              0.2222222222222222,
              "#7201a8"
             ],
             [
              0.3333333333333333,
              "#9c179e"
             ],
             [
              0.4444444444444444,
              "#bd3786"
             ],
             [
              0.5555555555555556,
              "#d8576b"
             ],
             [
              0.6666666666666666,
              "#ed7953"
             ],
             [
              0.7777777777777778,
              "#fb9f3a"
             ],
             [
              0.8888888888888888,
              "#fdca26"
             ],
             [
              1.0,
              "#f0f921"
             ]
            ]
           }
          ],
          "heatmapgl": [
           {
            "type": "heatmapgl",
            "colorbar": {
             "outlinewidth": 0,
             "ticks": ""
            },
            "colorscale": [
             [
              0.0,
              "#0d0887"
             ],
             [
              0.1111111111111111,
              "#46039f"
             ],
             [
              0.2222222222222222,
              "#7201a8"
             ],
             [
              0.3333333333333333,
              "#9c179e"
             ],
             [
              0.4444444444444444,
              "#bd3786"
             ],
             [
              0.5555555555555556,
              "#d8576b"
             ],
             [
              0.6666666666666666,
              "#ed7953"
             ],
             [
              0.7777777777777778,
              "#fb9f3a"
             ],
             [
              0.8888888888888888,
              "#fdca26"
             ],
             [
              1.0,
              "#f0f921"
             ]
            ]
           }
          ],
          "contourcarpet": [
           {
            "type": "contourcarpet",
            "colorbar": {
             "outlinewidth": 0,
             "ticks": ""
            }
           }
          ],
          "contour": [
           {
            "type": "contour",
            "colorbar": {
             "outlinewidth": 0,
             "ticks": ""
            },
            "colorscale": [
             [
              0.0,
              "#0d0887"
             ],
             [
              0.1111111111111111,
              "#46039f"
             ],
             [
              0.2222222222222222,
              "#7201a8"
             ],
             [
              0.3333333333333333,
              "#9c179e"
             ],
             [
              0.4444444444444444,
              "#bd3786"
             ],
             [
              0.5555555555555556,
              "#d8576b"
             ],
             [
              0.6666666666666666,
              "#ed7953"
             ],
             [
              0.7777777777777778,
              "#fb9f3a"
             ],
             [
              0.8888888888888888,
              "#fdca26"
             ],
             [
              1.0,
              "#f0f921"
             ]
            ]
           }
          ],
          "surface": [
           {
            "type": "surface",
            "colorbar": {
             "outlinewidth": 0,
             "ticks": ""
            },
            "colorscale": [
             [
              0.0,
              "#0d0887"
             ],
             [
              0.1111111111111111,
              "#46039f"
             ],
             [
              0.2222222222222222,
              "#7201a8"
             ],
             [
              0.3333333333333333,
              "#9c179e"
             ],
             [
              0.4444444444444444,
              "#bd3786"
             ],
             [
              0.5555555555555556,
              "#d8576b"
             ],
             [
              0.6666666666666666,
              "#ed7953"
             ],
             [
              0.7777777777777778,
              "#fb9f3a"
             ],
             [
              0.8888888888888888,
              "#fdca26"
             ],
             [
              1.0,
              "#f0f921"
             ]
            ]
           }
          ],
          "mesh3d": [
           {
            "type": "mesh3d",
            "colorbar": {
             "outlinewidth": 0,
             "ticks": ""
            }
           }
          ],
          "scatter": [
           {
            "fillpattern": {
             "fillmode": "overlay",
             "size": 10,
             "solidity": 0.2
            },
            "type": "scatter"
           }
          ],
          "parcoords": [
           {
            "type": "parcoords",
            "line": {
             "colorbar": {
              "outlinewidth": 0,
              "ticks": ""
             }
            }
           }
          ],
          "scatterpolargl": [
           {
            "type": "scatterpolargl",
            "marker": {
             "colorbar": {
              "outlinewidth": 0,
              "ticks": ""
             }
            }
           }
          ],
          "bar": [
           {
            "error_x": {
             "color": "#2a3f5f"
            },
            "error_y": {
             "color": "#2a3f5f"
            },
            "marker": {
             "line": {
              "color": "#E5ECF6",
              "width": 0.5
             },
             "pattern": {
              "fillmode": "overlay",
              "size": 10,
              "solidity": 0.2
             }
            },
            "type": "bar"
           }
          ],
          "scattergeo": [
           {
            "type": "scattergeo",
            "marker": {
             "colorbar": {
              "outlinewidth": 0,
              "ticks": ""
             }
            }
           }
          ],
          "scatterpolar": [
           {
            "type": "scatterpolar",
            "marker": {
             "colorbar": {
              "outlinewidth": 0,
              "ticks": ""
             }
            }
           }
          ],
          "histogram": [
           {
            "marker": {
             "pattern": {
              "fillmode": "overlay",
              "size": 10,
              "solidity": 0.2
             }
            },
            "type": "histogram"
           }
          ],
          "scattergl": [
           {
            "type": "scattergl",
            "marker": {
             "colorbar": {
              "outlinewidth": 0,
              "ticks": ""
             }
            }
           }
          ],
          "scatter3d": [
           {
            "type": "scatter3d",
            "line": {
             "colorbar": {
              "outlinewidth": 0,
              "ticks": ""
             }
            },
            "marker": {
             "colorbar": {
              "outlinewidth": 0,
              "ticks": ""
             }
            }
           }
          ],
          "scattermapbox": [
           {
            "type": "scattermapbox",
            "marker": {
             "colorbar": {
              "outlinewidth": 0,
              "ticks": ""
             }
            }
           }
          ],
          "scatterternary": [
           {
            "type": "scatterternary",
            "marker": {
             "colorbar": {
              "outlinewidth": 0,
              "ticks": ""
             }
            }
           }
          ],
          "scattercarpet": [
           {
            "type": "scattercarpet",
            "marker": {
             "colorbar": {
              "outlinewidth": 0,
              "ticks": ""
             }
            }
           }
          ],
          "carpet": [
           {
            "aaxis": {
             "endlinecolor": "#2a3f5f",
             "gridcolor": "white",
             "linecolor": "white",
             "minorgridcolor": "white",
             "startlinecolor": "#2a3f5f"
            },
            "baxis": {
             "endlinecolor": "#2a3f5f",
             "gridcolor": "white",
             "linecolor": "white",
             "minorgridcolor": "white",
             "startlinecolor": "#2a3f5f"
            },
            "type": "carpet"
           }
          ],
          "table": [
           {
            "cells": {
             "fill": {
              "color": "#EBF0F8"
             },
             "line": {
              "color": "white"
             }
            },
            "header": {
             "fill": {
              "color": "#C8D4E3"
             },
             "line": {
              "color": "white"
             }
            },
            "type": "table"
           }
          ],
          "barpolar": [
           {
            "marker": {
             "line": {
              "color": "#E5ECF6",
              "width": 0.5
             },
             "pattern": {
              "fillmode": "overlay",
              "size": 10,
              "solidity": 0.2
             }
            },
            "type": "barpolar"
           }
          ],
          "pie": [
           {
            "automargin": true,
            "type": "pie"
           }
          ]
         },
         "layout": {
          "autotypenumbers": "strict",
          "colorway": [
           "#636efa",
           "#EF553B",
           "#00cc96",
           "#ab63fa",
           "#FFA15A",
           "#19d3f3",
           "#FF6692",
           "#B6E880",
           "#FF97FF",
           "#FECB52"
          ],
          "font": {
           "color": "#2a3f5f"
          },
          "hovermode": "closest",
          "hoverlabel": {
           "align": "left"
          },
          "paper_bgcolor": "white",
          "plot_bgcolor": "#E5ECF6",
          "polar": {
           "bgcolor": "#E5ECF6",
           "angularaxis": {
            "gridcolor": "white",
            "linecolor": "white",
            "ticks": ""
           },
           "radialaxis": {
            "gridcolor": "white",
            "linecolor": "white",
            "ticks": ""
           }
          },
          "ternary": {
           "bgcolor": "#E5ECF6",
           "aaxis": {
            "gridcolor": "white",
            "linecolor": "white",
            "ticks": ""
           },
           "baxis": {
            "gridcolor": "white",
            "linecolor": "white",
            "ticks": ""
           },
           "caxis": {
            "gridcolor": "white",
            "linecolor": "white",
            "ticks": ""
           }
          },
          "coloraxis": {
           "colorbar": {
            "outlinewidth": 0,
            "ticks": ""
           }
          },
          "colorscale": {
           "sequential": [
            [
             0.0,
             "#0d0887"
            ],
            [
             0.1111111111111111,
             "#46039f"
            ],
            [
             0.2222222222222222,
             "#7201a8"
            ],
            [
             0.3333333333333333,
             "#9c179e"
            ],
            [
             0.4444444444444444,
             "#bd3786"
            ],
            [
             0.5555555555555556,
             "#d8576b"
            ],
            [
             0.6666666666666666,
             "#ed7953"
            ],
            [
             0.7777777777777778,
             "#fb9f3a"
            ],
            [
             0.8888888888888888,
             "#fdca26"
            ],
            [
             1.0,
             "#f0f921"
            ]
           ],
           "sequentialminus": [
            [
             0.0,
             "#0d0887"
            ],
            [
             0.1111111111111111,
             "#46039f"
            ],
            [
             0.2222222222222222,
             "#7201a8"
            ],
            [
             0.3333333333333333,
             "#9c179e"
            ],
            [
             0.4444444444444444,
             "#bd3786"
            ],
            [
             0.5555555555555556,
             "#d8576b"
            ],
            [
             0.6666666666666666,
             "#ed7953"
            ],
            [
             0.7777777777777778,
             "#fb9f3a"
            ],
            [
             0.8888888888888888,
             "#fdca26"
            ],
            [
             1.0,
             "#f0f921"
            ]
           ],
           "diverging": [
            [
             0,
             "#8e0152"
            ],
            [
             0.1,
             "#c51b7d"
            ],
            [
             0.2,
             "#de77ae"
            ],
            [
             0.3,
             "#f1b6da"
            ],
            [
             0.4,
             "#fde0ef"
            ],
            [
             0.5,
             "#f7f7f7"
            ],
            [
             0.6,
             "#e6f5d0"
            ],
            [
             0.7,
             "#b8e186"
            ],
            [
             0.8,
             "#7fbc41"
            ],
            [
             0.9,
             "#4d9221"
            ],
            [
             1,
             "#276419"
            ]
           ]
          },
          "xaxis": {
           "gridcolor": "white",
           "linecolor": "white",
           "ticks": "",
           "title": {
            "standoff": 15
           },
           "zerolinecolor": "white",
           "automargin": true,
           "zerolinewidth": 2
          },
          "yaxis": {
           "gridcolor": "white",
           "linecolor": "white",
           "ticks": "",
           "title": {
            "standoff": 15
           },
           "zerolinecolor": "white",
           "automargin": true,
           "zerolinewidth": 2
          },
          "scene": {
           "xaxis": {
            "backgroundcolor": "#E5ECF6",
            "gridcolor": "white",
            "linecolor": "white",
            "showbackground": true,
            "ticks": "",
            "zerolinecolor": "white",
            "gridwidth": 2
           },
           "yaxis": {
            "backgroundcolor": "#E5ECF6",
            "gridcolor": "white",
            "linecolor": "white",
            "showbackground": true,
            "ticks": "",
            "zerolinecolor": "white",
            "gridwidth": 2
           },
           "zaxis": {
            "backgroundcolor": "#E5ECF6",
            "gridcolor": "white",
            "linecolor": "white",
            "showbackground": true,
            "ticks": "",
            "zerolinecolor": "white",
            "gridwidth": 2
           }
          },
          "shapedefaults": {
           "line": {
            "color": "#2a3f5f"
           }
          },
          "annotationdefaults": {
           "arrowcolor": "#2a3f5f",
           "arrowhead": 0,
           "arrowwidth": 1
          },
          "geo": {
           "bgcolor": "white",
           "landcolor": "#E5ECF6",
           "subunitcolor": "white",
           "showland": true,
           "showlakes": true,
           "lakecolor": "white"
          },
          "title": {
           "x": 0.05
          },
          "mapbox": {
           "style": "light"
          }
         }
        },
        "scene": {
         "domain": {
          "x": [
           0.0,
           1.0
          ],
          "y": [
           0.0,
           1.0
          ]
         },
         "xaxis": {
          "title": {
           "text": "comp_1"
          }
         },
         "yaxis": {
          "title": {
           "text": "comp_2"
          }
         },
         "zaxis": {
          "title": {
           "text": "comp_3"
          }
         }
        },
        "legend": {
         "title": {
          "text": "title"
         },
         "tracegroupgap": 0
        },
        "margin": {
         "t": 60
        }
       },
       "config": {
        "plotlyServerURL": "https://plot.ly"
       }
      },
      "text/html": "<div>                            <div id=\"9e0daa19-adc0-45fd-bd0e-276cd5309894\" class=\"plotly-graph-div\" style=\"height:525px; width:100%;\"></div>            <script type=\"text/javascript\">                require([\"plotly\"], function(Plotly) {                    window.PLOTLYENV=window.PLOTLYENV || {};                                    if (document.getElementById(\"9e0daa19-adc0-45fd-bd0e-276cd5309894\")) {                    Plotly.newPlot(                        \"9e0daa19-adc0-45fd-bd0e-276cd5309894\",                        [{\"hovertemplate\":\"title=Akta mannen<br>comp_1=%{x}<br>comp_2=%{y}<br>comp_3=%{z}<extra></extra>\",\"legendgroup\":\"Akta mannen\",\"marker\":{\"color\":\"#636efa\",\"symbol\":\"circle\"},\"mode\":\"markers\",\"name\":\"Akta mannen\",\"scene\":\"scene\",\"showlegend\":true,\"x\":[-10.412618637084961],\"y\":[-31.377893447875977],\"z\":[36.85643768310547],\"type\":\"scatter3d\"},{\"hovertemplate\":\"title=AKTA MANNEN (Remix)<br>comp_1=%{x}<br>comp_2=%{y}<br>comp_3=%{z}<extra></extra>\",\"legendgroup\":\"AKTA MANNEN (Remix)\",\"marker\":{\"color\":\"#EF553B\",\"symbol\":\"circle\"},\"mode\":\"markers\",\"name\":\"AKTA MANNEN (Remix)\",\"scene\":\"scene\",\"showlegend\":true,\"x\":[-5.899104595184326],\"y\":[-28.33905601501465],\"z\":[34.82539367675781],\"type\":\"scatter3d\"},{\"hovertemplate\":\"title=R\\u00c4KNA MINA DAGAR<br>comp_1=%{x}<br>comp_2=%{y}<br>comp_3=%{z}<extra></extra>\",\"legendgroup\":\"R\\u00c4KNA MINA DAGAR\",\"marker\":{\"color\":\"#00cc96\",\"symbol\":\"circle\"},\"mode\":\"markers\",\"name\":\"R\\u00c4KNA MINA DAGAR\",\"scene\":\"scene\",\"showlegend\":true,\"x\":[1.3766870498657227],\"y\":[-27.6390438079834],\"z\":[-11.31238079071045],\"type\":\"scatter3d\"},{\"hovertemplate\":\"title=FIENDES FIENDE<br>comp_1=%{x}<br>comp_2=%{y}<br>comp_3=%{z}<extra></extra>\",\"legendgroup\":\"FIENDES FIENDE\",\"marker\":{\"color\":\"#ab63fa\",\"symbol\":\"circle\"},\"mode\":\"markers\",\"name\":\"FIENDES FIENDE\",\"scene\":\"scene\",\"showlegend\":true,\"x\":[-10.369430541992188],\"y\":[-35.27896499633789],\"z\":[-4.20598840713501],\"type\":\"scatter3d\"},{\"hovertemplate\":\"title=Swedens Most Wanted<br>comp_1=%{x}<br>comp_2=%{y}<br>comp_3=%{z}<extra></extra>\",\"legendgroup\":\"Swedens Most Wanted\",\"marker\":{\"color\":\"#FFA15A\",\"symbol\":\"circle\"},\"mode\":\"markers\",\"name\":\"Swedens Most Wanted\",\"scene\":\"scene\",\"showlegend\":true,\"x\":[24.301130294799805],\"y\":[-9.11738395690918],\"z\":[-27.259849548339844],\"type\":\"scatter3d\"},{\"hovertemplate\":\"title=Livet vi lever<br>comp_1=%{x}<br>comp_2=%{y}<br>comp_3=%{z}<extra></extra>\",\"legendgroup\":\"Livet vi lever\",\"marker\":{\"color\":\"#19d3f3\",\"symbol\":\"circle\"},\"mode\":\"markers\",\"name\":\"Livet vi lever\",\"scene\":\"scene\",\"showlegend\":true,\"x\":[-50.55474090576172],\"y\":[-4.524715423583984],\"z\":[-30.883798599243164],\"type\":\"scatter3d\"},{\"hovertemplate\":\"title=Caravaggio<br>comp_1=%{x}<br>comp_2=%{y}<br>comp_3=%{z}<extra></extra>\",\"legendgroup\":\"Caravaggio\",\"marker\":{\"color\":\"#FF6692\",\"symbol\":\"circle\"},\"mode\":\"markers\",\"name\":\"Caravaggio\",\"scene\":\"scene\",\"showlegend\":true,\"x\":[14.543366432189941],\"y\":[-14.827009201049805],\"z\":[-16.282638549804688],\"type\":\"scatter3d\"},{\"hovertemplate\":\"title=BILEN<br>comp_1=%{x}<br>comp_2=%{y}<br>comp_3=%{z}<extra></extra>\",\"legendgroup\":\"BILEN\",\"marker\":{\"color\":\"#B6E880\",\"symbol\":\"circle\"},\"mode\":\"markers\",\"name\":\"BILEN\",\"scene\":\"scene\",\"showlegend\":true,\"x\":[4.813615322113037],\"y\":[-21.197328567504883],\"z\":[15.6347017288208],\"type\":\"scatter3d\"},{\"hovertemplate\":\"title=Tre Hj\\u00e4rnor<br>comp_1=%{x}<br>comp_2=%{y}<br>comp_3=%{z}<extra></extra>\",\"legendgroup\":\"Tre Hj\\u00e4rnor\",\"marker\":{\"color\":\"#FF97FF\",\"symbol\":\"circle\"},\"mode\":\"markers\",\"name\":\"Tre Hj\\u00e4rnor\",\"scene\":\"scene\",\"showlegend\":true,\"x\":[-17.957300186157227],\"y\":[26.022647857666016],\"z\":[23.45894432067871],\"type\":\"scatter3d\"},{\"hovertemplate\":\"title=Sirener<br>comp_1=%{x}<br>comp_2=%{y}<br>comp_3=%{z}<extra></extra>\",\"legendgroup\":\"Sirener\",\"marker\":{\"color\":\"#FECB52\",\"symbol\":\"circle\"},\"mode\":\"markers\",\"name\":\"Sirener\",\"scene\":\"scene\",\"showlegend\":true,\"x\":[11.592989921569824],\"y\":[26.52065086364746],\"z\":[33.826778411865234],\"type\":\"scatter3d\"},{\"hovertemplate\":\"title=EXTRA<br>comp_1=%{x}<br>comp_2=%{y}<br>comp_3=%{z}<extra></extra>\",\"legendgroup\":\"EXTRA\",\"marker\":{\"color\":\"#636efa\",\"symbol\":\"circle\"},\"mode\":\"markers\",\"name\":\"EXTRA\",\"scene\":\"scene\",\"showlegend\":true,\"x\":[17.557289123535156],\"y\":[0.4973365366458893],\"z\":[-0.8755128383636475],\"type\":\"scatter3d\"},{\"hovertemplate\":\"title=A.D.A.M<br>comp_1=%{x}<br>comp_2=%{y}<br>comp_3=%{z}<extra></extra>\",\"legendgroup\":\"A.D.A.M\",\"marker\":{\"color\":\"#EF553B\",\"symbol\":\"circle\"},\"mode\":\"markers\",\"name\":\"A.D.A.M\",\"scene\":\"scene\",\"showlegend\":true,\"x\":[41.52574157714844],\"y\":[-11.911879539489746],\"z\":[35.768558502197266],\"type\":\"scatter3d\"},{\"hovertemplate\":\"title=Konst fr\\u00e5n Betong<br>comp_1=%{x}<br>comp_2=%{y}<br>comp_3=%{z}<extra></extra>\",\"legendgroup\":\"Konst fr\\u00e5n Betong\",\"marker\":{\"color\":\"#00cc96\",\"symbol\":\"circle\"},\"mode\":\"markers\",\"name\":\"Konst fr\\u00e5n Betong\",\"scene\":\"scene\",\"showlegend\":true,\"x\":[24.4979248046875],\"y\":[4.9866414070129395],\"z\":[15.327848434448242],\"type\":\"scatter3d\"},{\"hovertemplate\":\"title=Trap$tar<br>comp_1=%{x}<br>comp_2=%{y}<br>comp_3=%{z}<extra></extra>\",\"legendgroup\":\"Trap$tar\",\"marker\":{\"color\":\"#ab63fa\",\"symbol\":\"circle\"},\"mode\":\"markers\",\"name\":\"Trap$tar\",\"scene\":\"scene\",\"showlegend\":true,\"x\":[-8.9476900100708],\"y\":[3.6801748275756836],\"z\":[27.49311637878418],\"type\":\"scatter3d\"},{\"hovertemplate\":\"title=Grindar<br>comp_1=%{x}<br>comp_2=%{y}<br>comp_3=%{z}<extra></extra>\",\"legendgroup\":\"Grindar\",\"marker\":{\"color\":\"#FFA15A\",\"symbol\":\"circle\"},\"mode\":\"markers\",\"name\":\"Grindar\",\"scene\":\"scene\",\"showlegend\":true,\"x\":[0.45026323199272156],\"y\":[-12.472683906555176],\"z\":[7.026844501495361],\"type\":\"scatter3d\"},{\"hovertemplate\":\"title=Wave<br>comp_1=%{x}<br>comp_2=%{y}<br>comp_3=%{z}<extra></extra>\",\"legendgroup\":\"Wave\",\"marker\":{\"color\":\"#19d3f3\",\"symbol\":\"circle\"},\"mode\":\"markers\",\"name\":\"Wave\",\"scene\":\"scene\",\"showlegend\":true,\"x\":[28.520389556884766],\"y\":[-16.593109130859375],\"z\":[12.760394096374512],\"type\":\"scatter3d\"},{\"hovertemplate\":\"title=S\\u00d6DERMALM<br>comp_1=%{x}<br>comp_2=%{y}<br>comp_3=%{z}<extra></extra>\",\"legendgroup\":\"S\\u00d6DERMALM\",\"marker\":{\"color\":\"#FF6692\",\"symbol\":\"circle\"},\"mode\":\"markers\",\"name\":\"S\\u00d6DERMALM\",\"scene\":\"scene\",\"showlegend\":true,\"x\":[19.70440673828125],\"y\":[-28.887619018554688],\"z\":[-18.856698989868164],\"type\":\"scatter3d\"},{\"hovertemplate\":\"title=ADOOMI<br>comp_1=%{x}<br>comp_2=%{y}<br>comp_3=%{z}<extra></extra>\",\"legendgroup\":\"ADOOMI\",\"marker\":{\"color\":\"#B6E880\",\"symbol\":\"circle\"},\"mode\":\"markers\",\"name\":\"ADOOMI\",\"scene\":\"scene\",\"showlegend\":true,\"x\":[21.199668884277344],\"y\":[-10.181236267089844],\"z\":[-3.547081708908081],\"type\":\"scatter3d\"},{\"hovertemplate\":\"title=Hey Chica<br>comp_1=%{x}<br>comp_2=%{y}<br>comp_3=%{z}<extra></extra>\",\"legendgroup\":\"Hey Chica\",\"marker\":{\"color\":\"#FF97FF\",\"symbol\":\"circle\"},\"mode\":\"markers\",\"name\":\"Hey Chica\",\"scene\":\"scene\",\"showlegend\":true,\"x\":[16.560720443725586],\"y\":[8.671414375305176],\"z\":[-19.88534164428711],\"type\":\"scatter3d\"},{\"hovertemplate\":\"title=Mami<br>comp_1=%{x}<br>comp_2=%{y}<br>comp_3=%{z}<extra></extra>\",\"legendgroup\":\"Mami\",\"marker\":{\"color\":\"#FECB52\",\"symbol\":\"circle\"},\"mode\":\"markers\",\"name\":\"Mami\",\"scene\":\"scene\",\"showlegend\":true,\"x\":[17.364303588867188],\"y\":[14.098774909973145],\"z\":[14.710855484008789],\"type\":\"scatter3d\"},{\"hovertemplate\":\"title=My Cool<br>comp_1=%{x}<br>comp_2=%{y}<br>comp_3=%{z}<extra></extra>\",\"legendgroup\":\"My Cool\",\"marker\":{\"color\":\"#636efa\",\"symbol\":\"circle\"},\"mode\":\"markers\",\"name\":\"My Cool\",\"scene\":\"scene\",\"showlegend\":true,\"x\":[54.41815948486328],\"y\":[16.316028594970703],\"z\":[-4.56709098815918],\"type\":\"scatter3d\"},{\"hovertemplate\":\"title=Vad Ska Du Bli?<br>comp_1=%{x}<br>comp_2=%{y}<br>comp_3=%{z}<extra></extra>\",\"legendgroup\":\"Vad Ska Du Bli?\",\"marker\":{\"color\":\"#EF553B\",\"symbol\":\"circle\"},\"mode\":\"markers\",\"name\":\"Vad Ska Du Bli?\",\"scene\":\"scene\",\"showlegend\":true,\"x\":[-34.40536117553711],\"y\":[3.3113961219787598],\"z\":[-38.29601287841797],\"type\":\"scatter3d\"},{\"hovertemplate\":\"title=Dopeboy<br>comp_1=%{x}<br>comp_2=%{y}<br>comp_3=%{z}<extra></extra>\",\"legendgroup\":\"Dopeboy\",\"marker\":{\"color\":\"#00cc96\",\"symbol\":\"circle\"},\"mode\":\"markers\",\"name\":\"Dopeboy\",\"scene\":\"scene\",\"showlegend\":true,\"x\":[52.39365768432617],\"y\":[14.565876007080078],\"z\":[4.679304122924805],\"type\":\"scatter3d\"},{\"hovertemplate\":\"title=Let Me<br>comp_1=%{x}<br>comp_2=%{y}<br>comp_3=%{z}<extra></extra>\",\"legendgroup\":\"Let Me\",\"marker\":{\"color\":\"#ab63fa\",\"symbol\":\"circle\"},\"mode\":\"markers\",\"name\":\"Let Me\",\"scene\":\"scene\",\"showlegend\":true,\"x\":[47.299617767333984],\"y\":[9.326375961303711],\"z\":[0.4238870441913605],\"type\":\"scatter3d\"},{\"hovertemplate\":\"title=Before U Know It<br>comp_1=%{x}<br>comp_2=%{y}<br>comp_3=%{z}<extra></extra>\",\"legendgroup\":\"Before U Know It\",\"marker\":{\"color\":\"#FFA15A\",\"symbol\":\"circle\"},\"mode\":\"markers\",\"name\":\"Before U Know It\",\"scene\":\"scene\",\"showlegend\":true,\"x\":[39.37628936767578],\"y\":[17.85215187072754],\"z\":[-10.68543529510498],\"type\":\"scatter3d\"},{\"hovertemplate\":\"title=They Wanna Know<br>comp_1=%{x}<br>comp_2=%{y}<br>comp_3=%{z}<extra></extra>\",\"legendgroup\":\"They Wanna Know\",\"marker\":{\"color\":\"#19d3f3\",\"symbol\":\"circle\"},\"mode\":\"markers\",\"name\":\"They Wanna Know\",\"scene\":\"scene\",\"showlegend\":true,\"x\":[47.98429489135742],\"y\":[23.558088302612305],\"z\":[-4.7057294845581055],\"type\":\"scatter3d\"},{\"hovertemplate\":\"title=Knock You Out (Main Theme of Street Fighter 3: Third Strike Online Edition)<br>comp_1=%{x}<br>comp_2=%{y}<br>comp_3=%{z}<extra></extra>\",\"legendgroup\":\"Knock You Out (Main Theme of Street Fighter 3: Third Strike Online Edition)\",\"marker\":{\"color\":\"#FF6692\",\"symbol\":\"circle\"},\"mode\":\"markers\",\"name\":\"Knock You Out (Main Theme of Street Fighter 3: Third Strike Online Edition)\",\"scene\":\"scene\",\"showlegend\":true,\"x\":[38.87209701538086],\"y\":[-7.484017372131348],\"z\":[-16.558734893798828],\"type\":\"scatter3d\"},{\"hovertemplate\":\"title=Stockholm Paris<br>comp_1=%{x}<br>comp_2=%{y}<br>comp_3=%{z}<extra></extra>\",\"legendgroup\":\"Stockholm Paris\",\"marker\":{\"color\":\"#B6E880\",\"symbol\":\"circle\"},\"mode\":\"markers\",\"name\":\"Stockholm Paris\",\"scene\":\"scene\",\"showlegend\":true,\"x\":[21.170265197753906],\"y\":[-15.316828727722168],\"z\":[42.96882247924805],\"type\":\"scatter3d\"},{\"hovertemplate\":\"title=Scared Of The Dark<br>comp_1=%{x}<br>comp_2=%{y}<br>comp_3=%{z}<extra></extra>\",\"legendgroup\":\"Scared Of The Dark\",\"marker\":{\"color\":\"#FF97FF\",\"symbol\":\"circle\"},\"mode\":\"markers\",\"name\":\"Scared Of The Dark\",\"scene\":\"scene\",\"showlegend\":true,\"x\":[51.25569152832031],\"y\":[-4.966770172119141],\"z\":[10.920780181884766],\"type\":\"scatter3d\"},{\"hovertemplate\":\"title=Hurts<br>comp_1=%{x}<br>comp_2=%{y}<br>comp_3=%{z}<extra></extra>\",\"legendgroup\":\"Hurts\",\"marker\":{\"color\":\"#FECB52\",\"symbol\":\"circle\"},\"mode\":\"markers\",\"name\":\"Hurts\",\"scene\":\"scene\",\"showlegend\":true,\"x\":[43.535057067871094],\"y\":[17.325769424438477],\"z\":[1.742785930633545],\"type\":\"scatter3d\"},{\"hovertemplate\":\"title=Goes Around Comes Around<br>comp_1=%{x}<br>comp_2=%{y}<br>comp_3=%{z}<extra></extra>\",\"legendgroup\":\"Goes Around Comes Around\",\"marker\":{\"color\":\"#636efa\",\"symbol\":\"circle\"},\"mode\":\"markers\",\"name\":\"Goes Around Comes Around\",\"scene\":\"scene\",\"showlegend\":true,\"x\":[38.55611801147461],\"y\":[9.44975757598877],\"z\":[-1.4585988521575928],\"type\":\"scatter3d\"},{\"hovertemplate\":\"title=Wait in Summer<br>comp_1=%{x}<br>comp_2=%{y}<br>comp_3=%{z}<extra></extra>\",\"legendgroup\":\"Wait in Summer\",\"marker\":{\"color\":\"#EF553B\",\"symbol\":\"circle\"},\"mode\":\"markers\",\"name\":\"Wait in Summer\",\"scene\":\"scene\",\"showlegend\":true,\"x\":[38.463157653808594],\"y\":[8.794395446777344],\"z\":[-15.270525932312012],\"type\":\"scatter3d\"},{\"hovertemplate\":\"title=Son of a Gun<br>comp_1=%{x}<br>comp_2=%{y}<br>comp_3=%{z}<extra></extra>\",\"legendgroup\":\"Son of a Gun\",\"marker\":{\"color\":\"#00cc96\",\"symbol\":\"circle\"},\"mode\":\"markers\",\"name\":\"Son of a Gun\",\"scene\":\"scene\",\"showlegend\":true,\"x\":[77.06671142578125],\"y\":[4.264607906341553],\"z\":[-14.400785446166992],\"type\":\"scatter3d\"},{\"hovertemplate\":\"title=Come Back 2 You<br>comp_1=%{x}<br>comp_2=%{y}<br>comp_3=%{z}<extra></extra>\",\"legendgroup\":\"Come Back 2 You\",\"marker\":{\"color\":\"#ab63fa\",\"symbol\":\"circle\"},\"mode\":\"markers\",\"name\":\"Come Back 2 You\",\"scene\":\"scene\",\"showlegend\":true,\"x\":[70.85504913330078],\"y\":[-11.637401580810547],\"z\":[2.425323486328125],\"type\":\"scatter3d\"},{\"hovertemplate\":\"title=Come Back 2<br>comp_1=%{x}<br>comp_2=%{y}<br>comp_3=%{z}<extra></extra>\",\"legendgroup\":\"Come Back 2\",\"marker\":{\"color\":\"#FFA15A\",\"symbol\":\"circle\"},\"mode\":\"markers\",\"name\":\"Come Back 2\",\"scene\":\"scene\",\"showlegend\":true,\"x\":[71.5176773071289],\"y\":[-6.322370529174805],\"z\":[5.453658103942871],\"type\":\"scatter3d\"},{\"hovertemplate\":\"title=1990-n\\u00e5nting<br>comp_1=%{x}<br>comp_2=%{y}<br>comp_3=%{z}<extra></extra>\",\"legendgroup\":\"1990-n\\u00e5nting\",\"marker\":{\"color\":\"#19d3f3\",\"symbol\":\"circle\"},\"mode\":\"markers\",\"name\":\"1990-n\\u00e5nting\",\"scene\":\"scene\",\"showlegend\":true,\"x\":[7.312378406524658],\"y\":[-13.856500625610352],\"z\":[37.46955871582031],\"type\":\"scatter3d\"},{\"hovertemplate\":\"title=Bomfalleralla<br>comp_1=%{x}<br>comp_2=%{y}<br>comp_3=%{z}<extra></extra>\",\"legendgroup\":\"Bomfalleralla\",\"marker\":{\"color\":\"#FF6692\",\"symbol\":\"circle\"},\"mode\":\"markers\",\"name\":\"Bomfalleralla\",\"scene\":\"scene\",\"showlegend\":true,\"x\":[-13.965580940246582],\"y\":[15.909045219421387],\"z\":[24.82561683654785],\"type\":\"scatter3d\"},{\"hovertemplate\":\"title=Jobb<br>comp_1=%{x}<br>comp_2=%{y}<br>comp_3=%{z}<extra></extra>\",\"legendgroup\":\"Jobb\",\"marker\":{\"color\":\"#B6E880\",\"symbol\":\"circle\"},\"mode\":\"markers\",\"name\":\"Jobb\",\"scene\":\"scene\",\"showlegend\":true,\"x\":[-64.1011962890625],\"y\":[16.402618408203125],\"z\":[-4.898409366607666],\"type\":\"scatter3d\"},{\"hovertemplate\":\"title=Sverigetrotters<br>comp_1=%{x}<br>comp_2=%{y}<br>comp_3=%{z}<extra></extra>\",\"legendgroup\":\"Sverigetrotters\",\"marker\":{\"color\":\"#FF97FF\",\"symbol\":\"circle\"},\"mode\":\"markers\",\"name\":\"Sverigetrotters\",\"scene\":\"scene\",\"showlegend\":true,\"x\":[-7.1688923835754395],\"y\":[26.19057273864746],\"z\":[34.99828338623047],\"type\":\"scatter3d\"},{\"hovertemplate\":\"title=Natten Till Idag<br>comp_1=%{x}<br>comp_2=%{y}<br>comp_3=%{z}<extra></extra>\",\"legendgroup\":\"Natten Till Idag\",\"marker\":{\"color\":\"#FECB52\",\"symbol\":\"circle\"},\"mode\":\"markers\",\"name\":\"Natten Till Idag\",\"scene\":\"scene\",\"showlegend\":true,\"x\":[-33.874671936035156],\"y\":[4.168076992034912],\"z\":[11.073453903198242],\"type\":\"scatter3d\"},{\"hovertemplate\":\"title=Jag Kunde inte Bry mig Mindre<br>comp_1=%{x}<br>comp_2=%{y}<br>comp_3=%{z}<extra></extra>\",\"legendgroup\":\"Jag Kunde inte Bry mig Mindre\",\"marker\":{\"color\":\"#636efa\",\"symbol\":\"circle\"},\"mode\":\"markers\",\"name\":\"Jag Kunde inte Bry mig Mindre\",\"scene\":\"scene\",\"showlegend\":true,\"x\":[-3.8866055011749268],\"y\":[5.752945899963379],\"z\":[-45.002872467041016],\"type\":\"scatter3d\"},{\"hovertemplate\":\"title=Bomfalleralla [English]<br>comp_1=%{x}<br>comp_2=%{y}<br>comp_3=%{z}<extra></extra>\",\"legendgroup\":\"Bomfalleralla [English]\",\"marker\":{\"color\":\"#EF553B\",\"symbol\":\"circle\"},\"mode\":\"markers\",\"name\":\"Bomfalleralla [English]\",\"scene\":\"scene\",\"showlegend\":true,\"x\":[-19.649213790893555],\"y\":[16.50296974182129],\"z\":[25.285831451416016],\"type\":\"scatter3d\"},{\"hovertemplate\":\"title=Le Parkour<br>comp_1=%{x}<br>comp_2=%{y}<br>comp_3=%{z}<extra></extra>\",\"legendgroup\":\"Le Parkour\",\"marker\":{\"color\":\"#00cc96\",\"symbol\":\"circle\"},\"mode\":\"markers\",\"name\":\"Le Parkour\",\"scene\":\"scene\",\"showlegend\":true,\"x\":[-34.55339050292969],\"y\":[35.367103576660156],\"z\":[15.57337760925293],\"type\":\"scatter3d\"},{\"hovertemplate\":\"title=Hej hej<br>comp_1=%{x}<br>comp_2=%{y}<br>comp_3=%{z}<extra></extra>\",\"legendgroup\":\"Hej hej\",\"marker\":{\"color\":\"#ab63fa\",\"symbol\":\"circle\"},\"mode\":\"markers\",\"name\":\"Hej hej\",\"scene\":\"scene\",\"showlegend\":true,\"x\":[8.704808235168457],\"y\":[22.894546508789062],\"z\":[12.478034973144531],\"type\":\"scatter3d\"},{\"hovertemplate\":\"title=Benen p\\u00e5 ryggen<br>comp_1=%{x}<br>comp_2=%{y}<br>comp_3=%{z}<extra></extra>\",\"legendgroup\":\"Benen p\\u00e5 ryggen\",\"marker\":{\"color\":\"#FFA15A\",\"symbol\":\"circle\"},\"mode\":\"markers\",\"name\":\"Benen p\\u00e5 ryggen\",\"scene\":\"scene\",\"showlegend\":true,\"x\":[-30.303054809570312],\"y\":[32.952144622802734],\"z\":[23.15998077392578],\"type\":\"scatter3d\"},{\"hovertemplate\":\"title=Kall<br>comp_1=%{x}<br>comp_2=%{y}<br>comp_3=%{z}<extra></extra>\",\"legendgroup\":\"Kall\",\"marker\":{\"color\":\"#19d3f3\",\"symbol\":\"circle\"},\"mode\":\"markers\",\"name\":\"Kall\",\"scene\":\"scene\",\"showlegend\":true,\"x\":[2.2885916233062744],\"y\":[-43.12482833862305],\"z\":[-3.8164303302764893],\"type\":\"scatter3d\"},{\"hovertemplate\":\"title=Drip<br>comp_1=%{x}<br>comp_2=%{y}<br>comp_3=%{z}<extra></extra>\",\"legendgroup\":\"Drip\",\"marker\":{\"color\":\"#FF6692\",\"symbol\":\"circle\"},\"mode\":\"markers\",\"name\":\"Drip\",\"scene\":\"scene\",\"showlegend\":true,\"x\":[25.635366439819336],\"y\":[-4.908853054046631],\"z\":[-12.678976058959961],\"type\":\"scatter3d\"},{\"hovertemplate\":\"title=724<br>comp_1=%{x}<br>comp_2=%{y}<br>comp_3=%{z}<extra></extra>\",\"legendgroup\":\"724\",\"marker\":{\"color\":\"#B6E880\",\"symbol\":\"circle\"},\"mode\":\"markers\",\"name\":\"724\",\"scene\":\"scene\",\"showlegend\":true,\"x\":[6.799349784851074],\"y\":[-18.654054641723633],\"z\":[-14.086787223815918],\"type\":\"scatter3d\"},{\"hovertemplate\":\"title=1942<br>comp_1=%{x}<br>comp_2=%{y}<br>comp_3=%{z}<extra></extra>\",\"legendgroup\":\"1942\",\"marker\":{\"color\":\"#FF97FF\",\"symbol\":\"circle\"},\"mode\":\"markers\",\"name\":\"1942\",\"scene\":\"scene\",\"showlegend\":true,\"x\":[-4.180106163024902],\"y\":[-5.021557807922363],\"z\":[-34.43942642211914],\"type\":\"scatter3d\"},{\"hovertemplate\":\"title=Va Mig<br>comp_1=%{x}<br>comp_2=%{y}<br>comp_3=%{z}<extra></extra>\",\"legendgroup\":\"Va Mig\",\"marker\":{\"color\":\"#FECB52\",\"symbol\":\"circle\"},\"mode\":\"markers\",\"name\":\"Va Mig\",\"scene\":\"scene\",\"showlegend\":true,\"x\":[8.579289436340332],\"y\":[-19.183650970458984],\"z\":[-25.04246711730957],\"type\":\"scatter3d\"},{\"hovertemplate\":\"title=Hon<br>comp_1=%{x}<br>comp_2=%{y}<br>comp_3=%{z}<extra></extra>\",\"legendgroup\":\"Hon\",\"marker\":{\"color\":\"#636efa\",\"symbol\":\"circle\"},\"mode\":\"markers\",\"name\":\"Hon\",\"scene\":\"scene\",\"showlegend\":true,\"x\":[-24.908584594726562],\"y\":[-36.111793518066406],\"z\":[5.862968444824219],\"type\":\"scatter3d\"},{\"hovertemplate\":\"title=Blessed<br>comp_1=%{x}<br>comp_2=%{y}<br>comp_3=%{z}<extra></extra>\",\"legendgroup\":\"Blessed\",\"marker\":{\"color\":\"#EF553B\",\"symbol\":\"circle\"},\"mode\":\"markers\",\"name\":\"Blessed\",\"scene\":\"scene\",\"showlegend\":true,\"x\":[25.49808120727539],\"y\":[-0.7226115465164185],\"z\":[-18.165544509887695],\"type\":\"scatter3d\"},{\"hovertemplate\":\"title=Mama<br>comp_1=%{x}<br>comp_2=%{y}<br>comp_3=%{z}<extra></extra>\",\"legendgroup\":\"Mama\",\"marker\":{\"color\":\"#00cc96\",\"symbol\":\"circle\"},\"mode\":\"markers\",\"name\":\"Mama\",\"scene\":\"scene\",\"showlegend\":true,\"x\":[-20.66714096069336],\"y\":[-45.06478500366211],\"z\":[11.589425086975098],\"type\":\"scatter3d\"},{\"hovertemplate\":\"title=Sativa<br>comp_1=%{x}<br>comp_2=%{y}<br>comp_3=%{z}<extra></extra>\",\"legendgroup\":\"Sativa\",\"marker\":{\"color\":\"#ab63fa\",\"symbol\":\"circle\"},\"mode\":\"markers\",\"name\":\"Sativa\",\"scene\":\"scene\",\"showlegend\":true,\"x\":[17.491010665893555],\"y\":[-20.079261779785156],\"z\":[-9.947026252746582],\"type\":\"scatter3d\"},{\"hovertemplate\":\"title=Jag & Du<br>comp_1=%{x}<br>comp_2=%{y}<br>comp_3=%{z}<extra></extra>\",\"legendgroup\":\"Jag & Du\",\"marker\":{\"color\":\"#FFA15A\",\"symbol\":\"circle\"},\"mode\":\"markers\",\"name\":\"Jag & Du\",\"scene\":\"scene\",\"showlegend\":true,\"x\":[-5.959447383880615],\"y\":[-8.392410278320312],\"z\":[-43.98994445800781],\"type\":\"scatter3d\"},{\"hovertemplate\":\"title=Tagga Ner Remix<br>comp_1=%{x}<br>comp_2=%{y}<br>comp_3=%{z}<extra></extra>\",\"legendgroup\":\"Tagga Ner Remix\",\"marker\":{\"color\":\"#19d3f3\",\"symbol\":\"circle\"},\"mode\":\"markers\",\"name\":\"Tagga Ner Remix\",\"scene\":\"scene\",\"showlegend\":true,\"x\":[4.490790367126465],\"y\":[5.097512722015381],\"z\":[-20.793222427368164],\"type\":\"scatter3d\"},{\"hovertemplate\":\"title=Lika bra<br>comp_1=%{x}<br>comp_2=%{y}<br>comp_3=%{z}<extra></extra>\",\"legendgroup\":\"Lika bra\",\"marker\":{\"color\":\"#FF6692\",\"symbol\":\"circle\"},\"mode\":\"markers\",\"name\":\"Lika bra\",\"scene\":\"scene\",\"showlegend\":true,\"x\":[-12.616340637207031],\"y\":[18.552051544189453],\"z\":[-2.8318581581115723],\"type\":\"scatter3d\"},{\"hovertemplate\":\"title=Vem E Han<br>comp_1=%{x}<br>comp_2=%{y}<br>comp_3=%{z}<extra></extra>\",\"legendgroup\":\"Vem E Han\",\"marker\":{\"color\":\"#B6E880\",\"symbol\":\"circle\"},\"mode\":\"markers\",\"name\":\"Vem E Han\",\"scene\":\"scene\",\"showlegend\":true,\"x\":[13.24692440032959],\"y\":[18.2899227142334],\"z\":[-25.02078628540039],\"type\":\"scatter3d\"},{\"hovertemplate\":\"title=\\u00c4lska N\\u00e5n<br>comp_1=%{x}<br>comp_2=%{y}<br>comp_3=%{z}<extra></extra>\",\"legendgroup\":\"\\u00c4lska N\\u00e5n\",\"marker\":{\"color\":\"#FF97FF\",\"symbol\":\"circle\"},\"mode\":\"markers\",\"name\":\"\\u00c4lska N\\u00e5n\",\"scene\":\"scene\",\"showlegend\":true,\"x\":[2.747488260269165],\"y\":[-0.2749340832233429],\"z\":[-38.19352722167969],\"type\":\"scatter3d\"},{\"hovertemplate\":\"title=Tagga Ner<br>comp_1=%{x}<br>comp_2=%{y}<br>comp_3=%{z}<extra></extra>\",\"legendgroup\":\"Tagga Ner\",\"marker\":{\"color\":\"#FECB52\",\"symbol\":\"circle\"},\"mode\":\"markers\",\"name\":\"Tagga Ner\",\"scene\":\"scene\",\"showlegend\":true,\"x\":[6.433674335479736],\"y\":[7.969276428222656],\"z\":[-25.423770904541016],\"type\":\"scatter3d\"},{\"hovertemplate\":\"title=Vandraren<br>comp_1=%{x}<br>comp_2=%{y}<br>comp_3=%{z}<extra></extra>\",\"legendgroup\":\"Vandraren\",\"marker\":{\"color\":\"#636efa\",\"symbol\":\"circle\"},\"mode\":\"markers\",\"name\":\"Vandraren\",\"scene\":\"scene\",\"showlegend\":true,\"x\":[-34.05495834350586],\"y\":[13.048877716064453],\"z\":[-29.547143936157227],\"type\":\"scatter3d\"},{\"hovertemplate\":\"title=Tornetr\\u00e4sket<br>comp_1=%{x}<br>comp_2=%{y}<br>comp_3=%{z}<extra></extra>\",\"legendgroup\":\"Tornetr\\u00e4sket\",\"marker\":{\"color\":\"#EF553B\",\"symbol\":\"circle\"},\"mode\":\"markers\",\"name\":\"Tornetr\\u00e4sket\",\"scene\":\"scene\",\"showlegend\":true,\"x\":[-28.92744255065918],\"y\":[6.367343902587891],\"z\":[-13.096412658691406],\"type\":\"scatter3d\"},{\"hovertemplate\":\"title=G\\u00e5 P\\u00e5 Salong<br>comp_1=%{x}<br>comp_2=%{y}<br>comp_3=%{z}<extra></extra>\",\"legendgroup\":\"G\\u00e5 P\\u00e5 Salong\",\"marker\":{\"color\":\"#00cc96\",\"symbol\":\"circle\"},\"mode\":\"markers\",\"name\":\"G\\u00e5 P\\u00e5 Salong\",\"scene\":\"scene\",\"showlegend\":true,\"x\":[25.4703311920166],\"y\":[29.46988296508789],\"z\":[-6.72613000869751],\"type\":\"scatter3d\"},{\"hovertemplate\":\"title=7 lr 8<br>comp_1=%{x}<br>comp_2=%{y}<br>comp_3=%{z}<extra></extra>\",\"legendgroup\":\"7 lr 8\",\"marker\":{\"color\":\"#ab63fa\",\"symbol\":\"circle\"},\"mode\":\"markers\",\"name\":\"7 lr 8\",\"scene\":\"scene\",\"showlegend\":true,\"x\":[22.718849182128906],\"y\":[14.552264213562012],\"z\":[-1.4997073411941528],\"type\":\"scatter3d\"},{\"hovertemplate\":\"title=Tjejerna Tjejerna Tjejerna<br>comp_1=%{x}<br>comp_2=%{y}<br>comp_3=%{z}<extra></extra>\",\"legendgroup\":\"Tjejerna Tjejerna Tjejerna\",\"marker\":{\"color\":\"#FFA15A\",\"symbol\":\"circle\"},\"mode\":\"markers\",\"name\":\"Tjejerna Tjejerna Tjejerna\",\"scene\":\"scene\",\"showlegend\":true,\"x\":[12.369376182556152],\"y\":[-21.18730926513672],\"z\":[42.71025848388672],\"type\":\"scatter3d\"},{\"hovertemplate\":\"title=F.A.M.E (LeyLey)<br>comp_1=%{x}<br>comp_2=%{y}<br>comp_3=%{z}<extra></extra>\",\"legendgroup\":\"F.A.M.E (LeyLey)\",\"marker\":{\"color\":\"#19d3f3\",\"symbol\":\"circle\"},\"mode\":\"markers\",\"name\":\"F.A.M.E (LeyLey)\",\"scene\":\"scene\",\"showlegend\":true,\"x\":[22.433334350585938,16.79985237121582],\"y\":[24.696205139160156,26.239465713500977],\"z\":[25.145978927612305,22.529027938842773],\"type\":\"scatter3d\"},{\"hovertemplate\":\"title=N\\u00e5n Annan<br>comp_1=%{x}<br>comp_2=%{y}<br>comp_3=%{z}<extra></extra>\",\"legendgroup\":\"N\\u00e5n Annan\",\"marker\":{\"color\":\"#FF6692\",\"symbol\":\"circle\"},\"mode\":\"markers\",\"name\":\"N\\u00e5n Annan\",\"scene\":\"scene\",\"showlegend\":true,\"x\":[-1.8254135847091675],\"y\":[5.005903720855713],\"z\":[-32.14179611206055],\"type\":\"scatter3d\"},{\"hovertemplate\":\"title=Naiv<br>comp_1=%{x}<br>comp_2=%{y}<br>comp_3=%{z}<extra></extra>\",\"legendgroup\":\"Naiv\",\"marker\":{\"color\":\"#B6E880\",\"symbol\":\"circle\"},\"mode\":\"markers\",\"name\":\"Naiv\",\"scene\":\"scene\",\"showlegend\":true,\"x\":[-9.67674732208252],\"y\":[7.7799153327941895],\"z\":[-34.88499450683594],\"type\":\"scatter3d\"},{\"hovertemplate\":\"title=Aldrig igen<br>comp_1=%{x}<br>comp_2=%{y}<br>comp_3=%{z}<extra></extra>\",\"legendgroup\":\"Aldrig igen\",\"marker\":{\"color\":\"#FF97FF\",\"symbol\":\"circle\"},\"mode\":\"markers\",\"name\":\"Aldrig igen\",\"scene\":\"scene\",\"showlegend\":true,\"x\":[-44.91270065307617],\"y\":[23.091365814208984],\"z\":[-16.925601959228516],\"type\":\"scatter3d\"},{\"hovertemplate\":\"title=Trender<br>comp_1=%{x}<br>comp_2=%{y}<br>comp_3=%{z}<extra></extra>\",\"legendgroup\":\"Trender\",\"marker\":{\"color\":\"#FECB52\",\"symbol\":\"circle\"},\"mode\":\"markers\",\"name\":\"Trender\",\"scene\":\"scene\",\"showlegend\":true,\"x\":[27.87828826904297],\"y\":[3.500408172607422],\"z\":[5.128095626831055],\"type\":\"scatter3d\"},{\"hovertemplate\":\"title=Inte meningen<br>comp_1=%{x}<br>comp_2=%{y}<br>comp_3=%{z}<extra></extra>\",\"legendgroup\":\"Inte meningen\",\"marker\":{\"color\":\"#636efa\",\"symbol\":\"circle\"},\"mode\":\"markers\",\"name\":\"Inte meningen\",\"scene\":\"scene\",\"showlegend\":true,\"x\":[8.627692222595215],\"y\":[-9.194564819335938],\"z\":[-9.460478782653809],\"type\":\"scatter3d\"},{\"hovertemplate\":\"title=LeyLey (F.A.M.E Remix)<br>comp_1=%{x}<br>comp_2=%{y}<br>comp_3=%{z}<extra></extra>\",\"legendgroup\":\"LeyLey (F.A.M.E Remix)\",\"marker\":{\"color\":\"#EF553B\",\"symbol\":\"circle\"},\"mode\":\"markers\",\"name\":\"LeyLey (F.A.M.E Remix)\",\"scene\":\"scene\",\"showlegend\":true,\"x\":[15.809690475463867],\"y\":[19.92889976501465],\"z\":[23.882169723510742],\"type\":\"scatter3d\"},{\"hovertemplate\":\"title=F\\u00f6rebild<br>comp_1=%{x}<br>comp_2=%{y}<br>comp_3=%{z}<extra></extra>\",\"legendgroup\":\"F\\u00f6rebild\",\"marker\":{\"color\":\"#00cc96\",\"symbol\":\"circle\"},\"mode\":\"markers\",\"name\":\"F\\u00f6rebild\",\"scene\":\"scene\",\"showlegend\":true,\"x\":[-1.5575531721115112],\"y\":[4.681760787963867],\"z\":[-14.907658576965332],\"type\":\"scatter3d\"},{\"hovertemplate\":\"title=Hela Livet<br>comp_1=%{x}<br>comp_2=%{y}<br>comp_3=%{z}<extra></extra>\",\"legendgroup\":\"Hela Livet\",\"marker\":{\"color\":\"#ab63fa\",\"symbol\":\"circle\"},\"mode\":\"markers\",\"name\":\"Hela Livet\",\"scene\":\"scene\",\"showlegend\":true,\"x\":[-3.465954303741455],\"y\":[-39.78468704223633],\"z\":[-15.609621047973633],\"type\":\"scatter3d\"},{\"hovertemplate\":\"title=All In<br>comp_1=%{x}<br>comp_2=%{y}<br>comp_3=%{z}<extra></extra>\",\"legendgroup\":\"All In\",\"marker\":{\"color\":\"#FFA15A\",\"symbol\":\"circle\"},\"mode\":\"markers\",\"name\":\"All In\",\"scene\":\"scene\",\"showlegend\":true,\"x\":[-0.7229101061820984],\"y\":[1.8770115375518799],\"z\":[31.393278121948242],\"type\":\"scatter3d\"},{\"hovertemplate\":\"title=PIPPI<br>comp_1=%{x}<br>comp_2=%{y}<br>comp_3=%{z}<extra></extra>\",\"legendgroup\":\"PIPPI\",\"marker\":{\"color\":\"#19d3f3\",\"symbol\":\"circle\"},\"mode\":\"markers\",\"name\":\"PIPPI\",\"scene\":\"scene\",\"showlegend\":true,\"x\":[-4.991739273071289],\"y\":[-3.286430597305298],\"z\":[7.434741497039795],\"type\":\"scatter3d\"},{\"hovertemplate\":\"title=DAG HAMMARSKJ\\u00d6LD<br>comp_1=%{x}<br>comp_2=%{y}<br>comp_3=%{z}<extra></extra>\",\"legendgroup\":\"DAG HAMMARSKJ\\u00d6LD\",\"marker\":{\"color\":\"#FF6692\",\"symbol\":\"circle\"},\"mode\":\"markers\",\"name\":\"DAG HAMMARSKJ\\u00d6LD\",\"scene\":\"scene\",\"showlegend\":true,\"x\":[23.27024269104004],\"y\":[-9.638051986694336],\"z\":[18.715503692626953],\"type\":\"scatter3d\"},{\"hovertemplate\":\"title=Fram<br>comp_1=%{x}<br>comp_2=%{y}<br>comp_3=%{z}<extra></extra>\",\"legendgroup\":\"Fram\",\"marker\":{\"color\":\"#B6E880\",\"symbol\":\"circle\"},\"mode\":\"markers\",\"name\":\"Fram\",\"scene\":\"scene\",\"showlegend\":true,\"x\":[23.734569549560547],\"y\":[-5.188317775726318],\"z\":[12.434038162231445],\"type\":\"scatter3d\"},{\"hovertemplate\":\"title=V\\u00c4RLDSKLASS<br>comp_1=%{x}<br>comp_2=%{y}<br>comp_3=%{z}<extra></extra>\",\"legendgroup\":\"V\\u00c4RLDSKLASS\",\"marker\":{\"color\":\"#FF97FF\",\"symbol\":\"circle\"},\"mode\":\"markers\",\"name\":\"V\\u00c4RLDSKLASS\",\"scene\":\"scene\",\"showlegend\":true,\"x\":[27.97486114501953],\"y\":[-19.665403366088867],\"z\":[24.974756240844727],\"type\":\"scatter3d\"},{\"hovertemplate\":\"title=Akhi<br>comp_1=%{x}<br>comp_2=%{y}<br>comp_3=%{z}<extra></extra>\",\"legendgroup\":\"Akhi\",\"marker\":{\"color\":\"#FECB52\",\"symbol\":\"circle\"},\"mode\":\"markers\",\"name\":\"Akhi\",\"scene\":\"scene\",\"showlegend\":true,\"x\":[-1.3456968069076538],\"y\":[-35.661006927490234],\"z\":[-8.299193382263184],\"type\":\"scatter3d\"},{\"hovertemplate\":\"title=TILL MIG<br>comp_1=%{x}<br>comp_2=%{y}<br>comp_3=%{z}<extra></extra>\",\"legendgroup\":\"TILL MIG\",\"marker\":{\"color\":\"#636efa\",\"symbol\":\"circle\"},\"mode\":\"markers\",\"name\":\"TILL MIG\",\"scene\":\"scene\",\"showlegend\":true,\"x\":[29.6815185546875],\"y\":[-9.985505104064941],\"z\":[26.657135009765625],\"type\":\"scatter3d\"},{\"hovertemplate\":\"title=Oj Oj Oj<br>comp_1=%{x}<br>comp_2=%{y}<br>comp_3=%{z}<extra></extra>\",\"legendgroup\":\"Oj Oj Oj\",\"marker\":{\"color\":\"#EF553B\",\"symbol\":\"circle\"},\"mode\":\"markers\",\"name\":\"Oj Oj Oj\",\"scene\":\"scene\",\"showlegend\":true,\"x\":[5.880366802215576],\"y\":[-7.747961521148682],\"z\":[21.482845306396484],\"type\":\"scatter3d\"},{\"hovertemplate\":\"title=Va<br>comp_1=%{x}<br>comp_2=%{y}<br>comp_3=%{z}<extra></extra>\",\"legendgroup\":\"Va\",\"marker\":{\"color\":\"#00cc96\",\"symbol\":\"circle\"},\"mode\":\"markers\",\"name\":\"Va\",\"scene\":\"scene\",\"showlegend\":true,\"x\":[6.314654350280762],\"y\":[-12.732678413391113],\"z\":[15.747281074523926],\"type\":\"scatter3d\"},{\"hovertemplate\":\"title=F\\u00f6r Laxen<br>comp_1=%{x}<br>comp_2=%{y}<br>comp_3=%{z}<extra></extra>\",\"legendgroup\":\"F\\u00f6r Laxen\",\"marker\":{\"color\":\"#ab63fa\",\"symbol\":\"circle\"},\"mode\":\"markers\",\"name\":\"F\\u00f6r Laxen\",\"scene\":\"scene\",\"showlegend\":true,\"x\":[-8.660859107971191],\"y\":[14.464842796325684],\"z\":[11.73739242553711],\"type\":\"scatter3d\"},{\"hovertemplate\":\"title=LIGA<br>comp_1=%{x}<br>comp_2=%{y}<br>comp_3=%{z}<extra></extra>\",\"legendgroup\":\"LIGA\",\"marker\":{\"color\":\"#FFA15A\",\"symbol\":\"circle\"},\"mode\":\"markers\",\"name\":\"LIGA\",\"scene\":\"scene\",\"showlegend\":true,\"x\":[11.672045707702637],\"y\":[-2.087268590927124],\"z\":[-13.49453353881836],\"type\":\"scatter3d\"},{\"hovertemplate\":\"title=Calcium<br>comp_1=%{x}<br>comp_2=%{y}<br>comp_3=%{z}<extra></extra>\",\"legendgroup\":\"Calcium\",\"marker\":{\"color\":\"#19d3f3\",\"symbol\":\"circle\"},\"mode\":\"markers\",\"name\":\"Calcium\",\"scene\":\"scene\",\"showlegend\":true,\"x\":[67.81495666503906],\"y\":[-9.29965877532959],\"z\":[-24.135242462158203],\"type\":\"scatter3d\"},{\"hovertemplate\":\"title=Peroxide<br>comp_1=%{x}<br>comp_2=%{y}<br>comp_3=%{z}<extra></extra>\",\"legendgroup\":\"Peroxide\",\"marker\":{\"color\":\"#FF6692\",\"symbol\":\"circle\"},\"mode\":\"markers\",\"name\":\"Peroxide\",\"scene\":\"scene\",\"showlegend\":true,\"x\":[71.73579406738281],\"y\":[7.197569370269775],\"z\":[-2.9498202800750732],\"type\":\"scatter3d\"},{\"hovertemplate\":\"title=AAA Powerline<br>comp_1=%{x}<br>comp_2=%{y}<br>comp_3=%{z}<extra></extra>\",\"legendgroup\":\"AAA Powerline\",\"marker\":{\"color\":\"#B6E880\",\"symbol\":\"circle\"},\"mode\":\"markers\",\"name\":\"AAA Powerline\",\"scene\":\"scene\",\"showlegend\":true,\"x\":[54.96261215209961],\"y\":[-17.537595748901367],\"z\":[-24.567840576171875],\"type\":\"scatter3d\"},{\"hovertemplate\":\"title=Fragile<br>comp_1=%{x}<br>comp_2=%{y}<br>comp_3=%{z}<extra></extra>\",\"legendgroup\":\"Fragile\",\"marker\":{\"color\":\"#FF97FF\",\"symbol\":\"circle\"},\"mode\":\"markers\",\"name\":\"Fragile\",\"scene\":\"scene\",\"showlegend\":true,\"x\":[57.234798431396484],\"y\":[-0.9080433249473572],\"z\":[-28.42569923400879],\"type\":\"scatter3d\"},{\"hovertemplate\":\"title=Play Em Like Atari<br>comp_1=%{x}<br>comp_2=%{y}<br>comp_3=%{z}<extra></extra>\",\"legendgroup\":\"Play Em Like Atari\",\"marker\":{\"color\":\"#FECB52\",\"symbol\":\"circle\"},\"mode\":\"markers\",\"name\":\"Play Em Like Atari\",\"scene\":\"scene\",\"showlegend\":true,\"x\":[68.48046112060547],\"y\":[9.054821968078613],\"z\":[-19.291423797607422],\"type\":\"scatter3d\"},{\"hovertemplate\":\"title=Security!<br>comp_1=%{x}<br>comp_2=%{y}<br>comp_3=%{z}<extra></extra>\",\"legendgroup\":\"Security!\",\"marker\":{\"color\":\"#636efa\",\"symbol\":\"circle\"},\"mode\":\"markers\",\"name\":\"Security!\",\"scene\":\"scene\",\"showlegend\":true,\"x\":[54.966190338134766],\"y\":[9.029109001159668],\"z\":[12.144126892089844],\"type\":\"scatter3d\"},{\"hovertemplate\":\"title=Sugar & Diesel<br>comp_1=%{x}<br>comp_2=%{y}<br>comp_3=%{z}<extra></extra>\",\"legendgroup\":\"Sugar & Diesel\",\"marker\":{\"color\":\"#EF553B\",\"symbol\":\"circle\"},\"mode\":\"markers\",\"name\":\"Sugar & Diesel\",\"scene\":\"scene\",\"showlegend\":true,\"x\":[45.5006103515625],\"y\":[4.369352340698242],\"z\":[-19.82916831970215],\"type\":\"scatter3d\"},{\"hovertemplate\":\"title=Hold Me Down Like Gravity<br>comp_1=%{x}<br>comp_2=%{y}<br>comp_3=%{z}<extra></extra>\",\"legendgroup\":\"Hold Me Down Like Gravity\",\"marker\":{\"color\":\"#00cc96\",\"symbol\":\"circle\"},\"mode\":\"markers\",\"name\":\"Hold Me Down Like Gravity\",\"scene\":\"scene\",\"showlegend\":true,\"x\":[49.16252517700195],\"y\":[21.913799285888672],\"z\":[-22.565624237060547],\"type\":\"scatter3d\"},{\"hovertemplate\":\"title=GT-R<br>comp_1=%{x}<br>comp_2=%{y}<br>comp_3=%{z}<extra></extra>\",\"legendgroup\":\"GT-R\",\"marker\":{\"color\":\"#ab63fa\",\"symbol\":\"circle\"},\"mode\":\"markers\",\"name\":\"GT-R\",\"scene\":\"scene\",\"showlegend\":true,\"x\":[58.1468391418457],\"y\":[-8.992318153381348],\"z\":[-19.506813049316406],\"type\":\"scatter3d\"},{\"hovertemplate\":\"title=Black Boy<br>comp_1=%{x}<br>comp_2=%{y}<br>comp_3=%{z}<extra></extra>\",\"legendgroup\":\"Black Boy\",\"marker\":{\"color\":\"#FFA15A\",\"symbol\":\"circle\"},\"mode\":\"markers\",\"name\":\"Black Boy\",\"scene\":\"scene\",\"showlegend\":true,\"x\":[65.56475830078125],\"y\":[16.880552291870117],\"z\":[5.688731670379639],\"type\":\"scatter3d\"},{\"hovertemplate\":\"title=Katten i trakten<br>comp_1=%{x}<br>comp_2=%{y}<br>comp_3=%{z}<extra></extra>\",\"legendgroup\":\"Katten i trakten\",\"marker\":{\"color\":\"#19d3f3\",\"symbol\":\"circle\"},\"mode\":\"markers\",\"name\":\"Katten i trakten\",\"scene\":\"scene\",\"showlegend\":true,\"x\":[26.991308212280273],\"y\":[-18.53822135925293],\"z\":[-12.930696487426758],\"type\":\"scatter3d\"},{\"hovertemplate\":\"title=F\\u00f6rsta Klass<br>comp_1=%{x}<br>comp_2=%{y}<br>comp_3=%{z}<extra></extra>\",\"legendgroup\":\"F\\u00f6rsta Klass\",\"marker\":{\"color\":\"#FF6692\",\"symbol\":\"circle\"},\"mode\":\"markers\",\"name\":\"F\\u00f6rsta Klass\",\"scene\":\"scene\",\"showlegend\":true,\"x\":[19.92107391357422],\"y\":[28.129371643066406],\"z\":[7.230301856994629],\"type\":\"scatter3d\"},{\"hovertemplate\":\"title=R\\u00f6r Mig<br>comp_1=%{x}<br>comp_2=%{y}<br>comp_3=%{z}<extra></extra>\",\"legendgroup\":\"R\\u00f6r Mig\",\"marker\":{\"color\":\"#B6E880\",\"symbol\":\"circle\"},\"mode\":\"markers\",\"name\":\"R\\u00f6r Mig\",\"scene\":\"scene\",\"showlegend\":true,\"x\":[-4.737355709075928],\"y\":[-6.693878650665283],\"z\":[17.740327835083008],\"type\":\"scatter3d\"},{\"hovertemplate\":\"title=Fusk<br>comp_1=%{x}<br>comp_2=%{y}<br>comp_3=%{z}<extra></extra>\",\"legendgroup\":\"Fusk\",\"marker\":{\"color\":\"#FF97FF\",\"symbol\":\"circle\"},\"mode\":\"markers\",\"name\":\"Fusk\",\"scene\":\"scene\",\"showlegend\":true,\"x\":[16.613075256347656],\"y\":[6.758790493011475],\"z\":[-10.005477905273438],\"type\":\"scatter3d\"},{\"hovertemplate\":\"title=F Mitt X<br>comp_1=%{x}<br>comp_2=%{y}<br>comp_3=%{z}<extra></extra>\",\"legendgroup\":\"F Mitt X\",\"marker\":{\"color\":\"#FECB52\",\"symbol\":\"circle\"},\"mode\":\"markers\",\"name\":\"F Mitt X\",\"scene\":\"scene\",\"showlegend\":true,\"x\":[23.03579330444336],\"y\":[9.762240409851074],\"z\":[24.653541564941406],\"type\":\"scatter3d\"},{\"hovertemplate\":\"title=Nu Vi Skiner<br>comp_1=%{x}<br>comp_2=%{y}<br>comp_3=%{z}<extra></extra>\",\"legendgroup\":\"Nu Vi Skiner\",\"marker\":{\"color\":\"#636efa\",\"symbol\":\"circle\"},\"mode\":\"markers\",\"name\":\"Nu Vi Skiner\",\"scene\":\"scene\",\"showlegend\":true,\"x\":[-3.5648350715637207],\"y\":[-13.827934265136719],\"z\":[0.20962047576904297],\"type\":\"scatter3d\"},{\"hovertemplate\":\"title=Nr 1<br>comp_1=%{x}<br>comp_2=%{y}<br>comp_3=%{z}<extra></extra>\",\"legendgroup\":\"Nr 1\",\"marker\":{\"color\":\"#EF553B\",\"symbol\":\"circle\"},\"mode\":\"markers\",\"name\":\"Nr 1\",\"scene\":\"scene\",\"showlegend\":true,\"x\":[-0.043574824929237366],\"y\":[-18.625030517578125],\"z\":[28.26724624633789],\"type\":\"scatter3d\"},{\"hovertemplate\":\"title=Unge Med Extra Energi<br>comp_1=%{x}<br>comp_2=%{y}<br>comp_3=%{z}<extra></extra>\",\"legendgroup\":\"Unge Med Extra Energi\",\"marker\":{\"color\":\"#00cc96\",\"symbol\":\"circle\"},\"mode\":\"markers\",\"name\":\"Unge Med Extra Energi\",\"scene\":\"scene\",\"showlegend\":true,\"x\":[-2.08498215675354],\"y\":[-16.120092391967773],\"z\":[-7.078098297119141],\"type\":\"scatter3d\"},{\"hovertemplate\":\"title=HipHop<br>comp_1=%{x}<br>comp_2=%{y}<br>comp_3=%{z}<extra></extra>\",\"legendgroup\":\"HipHop\",\"marker\":{\"color\":\"#ab63fa\",\"symbol\":\"circle\"},\"mode\":\"markers\",\"name\":\"HipHop\",\"scene\":\"scene\",\"showlegend\":true,\"x\":[13.481329917907715],\"y\":[0.18530607223510742],\"z\":[-6.044277191162109],\"type\":\"scatter3d\"},{\"hovertemplate\":\"title=Feelings<br>comp_1=%{x}<br>comp_2=%{y}<br>comp_3=%{z}<extra></extra>\",\"legendgroup\":\"Feelings\",\"marker\":{\"color\":\"#FFA15A\",\"symbol\":\"circle\"},\"mode\":\"markers\",\"name\":\"Feelings\",\"scene\":\"scene\",\"showlegend\":true,\"x\":[-4.837735652923584],\"y\":[-22.29909896850586],\"z\":[-4.0896477699279785],\"type\":\"scatter3d\"},{\"hovertemplate\":\"title=Rulla fram<br>comp_1=%{x}<br>comp_2=%{y}<br>comp_3=%{z}<extra></extra>\",\"legendgroup\":\"Rulla fram\",\"marker\":{\"color\":\"#19d3f3\",\"symbol\":\"circle\"},\"mode\":\"markers\",\"name\":\"Rulla fram\",\"scene\":\"scene\",\"showlegend\":true,\"x\":[-4.444258689880371],\"y\":[-17.13416290283203],\"z\":[-21.709829330444336],\"type\":\"scatter3d\"},{\"hovertemplate\":\"title=Underbar<br>comp_1=%{x}<br>comp_2=%{y}<br>comp_3=%{z}<extra></extra>\",\"legendgroup\":\"Underbar\",\"marker\":{\"color\":\"#FF6692\",\"symbol\":\"circle\"},\"mode\":\"markers\",\"name\":\"Underbar\",\"scene\":\"scene\",\"showlegend\":true,\"x\":[-40.58310317993164],\"y\":[9.701663970947266],\"z\":[-16.885873794555664],\"type\":\"scatter3d\"},{\"hovertemplate\":\"title=Mitt rop p\\u00e5 hj\\u00e4lp<br>comp_1=%{x}<br>comp_2=%{y}<br>comp_3=%{z}<extra></extra>\",\"legendgroup\":\"Mitt rop p\\u00e5 hj\\u00e4lp\",\"marker\":{\"color\":\"#B6E880\",\"symbol\":\"circle\"},\"mode\":\"markers\",\"name\":\"Mitt rop p\\u00e5 hj\\u00e4lp\",\"scene\":\"scene\",\"showlegend\":true,\"x\":[-29.272642135620117],\"y\":[-23.2509822845459],\"z\":[-14.266446113586426],\"type\":\"scatter3d\"},{\"hovertemplate\":\"title=Rullar Fram<br>comp_1=%{x}<br>comp_2=%{y}<br>comp_3=%{z}<extra></extra>\",\"legendgroup\":\"Rullar Fram\",\"marker\":{\"color\":\"#FF97FF\",\"symbol\":\"circle\"},\"mode\":\"markers\",\"name\":\"Rullar Fram\",\"scene\":\"scene\",\"showlegend\":true,\"x\":[-7.310916900634766],\"y\":[-17.974504470825195],\"z\":[-26.818111419677734],\"type\":\"scatter3d\"},{\"hovertemplate\":\"title=I staden d\\u00e4r vi bor<br>comp_1=%{x}<br>comp_2=%{y}<br>comp_3=%{z}<extra></extra>\",\"legendgroup\":\"I staden d\\u00e4r vi bor\",\"marker\":{\"color\":\"#FECB52\",\"symbol\":\"circle\"},\"mode\":\"markers\",\"name\":\"I staden d\\u00e4r vi bor\",\"scene\":\"scene\",\"showlegend\":true,\"x\":[-40.11384201049805],\"y\":[-9.808035850524902],\"z\":[42.984066009521484],\"type\":\"scatter3d\"},{\"hovertemplate\":\"title=\\u00c4nda tills hj\\u00e4rtat slutar sl\\u00e5<br>comp_1=%{x}<br>comp_2=%{y}<br>comp_3=%{z}<extra></extra>\",\"legendgroup\":\"\\u00c4nda tills hj\\u00e4rtat slutar sl\\u00e5\",\"marker\":{\"color\":\"#636efa\",\"symbol\":\"circle\"},\"mode\":\"markers\",\"name\":\"\\u00c4nda tills hj\\u00e4rtat slutar sl\\u00e5\",\"scene\":\"scene\",\"showlegend\":true,\"x\":[-35.93647766113281],\"y\":[22.436567306518555],\"z\":[9.409235954284668],\"type\":\"scatter3d\"},{\"hovertemplate\":\"title=Du har mail<br>comp_1=%{x}<br>comp_2=%{y}<br>comp_3=%{z}<extra></extra>\",\"legendgroup\":\"Du har mail\",\"marker\":{\"color\":\"#EF553B\",\"symbol\":\"circle\"},\"mode\":\"markers\",\"name\":\"Du har mail\",\"scene\":\"scene\",\"showlegend\":true,\"x\":[-39.10774230957031],\"y\":[7.722356796264648],\"z\":[-24.827075958251953],\"type\":\"scatter3d\"},{\"hovertemplate\":\"title=Gr\\u00e4nslandet<br>comp_1=%{x}<br>comp_2=%{y}<br>comp_3=%{z}<extra></extra>\",\"legendgroup\":\"Gr\\u00e4nslandet\",\"marker\":{\"color\":\"#00cc96\",\"symbol\":\"circle\"},\"mode\":\"markers\",\"name\":\"Gr\\u00e4nslandet\",\"scene\":\"scene\",\"showlegend\":true,\"x\":[-34.20793151855469],\"y\":[-23.986860275268555],\"z\":[-21.411653518676758],\"type\":\"scatter3d\"},{\"hovertemplate\":\"title=Upp<br>comp_1=%{x}<br>comp_2=%{y}<br>comp_3=%{z}<extra></extra>\",\"legendgroup\":\"Upp\",\"marker\":{\"color\":\"#ab63fa\",\"symbol\":\"circle\"},\"mode\":\"markers\",\"name\":\"Upp\",\"scene\":\"scene\",\"showlegend\":true,\"x\":[-48.55570983886719],\"y\":[29.501188278198242],\"z\":[3.2142422199249268],\"type\":\"scatter3d\"},{\"hovertemplate\":\"title=Miljoner indianer<br>comp_1=%{x}<br>comp_2=%{y}<br>comp_3=%{z}<extra></extra>\",\"legendgroup\":\"Miljoner indianer\",\"marker\":{\"color\":\"#FFA15A\",\"symbol\":\"circle\"},\"mode\":\"markers\",\"name\":\"Miljoner indianer\",\"scene\":\"scene\",\"showlegend\":true,\"x\":[-11.44420337677002],\"y\":[-23.370849609375],\"z\":[17.232646942138672],\"type\":\"scatter3d\"},{\"hovertemplate\":\"title=HotSpot<br>comp_1=%{x}<br>comp_2=%{y}<br>comp_3=%{z}<extra></extra>\",\"legendgroup\":\"HotSpot\",\"marker\":{\"color\":\"#19d3f3\",\"symbol\":\"circle\"},\"mode\":\"markers\",\"name\":\"HotSpot\",\"scene\":\"scene\",\"showlegend\":true,\"x\":[34.15433120727539],\"y\":[-1.4768742322921753],\"z\":[39.07195281982422],\"type\":\"scatter3d\"},{\"hovertemplate\":\"title=Sprayad<br>comp_1=%{x}<br>comp_2=%{y}<br>comp_3=%{z}<extra></extra>\",\"legendgroup\":\"Sprayad\",\"marker\":{\"color\":\"#FF6692\",\"symbol\":\"circle\"},\"mode\":\"markers\",\"name\":\"Sprayad\",\"scene\":\"scene\",\"showlegend\":true,\"x\":[29.864734649658203],\"y\":[-4.122513294219971],\"z\":[32.63363265991211],\"type\":\"scatter3d\"},{\"hovertemplate\":\"title=Apoteket<br>comp_1=%{x}<br>comp_2=%{y}<br>comp_3=%{z}<extra></extra>\",\"legendgroup\":\"Apoteket\",\"marker\":{\"color\":\"#B6E880\",\"symbol\":\"circle\"},\"mode\":\"markers\",\"name\":\"Apoteket\",\"scene\":\"scene\",\"showlegend\":true,\"x\":[13.427395820617676],\"y\":[-9.56871509552002],\"z\":[40.550045013427734],\"type\":\"scatter3d\"},{\"hovertemplate\":\"title=F\\u00d6RSENT 2<br>comp_1=%{x}<br>comp_2=%{y}<br>comp_3=%{z}<extra></extra>\",\"legendgroup\":\"F\\u00d6RSENT 2\",\"marker\":{\"color\":\"#FF97FF\",\"symbol\":\"circle\"},\"mode\":\"markers\",\"name\":\"F\\u00d6RSENT 2\",\"scene\":\"scene\",\"showlegend\":true,\"x\":[5.308891773223877],\"y\":[-27.631378173828125],\"z\":[19.957921981811523],\"type\":\"scatter3d\"},{\"hovertemplate\":\"title=BIG MAC<br>comp_1=%{x}<br>comp_2=%{y}<br>comp_3=%{z}<extra></extra>\",\"legendgroup\":\"BIG MAC\",\"marker\":{\"color\":\"#FECB52\",\"symbol\":\"circle\"},\"mode\":\"markers\",\"name\":\"BIG MAC\",\"scene\":\"scene\",\"showlegend\":true,\"x\":[26.144594192504883],\"y\":[-5.018454074859619],\"z\":[37.89921951293945],\"type\":\"scatter3d\"},{\"hovertemplate\":\"title=PILOTER<br>comp_1=%{x}<br>comp_2=%{y}<br>comp_3=%{z}<extra></extra>\",\"legendgroup\":\"PILOTER\",\"marker\":{\"color\":\"#636efa\",\"symbol\":\"circle\"},\"mode\":\"markers\",\"name\":\"PILOTER\",\"scene\":\"scene\",\"showlegend\":true,\"x\":[1.9266393184661865],\"y\":[18.152250289916992],\"z\":[42.115028381347656],\"type\":\"scatter3d\"},{\"hovertemplate\":\"title=PUTA<br>comp_1=%{x}<br>comp_2=%{y}<br>comp_3=%{z}<extra></extra>\",\"legendgroup\":\"PUTA\",\"marker\":{\"color\":\"#EF553B\",\"symbol\":\"circle\"},\"mode\":\"markers\",\"name\":\"PUTA\",\"scene\":\"scene\",\"showlegend\":true,\"x\":[14.810060501098633],\"y\":[-14.664237022399902],\"z\":[21.845937728881836],\"type\":\"scatter3d\"},{\"hovertemplate\":\"title=Gangsta Christmas<br>comp_1=%{x}<br>comp_2=%{y}<br>comp_3=%{z}<extra></extra>\",\"legendgroup\":\"Gangsta Christmas\",\"marker\":{\"color\":\"#00cc96\",\"symbol\":\"circle\"},\"mode\":\"markers\",\"name\":\"Gangsta Christmas\",\"scene\":\"scene\",\"showlegend\":true,\"x\":[8.488821983337402],\"y\":[-35.72600555419922],\"z\":[10.914458274841309],\"type\":\"scatter3d\"},{\"hovertemplate\":\"title=INGEN ANNAN<br>comp_1=%{x}<br>comp_2=%{y}<br>comp_3=%{z}<extra></extra>\",\"legendgroup\":\"INGEN ANNAN\",\"marker\":{\"color\":\"#ab63fa\",\"symbol\":\"circle\"},\"mode\":\"markers\",\"name\":\"INGEN ANNAN\",\"scene\":\"scene\",\"showlegend\":true,\"x\":[11.798651695251465],\"y\":[-5.0670695304870605],\"z\":[13.195046424865723],\"type\":\"scatter3d\"},{\"hovertemplate\":\"title=G-CODE<br>comp_1=%{x}<br>comp_2=%{y}<br>comp_3=%{z}<extra></extra>\",\"legendgroup\":\"G-CODE\",\"marker\":{\"color\":\"#FFA15A\",\"symbol\":\"circle\"},\"mode\":\"markers\",\"name\":\"G-CODE\",\"scene\":\"scene\",\"showlegend\":true,\"x\":[8.832500457763672],\"y\":[-2.5800578594207764],\"z\":[3.447293281555176],\"type\":\"scatter3d\"},{\"hovertemplate\":\"title=Fr\\u00e5n Hj\\u00e4rtat<br>comp_1=%{x}<br>comp_2=%{y}<br>comp_3=%{z}<extra></extra>\",\"legendgroup\":\"Fr\\u00e5n Hj\\u00e4rtat\",\"marker\":{\"color\":\"#19d3f3\",\"symbol\":\"circle\"},\"mode\":\"markers\",\"name\":\"Fr\\u00e5n Hj\\u00e4rtat\",\"scene\":\"scene\",\"showlegend\":true,\"x\":[-22.344573974609375],\"y\":[5.818244457244873],\"z\":[-21.60112762451172],\"type\":\"scatter3d\"},{\"hovertemplate\":\"title=Hon dansar vidare i livet<br>comp_1=%{x}<br>comp_2=%{y}<br>comp_3=%{z}<extra></extra>\",\"legendgroup\":\"Hon dansar vidare i livet\",\"marker\":{\"color\":\"#FF6692\",\"symbol\":\"circle\"},\"mode\":\"markers\",\"name\":\"Hon dansar vidare i livet\",\"scene\":\"scene\",\"showlegend\":true,\"x\":[-29.397668838500977],\"y\":[-7.714700222015381],\"z\":[-10.782977104187012],\"type\":\"scatter3d\"},{\"hovertemplate\":\"title=Pari<br>comp_1=%{x}<br>comp_2=%{y}<br>comp_3=%{z}<extra></extra>\",\"legendgroup\":\"Pari\",\"marker\":{\"color\":\"#B6E880\",\"symbol\":\"circle\"},\"mode\":\"markers\",\"name\":\"Pari\",\"scene\":\"scene\",\"showlegend\":true,\"x\":[34.5289192199707],\"y\":[11.093483924865723],\"z\":[17.197385787963867],\"type\":\"scatter3d\"},{\"hovertemplate\":\"title=Mandy Moore<br>comp_1=%{x}<br>comp_2=%{y}<br>comp_3=%{z}<extra></extra>\",\"legendgroup\":\"Mandy Moore\",\"marker\":{\"color\":\"#FF97FF\",\"symbol\":\"circle\"},\"mode\":\"markers\",\"name\":\"Mandy Moore\",\"scene\":\"scene\",\"showlegend\":true,\"x\":[32.19324493408203],\"y\":[16.47267723083496],\"z\":[29.137187957763672],\"type\":\"scatter3d\"},{\"hovertemplate\":\"title=Gift<br>comp_1=%{x}<br>comp_2=%{y}<br>comp_3=%{z}<extra></extra>\",\"legendgroup\":\"Gift\",\"marker\":{\"color\":\"#FECB52\",\"symbol\":\"circle\"},\"mode\":\"markers\",\"name\":\"Gift\",\"scene\":\"scene\",\"showlegend\":true,\"x\":[-44.17950439453125],\"y\":[-33.07026672363281],\"z\":[-30.571170806884766],\"type\":\"scatter3d\"},{\"hovertemplate\":\"title=K\\u00e4rleksbrev<br>comp_1=%{x}<br>comp_2=%{y}<br>comp_3=%{z}<extra></extra>\",\"legendgroup\":\"K\\u00e4rleksbrev\",\"marker\":{\"color\":\"#636efa\",\"symbol\":\"circle\"},\"mode\":\"markers\",\"name\":\"K\\u00e4rleksbrev\",\"scene\":\"scene\",\"showlegend\":true,\"x\":[-55.0650520324707],\"y\":[-0.20657530426979065],\"z\":[-17.04660987854004],\"type\":\"scatter3d\"},{\"hovertemplate\":\"title=Hur kan du s\\u00e4ga saker<br>comp_1=%{x}<br>comp_2=%{y}<br>comp_3=%{z}<extra></extra>\",\"legendgroup\":\"Hur kan du s\\u00e4ga saker\",\"marker\":{\"color\":\"#EF553B\",\"symbol\":\"circle\"},\"mode\":\"markers\",\"name\":\"Hur kan du s\\u00e4ga saker\",\"scene\":\"scene\",\"showlegend\":true,\"x\":[-55.26069641113281],\"y\":[9.600412368774414],\"z\":[-19.106199264526367],\"type\":\"scatter3d\"},{\"hovertemplate\":\"title=Barn av v\\u00e5r tid<br>comp_1=%{x}<br>comp_2=%{y}<br>comp_3=%{z}<extra></extra>\",\"legendgroup\":\"Barn av v\\u00e5r tid\",\"marker\":{\"color\":\"#00cc96\",\"symbol\":\"circle\"},\"mode\":\"markers\",\"name\":\"Barn av v\\u00e5r tid\",\"scene\":\"scene\",\"showlegend\":true,\"x\":[-15.507105827331543],\"y\":[9.41490364074707],\"z\":[0.5923617482185364],\"type\":\"scatter3d\"},{\"hovertemplate\":\"title=Gudarna p\\u00e5 V\\u00e4sterbron<br>comp_1=%{x}<br>comp_2=%{y}<br>comp_3=%{z}<extra></extra>\",\"legendgroup\":\"Gudarna p\\u00e5 V\\u00e4sterbron\",\"marker\":{\"color\":\"#ab63fa\",\"symbol\":\"circle\"},\"mode\":\"markers\",\"name\":\"Gudarna p\\u00e5 V\\u00e4sterbron\",\"scene\":\"scene\",\"showlegend\":true,\"x\":[-16.073068618774414],\"y\":[-0.5104689002037048],\"z\":[-20.850322723388672],\"type\":\"scatter3d\"},{\"hovertemplate\":\"title=Vindar p\\u00e5 Mars<br>comp_1=%{x}<br>comp_2=%{y}<br>comp_3=%{z}<extra></extra>\",\"legendgroup\":\"Vindar p\\u00e5 Mars\",\"marker\":{\"color\":\"#FFA15A\",\"symbol\":\"circle\"},\"mode\":\"markers\",\"name\":\"Vindar p\\u00e5 Mars\",\"scene\":\"scene\",\"showlegend\":true,\"x\":[-32.693607330322266],\"y\":[-25.595783233642578],\"z\":[27.674501419067383],\"type\":\"scatter3d\"},{\"hovertemplate\":\"title=HOV1<br>comp_1=%{x}<br>comp_2=%{y}<br>comp_3=%{z}<extra></extra>\",\"legendgroup\":\"HOV1\",\"marker\":{\"color\":\"#19d3f3\",\"symbol\":\"circle\"},\"mode\":\"markers\",\"name\":\"HOV1\",\"scene\":\"scene\",\"showlegend\":true,\"x\":[-7.505679607391357],\"y\":[-5.9175920486450195],\"z\":[-7.23130989074707],\"type\":\"scatter3d\"},{\"hovertemplate\":\"title=She\\u2019s a Freak<br>comp_1=%{x}<br>comp_2=%{y}<br>comp_3=%{z}<extra></extra>\",\"legendgroup\":\"She\\u2019s a Freak\",\"marker\":{\"color\":\"#FF6692\",\"symbol\":\"circle\"},\"mode\":\"markers\",\"name\":\"She\\u2019s a Freak\",\"scene\":\"scene\",\"showlegend\":true,\"x\":[59.489261627197266],\"y\":[4.460967063903809],\"z\":[-2.7440104484558105],\"type\":\"scatter3d\"},{\"hovertemplate\":\"title=Bullet<br>comp_1=%{x}<br>comp_2=%{y}<br>comp_3=%{z}<extra></extra>\",\"legendgroup\":\"Bullet\",\"marker\":{\"color\":\"#B6E880\",\"symbol\":\"circle\"},\"mode\":\"markers\",\"name\":\"Bullet\",\"scene\":\"scene\",\"showlegend\":true,\"x\":[44.218109130859375],\"y\":[1.6713426113128662],\"z\":[-10.00904369354248],\"type\":\"scatter3d\"},{\"hovertemplate\":\"title=La La Song<br>comp_1=%{x}<br>comp_2=%{y}<br>comp_3=%{z}<extra></extra>\",\"legendgroup\":\"La La Song\",\"marker\":{\"color\":\"#FF97FF\",\"symbol\":\"circle\"},\"mode\":\"markers\",\"name\":\"La La Song\",\"scene\":\"scene\",\"showlegend\":true,\"x\":[59.66655349731445],\"y\":[13.807555198669434],\"z\":[-18.17977523803711],\"type\":\"scatter3d\"},{\"hovertemplate\":\"title=Area Turns Red<br>comp_1=%{x}<br>comp_2=%{y}<br>comp_3=%{z}<extra></extra>\",\"legendgroup\":\"Area Turns Red\",\"marker\":{\"color\":\"#FECB52\",\"symbol\":\"circle\"},\"mode\":\"markers\",\"name\":\"Area Turns Red\",\"scene\":\"scene\",\"showlegend\":true,\"x\":[44.57820129394531],\"y\":[-10.894744873046875],\"z\":[-8.09837818145752],\"type\":\"scatter3d\"},{\"hovertemplate\":\"title=The Thief<br>comp_1=%{x}<br>comp_2=%{y}<br>comp_3=%{z}<extra></extra>\",\"legendgroup\":\"The Thief\",\"marker\":{\"color\":\"#636efa\",\"symbol\":\"circle\"},\"mode\":\"markers\",\"name\":\"The Thief\",\"scene\":\"scene\",\"showlegend\":true,\"x\":[53.41743087768555],\"y\":[8.279111862182617],\"z\":[-24.701805114746094],\"type\":\"scatter3d\"},{\"hovertemplate\":\"title=Fire Fire<br>comp_1=%{x}<br>comp_2=%{y}<br>comp_3=%{z}<extra></extra>\",\"legendgroup\":\"Fire Fire\",\"marker\":{\"color\":\"#EF553B\",\"symbol\":\"circle\"},\"mode\":\"markers\",\"name\":\"Fire Fire\",\"scene\":\"scene\",\"showlegend\":true,\"x\":[37.44756317138672],\"y\":[-4.853956699371338],\"z\":[-4.779096603393555],\"type\":\"scatter3d\"},{\"hovertemplate\":\"title=No. 1 Svartskalle<br>comp_1=%{x}<br>comp_2=%{y}<br>comp_3=%{z}<extra></extra>\",\"legendgroup\":\"No. 1 Svartskalle\",\"marker\":{\"color\":\"#00cc96\",\"symbol\":\"circle\"},\"mode\":\"markers\",\"name\":\"No. 1 Svartskalle\",\"scene\":\"scene\",\"showlegend\":true,\"x\":[54.68762969970703],\"y\":[23.787792205810547],\"z\":[-14.239500999450684],\"type\":\"scatter3d\"},{\"hovertemplate\":\"title=No 1 Swartskalle<br>comp_1=%{x}<br>comp_2=%{y}<br>comp_3=%{z}<extra></extra>\",\"legendgroup\":\"No 1 Swartskalle\",\"marker\":{\"color\":\"#ab63fa\",\"symbol\":\"circle\"},\"mode\":\"markers\",\"name\":\"No 1 Swartskalle\",\"scene\":\"scene\",\"showlegend\":true,\"x\":[49.2006950378418],\"y\":[26.486162185668945],\"z\":[-14.167974472045898],\"type\":\"scatter3d\"},{\"hovertemplate\":\"title=Mah Boyz<br>comp_1=%{x}<br>comp_2=%{y}<br>comp_3=%{z}<extra></extra>\",\"legendgroup\":\"Mah Boyz\",\"marker\":{\"color\":\"#FFA15A\",\"symbol\":\"circle\"},\"mode\":\"markers\",\"name\":\"Mah Boyz\",\"scene\":\"scene\",\"showlegend\":true,\"x\":[47.37486267089844],\"y\":[-19.902690887451172],\"z\":[-2.2665274143218994],\"type\":\"scatter3d\"},{\"hovertemplate\":\"title=Ride<br>comp_1=%{x}<br>comp_2=%{y}<br>comp_3=%{z}<extra></extra>\",\"legendgroup\":\"Ride\",\"marker\":{\"color\":\"#19d3f3\",\"symbol\":\"circle\"},\"mode\":\"markers\",\"name\":\"Ride\",\"scene\":\"scene\",\"showlegend\":true,\"x\":[65.97213745117188],\"y\":[2.70817494392395],\"z\":[-12.066795349121094],\"type\":\"scatter3d\"},{\"hovertemplate\":\"title=BOSS<br>comp_1=%{x}<br>comp_2=%{y}<br>comp_3=%{z}<extra></extra>\",\"legendgroup\":\"BOSS\",\"marker\":{\"color\":\"#FF6692\",\"symbol\":\"circle\"},\"mode\":\"markers\",\"name\":\"BOSS\",\"scene\":\"scene\",\"showlegend\":true,\"x\":[17.263248443603516],\"y\":[-0.34883299469947815],\"z\":[22.268442153930664],\"type\":\"scatter3d\"},{\"hovertemplate\":\"title=FRESH HOME<br>comp_1=%{x}<br>comp_2=%{y}<br>comp_3=%{z}<extra></extra>\",\"legendgroup\":\"FRESH HOME\",\"marker\":{\"color\":\"#B6E880\",\"symbol\":\"circle\"},\"mode\":\"markers\",\"name\":\"FRESH HOME\",\"scene\":\"scene\",\"showlegend\":true,\"x\":[5.8258748054504395],\"y\":[5.760727405548096],\"z\":[-5.0306620597839355],\"type\":\"scatter3d\"},{\"hovertemplate\":\"title=Juligen<br>comp_1=%{x}<br>comp_2=%{y}<br>comp_3=%{z}<extra></extra>\",\"legendgroup\":\"Juligen\",\"marker\":{\"color\":\"#FF97FF\",\"symbol\":\"circle\"},\"mode\":\"markers\",\"name\":\"Juligen\",\"scene\":\"scene\",\"showlegend\":true,\"x\":[-28.2275390625],\"y\":[-20.783695220947266],\"z\":[12.597671508789062],\"type\":\"scatter3d\"},{\"hovertemplate\":\"title=Vart Tog Den S\\u00f6ta Lilla Flickan V\\u00e4gen<br>comp_1=%{x}<br>comp_2=%{y}<br>comp_3=%{z}<extra></extra>\",\"legendgroup\":\"Vart Tog Den S\\u00f6ta Lilla Flickan V\\u00e4gen\",\"marker\":{\"color\":\"#FECB52\",\"symbol\":\"circle\"},\"mode\":\"markers\",\"name\":\"Vart Tog Den S\\u00f6ta Lilla Flickan V\\u00e4gen\",\"scene\":\"scene\",\"showlegend\":true,\"x\":[-23.191286087036133],\"y\":[-15.298047065734863],\"z\":[-15.950238227844238],\"type\":\"scatter3d\"},{\"hovertemplate\":\"title=87-87<br>comp_1=%{x}<br>comp_2=%{y}<br>comp_3=%{z}<extra></extra>\",\"legendgroup\":\"87-87\",\"marker\":{\"color\":\"#636efa\",\"symbol\":\"circle\"},\"mode\":\"markers\",\"name\":\"87-87\",\"scene\":\"scene\",\"showlegend\":true,\"x\":[-7.474165916442871],\"y\":[-35.43585968017578],\"z\":[10.047593116760254],\"type\":\"scatter3d\"},{\"hovertemplate\":\"title=Hubbabubba<br>comp_1=%{x}<br>comp_2=%{y}<br>comp_3=%{z}<extra></extra>\",\"legendgroup\":\"Hubbabubba\",\"marker\":{\"color\":\"#EF553B\",\"symbol\":\"circle\"},\"mode\":\"markers\",\"name\":\"Hubbabubba\",\"scene\":\"scene\",\"showlegend\":true,\"x\":[-23.506372451782227],\"y\":[13.050589561462402],\"z\":[8.184754371643066],\"type\":\"scatter3d\"},{\"hovertemplate\":\"title=Tre Gringos<br>comp_1=%{x}<br>comp_2=%{y}<br>comp_3=%{z}<extra></extra>\",\"legendgroup\":\"Tre Gringos\",\"marker\":{\"color\":\"#00cc96\",\"symbol\":\"circle\"},\"mode\":\"markers\",\"name\":\"Tre Gringos\",\"scene\":\"scene\",\"showlegend\":true,\"x\":[-9.09701919555664],\"y\":[-35.3648681640625],\"z\":[20.03984260559082],\"type\":\"scatter3d\"},{\"hovertemplate\":\"title=Relalalaxa<br>comp_1=%{x}<br>comp_2=%{y}<br>comp_3=%{z}<extra></extra>\",\"legendgroup\":\"Relalalaxa\",\"marker\":{\"color\":\"#ab63fa\",\"symbol\":\"circle\"},\"mode\":\"markers\",\"name\":\"Relalalaxa\",\"scene\":\"scene\",\"showlegend\":true,\"x\":[-11.8809175491333],\"y\":[37.2809944152832],\"z\":[13.791531562805176],\"type\":\"scatter3d\"},{\"hovertemplate\":\"title=Grannar<br>comp_1=%{x}<br>comp_2=%{y}<br>comp_3=%{z}<extra></extra>\",\"legendgroup\":\"Grannar\",\"marker\":{\"color\":\"#FFA15A\",\"symbol\":\"circle\"},\"mode\":\"markers\",\"name\":\"Grannar\",\"scene\":\"scene\",\"showlegend\":true,\"x\":[-23.08672332763672],\"y\":[-15.867159843444824],\"z\":[24.882165908813477],\"type\":\"scatter3d\"},{\"hovertemplate\":\"title=Mammas tema<br>comp_1=%{x}<br>comp_2=%{y}<br>comp_3=%{z}<extra></extra>\",\"legendgroup\":\"Mammas tema\",\"marker\":{\"color\":\"#19d3f3\",\"symbol\":\"circle\"},\"mode\":\"markers\",\"name\":\"Mammas tema\",\"scene\":\"scene\",\"showlegend\":true,\"x\":[-25.851099014282227],\"y\":[8.802865982055664],\"z\":[3.284076690673828],\"type\":\"scatter3d\"},{\"hovertemplate\":\"title=Plast<br>comp_1=%{x}<br>comp_2=%{y}<br>comp_3=%{z}<extra></extra>\",\"legendgroup\":\"Plast\",\"marker\":{\"color\":\"#FF6692\",\"symbol\":\"circle\"},\"mode\":\"markers\",\"name\":\"Plast\",\"scene\":\"scene\",\"showlegend\":true,\"x\":[-60.353172302246094],\"y\":[5.133285045623779],\"z\":[-6.338286399841309],\"type\":\"scatter3d\"},{\"hovertemplate\":\"title=Vi vinner ni stinker<br>comp_1=%{x}<br>comp_2=%{y}<br>comp_3=%{z}<extra></extra>\",\"legendgroup\":\"Vi vinner ni stinker\",\"marker\":{\"color\":\"#B6E880\",\"symbol\":\"circle\"},\"mode\":\"markers\",\"name\":\"Vi vinner ni stinker\",\"scene\":\"scene\",\"showlegend\":true,\"x\":[-32.679664611816406],\"y\":[33.39776611328125],\"z\":[-23.632389068603516],\"type\":\"scatter3d\"},{\"hovertemplate\":\"title=Mina omr\\u00e5den<br>comp_1=%{x}<br>comp_2=%{y}<br>comp_3=%{z}<extra></extra>\",\"legendgroup\":\"Mina omr\\u00e5den\",\"marker\":{\"color\":\"#FF97FF\",\"symbol\":\"circle\"},\"mode\":\"markers\",\"name\":\"Mina omr\\u00e5den\",\"scene\":\"scene\",\"showlegend\":true,\"x\":[-17.95973014831543],\"y\":[-8.361207962036133],\"z\":[29.52741050720215],\"type\":\"scatter3d\"},{\"hovertemplate\":\"title=Svarta Duvor & Vissna Liljor<br>comp_1=%{x}<br>comp_2=%{y}<br>comp_3=%{z}<extra></extra>\",\"legendgroup\":\"Svarta Duvor & Vissna Liljor\",\"marker\":{\"color\":\"#FECB52\",\"symbol\":\"circle\"},\"mode\":\"markers\",\"name\":\"Svarta Duvor & Vissna Liljor\",\"scene\":\"scene\",\"showlegend\":true,\"x\":[-26.54490089416504],\"y\":[-8.176810264587402],\"z\":[34.46786880493164],\"type\":\"scatter3d\"},{\"hovertemplate\":\"title=Underklassmusik<br>comp_1=%{x}<br>comp_2=%{y}<br>comp_3=%{z}<extra></extra>\",\"legendgroup\":\"Underklassmusik\",\"marker\":{\"color\":\"#636efa\",\"symbol\":\"circle\"},\"mode\":\"markers\",\"name\":\"Underklassmusik\",\"scene\":\"scene\",\"showlegend\":true,\"x\":[-33.17873001098633],\"y\":[-2.617189884185791],\"z\":[29.49040985107422],\"type\":\"scatter3d\"},{\"hovertemplate\":\"title=AM43 (Stress Remix)<br>comp_1=%{x}<br>comp_2=%{y}<br>comp_3=%{z}<extra></extra>\",\"legendgroup\":\"AM43 (Stress Remix)\",\"marker\":{\"color\":\"#EF553B\",\"symbol\":\"circle\"},\"mode\":\"markers\",\"name\":\"AM43 (Stress Remix)\",\"scene\":\"scene\",\"showlegend\":true,\"x\":[16.310781478881836],\"y\":[-12.086250305175781],\"z\":[-196.3737030029297],\"type\":\"scatter3d\"},{\"hovertemplate\":\"title=En fj\\u00e4rils vingslag<br>comp_1=%{x}<br>comp_2=%{y}<br>comp_3=%{z}<extra></extra>\",\"legendgroup\":\"En fj\\u00e4rils vingslag\",\"marker\":{\"color\":\"#00cc96\",\"symbol\":\"circle\"},\"mode\":\"markers\",\"name\":\"En fj\\u00e4rils vingslag\",\"scene\":\"scene\",\"showlegend\":true,\"x\":[-18.94766616821289],\"y\":[2.869515895843506],\"z\":[-30.140853881835938],\"type\":\"scatter3d\"},{\"hovertemplate\":\"title=Lilla flicka<br>comp_1=%{x}<br>comp_2=%{y}<br>comp_3=%{z}<extra></extra>\",\"legendgroup\":\"Lilla flicka\",\"marker\":{\"color\":\"#ab63fa\",\"symbol\":\"circle\"},\"mode\":\"markers\",\"name\":\"Lilla flicka\",\"scene\":\"scene\",\"showlegend\":true,\"x\":[-20.232845306396484],\"y\":[-0.7845672965049744],\"z\":[6.047204494476318],\"type\":\"scatter3d\"},{\"hovertemplate\":\"title=St\\u00e4ll Dig Upp<br>comp_1=%{x}<br>comp_2=%{y}<br>comp_3=%{z}<extra></extra>\",\"legendgroup\":\"St\\u00e4ll Dig Upp\",\"marker\":{\"color\":\"#FFA15A\",\"symbol\":\"circle\"},\"mode\":\"markers\",\"name\":\"St\\u00e4ll Dig Upp\",\"scene\":\"scene\",\"showlegend\":true,\"x\":[-26.695144653320312],\"y\":[-26.15317726135254],\"z\":[2.122321844100952],\"type\":\"scatter3d\"},{\"hovertemplate\":\"title=Dra Inte Oss Tillbaka<br>comp_1=%{x}<br>comp_2=%{y}<br>comp_3=%{z}<extra></extra>\",\"legendgroup\":\"Dra Inte Oss Tillbaka\",\"marker\":{\"color\":\"#19d3f3\",\"symbol\":\"circle\"},\"mode\":\"markers\",\"name\":\"Dra Inte Oss Tillbaka\",\"scene\":\"scene\",\"showlegend\":true,\"x\":[-26.774295806884766],\"y\":[-0.2563858926296234],\"z\":[33.3609619140625],\"type\":\"scatter3d\"},{\"hovertemplate\":\"title=S\\u00e5 fort<br>comp_1=%{x}<br>comp_2=%{y}<br>comp_3=%{z}<extra></extra>\",\"legendgroup\":\"S\\u00e5 fort\",\"marker\":{\"color\":\"#FF6692\",\"symbol\":\"circle\"},\"mode\":\"markers\",\"name\":\"S\\u00e5 fort\",\"scene\":\"scene\",\"showlegend\":true,\"x\":[-8.158909797668457],\"y\":[-7.495529651641846],\"z\":[28.37063980102539],\"type\":\"scatter3d\"},{\"hovertemplate\":\"title=Underklassmusik (Radio Edit)<br>comp_1=%{x}<br>comp_2=%{y}<br>comp_3=%{z}<extra></extra>\",\"legendgroup\":\"Underklassmusik (Radio Edit)\",\"marker\":{\"color\":\"#B6E880\",\"symbol\":\"circle\"},\"mode\":\"markers\",\"name\":\"Underklassmusik (Radio Edit)\",\"scene\":\"scene\",\"showlegend\":true,\"x\":[-37.17116165161133],\"y\":[-2.317779779434204],\"z\":[23.63558578491211],\"type\":\"scatter3d\"},{\"hovertemplate\":\"title=Sj\\u00e4len av en v\\u00e4n<br>comp_1=%{x}<br>comp_2=%{y}<br>comp_3=%{z}<extra></extra>\",\"legendgroup\":\"Sj\\u00e4len av en v\\u00e4n\",\"marker\":{\"color\":\"#FF97FF\",\"symbol\":\"circle\"},\"mode\":\"markers\",\"name\":\"Sj\\u00e4len av en v\\u00e4n\",\"scene\":\"scene\",\"showlegend\":true,\"x\":[-12.969888687133789],\"y\":[-0.7303093671798706],\"z\":[-12.31407356262207],\"type\":\"scatter3d\"},{\"hovertemplate\":\"title=Du och Jag<br>comp_1=%{x}<br>comp_2=%{y}<br>comp_3=%{z}<extra></extra>\",\"legendgroup\":\"Du och Jag\",\"marker\":{\"color\":\"#FECB52\",\"symbol\":\"circle\"},\"mode\":\"markers\",\"name\":\"Du och Jag\",\"scene\":\"scene\",\"showlegend\":true,\"x\":[-50.068843841552734],\"y\":[14.115117073059082],\"z\":[-10.7763090133667],\"type\":\"scatter3d\"},{\"hovertemplate\":\"title=Nu m\\u00e5ste vi dra<br>comp_1=%{x}<br>comp_2=%{y}<br>comp_3=%{z}<extra></extra>\",\"legendgroup\":\"Nu m\\u00e5ste vi dra\",\"marker\":{\"color\":\"#636efa\",\"symbol\":\"circle\"},\"mode\":\"markers\",\"name\":\"Nu m\\u00e5ste vi dra\",\"scene\":\"scene\",\"showlegend\":true,\"x\":[-13.79051399230957],\"y\":[-2.8846347332000732],\"z\":[-38.48484420776367],\"type\":\"scatter3d\"},{\"hovertemplate\":\"title=Leva i frid<br>comp_1=%{x}<br>comp_2=%{y}<br>comp_3=%{z}<extra></extra>\",\"legendgroup\":\"Leva i frid\",\"marker\":{\"color\":\"#EF553B\",\"symbol\":\"circle\"},\"mode\":\"markers\",\"name\":\"Leva i frid\",\"scene\":\"scene\",\"showlegend\":true,\"x\":[-36.636497497558594],\"y\":[-4.5046162605285645],\"z\":[-21.258655548095703],\"type\":\"scatter3d\"},{\"hovertemplate\":\"title=Mamma<br>comp_1=%{x}<br>comp_2=%{y}<br>comp_3=%{z}<extra></extra>\",\"legendgroup\":\"Mamma\",\"marker\":{\"color\":\"#00cc96\",\"symbol\":\"circle\"},\"mode\":\"markers\",\"name\":\"Mamma\",\"scene\":\"scene\",\"showlegend\":true,\"x\":[-30.806747436523438],\"y\":[-31.593164443969727],\"z\":[-9.497018814086914],\"type\":\"scatter3d\"},{\"hovertemplate\":\"title=Grabbarna fr\\u00e5n f\\u00f6rorten<br>comp_1=%{x}<br>comp_2=%{y}<br>comp_3=%{z}<extra></extra>\",\"legendgroup\":\"Grabbarna fr\\u00e5n f\\u00f6rorten\",\"marker\":{\"color\":\"#ab63fa\",\"symbol\":\"circle\"},\"mode\":\"markers\",\"name\":\"Grabbarna fr\\u00e5n f\\u00f6rorten\",\"scene\":\"scene\",\"showlegend\":true,\"x\":[6.319085121154785],\"y\":[0.931768536567688],\"z\":[33.039207458496094],\"type\":\"scatter3d\"},{\"hovertemplate\":\"title=Privatfest<br>comp_1=%{x}<br>comp_2=%{y}<br>comp_3=%{z}<extra></extra>\",\"legendgroup\":\"Privatfest\",\"marker\":{\"color\":\"#FFA15A\",\"symbol\":\"circle\"},\"mode\":\"markers\",\"name\":\"Privatfest\",\"scene\":\"scene\",\"showlegend\":true,\"x\":[-3.5018489360809326],\"y\":[-25.81973648071289],\"z\":[3.627603530883789],\"type\":\"scatter3d\"},{\"hovertemplate\":\"title=2000-Talet<br>comp_1=%{x}<br>comp_2=%{y}<br>comp_3=%{z}<extra></extra>\",\"legendgroup\":\"2000-Talet\",\"marker\":{\"color\":\"#19d3f3\",\"symbol\":\"circle\"},\"mode\":\"markers\",\"name\":\"2000-Talet\",\"scene\":\"scene\",\"showlegend\":true,\"x\":[-23.776508331298828],\"y\":[-14.235492706298828],\"z\":[5.320359230041504],\"type\":\"scatter3d\"},{\"hovertemplate\":\"title=Kelian<br>comp_1=%{x}<br>comp_2=%{y}<br>comp_3=%{z}<extra></extra>\",\"legendgroup\":\"Kelian\",\"marker\":{\"color\":\"#FF6692\",\"symbol\":\"circle\"},\"mode\":\"markers\",\"name\":\"Kelian\",\"scene\":\"scene\",\"showlegend\":true,\"x\":[-12.432522773742676],\"y\":[-38.890872955322266],\"z\":[-16.754831314086914],\"type\":\"scatter3d\"},{\"hovertemplate\":\"title=Ensamma mammor<br>comp_1=%{x}<br>comp_2=%{y}<br>comp_3=%{z}<extra></extra>\",\"legendgroup\":\"Ensamma mammor\",\"marker\":{\"color\":\"#B6E880\",\"symbol\":\"circle\"},\"mode\":\"markers\",\"name\":\"Ensamma mammor\",\"scene\":\"scene\",\"showlegend\":true,\"x\":[-35.12843322753906],\"y\":[-28.73153305053711],\"z\":[-11.570651054382324],\"type\":\"scatter3d\"},{\"hovertemplate\":\"title=I staden<br>comp_1=%{x}<br>comp_2=%{y}<br>comp_3=%{z}<extra></extra>\",\"legendgroup\":\"I staden\",\"marker\":{\"color\":\"#FF97FF\",\"symbol\":\"circle\"},\"mode\":\"markers\",\"name\":\"I staden\",\"scene\":\"scene\",\"showlegend\":true,\"x\":[-37.360595703125],\"y\":[-6.299532890319824],\"z\":[37.03803634643555],\"type\":\"scatter3d\"},{\"hovertemplate\":\"title=Bra vibrationer<br>comp_1=%{x}<br>comp_2=%{y}<br>comp_3=%{z}<extra></extra>\",\"legendgroup\":\"Bra vibrationer\",\"marker\":{\"color\":\"#FECB52\",\"symbol\":\"circle\"},\"mode\":\"markers\",\"name\":\"Bra vibrationer\",\"scene\":\"scene\",\"showlegend\":true,\"x\":[22.719636917114258],\"y\":[13.925885200500488],\"z\":[-16.471284866333008],\"type\":\"scatter3d\"},{\"hovertemplate\":\"title=Ortens favoriter (Remix)<br>comp_1=%{x}<br>comp_2=%{y}<br>comp_3=%{z}<extra></extra>\",\"legendgroup\":\"Ortens favoriter (Remix)\",\"marker\":{\"color\":\"#636efa\",\"symbol\":\"circle\"},\"mode\":\"markers\",\"name\":\"Ortens favoriter (Remix)\",\"scene\":\"scene\",\"showlegend\":true,\"x\":[-5.614201545715332],\"y\":[-2.321929454803467],\"z\":[39.142845153808594],\"type\":\"scatter3d\"},{\"hovertemplate\":\"title=Chilla Lide<br>comp_1=%{x}<br>comp_2=%{y}<br>comp_3=%{z}<extra></extra>\",\"legendgroup\":\"Chilla Lide\",\"marker\":{\"color\":\"#EF553B\",\"symbol\":\"circle\"},\"mode\":\"markers\",\"name\":\"Chilla Lide\",\"scene\":\"scene\",\"showlegend\":true,\"x\":[-9.065629005432129],\"y\":[28.911808013916016],\"z\":[13.282970428466797],\"type\":\"scatter3d\"},{\"hovertemplate\":\"title=V\\u00e4lkommen hem<br>comp_1=%{x}<br>comp_2=%{y}<br>comp_3=%{z}<extra></extra>\",\"legendgroup\":\"V\\u00e4lkommen hem\",\"marker\":{\"color\":\"#00cc96\",\"symbol\":\"circle\"},\"mode\":\"markers\",\"name\":\"V\\u00e4lkommen hem\",\"scene\":\"scene\",\"showlegend\":true,\"x\":[1.52426016330719],\"y\":[-3.6879451274871826],\"z\":[43.63469314575195],\"type\":\"scatter3d\"},{\"hovertemplate\":\"title=Pang Pang<br>comp_1=%{x}<br>comp_2=%{y}<br>comp_3=%{z}<extra></extra>\",\"legendgroup\":\"Pang Pang\",\"marker\":{\"color\":\"#ab63fa\",\"symbol\":\"circle\"},\"mode\":\"markers\",\"name\":\"Pang Pang\",\"scene\":\"scene\",\"showlegend\":true,\"x\":[-12.681021690368652],\"y\":[-17.36097526550293],\"z\":[28.798070907592773],\"type\":\"scatter3d\"},{\"hovertemplate\":\"title=Fakkin Fin<br>comp_1=%{x}<br>comp_2=%{y}<br>comp_3=%{z}<extra></extra>\",\"legendgroup\":\"Fakkin Fin\",\"marker\":{\"color\":\"#FFA15A\",\"symbol\":\"circle\"},\"mode\":\"markers\",\"name\":\"Fakkin Fin\",\"scene\":\"scene\",\"showlegend\":true,\"x\":[-21.726865768432617],\"y\":[19.66061019897461],\"z\":[0.45339590311050415],\"type\":\"scatter3d\"},{\"hovertemplate\":\"title=Motattack<br>comp_1=%{x}<br>comp_2=%{y}<br>comp_3=%{z}<extra></extra>\",\"legendgroup\":\"Motattack\",\"marker\":{\"color\":\"#19d3f3\",\"symbol\":\"circle\"},\"mode\":\"markers\",\"name\":\"Motattack\",\"scene\":\"scene\",\"showlegend\":true,\"x\":[-25.966598510742188],\"y\":[0.01969836838543415],\"z\":[21.284292221069336],\"type\":\"scatter3d\"},{\"hovertemplate\":\"title=S\\u00e5 Ajaib<br>comp_1=%{x}<br>comp_2=%{y}<br>comp_3=%{z}<extra></extra>\",\"legendgroup\":\"S\\u00e5 Ajaib\",\"marker\":{\"color\":\"#FF6692\",\"symbol\":\"circle\"},\"mode\":\"markers\",\"name\":\"S\\u00e5 Ajaib\",\"scene\":\"scene\",\"showlegend\":true,\"x\":[-0.5808511972427368],\"y\":[25.972854614257812],\"z\":[22.103975296020508],\"type\":\"scatter3d\"},{\"hovertemplate\":\"title=Broder del. 2<br>comp_1=%{x}<br>comp_2=%{y}<br>comp_3=%{z}<extra></extra>\",\"legendgroup\":\"Broder del. 2\",\"marker\":{\"color\":\"#B6E880\",\"symbol\":\"circle\"},\"mode\":\"markers\",\"name\":\"Broder del. 2\",\"scene\":\"scene\",\"showlegend\":true,\"x\":[-30.221561431884766],\"y\":[-10.096853256225586],\"z\":[19.989017486572266],\"type\":\"scatter3d\"},{\"hovertemplate\":\"title=Jagbaes\\u00e5n<br>comp_1=%{x}<br>comp_2=%{y}<br>comp_3=%{z}<extra></extra>\",\"legendgroup\":\"Jagbaes\\u00e5n\",\"marker\":{\"color\":\"#FF97FF\",\"symbol\":\"circle\"},\"mode\":\"markers\",\"name\":\"Jagbaes\\u00e5n\",\"scene\":\"scene\",\"showlegend\":true,\"x\":[7.627996921539307],\"y\":[-0.64520263671875],\"z\":[-28.319318771362305],\"type\":\"scatter3d\"},{\"hovertemplate\":\"title=Ortens Favoriter<br>comp_1=%{x}<br>comp_2=%{y}<br>comp_3=%{z}<extra></extra>\",\"legendgroup\":\"Ortens Favoriter\",\"marker\":{\"color\":\"#FECB52\",\"symbol\":\"circle\"},\"mode\":\"markers\",\"name\":\"Ortens Favoriter\",\"scene\":\"scene\",\"showlegend\":true,\"x\":[-5.138051509857178],\"y\":[4.631508827209473],\"z\":[38.98003387451172],\"type\":\"scatter3d\"},{\"hovertemplate\":\"title=Stronger<br>comp_1=%{x}<br>comp_2=%{y}<br>comp_3=%{z}<extra></extra>\",\"legendgroup\":\"Stronger\",\"marker\":{\"color\":\"#636efa\",\"symbol\":\"circle\"},\"mode\":\"markers\",\"name\":\"Stronger\",\"scene\":\"scene\",\"showlegend\":true,\"x\":[44.71702575683594],\"y\":[-0.5618769526481628],\"z\":[0.5486494302749634],\"type\":\"scatter3d\"},{\"hovertemplate\":\"title=Rock Away<br>comp_1=%{x}<br>comp_2=%{y}<br>comp_3=%{z}<extra></extra>\",\"legendgroup\":\"Rock Away\",\"marker\":{\"color\":\"#EF553B\",\"symbol\":\"circle\"},\"mode\":\"markers\",\"name\":\"Rock Away\",\"scene\":\"scene\",\"showlegend\":true,\"x\":[66.65120697021484],\"y\":[21.41164779663086],\"z\":[-7.407411575317383],\"type\":\"scatter3d\"},{\"hovertemplate\":\"title=Hold On<br>comp_1=%{x}<br>comp_2=%{y}<br>comp_3=%{z}<extra></extra>\",\"legendgroup\":\"Hold On\",\"marker\":{\"color\":\"#00cc96\",\"symbol\":\"circle\"},\"mode\":\"markers\",\"name\":\"Hold On\",\"scene\":\"scene\",\"showlegend\":true,\"x\":[61.110958099365234],\"y\":[0.6687635183334351],\"z\":[7.928412437438965],\"type\":\"scatter3d\"},{\"hovertemplate\":\"title=Be Somebody<br>comp_1=%{x}<br>comp_2=%{y}<br>comp_3=%{z}<extra></extra>\",\"legendgroup\":\"Be Somebody\",\"marker\":{\"color\":\"#ab63fa\",\"symbol\":\"circle\"},\"mode\":\"markers\",\"name\":\"Be Somebody\",\"scene\":\"scene\",\"showlegend\":true,\"x\":[45.696533203125],\"y\":[4.327394008636475],\"z\":[11.53413200378418],\"type\":\"scatter3d\"},{\"hovertemplate\":\"title=Calling Out<br>comp_1=%{x}<br>comp_2=%{y}<br>comp_3=%{z}<extra></extra>\",\"legendgroup\":\"Calling Out\",\"marker\":{\"color\":\"#FFA15A\",\"symbol\":\"circle\"},\"mode\":\"markers\",\"name\":\"Calling Out\",\"scene\":\"scene\",\"showlegend\":true,\"x\":[61.83319091796875],\"y\":[-7.089173316955566],\"z\":[-12.18268871307373],\"type\":\"scatter3d\"},{\"hovertemplate\":\"title=Top Notch<br>comp_1=%{x}<br>comp_2=%{y}<br>comp_3=%{z}<extra></extra>\",\"legendgroup\":\"Top Notch\",\"marker\":{\"color\":\"#19d3f3\",\"symbol\":\"circle\"},\"mode\":\"markers\",\"name\":\"Top Notch\",\"scene\":\"scene\",\"showlegend\":true,\"x\":[48.37888717651367],\"y\":[-5.980742454528809],\"z\":[-22.620859146118164],\"type\":\"scatter3d\"},{\"hovertemplate\":\"title=Get The Picture<br>comp_1=%{x}<br>comp_2=%{y}<br>comp_3=%{z}<extra></extra>\",\"legendgroup\":\"Get The Picture\",\"marker\":{\"color\":\"#FF6692\",\"symbol\":\"circle\"},\"mode\":\"markers\",\"name\":\"Get The Picture\",\"scene\":\"scene\",\"showlegend\":true,\"x\":[53.09158706665039],\"y\":[5.992645263671875],\"z\":[-15.201364517211914],\"type\":\"scatter3d\"},{\"hovertemplate\":\"title=I\\u2019m Not Pop<br>comp_1=%{x}<br>comp_2=%{y}<br>comp_3=%{z}<extra></extra>\",\"legendgroup\":\"I\\u2019m Not Pop\",\"marker\":{\"color\":\"#B6E880\",\"symbol\":\"circle\"},\"mode\":\"markers\",\"name\":\"I\\u2019m Not Pop\",\"scene\":\"scene\",\"showlegend\":true,\"x\":[66.63876342773438],\"y\":[14.637924194335938],\"z\":[-11.585066795349121],\"type\":\"scatter3d\"},{\"hovertemplate\":\"title=Do It<br>comp_1=%{x}<br>comp_2=%{y}<br>comp_3=%{z}<extra></extra>\",\"legendgroup\":\"Do It\",\"marker\":{\"color\":\"#FF97FF\",\"symbol\":\"circle\"},\"mode\":\"markers\",\"name\":\"Do It\",\"scene\":\"scene\",\"showlegend\":true,\"x\":[58.56483459472656],\"y\":[-9.761344909667969],\"z\":[5.9356608390808105],\"type\":\"scatter3d\"},{\"hovertemplate\":\"title=Get to Know Me<br>comp_1=%{x}<br>comp_2=%{y}<br>comp_3=%{z}<extra></extra>\",\"legendgroup\":\"Get to Know Me\",\"marker\":{\"color\":\"#FECB52\",\"symbol\":\"circle\"},\"mode\":\"markers\",\"name\":\"Get to Know Me\",\"scene\":\"scene\",\"showlegend\":true,\"x\":[58.704559326171875],\"y\":[8.491798400878906],\"z\":[-10.439048767089844],\"type\":\"scatter3d\"},{\"hovertemplate\":\"title=Badman<br>comp_1=%{x}<br>comp_2=%{y}<br>comp_3=%{z}<extra></extra>\",\"legendgroup\":\"Badman\",\"marker\":{\"color\":\"#636efa\",\"symbol\":\"circle\"},\"mode\":\"markers\",\"name\":\"Badman\",\"scene\":\"scene\",\"showlegend\":true,\"x\":[24.599918365478516],\"y\":[-33.04332733154297],\"z\":[2.6746718883514404],\"type\":\"scatter3d\"},{\"hovertemplate\":\"title=Haffa Guzz<br>comp_1=%{x}<br>comp_2=%{y}<br>comp_3=%{z}<extra></extra>\",\"legendgroup\":\"Haffa Guzz\",\"marker\":{\"color\":\"#EF553B\",\"symbol\":\"circle\"},\"mode\":\"markers\",\"name\":\"Haffa Guzz\",\"scene\":\"scene\",\"showlegend\":true,\"x\":[23.308866500854492],\"y\":[-33.6285400390625],\"z\":[-12.859879493713379],\"type\":\"scatter3d\"},{\"hovertemplate\":\"title=H\\u00f6j Volymen<br>comp_1=%{x}<br>comp_2=%{y}<br>comp_3=%{z}<extra></extra>\",\"legendgroup\":\"H\\u00f6j Volymen\",\"marker\":{\"color\":\"#00cc96\",\"symbol\":\"circle\"},\"mode\":\"markers\",\"name\":\"H\\u00f6j Volymen\",\"scene\":\"scene\",\"showlegend\":true,\"x\":[-4.235926151275635],\"y\":[11.202672004699707],\"z\":[25.249317169189453],\"type\":\"scatter3d\"},{\"hovertemplate\":\"title=F\\u00f6rl\\u00e5t<br>comp_1=%{x}<br>comp_2=%{y}<br>comp_3=%{z}<extra></extra>\",\"legendgroup\":\"F\\u00f6rl\\u00e5t\",\"marker\":{\"color\":\"#ab63fa\",\"symbol\":\"circle\"},\"mode\":\"markers\",\"name\":\"F\\u00f6rl\\u00e5t\",\"scene\":\"scene\",\"showlegend\":true,\"x\":[-2.0489585399627686],\"y\":[13.174195289611816],\"z\":[-31.391408920288086],\"type\":\"scatter3d\"},{\"hovertemplate\":\"title=Alla Fel P\\u00e5 Samma G\\u00e5ng<br>comp_1=%{x}<br>comp_2=%{y}<br>comp_3=%{z}<extra></extra>\",\"legendgroup\":\"Alla Fel P\\u00e5 Samma G\\u00e5ng\",\"marker\":{\"color\":\"#FFA15A\",\"symbol\":\"circle\"},\"mode\":\"markers\",\"name\":\"Alla Fel P\\u00e5 Samma G\\u00e5ng\",\"scene\":\"scene\",\"showlegend\":true,\"x\":[-11.334900856018066],\"y\":[14.052055358886719],\"z\":[-13.266247749328613],\"type\":\"scatter3d\"},{\"hovertemplate\":\"title=Lever Som Vi L\\u00e4r<br>comp_1=%{x}<br>comp_2=%{y}<br>comp_3=%{z}<extra></extra>\",\"legendgroup\":\"Lever Som Vi L\\u00e4r\",\"marker\":{\"color\":\"#19d3f3\",\"symbol\":\"circle\"},\"mode\":\"markers\",\"name\":\"Lever Som Vi L\\u00e4r\",\"scene\":\"scene\",\"showlegend\":true,\"x\":[-32.38128662109375],\"y\":[-12.5791654586792],\"z\":[29.90757942199707],\"type\":\"scatter3d\"},{\"hovertemplate\":\"title=Min<br>comp_1=%{x}<br>comp_2=%{y}<br>comp_3=%{z}<extra></extra>\",\"legendgroup\":\"Min\",\"marker\":{\"color\":\"#FF6692\",\"symbol\":\"circle\"},\"mode\":\"markers\",\"name\":\"Min\",\"scene\":\"scene\",\"showlegend\":true,\"x\":[-26.729585647583008],\"y\":[14.73880672454834],\"z\":[20.388324737548828],\"type\":\"scatter3d\"},{\"hovertemplate\":\"title=Tuggare Utan Gr\\u00e4nser<br>comp_1=%{x}<br>comp_2=%{y}<br>comp_3=%{z}<extra></extra>\",\"legendgroup\":\"Tuggare Utan Gr\\u00e4nser\",\"marker\":{\"color\":\"#B6E880\",\"symbol\":\"circle\"},\"mode\":\"markers\",\"name\":\"Tuggare Utan Gr\\u00e4nser\",\"scene\":\"scene\",\"showlegend\":true,\"x\":[-30.170734405517578],\"y\":[7.812849521636963],\"z\":[38.90463638305664],\"type\":\"scatter3d\"},{\"hovertemplate\":\"title=Tuggare Intro<br>comp_1=%{x}<br>comp_2=%{y}<br>comp_3=%{z}<extra></extra>\",\"legendgroup\":\"Tuggare Intro\",\"marker\":{\"color\":\"#FF97FF\",\"symbol\":\"circle\"},\"mode\":\"markers\",\"name\":\"Tuggare Intro\",\"scene\":\"scene\",\"showlegend\":true,\"x\":[-11.34421157836914],\"y\":[2.6814985275268555],\"z\":[47.479469299316406],\"type\":\"scatter3d\"},{\"hovertemplate\":\"title=Minns Mitt Namn<br>comp_1=%{x}<br>comp_2=%{y}<br>comp_3=%{z}<extra></extra>\",\"legendgroup\":\"Minns Mitt Namn\",\"marker\":{\"color\":\"#FECB52\",\"symbol\":\"circle\"},\"mode\":\"markers\",\"name\":\"Minns Mitt Namn\",\"scene\":\"scene\",\"showlegend\":true,\"x\":[-39.02081298828125],\"y\":[-22.598066329956055],\"z\":[26.642738342285156],\"type\":\"scatter3d\"},{\"hovertemplate\":\"title=Kn\\u00e4pper Mina Fingrar [Remix]<br>comp_1=%{x}<br>comp_2=%{y}<br>comp_3=%{z}<extra></extra>\",\"legendgroup\":\"Kn\\u00e4pper Mina Fingrar [Remix]\",\"marker\":{\"color\":\"#636efa\",\"symbol\":\"circle\"},\"mode\":\"markers\",\"name\":\"Kn\\u00e4pper Mina Fingrar [Remix]\",\"scene\":\"scene\",\"showlegend\":true,\"x\":[13.120219230651855],\"y\":[5.735180854797363],\"z\":[17.900775909423828],\"type\":\"scatter3d\"},{\"hovertemplate\":\"title=Kn\\u00e4pper Mina Fingrar<br>comp_1=%{x}<br>comp_2=%{y}<br>comp_3=%{z}<extra></extra>\",\"legendgroup\":\"Kn\\u00e4pper Mina Fingrar\",\"marker\":{\"color\":\"#EF553B\",\"symbol\":\"circle\"},\"mode\":\"markers\",\"name\":\"Kn\\u00e4pper Mina Fingrar\",\"scene\":\"scene\",\"showlegend\":true,\"x\":[20.06230926513672],\"y\":[-1.1754976511001587],\"z\":[31.317840576171875],\"type\":\"scatter3d\"},{\"hovertemplate\":\"title=Gang Gang<br>comp_1=%{x}<br>comp_2=%{y}<br>comp_3=%{z}<extra></extra>\",\"legendgroup\":\"Gang Gang\",\"marker\":{\"color\":\"#00cc96\",\"symbol\":\"circle\"},\"mode\":\"markers\",\"name\":\"Gang Gang\",\"scene\":\"scene\",\"showlegend\":true,\"x\":[2.9794504642486572],\"y\":[-1.8356636762619019],\"z\":[-4.835641384124756],\"type\":\"scatter3d\"},{\"hovertemplate\":\"title=Ey G\\u00e4ri<br>comp_1=%{x}<br>comp_2=%{y}<br>comp_3=%{z}<extra></extra>\",\"legendgroup\":\"Ey G\\u00e4ri\",\"marker\":{\"color\":\"#ab63fa\",\"symbol\":\"circle\"},\"mode\":\"markers\",\"name\":\"Ey G\\u00e4ri\",\"scene\":\"scene\",\"showlegend\":true,\"x\":[3.122300386428833],\"y\":[-10.993212699890137],\"z\":[-33.3618278503418],\"type\":\"scatter3d\"},{\"hovertemplate\":\"title=Visa vid vindens \\u00e4ngar<br>comp_1=%{x}<br>comp_2=%{y}<br>comp_3=%{z}<extra></extra>\",\"legendgroup\":\"Visa vid vindens \\u00e4ngar\",\"marker\":{\"color\":\"#FFA15A\",\"symbol\":\"circle\"},\"mode\":\"markers\",\"name\":\"Visa vid vindens \\u00e4ngar\",\"scene\":\"scene\",\"showlegend\":true,\"x\":[-22.46770477294922],\"y\":[9.678170204162598],\"z\":[-34.5228385925293],\"type\":\"scatter3d\"},{\"hovertemplate\":\"title=B\\u00e4sta V\\u00e4n<br>comp_1=%{x}<br>comp_2=%{y}<br>comp_3=%{z}<extra></extra>\",\"legendgroup\":\"B\\u00e4sta V\\u00e4n\",\"marker\":{\"color\":\"#19d3f3\",\"symbol\":\"circle\"},\"mode\":\"markers\",\"name\":\"B\\u00e4sta V\\u00e4n\",\"scene\":\"scene\",\"showlegend\":true,\"x\":[-11.117215156555176],\"y\":[-15.717498779296875],\"z\":[-9.82746410369873],\"type\":\"scatter3d\"},{\"hovertemplate\":\"title=Alla r\\u00e4tt<br>comp_1=%{x}<br>comp_2=%{y}<br>comp_3=%{z}<extra></extra>\",\"legendgroup\":\"Alla r\\u00e4tt\",\"marker\":{\"color\":\"#FF6692\",\"symbol\":\"circle\"},\"mode\":\"markers\",\"name\":\"Alla r\\u00e4tt\",\"scene\":\"scene\",\"showlegend\":true,\"x\":[15.291303634643555],\"y\":[3.5651447772979736],\"z\":[11.195375442504883],\"type\":\"scatter3d\"},{\"hovertemplate\":\"title=S\\u00e4g mitt namn<br>comp_1=%{x}<br>comp_2=%{y}<br>comp_3=%{z}<extra></extra>\",\"legendgroup\":\"S\\u00e4g mitt namn\",\"marker\":{\"color\":\"#B6E880\",\"symbol\":\"circle\"},\"mode\":\"markers\",\"name\":\"S\\u00e4g mitt namn\",\"scene\":\"scene\",\"showlegend\":true,\"x\":[36.526493072509766],\"y\":[-14.626954078674316],\"z\":[24.0524845123291],\"type\":\"scatter3d\"},{\"hovertemplate\":\"title=Kn\\u00e4pper mina fingrar (Torka dina t\\u00e5rar Remake)<br>comp_1=%{x}<br>comp_2=%{y}<br>comp_3=%{z}<extra></extra>\",\"legendgroup\":\"Kn\\u00e4pper mina fingrar (Torka dina t\\u00e5rar Remake)\",\"marker\":{\"color\":\"#FF97FF\",\"symbol\":\"circle\"},\"mode\":\"markers\",\"name\":\"Kn\\u00e4pper mina fingrar (Torka dina t\\u00e5rar Remake)\",\"scene\":\"scene\",\"showlegend\":true,\"x\":[-32.85039520263672],\"y\":[8.06895923614502],\"z\":[-4.955077171325684],\"type\":\"scatter3d\"},{\"hovertemplate\":\"title=B\\u00e4ng b\\u00e4ng<br>comp_1=%{x}<br>comp_2=%{y}<br>comp_3=%{z}<extra></extra>\",\"legendgroup\":\"B\\u00e4ng b\\u00e4ng\",\"marker\":{\"color\":\"#FECB52\",\"symbol\":\"circle\"},\"mode\":\"markers\",\"name\":\"B\\u00e4ng b\\u00e4ng\",\"scene\":\"scene\",\"showlegend\":true,\"x\":[16.202516555786133],\"y\":[0.006597007624804974],\"z\":[41.60625076293945],\"type\":\"scatter3d\"},{\"hovertemplate\":\"title=Don\\u2019t Hate the Player<br>comp_1=%{x}<br>comp_2=%{y}<br>comp_3=%{z}<extra></extra>\",\"legendgroup\":\"Don\\u2019t Hate the Player\",\"marker\":{\"color\":\"#636efa\",\"symbol\":\"circle\"},\"mode\":\"markers\",\"name\":\"Don\\u2019t Hate the Player\",\"scene\":\"scene\",\"showlegend\":true,\"x\":[47.59343719482422],\"y\":[11.173673629760742],\"z\":[-8.891169548034668],\"type\":\"scatter3d\"},{\"hovertemplate\":\"title=Bandit Queen<br>comp_1=%{x}<br>comp_2=%{y}<br>comp_3=%{z}<extra></extra>\",\"legendgroup\":\"Bandit Queen\",\"marker\":{\"color\":\"#EF553B\",\"symbol\":\"circle\"},\"mode\":\"markers\",\"name\":\"Bandit Queen\",\"scene\":\"scene\",\"showlegend\":true,\"x\":[61.54596710205078],\"y\":[11.316752433776855],\"z\":[0.8041991591453552],\"type\":\"scatter3d\"},{\"hovertemplate\":\"title=Long Arm of the Law<br>comp_1=%{x}<br>comp_2=%{y}<br>comp_3=%{z}<extra></extra>\",\"legendgroup\":\"Long Arm of the Law\",\"marker\":{\"color\":\"#00cc96\",\"symbol\":\"circle\"},\"mode\":\"markers\",\"name\":\"Long Arm of the Law\",\"scene\":\"scene\",\"showlegend\":true,\"x\":[56.68385314941406],\"y\":[-1.9788906574249268],\"z\":[-8.827913284301758],\"type\":\"scatter3d\"},{\"hovertemplate\":\"title=Fort Europa<br>comp_1=%{x}<br>comp_2=%{y}<br>comp_3=%{z}<extra></extra>\",\"legendgroup\":\"Fort Europa\",\"marker\":{\"color\":\"#ab63fa\",\"symbol\":\"circle\"},\"mode\":\"markers\",\"name\":\"Fort Europa\",\"scene\":\"scene\",\"showlegend\":true,\"x\":[49.74843978881836],\"y\":[-4.3008832931518555],\"z\":[-5.472193717956543],\"type\":\"scatter3d\"},{\"hovertemplate\":\"title=Topp Doggz<br>comp_1=%{x}<br>comp_2=%{y}<br>comp_3=%{z}<extra></extra>\",\"legendgroup\":\"Topp Doggz\",\"marker\":{\"color\":\"#FFA15A\",\"symbol\":\"circle\"},\"mode\":\"markers\",\"name\":\"Topp Doggz\",\"scene\":\"scene\",\"showlegend\":true,\"x\":[34.09409713745117],\"y\":[-9.826879501342773],\"z\":[38.42878723144531],\"type\":\"scatter3d\"},{\"hovertemplate\":\"title=The Struggle Continues<br>comp_1=%{x}<br>comp_2=%{y}<br>comp_3=%{z}<extra></extra>\",\"legendgroup\":\"The Struggle Continues\",\"marker\":{\"color\":\"#19d3f3\",\"symbol\":\"circle\"},\"mode\":\"markers\",\"name\":\"The Struggle Continues\",\"scene\":\"scene\",\"showlegend\":true,\"x\":[53.33444595336914],\"y\":[-11.109138488769531],\"z\":[-2.1141982078552246],\"type\":\"scatter3d\"},{\"hovertemplate\":\"title=Fly Away<br>comp_1=%{x}<br>comp_2=%{y}<br>comp_3=%{z}<extra></extra>\",\"legendgroup\":\"Fly Away\",\"marker\":{\"color\":\"#FF6692\",\"symbol\":\"circle\"},\"mode\":\"markers\",\"name\":\"Fly Away\",\"scene\":\"scene\",\"showlegend\":true,\"x\":[51.72342300415039],\"y\":[4.135533332824707],\"z\":[-5.764837741851807],\"type\":\"scatter3d\"},{\"hovertemplate\":\"title=Jag sk\\u00f6t Palme<br>comp_1=%{x}<br>comp_2=%{y}<br>comp_3=%{z}<extra></extra>\",\"legendgroup\":\"Jag sk\\u00f6t Palme\",\"marker\":{\"color\":\"#B6E880\",\"symbol\":\"circle\"},\"mode\":\"markers\",\"name\":\"Jag sk\\u00f6t Palme\",\"scene\":\"scene\",\"showlegend\":true,\"x\":[-12.128625869750977],\"y\":[-13.690343856811523],\"z\":[15.029242515563965],\"type\":\"scatter3d\"},{\"hovertemplate\":\"title=Aldrig<br>comp_1=%{x}<br>comp_2=%{y}<br>comp_3=%{z}<extra></extra>\",\"legendgroup\":\"Aldrig\",\"marker\":{\"color\":\"#FF97FF\",\"symbol\":\"circle\"},\"mode\":\"markers\",\"name\":\"Aldrig\",\"scene\":\"scene\",\"showlegend\":true,\"x\":[-6.803006649017334],\"y\":[5.586969375610352],\"z\":[-22.839645385742188],\"type\":\"scatter3d\"},{\"hovertemplate\":\"title=Magic<br>comp_1=%{x}<br>comp_2=%{y}<br>comp_3=%{z}<extra></extra>\",\"legendgroup\":\"Magic\",\"marker\":{\"color\":\"#FECB52\",\"symbol\":\"circle\"},\"mode\":\"markers\",\"name\":\"Magic\",\"scene\":\"scene\",\"showlegend\":true,\"x\":[54.96228790283203],\"y\":[-3.3540780544281006],\"z\":[0.9081910848617554],\"type\":\"scatter3d\"},{\"hovertemplate\":\"title=Giftig<br>comp_1=%{x}<br>comp_2=%{y}<br>comp_3=%{z}<extra></extra>\",\"legendgroup\":\"Giftig\",\"marker\":{\"color\":\"#636efa\",\"symbol\":\"circle\"},\"mode\":\"markers\",\"name\":\"Giftig\",\"scene\":\"scene\",\"showlegend\":true,\"x\":[-36.966583251953125],\"y\":[13.223650932312012],\"z\":[25.878515243530273],\"type\":\"scatter3d\"},{\"hovertemplate\":\"title=Glassigt<br>comp_1=%{x}<br>comp_2=%{y}<br>comp_3=%{z}<extra></extra>\",\"legendgroup\":\"Glassigt\",\"marker\":{\"color\":\"#EF553B\",\"symbol\":\"circle\"},\"mode\":\"markers\",\"name\":\"Glassigt\",\"scene\":\"scene\",\"showlegend\":true,\"x\":[-24.420278549194336],\"y\":[-3.406820058822632],\"z\":[-18.678241729736328],\"type\":\"scatter3d\"},{\"hovertemplate\":\"title=Jag talar ut<br>comp_1=%{x}<br>comp_2=%{y}<br>comp_3=%{z}<extra></extra>\",\"legendgroup\":\"Jag talar ut\",\"marker\":{\"color\":\"#00cc96\",\"symbol\":\"circle\"},\"mode\":\"markers\",\"name\":\"Jag talar ut\",\"scene\":\"scene\",\"showlegend\":true,\"x\":[0.5267568230628967],\"y\":[13.232244491577148],\"z\":[-43.186119079589844],\"type\":\"scatter3d\"},{\"hovertemplate\":\"title=K\\u00e4nslan kommer tillbaks<br>comp_1=%{x}<br>comp_2=%{y}<br>comp_3=%{z}<extra></extra>\",\"legendgroup\":\"K\\u00e4nslan kommer tillbaks\",\"marker\":{\"color\":\"#ab63fa\",\"symbol\":\"circle\"},\"mode\":\"markers\",\"name\":\"K\\u00e4nslan kommer tillbaks\",\"scene\":\"scene\",\"showlegend\":true,\"x\":[-27.718198776245117],\"y\":[37.52178192138672],\"z\":[11.94996166229248],\"type\":\"scatter3d\"},{\"hovertemplate\":\"title=Ledig<br>comp_1=%{x}<br>comp_2=%{y}<br>comp_3=%{z}<extra></extra>\",\"legendgroup\":\"Ledig\",\"marker\":{\"color\":\"#FFA15A\",\"symbol\":\"circle\"},\"mode\":\"markers\",\"name\":\"Ledig\",\"scene\":\"scene\",\"showlegend\":true,\"x\":[9.672560691833496],\"y\":[7.315684795379639],\"z\":[-35.969749450683594],\"type\":\"scatter3d\"},{\"hovertemplate\":\"title=G\\u00f6mma mig<br>comp_1=%{x}<br>comp_2=%{y}<br>comp_3=%{z}<extra></extra>\",\"legendgroup\":\"G\\u00f6mma mig\",\"marker\":{\"color\":\"#19d3f3\",\"symbol\":\"circle\"},\"mode\":\"markers\",\"name\":\"G\\u00f6mma mig\",\"scene\":\"scene\",\"showlegend\":true,\"x\":[-15.1982421875],\"y\":[12.299440383911133],\"z\":[-22.172176361083984],\"type\":\"scatter3d\"},{\"hovertemplate\":\"title=H\\u00e5ll K\\u00e4ften<br>comp_1=%{x}<br>comp_2=%{y}<br>comp_3=%{z}<extra></extra>\",\"legendgroup\":\"H\\u00e5ll K\\u00e4ften\",\"marker\":{\"color\":\"#FF6692\",\"symbol\":\"circle\"},\"mode\":\"markers\",\"name\":\"H\\u00e5ll K\\u00e4ften\",\"scene\":\"scene\",\"showlegend\":true,\"x\":[3.9790220260620117],\"y\":[1.3662725687026978],\"z\":[8.030383110046387],\"type\":\"scatter3d\"},{\"hovertemplate\":\"title=Inget att f\\u00f6rlora<br>comp_1=%{x}<br>comp_2=%{y}<br>comp_3=%{z}<extra></extra>\",\"legendgroup\":\"Inget att f\\u00f6rlora\",\"marker\":{\"color\":\"#B6E880\",\"symbol\":\"circle\"},\"mode\":\"markers\",\"name\":\"Inget att f\\u00f6rlora\",\"scene\":\"scene\",\"showlegend\":true,\"x\":[-40.017208099365234],\"y\":[21.084716796875],\"z\":[-23.315654754638672],\"type\":\"scatter3d\"},{\"hovertemplate\":\"title=Vissa tycker<br>comp_1=%{x}<br>comp_2=%{y}<br>comp_3=%{z}<extra></extra>\",\"legendgroup\":\"Vissa tycker\",\"marker\":{\"color\":\"#FF97FF\",\"symbol\":\"circle\"},\"mode\":\"markers\",\"name\":\"Vissa tycker\",\"scene\":\"scene\",\"showlegend\":true,\"x\":[-50.030269622802734],\"y\":[17.325634002685547],\"z\":[-24.624221801757812],\"type\":\"scatter3d\"},{\"hovertemplate\":\"title=Tick tack<br>comp_1=%{x}<br>comp_2=%{y}<br>comp_3=%{z}<extra></extra>\",\"legendgroup\":\"Tick tack\",\"marker\":{\"color\":\"#FECB52\",\"symbol\":\"circle\"},\"mode\":\"markers\",\"name\":\"Tick tack\",\"scene\":\"scene\",\"showlegend\":true,\"x\":[-29.094242095947266],\"y\":[-3.5604071617126465],\"z\":[-30.149139404296875],\"type\":\"scatter3d\"},{\"hovertemplate\":\"title=Segert\\u00e5get<br>comp_1=%{x}<br>comp_2=%{y}<br>comp_3=%{z}<extra></extra>\",\"legendgroup\":\"Segert\\u00e5get\",\"marker\":{\"color\":\"#636efa\",\"symbol\":\"circle\"},\"mode\":\"markers\",\"name\":\"Segert\\u00e5get\",\"scene\":\"scene\",\"showlegend\":true,\"x\":[7.25584602355957],\"y\":[11.268078804016113],\"z\":[34.209476470947266],\"type\":\"scatter3d\"},{\"hovertemplate\":\"title=Krossa alla f\\u00f6nster<br>comp_1=%{x}<br>comp_2=%{y}<br>comp_3=%{z}<extra></extra>\",\"legendgroup\":\"Krossa alla f\\u00f6nster\",\"marker\":{\"color\":\"#EF553B\",\"symbol\":\"circle\"},\"mode\":\"markers\",\"name\":\"Krossa alla f\\u00f6nster\",\"scene\":\"scene\",\"showlegend\":true,\"x\":[-23.746400833129883],\"y\":[24.141246795654297],\"z\":[-37.171165466308594],\"type\":\"scatter3d\"},{\"hovertemplate\":\"title=K\\u00e4rlek vid sista \\u00f6gonkastet<br>comp_1=%{x}<br>comp_2=%{y}<br>comp_3=%{z}<extra></extra>\",\"legendgroup\":\"K\\u00e4rlek vid sista \\u00f6gonkastet\",\"marker\":{\"color\":\"#00cc96\",\"symbol\":\"circle\"},\"mode\":\"markers\",\"name\":\"K\\u00e4rlek vid sista \\u00f6gonkastet\",\"scene\":\"scene\",\"showlegend\":true,\"x\":[-49.500789642333984],\"y\":[5.097781181335449],\"z\":[-12.204941749572754],\"type\":\"scatter3d\"},{\"hovertemplate\":\"title=Alla som inte dansar<br>comp_1=%{x}<br>comp_2=%{y}<br>comp_3=%{z}<extra></extra>\",\"legendgroup\":\"Alla som inte dansar\",\"marker\":{\"color\":\"#ab63fa\",\"symbol\":\"circle\"},\"mode\":\"markers\",\"name\":\"Alla som inte dansar\",\"scene\":\"scene\",\"showlegend\":true,\"x\":[-22.88334846496582],\"y\":[-7.457785606384277],\"z\":[49.600006103515625],\"type\":\"scatter3d\"},{\"hovertemplate\":\"title=Pengar<br>comp_1=%{x}<br>comp_2=%{y}<br>comp_3=%{z}<extra></extra>\",\"legendgroup\":\"Pengar\",\"marker\":{\"color\":\"#FFA15A\",\"symbol\":\"circle\"},\"mode\":\"markers\",\"name\":\"Pengar\",\"scene\":\"scene\",\"showlegend\":true,\"x\":[0.38061976432800293],\"y\":[29.616016387939453],\"z\":[-7.548088550567627],\"type\":\"scatter3d\"},{\"hovertemplate\":\"title=Liv och d\\u00f6d<br>comp_1=%{x}<br>comp_2=%{y}<br>comp_3=%{z}<extra></extra>\",\"legendgroup\":\"Liv och d\\u00f6d\",\"marker\":{\"color\":\"#19d3f3\",\"symbol\":\"circle\"},\"mode\":\"markers\",\"name\":\"Liv och d\\u00f6d\",\"scene\":\"scene\",\"showlegend\":true,\"x\":[-43.509620666503906],\"y\":[-31.541854858398438],\"z\":[-7.286157608032227],\"type\":\"scatter3d\"},{\"hovertemplate\":\"title=Stora f\\u00f6tter stora skor<br>comp_1=%{x}<br>comp_2=%{y}<br>comp_3=%{z}<extra></extra>\",\"legendgroup\":\"Stora f\\u00f6tter stora skor\",\"marker\":{\"color\":\"#FF6692\",\"symbol\":\"circle\"},\"mode\":\"markers\",\"name\":\"Stora f\\u00f6tter stora skor\",\"scene\":\"scene\",\"showlegend\":true,\"x\":[-11.163975715637207],\"y\":[22.917200088500977],\"z\":[-13.639965057373047],\"type\":\"scatter3d\"},{\"hovertemplate\":\"title=Br\\u00e4nner<br>comp_1=%{x}<br>comp_2=%{y}<br>comp_3=%{z}<extra></extra>\",\"legendgroup\":\"Br\\u00e4nner\",\"marker\":{\"color\":\"#B6E880\",\"symbol\":\"circle\"},\"mode\":\"markers\",\"name\":\"Br\\u00e4nner\",\"scene\":\"scene\",\"showlegend\":true,\"x\":[-16.252687454223633],\"y\":[33.46424102783203],\"z\":[-21.235855102539062],\"type\":\"scatter3d\"},{\"hovertemplate\":\"title=Stora trygga vargen<br>comp_1=%{x}<br>comp_2=%{y}<br>comp_3=%{z}<extra></extra>\",\"legendgroup\":\"Stora trygga vargen\",\"marker\":{\"color\":\"#FF97FF\",\"symbol\":\"circle\"},\"mode\":\"markers\",\"name\":\"Stora trygga vargen\",\"scene\":\"scene\",\"showlegend\":true,\"x\":[-32.561378479003906],\"y\":[-17.831392288208008],\"z\":[-37.008060455322266],\"type\":\"scatter3d\"},{\"hovertemplate\":\"title=Slut f\\u00f6r alltid<br>comp_1=%{x}<br>comp_2=%{y}<br>comp_3=%{z}<extra></extra>\",\"legendgroup\":\"Slut f\\u00f6r alltid\",\"marker\":{\"color\":\"#FECB52\",\"symbol\":\"circle\"},\"mode\":\"markers\",\"name\":\"Slut f\\u00f6r alltid\",\"scene\":\"scene\",\"showlegend\":true,\"x\":[-27.848072052001953],\"y\":[-10.771882057189941],\"z\":[-1.2479959726333618],\"type\":\"scatter3d\"},{\"hovertemplate\":\"title=Miss Decibel<br>comp_1=%{x}<br>comp_2=%{y}<br>comp_3=%{z}<extra></extra>\",\"legendgroup\":\"Miss Decibel\",\"marker\":{\"color\":\"#636efa\",\"symbol\":\"circle\"},\"mode\":\"markers\",\"name\":\"Miss Decibel\",\"scene\":\"scene\",\"showlegend\":true,\"x\":[-20.180036544799805],\"y\":[-31.75370216369629],\"z\":[-26.058570861816406],\"type\":\"scatter3d\"},{\"hovertemplate\":\"title=D\\u00e4r Palmerna Bor<br>comp_1=%{x}<br>comp_2=%{y}<br>comp_3=%{z}<extra></extra>\",\"legendgroup\":\"D\\u00e4r Palmerna Bor\",\"marker\":{\"color\":\"#EF553B\",\"symbol\":\"circle\"},\"mode\":\"markers\",\"name\":\"D\\u00e4r Palmerna Bor\",\"scene\":\"scene\",\"showlegend\":true,\"x\":[-43.72748565673828],\"y\":[-0.14655523002147675],\"z\":[38.15911865234375],\"type\":\"scatter3d\"},{\"hovertemplate\":\"title=Se p\\u00e5 mig nu<br>comp_1=%{x}<br>comp_2=%{y}<br>comp_3=%{z}<extra></extra>\",\"legendgroup\":\"Se p\\u00e5 mig nu\",\"marker\":{\"color\":\"#00cc96\",\"symbol\":\"circle\"},\"mode\":\"markers\",\"name\":\"Se p\\u00e5 mig nu\",\"scene\":\"scene\",\"showlegend\":true,\"x\":[-26.344858169555664],\"y\":[-17.19792938232422],\"z\":[-5.856019973754883],\"type\":\"scatter3d\"},{\"hovertemplate\":\"title=In i dimman<br>comp_1=%{x}<br>comp_2=%{y}<br>comp_3=%{z}<extra></extra>\",\"legendgroup\":\"In i dimman\",\"marker\":{\"color\":\"#ab63fa\",\"symbol\":\"circle\"},\"mode\":\"markers\",\"name\":\"In i dimman\",\"scene\":\"scene\",\"showlegend\":true,\"x\":[-57.47037887573242],\"y\":[-0.15235635638237],\"z\":[9.515644073486328],\"type\":\"scatter3d\"},{\"hovertemplate\":\"title=Od\\u00f6dlig K\\u00e4rlek<br>comp_1=%{x}<br>comp_2=%{y}<br>comp_3=%{z}<extra></extra>\",\"legendgroup\":\"Od\\u00f6dlig K\\u00e4rlek\",\"marker\":{\"color\":\"#FFA15A\",\"symbol\":\"circle\"},\"mode\":\"markers\",\"name\":\"Od\\u00f6dlig K\\u00e4rlek\",\"scene\":\"scene\",\"showlegend\":true,\"x\":[-48.05982971191406],\"y\":[-17.052587509155273],\"z\":[3.0279722213745117],\"type\":\"scatter3d\"},{\"hovertemplate\":\"title=Sann Romans<br>comp_1=%{x}<br>comp_2=%{y}<br>comp_3=%{z}<extra></extra>\",\"legendgroup\":\"Sann Romans\",\"marker\":{\"color\":\"#19d3f3\",\"symbol\":\"circle\"},\"mode\":\"markers\",\"name\":\"Sann Romans\",\"scene\":\"scene\",\"showlegend\":true,\"x\":[-19.950794219970703],\"y\":[-21.474720001220703],\"z\":[-30.358840942382812],\"type\":\"scatter3d\"},{\"hovertemplate\":\"title=O\\u00e4ndlig<br>comp_1=%{x}<br>comp_2=%{y}<br>comp_3=%{z}<extra></extra>\",\"legendgroup\":\"O\\u00e4ndlig\",\"marker\":{\"color\":\"#FF6692\",\"symbol\":\"circle\"},\"mode\":\"markers\",\"name\":\"O\\u00e4ndlig\",\"scene\":\"scene\",\"showlegend\":true,\"x\":[-53.774993896484375],\"y\":[-7.211946964263916],\"z\":[-5.185248851776123],\"type\":\"scatter3d\"},{\"hovertemplate\":\"title=Sagoland<br>comp_1=%{x}<br>comp_2=%{y}<br>comp_3=%{z}<extra></extra>\",\"legendgroup\":\"Sagoland\",\"marker\":{\"color\":\"#B6E880\",\"symbol\":\"circle\"},\"mode\":\"markers\",\"name\":\"Sagoland\",\"scene\":\"scene\",\"showlegend\":true,\"x\":[-19.731502532958984],\"y\":[2.992189407348633],\"z\":[-8.033720016479492],\"type\":\"scatter3d\"},{\"hovertemplate\":\"title=Sista minuten<br>comp_1=%{x}<br>comp_2=%{y}<br>comp_3=%{z}<extra></extra>\",\"legendgroup\":\"Sista minuten\",\"marker\":{\"color\":\"#FF97FF\",\"symbol\":\"circle\"},\"mode\":\"markers\",\"name\":\"Sista minuten\",\"scene\":\"scene\",\"showlegend\":true,\"x\":[-26.937456130981445],\"y\":[27.465360641479492],\"z\":[-14.363692283630371],\"type\":\"scatter3d\"},{\"hovertemplate\":\"title=Yalla Kompis<br>comp_1=%{x}<br>comp_2=%{y}<br>comp_3=%{z}<extra></extra>\",\"legendgroup\":\"Yalla Kompis\",\"marker\":{\"color\":\"#FECB52\",\"symbol\":\"circle\"},\"mode\":\"markers\",\"name\":\"Yalla Kompis\",\"scene\":\"scene\",\"showlegend\":true,\"x\":[14.255115509033203],\"y\":[31.869068145751953],\"z\":[-16.24418067932129],\"type\":\"scatter3d\"},{\"hovertemplate\":\"title=50 l\\u00e4nder<br>comp_1=%{x}<br>comp_2=%{y}<br>comp_3=%{z}<extra></extra>\",\"legendgroup\":\"50 l\\u00e4nder\",\"marker\":{\"color\":\"#636efa\",\"symbol\":\"circle\"},\"mode\":\"markers\",\"name\":\"50 l\\u00e4nder\",\"scene\":\"scene\",\"showlegend\":true,\"x\":[-49.26783752441406],\"y\":[-8.8698091506958],\"z\":[20.55690574645996],\"type\":\"scatter3d\"},{\"hovertemplate\":\"title=Vi e familj<br>comp_1=%{x}<br>comp_2=%{y}<br>comp_3=%{z}<extra></extra>\",\"legendgroup\":\"Vi e familj\",\"marker\":{\"color\":\"#EF553B\",\"symbol\":\"circle\"},\"mode\":\"markers\",\"name\":\"Vi e familj\",\"scene\":\"scene\",\"showlegend\":true,\"x\":[-45.886783599853516],\"y\":[-3.397812843322754],\"z\":[-24.068410873413086],\"type\":\"scatter3d\"},{\"hovertemplate\":\"title=Sista resan<br>comp_1=%{x}<br>comp_2=%{y}<br>comp_3=%{z}<extra></extra>\",\"legendgroup\":\"Sista resan\",\"marker\":{\"color\":\"#00cc96\",\"symbol\":\"circle\"},\"mode\":\"markers\",\"name\":\"Sista resan\",\"scene\":\"scene\",\"showlegend\":true,\"x\":[-29.057161331176758],\"y\":[21.62668800354004],\"z\":[-24.646284103393555],\"type\":\"scatter3d\"},{\"hovertemplate\":\"title=Biografi<br>comp_1=%{x}<br>comp_2=%{y}<br>comp_3=%{z}<extra></extra>\",\"legendgroup\":\"Biografi\",\"marker\":{\"color\":\"#ab63fa\",\"symbol\":\"circle\"},\"mode\":\"markers\",\"name\":\"Biografi\",\"scene\":\"scene\",\"showlegend\":true,\"x\":[3.9436190128326416],\"y\":[23.652809143066406],\"z\":[-39.54397201538086],\"type\":\"scatter3d\"},{\"hovertemplate\":\"title=Postkodsmiljon\\u00e4r<br>comp_1=%{x}<br>comp_2=%{y}<br>comp_3=%{z}<extra></extra>\",\"legendgroup\":\"Postkodsmiljon\\u00e4r\",\"marker\":{\"color\":\"#FFA15A\",\"symbol\":\"circle\"},\"mode\":\"markers\",\"name\":\"Postkodsmiljon\\u00e4r\",\"scene\":\"scene\",\"showlegend\":true,\"x\":[-3.5414724349975586],\"y\":[19.98896598815918],\"z\":[4.4624714851379395],\"type\":\"scatter3d\"},{\"hovertemplate\":\"title=Inshallah<br>comp_1=%{x}<br>comp_2=%{y}<br>comp_3=%{z}<extra></extra>\",\"legendgroup\":\"Inshallah\",\"marker\":{\"color\":\"#19d3f3\",\"symbol\":\"circle\"},\"mode\":\"markers\",\"name\":\"Inshallah\",\"scene\":\"scene\",\"showlegend\":true,\"x\":[-48.442787170410156],\"y\":[-11.45287036895752],\"z\":[-21.590320587158203],\"type\":\"scatter3d\"},{\"hovertemplate\":\"title=Rapstj\\u00e4rna<br>comp_1=%{x}<br>comp_2=%{y}<br>comp_3=%{z}<extra></extra>\",\"legendgroup\":\"Rapstj\\u00e4rna\",\"marker\":{\"color\":\"#FF6692\",\"symbol\":\"circle\"},\"mode\":\"markers\",\"name\":\"Rapstj\\u00e4rna\",\"scene\":\"scene\",\"showlegend\":true,\"x\":[-1.3438913822174072],\"y\":[23.330102920532227],\"z\":[-1.5960702896118164],\"type\":\"scatter3d\"},{\"hovertemplate\":\"title=Porten<br>comp_1=%{x}<br>comp_2=%{y}<br>comp_3=%{z}<extra></extra>\",\"legendgroup\":\"Porten\",\"marker\":{\"color\":\"#B6E880\",\"symbol\":\"circle\"},\"mode\":\"markers\",\"name\":\"Porten\",\"scene\":\"scene\",\"showlegend\":true,\"x\":[-22.51189613342285],\"y\":[16.428909301757812],\"z\":[-22.510976791381836],\"type\":\"scatter3d\"},{\"hovertemplate\":\"title=Svartskalle och kriminell<br>comp_1=%{x}<br>comp_2=%{y}<br>comp_3=%{z}<extra></extra>\",\"legendgroup\":\"Svartskalle och kriminell\",\"marker\":{\"color\":\"#FF97FF\",\"symbol\":\"circle\"},\"mode\":\"markers\",\"name\":\"Svartskalle och kriminell\",\"scene\":\"scene\",\"showlegend\":true,\"x\":[-42.655025482177734],\"y\":[-4.131594181060791],\"z\":[18.45965576171875],\"type\":\"scatter3d\"},{\"hovertemplate\":\"title=Tunga steg<br>comp_1=%{x}<br>comp_2=%{y}<br>comp_3=%{z}<extra></extra>\",\"legendgroup\":\"Tunga steg\",\"marker\":{\"color\":\"#FECB52\",\"symbol\":\"circle\"},\"mode\":\"markers\",\"name\":\"Tunga steg\",\"scene\":\"scene\",\"showlegend\":true,\"x\":[-31.93271827697754],\"y\":[17.16977882385254],\"z\":[-12.330564498901367],\"type\":\"scatter3d\"},{\"hovertemplate\":\"title=Sodavatten<br>comp_1=%{x}<br>comp_2=%{y}<br>comp_3=%{z}<extra></extra>\",\"legendgroup\":\"Sodavatten\",\"marker\":{\"color\":\"#636efa\",\"symbol\":\"circle\"},\"mode\":\"markers\",\"name\":\"Sodavatten\",\"scene\":\"scene\",\"showlegend\":true,\"x\":[10.9806489944458],\"y\":[-30.713010787963867],\"z\":[30.96912956237793],\"type\":\"scatter3d\"},{\"hovertemplate\":\"title=Halvv\\u00e4gs<br>comp_1=%{x}<br>comp_2=%{y}<br>comp_3=%{z}<extra></extra>\",\"legendgroup\":\"Halvv\\u00e4gs\",\"marker\":{\"color\":\"#EF553B\",\"symbol\":\"circle\"},\"mode\":\"markers\",\"name\":\"Halvv\\u00e4gs\",\"scene\":\"scene\",\"showlegend\":true,\"x\":[1.1912071704864502],\"y\":[-30.589160919189453],\"z\":[12.568404197692871],\"type\":\"scatter3d\"},{\"hovertemplate\":\"title=Limousin<br>comp_1=%{x}<br>comp_2=%{y}<br>comp_3=%{z}<extra></extra>\",\"legendgroup\":\"Limousin\",\"marker\":{\"color\":\"#00cc96\",\"symbol\":\"circle\"},\"mode\":\"markers\",\"name\":\"Limousin\",\"scene\":\"scene\",\"showlegend\":true,\"x\":[-6.288731575012207],\"y\":[17.047828674316406],\"z\":[33.853187561035156],\"type\":\"scatter3d\"},{\"hovertemplate\":\"title=\\u00c4ppelknyckarjazz<br>comp_1=%{x}<br>comp_2=%{y}<br>comp_3=%{z}<extra></extra>\",\"legendgroup\":\"\\u00c4ppelknyckarjazz\",\"marker\":{\"color\":\"#ab63fa\",\"symbol\":\"circle\"},\"mode\":\"markers\",\"name\":\"\\u00c4ppelknyckarjazz\",\"scene\":\"scene\",\"showlegend\":true,\"x\":[-8.201397895812988],\"y\":[6.848197937011719],\"z\":[2.8210654258728027],\"type\":\"scatter3d\"},{\"hovertemplate\":\"title=Stick iv\\u00e4g Jack del II<br>comp_1=%{x}<br>comp_2=%{y}<br>comp_3=%{z}<extra></extra>\",\"legendgroup\":\"Stick iv\\u00e4g Jack del II\",\"marker\":{\"color\":\"#FFA15A\",\"symbol\":\"circle\"},\"mode\":\"markers\",\"name\":\"Stick iv\\u00e4g Jack del II\",\"scene\":\"scene\",\"showlegend\":true,\"x\":[-34.45107650756836],\"y\":[-17.104551315307617],\"z\":[4.070306777954102],\"type\":\"scatter3d\"},{\"hovertemplate\":\"title=Hett kol<br>comp_1=%{x}<br>comp_2=%{y}<br>comp_3=%{z}<extra></extra>\",\"legendgroup\":\"Hett kol\",\"marker\":{\"color\":\"#19d3f3\",\"symbol\":\"circle\"},\"mode\":\"markers\",\"name\":\"Hett kol\",\"scene\":\"scene\",\"showlegend\":true,\"x\":[-26.32237434387207],\"y\":[-3.899083375930786],\"z\":[-1.772369384765625],\"type\":\"scatter3d\"},{\"hovertemplate\":\"title=Na Na Nah!<br>comp_1=%{x}<br>comp_2=%{y}<br>comp_3=%{z}<extra></extra>\",\"legendgroup\":\"Na Na Nah!\",\"marker\":{\"color\":\"#FF6692\",\"symbol\":\"circle\"},\"mode\":\"markers\",\"name\":\"Na Na Nah!\",\"scene\":\"scene\",\"showlegend\":true,\"x\":[-14.724455833435059],\"y\":[-21.94586944580078],\"z\":[7.118101596832275],\"type\":\"scatter3d\"},{\"hovertemplate\":\"title=Nitroglycerin<br>comp_1=%{x}<br>comp_2=%{y}<br>comp_3=%{z}<extra></extra>\",\"legendgroup\":\"Nitroglycerin\",\"marker\":{\"color\":\"#B6E880\",\"symbol\":\"circle\"},\"mode\":\"markers\",\"name\":\"Nitroglycerin\",\"scene\":\"scene\",\"showlegend\":true,\"x\":[-25.56838607788086],\"y\":[18.905710220336914],\"z\":[31.342506408691406],\"type\":\"scatter3d\"},{\"hovertemplate\":\"title=Fel del av g\\u00e5rden<br>comp_1=%{x}<br>comp_2=%{y}<br>comp_3=%{z}<extra></extra>\",\"legendgroup\":\"Fel del av g\\u00e5rden\",\"marker\":{\"color\":\"#FF97FF\",\"symbol\":\"circle\"},\"mode\":\"markers\",\"name\":\"Fel del av g\\u00e5rden\",\"scene\":\"scene\",\"showlegend\":true,\"x\":[-44.87732696533203],\"y\":[-4.88334846496582],\"z\":[11.706792831420898],\"type\":\"scatter3d\"},{\"hovertemplate\":\"title=Dansa i regnet<br>comp_1=%{x}<br>comp_2=%{y}<br>comp_3=%{z}<extra></extra>\",\"legendgroup\":\"Dansa i regnet\",\"marker\":{\"color\":\"#FECB52\",\"symbol\":\"circle\"},\"mode\":\"markers\",\"name\":\"Dansa i regnet\",\"scene\":\"scene\",\"showlegend\":true,\"x\":[17.084707260131836],\"y\":[-24.727685928344727],\"z\":[14.604726791381836],\"type\":\"scatter3d\"},{\"hovertemplate\":\"title=Cali<br>comp_1=%{x}<br>comp_2=%{y}<br>comp_3=%{z}<extra></extra>\",\"legendgroup\":\"Cali\",\"marker\":{\"color\":\"#636efa\",\"symbol\":\"circle\"},\"mode\":\"markers\",\"name\":\"Cali\",\"scene\":\"scene\",\"showlegend\":true,\"x\":[-1.1176660060882568],\"y\":[27.45302963256836],\"z\":[6.020190715789795],\"type\":\"scatter3d\"},{\"hovertemplate\":\"title=Bl\\u00e5ser Min R\\u00f6k<br>comp_1=%{x}<br>comp_2=%{y}<br>comp_3=%{z}<extra></extra>\",\"legendgroup\":\"Bl\\u00e5ser Min R\\u00f6k\",\"marker\":{\"color\":\"#EF553B\",\"symbol\":\"circle\"},\"mode\":\"markers\",\"name\":\"Bl\\u00e5ser Min R\\u00f6k\",\"scene\":\"scene\",\"showlegend\":true,\"x\":[-8.302750587463379],\"y\":[6.6178364753723145],\"z\":[-7.356942176818848],\"type\":\"scatter3d\"},{\"hovertemplate\":\"title=Namnet Va N\\u00e4\\u00e4\\u00e4kish<br>comp_1=%{x}<br>comp_2=%{y}<br>comp_3=%{z}<extra></extra>\",\"legendgroup\":\"Namnet Va N\\u00e4\\u00e4\\u00e4kish\",\"marker\":{\"color\":\"#00cc96\",\"symbol\":\"circle\"},\"mode\":\"markers\",\"name\":\"Namnet Va N\\u00e4\\u00e4\\u00e4kish\",\"scene\":\"scene\",\"showlegend\":true,\"x\":[2.287518262863159],\"y\":[10.901527404785156],\"z\":[11.097579956054688],\"type\":\"scatter3d\"},{\"hovertemplate\":\"title=Maskrosbarn<br>comp_1=%{x}<br>comp_2=%{y}<br>comp_3=%{z}<extra></extra>\",\"legendgroup\":\"Maskrosbarn\",\"marker\":{\"color\":\"#ab63fa\",\"symbol\":\"circle\"},\"mode\":\"markers\",\"name\":\"Maskrosbarn\",\"scene\":\"scene\",\"showlegend\":true,\"x\":[-36.84048843383789],\"y\":[-7.528858184814453],\"z\":[-1.282211422920227],\"type\":\"scatter3d\"},{\"hovertemplate\":\"title=S\\u00e5 Jag Lever Mitt Liv<br>comp_1=%{x}<br>comp_2=%{y}<br>comp_3=%{z}<extra></extra>\",\"legendgroup\":\"S\\u00e5 Jag Lever Mitt Liv\",\"marker\":{\"color\":\"#FFA15A\",\"symbol\":\"circle\"},\"mode\":\"markers\",\"name\":\"S\\u00e5 Jag Lever Mitt Liv\",\"scene\":\"scene\",\"showlegend\":true,\"x\":[8.456337928771973],\"y\":[17.398502349853516],\"z\":[-1.831031322479248],\"type\":\"scatter3d\"},{\"hovertemplate\":\"title=Vi \\u00e4r kvar h\\u00e4r<br>comp_1=%{x}<br>comp_2=%{y}<br>comp_3=%{z}<extra></extra>\",\"legendgroup\":\"Vi \\u00e4r kvar h\\u00e4r\",\"marker\":{\"color\":\"#19d3f3\",\"symbol\":\"circle\"},\"mode\":\"markers\",\"name\":\"Vi \\u00e4r kvar h\\u00e4r\",\"scene\":\"scene\",\"showlegend\":true,\"x\":[10.087969779968262],\"y\":[-7.49751091003418],\"z\":[28.99308967590332],\"type\":\"scatter3d\"},{\"hovertemplate\":\"title=Jetlag<br>comp_1=%{x}<br>comp_2=%{y}<br>comp_3=%{z}<extra></extra>\",\"legendgroup\":\"Jetlag\",\"marker\":{\"color\":\"#FF6692\",\"symbol\":\"circle\"},\"mode\":\"markers\",\"name\":\"Jetlag\",\"scene\":\"scene\",\"showlegend\":true,\"x\":[-11.09372615814209],\"y\":[5.680417537689209],\"z\":[-14.207486152648926],\"type\":\"scatter3d\"},{\"hovertemplate\":\"title=Vithaj (feat. sexfemman)<br>comp_1=%{x}<br>comp_2=%{y}<br>comp_3=%{z}<extra></extra>\",\"legendgroup\":\"Vithaj (feat. sexfemman)\",\"marker\":{\"color\":\"#B6E880\",\"symbol\":\"circle\"},\"mode\":\"markers\",\"name\":\"Vithaj (feat. sexfemman)\",\"scene\":\"scene\",\"showlegend\":true,\"x\":[14.47763729095459],\"y\":[8.973721504211426],\"z\":[2.9161131381988525],\"type\":\"scatter3d\"},{\"hovertemplate\":\"title=Hela helgen<br>comp_1=%{x}<br>comp_2=%{y}<br>comp_3=%{z}<extra></extra>\",\"legendgroup\":\"Hela helgen\",\"marker\":{\"color\":\"#FF97FF\",\"symbol\":\"circle\"},\"mode\":\"markers\",\"name\":\"Hela helgen\",\"scene\":\"scene\",\"showlegend\":true,\"x\":[3.8115742206573486],\"y\":[11.584917068481445],\"z\":[1.7897568941116333],\"type\":\"scatter3d\"},{\"hovertemplate\":\"title=Mina Gangsters<br>comp_1=%{x}<br>comp_2=%{y}<br>comp_3=%{z}<extra></extra>\",\"legendgroup\":\"Mina Gangsters\",\"marker\":{\"color\":\"#FECB52\",\"symbol\":\"circle\"},\"mode\":\"markers\",\"name\":\"Mina Gangsters\",\"scene\":\"scene\",\"showlegend\":true,\"x\":[8.933462142944336],\"y\":[13.095260620117188],\"z\":[6.474672317504883],\"type\":\"scatter3d\"},{\"hovertemplate\":\"title=Lakan<br>comp_1=%{x}<br>comp_2=%{y}<br>comp_3=%{z}<extra></extra>\",\"legendgroup\":\"Lakan\",\"marker\":{\"color\":\"#636efa\",\"symbol\":\"circle\"},\"mode\":\"markers\",\"name\":\"Lakan\",\"scene\":\"scene\",\"showlegend\":true,\"x\":[-36.13323211669922],\"y\":[13.182595252990723],\"z\":[3.0169591903686523],\"type\":\"scatter3d\"},{\"hovertemplate\":\"title=Du m\\u00e5ste finnas<br>comp_1=%{x}<br>comp_2=%{y}<br>comp_3=%{z}<extra></extra>\",\"legendgroup\":\"Du m\\u00e5ste finnas\",\"marker\":{\"color\":\"#EF553B\",\"symbol\":\"circle\"},\"mode\":\"markers\",\"name\":\"Du m\\u00e5ste finnas\",\"scene\":\"scene\",\"showlegend\":true,\"x\":[-13.17166805267334],\"y\":[-1.9260444641113281],\"z\":[-48.123172760009766],\"type\":\"scatter3d\"},{\"hovertemplate\":\"title=Samma g\\u00e4ri<br>comp_1=%{x}<br>comp_2=%{y}<br>comp_3=%{z}<extra></extra>\",\"legendgroup\":\"Samma g\\u00e4ri\",\"marker\":{\"color\":\"#00cc96\",\"symbol\":\"circle\"},\"mode\":\"markers\",\"name\":\"Samma g\\u00e4ri\",\"scene\":\"scene\",\"showlegend\":true,\"x\":[19.71651268005371],\"y\":[15.051926612854004],\"z\":[39.53336715698242],\"type\":\"scatter3d\"},{\"hovertemplate\":\"title=Kanske var vi r\\u00e4tt bra \\u00e4nd\\u00e5<br>comp_1=%{x}<br>comp_2=%{y}<br>comp_3=%{z}<extra></extra>\",\"legendgroup\":\"Kanske var vi r\\u00e4tt bra \\u00e4nd\\u00e5\",\"marker\":{\"color\":\"#ab63fa\",\"symbol\":\"circle\"},\"mode\":\"markers\",\"name\":\"Kanske var vi r\\u00e4tt bra \\u00e4nd\\u00e5\",\"scene\":\"scene\",\"showlegend\":true,\"x\":[-37.18431091308594],\"y\":[16.150245666503906],\"z\":[-37.231849670410156],\"type\":\"scatter3d\"},{\"hovertemplate\":\"title=Kate Moss<br>comp_1=%{x}<br>comp_2=%{y}<br>comp_3=%{z}<extra></extra>\",\"legendgroup\":\"Kate Moss\",\"marker\":{\"color\":\"#FFA15A\",\"symbol\":\"circle\"},\"mode\":\"markers\",\"name\":\"Kate Moss\",\"scene\":\"scene\",\"showlegend\":true,\"x\":[39.213130950927734],\"y\":[-0.7971185445785522],\"z\":[26.762693405151367],\"type\":\"scatter3d\"},{\"hovertemplate\":\"title=Jag gr\\u00e5ter bara i regnet<br>comp_1=%{x}<br>comp_2=%{y}<br>comp_3=%{z}<extra></extra>\",\"legendgroup\":\"Jag gr\\u00e5ter bara i regnet\",\"marker\":{\"color\":\"#19d3f3\",\"symbol\":\"circle\"},\"mode\":\"markers\",\"name\":\"Jag gr\\u00e5ter bara i regnet\",\"scene\":\"scene\",\"showlegend\":true,\"x\":[-21.60155487060547],\"y\":[0.12204576283693314],\"z\":[-42.78056716918945],\"type\":\"scatter3d\"},{\"hovertemplate\":\"title=Stark<br>comp_1=%{x}<br>comp_2=%{y}<br>comp_3=%{z}<extra></extra>\",\"legendgroup\":\"Stark\",\"marker\":{\"color\":\"#FF6692\",\"symbol\":\"circle\"},\"mode\":\"markers\",\"name\":\"Stark\",\"scene\":\"scene\",\"showlegend\":true,\"x\":[-46.60664367675781],\"y\":[8.778338432312012],\"z\":[-32.871742248535156],\"type\":\"scatter3d\"},{\"hovertemplate\":\"title=Mi Amor<br>comp_1=%{x}<br>comp_2=%{y}<br>comp_3=%{z}<extra></extra>\",\"legendgroup\":\"Mi Amor\",\"marker\":{\"color\":\"#B6E880\",\"symbol\":\"circle\"},\"mode\":\"markers\",\"name\":\"Mi Amor\",\"scene\":\"scene\",\"showlegend\":true,\"x\":[-43.50714874267578],\"y\":[21.91886329650879],\"z\":[23.285388946533203],\"type\":\"scatter3d\"},{\"hovertemplate\":\"title=\\u00d6ver dig<br>comp_1=%{x}<br>comp_2=%{y}<br>comp_3=%{z}<extra></extra>\",\"legendgroup\":\"\\u00d6ver dig\",\"marker\":{\"color\":\"#FF97FF\",\"symbol\":\"circle\"},\"mode\":\"markers\",\"name\":\"\\u00d6ver dig\",\"scene\":\"scene\",\"showlegend\":true,\"x\":[21.703514099121094],\"y\":[9.334207534790039],\"z\":[-31.13593292236328],\"type\":\"scatter3d\"},{\"hovertemplate\":\"title=L\\u00e4ngesen<br>comp_1=%{x}<br>comp_2=%{y}<br>comp_3=%{z}<extra></extra>\",\"legendgroup\":\"L\\u00e4ngesen\",\"marker\":{\"color\":\"#FECB52\",\"symbol\":\"circle\"},\"mode\":\"markers\",\"name\":\"L\\u00e4ngesen\",\"scene\":\"scene\",\"showlegend\":true,\"x\":[-37.955387115478516],\"y\":[-13.922442436218262],\"z\":[-4.418062210083008],\"type\":\"scatter3d\"},{\"hovertemplate\":\"title=Toppen av ett berg<br>comp_1=%{x}<br>comp_2=%{y}<br>comp_3=%{z}<extra></extra>\",\"legendgroup\":\"Toppen av ett berg\",\"marker\":{\"color\":\"#636efa\",\"symbol\":\"circle\"},\"mode\":\"markers\",\"name\":\"Toppen av ett berg\",\"scene\":\"scene\",\"showlegend\":true,\"x\":[26.33319091796875],\"y\":[-28.439834594726562],\"z\":[24.935977935791016],\"type\":\"scatter3d\"},{\"hovertemplate\":\"title=Lev nu d\\u00f6 sen<br>comp_1=%{x}<br>comp_2=%{y}<br>comp_3=%{z}<extra></extra>\",\"legendgroup\":\"Lev nu d\\u00f6 sen\",\"marker\":{\"color\":\"#EF553B\",\"symbol\":\"circle\"},\"mode\":\"markers\",\"name\":\"Lev nu d\\u00f6 sen\",\"scene\":\"scene\",\"showlegend\":true,\"x\":[-2.6315910816192627],\"y\":[-29.25979232788086],\"z\":[-26.759218215942383],\"type\":\"scatter3d\"},{\"hovertemplate\":\"title=Kul p\\u00e5 v\\u00e4gen<br>comp_1=%{x}<br>comp_2=%{y}<br>comp_3=%{z}<extra></extra>\",\"legendgroup\":\"Kul p\\u00e5 v\\u00e4gen\",\"marker\":{\"color\":\"#00cc96\",\"symbol\":\"circle\"},\"mode\":\"markers\",\"name\":\"Kul p\\u00e5 v\\u00e4gen\",\"scene\":\"scene\",\"showlegend\":true,\"x\":[-14.253008842468262],\"y\":[24.453256607055664],\"z\":[7.022796630859375],\"type\":\"scatter3d\"},{\"hovertemplate\":\"title=Det g\\u00e5r bra nu<br>comp_1=%{x}<br>comp_2=%{y}<br>comp_3=%{z}<extra></extra>\",\"legendgroup\":\"Det g\\u00e5r bra nu\",\"marker\":{\"color\":\"#ab63fa\",\"symbol\":\"circle\"},\"mode\":\"markers\",\"name\":\"Det g\\u00e5r bra nu\",\"scene\":\"scene\",\"showlegend\":true,\"x\":[-15.513272285461426],\"y\":[20.645370483398438],\"z\":[37.48603820800781],\"type\":\"scatter3d\"},{\"hovertemplate\":\"title=Regnet<br>comp_1=%{x}<br>comp_2=%{y}<br>comp_3=%{z}<extra></extra>\",\"legendgroup\":\"Regnet\",\"marker\":{\"color\":\"#FFA15A\",\"symbol\":\"circle\"},\"mode\":\"markers\",\"name\":\"Regnet\",\"scene\":\"scene\",\"showlegend\":true,\"x\":[-44.25261306762695],\"y\":[8.660181999206543],\"z\":[9.088221549987793],\"type\":\"scatter3d\"},{\"hovertemplate\":\"title=Fredrik Snortare & Cecilia Synd<br>comp_1=%{x}<br>comp_2=%{y}<br>comp_3=%{z}<extra></extra>\",\"legendgroup\":\"Fredrik Snortare & Cecilia Synd\",\"marker\":{\"color\":\"#19d3f3\",\"symbol\":\"circle\"},\"mode\":\"markers\",\"name\":\"Fredrik Snortare & Cecilia Synd\",\"scene\":\"scene\",\"showlegend\":true,\"x\":[6.055553436279297],\"y\":[-25.442699432373047],\"z\":[0.8014287948608398],\"type\":\"scatter3d\"},{\"hovertemplate\":\"title=Vinden Har V\\u00e4nt<br>comp_1=%{x}<br>comp_2=%{y}<br>comp_3=%{z}<extra></extra>\",\"legendgroup\":\"Vinden Har V\\u00e4nt\",\"marker\":{\"color\":\"#FF6692\",\"symbol\":\"circle\"},\"mode\":\"markers\",\"name\":\"Vinden Har V\\u00e4nt\",\"scene\":\"scene\",\"showlegend\":true,\"x\":[-20.364288330078125],\"y\":[11.97391414642334],\"z\":[39.52534866333008],\"type\":\"scatter3d\"},{\"hovertemplate\":\"title=Mikrofonk\\u00e5t<br>comp_1=%{x}<br>comp_2=%{y}<br>comp_3=%{z}<extra></extra>\",\"legendgroup\":\"Mikrofonk\\u00e5t\",\"marker\":{\"color\":\"#B6E880\",\"symbol\":\"circle\"},\"mode\":\"markers\",\"name\":\"Mikrofonk\\u00e5t\",\"scene\":\"scene\",\"showlegend\":true,\"x\":[-13.911816596984863],\"y\":[12.349245071411133],\"z\":[36.773094177246094],\"type\":\"scatter3d\"},{\"hovertemplate\":\"title=Se p\\u00e5 mig nu - Singelversion<br>comp_1=%{x}<br>comp_2=%{y}<br>comp_3=%{z}<extra></extra>\",\"legendgroup\":\"Se p\\u00e5 mig nu - Singelversion\",\"marker\":{\"color\":\"#FF97FF\",\"symbol\":\"circle\"},\"mode\":\"markers\",\"name\":\"Se p\\u00e5 mig nu - Singelversion\",\"scene\":\"scene\",\"showlegend\":true,\"x\":[-22.148557662963867],\"y\":[30.872398376464844],\"z\":[-6.707339763641357],\"type\":\"scatter3d\"},{\"hovertemplate\":\"title=Mammas Gata<br>comp_1=%{x}<br>comp_2=%{y}<br>comp_3=%{z}<extra></extra>\",\"legendgroup\":\"Mammas Gata\",\"marker\":{\"color\":\"#FECB52\",\"symbol\":\"circle\"},\"mode\":\"markers\",\"name\":\"Mammas Gata\",\"scene\":\"scene\",\"showlegend\":true,\"x\":[-36.821739196777344],\"y\":[-1.226972222328186],\"z\":[3.252962112426758],\"type\":\"scatter3d\"},{\"hovertemplate\":\"title=These Walls Don\\u2019t Lie<br>comp_1=%{x}<br>comp_2=%{y}<br>comp_3=%{z}<extra></extra>\",\"legendgroup\":\"These Walls Don\\u2019t Lie\",\"marker\":{\"color\":\"#636efa\",\"symbol\":\"circle\"},\"mode\":\"markers\",\"name\":\"These Walls Don\\u2019t Lie\",\"scene\":\"scene\",\"showlegend\":true,\"x\":[63.426597595214844],\"y\":[-3.4912068843841553],\"z\":[-4.605093955993652],\"type\":\"scatter3d\"},{\"hovertemplate\":\"title=Long Distance Runner<br>comp_1=%{x}<br>comp_2=%{y}<br>comp_3=%{z}<extra></extra>\",\"legendgroup\":\"Long Distance Runner\",\"marker\":{\"color\":\"#EF553B\",\"symbol\":\"circle\"},\"mode\":\"markers\",\"name\":\"Long Distance Runner\",\"scene\":\"scene\",\"showlegend\":true,\"x\":[57.50990295410156],\"y\":[-0.5973548889160156],\"z\":[-16.39118194580078],\"type\":\"scatter3d\"},{\"hovertemplate\":\"title=Svennebanan<br>comp_1=%{x}<br>comp_2=%{y}<br>comp_3=%{z}<extra></extra>\",\"legendgroup\":\"Svennebanan\",\"marker\":{\"color\":\"#00cc96\",\"symbol\":\"circle\"},\"mode\":\"markers\",\"name\":\"Svennebanan\",\"scene\":\"scene\",\"showlegend\":true,\"x\":[13.056761741638184],\"y\":[-17.373855590820312],\"z\":[34.153404235839844],\"type\":\"scatter3d\"},{\"hovertemplate\":\"title=Lullabies to Myself<br>comp_1=%{x}<br>comp_2=%{y}<br>comp_3=%{z}<extra></extra>\",\"legendgroup\":\"Lullabies to Myself\",\"marker\":{\"color\":\"#ab63fa\",\"symbol\":\"circle\"},\"mode\":\"markers\",\"name\":\"Lullabies to Myself\",\"scene\":\"scene\",\"showlegend\":true,\"x\":[47.19993209838867],\"y\":[-9.570015907287598],\"z\":[2.2700769901275635],\"type\":\"scatter3d\"},{\"hovertemplate\":\"title=Headache<br>comp_1=%{x}<br>comp_2=%{y}<br>comp_3=%{z}<extra></extra>\",\"legendgroup\":\"Headache\",\"marker\":{\"color\":\"#FFA15A\",\"symbol\":\"circle\"},\"mode\":\"markers\",\"name\":\"Headache\",\"scene\":\"scene\",\"showlegend\":true,\"x\":[61.51948928833008],\"y\":[-12.685620307922363],\"z\":[-6.573967933654785],\"type\":\"scatter3d\"},{\"hovertemplate\":\"title=Dekadansen<br>comp_1=%{x}<br>comp_2=%{y}<br>comp_3=%{z}<extra></extra>\",\"legendgroup\":\"Dekadansen\",\"marker\":{\"color\":\"#19d3f3\",\"symbol\":\"circle\"},\"mode\":\"markers\",\"name\":\"Dekadansen\",\"scene\":\"scene\",\"showlegend\":true,\"x\":[-16.93916893005371],\"y\":[4.476853847503662],\"z\":[19.73714256286621],\"type\":\"scatter3d\"},{\"hovertemplate\":\"title=Kr\\u00e5ks\\u00e5ngen<br>comp_1=%{x}<br>comp_2=%{y}<br>comp_3=%{z}<extra></extra>\",\"legendgroup\":\"Kr\\u00e5ks\\u00e5ngen\",\"marker\":{\"color\":\"#FF6692\",\"symbol\":\"circle\"},\"mode\":\"markers\",\"name\":\"Kr\\u00e5ks\\u00e5ngen\",\"scene\":\"scene\",\"showlegend\":true,\"x\":[-10.0990571975708],\"y\":[-7.018035888671875],\"z\":[-16.678909301757812],\"type\":\"scatter3d\"},{\"hovertemplate\":\"title=Off the Record<br>comp_1=%{x}<br>comp_2=%{y}<br>comp_3=%{z}<extra></extra>\",\"legendgroup\":\"Off the Record\",\"marker\":{\"color\":\"#B6E880\",\"symbol\":\"circle\"},\"mode\":\"markers\",\"name\":\"Off the Record\",\"scene\":\"scene\",\"showlegend\":true,\"x\":[49.95254898071289],\"y\":[-2.525265693664551],\"z\":[-14.002286911010742],\"type\":\"scatter3d\"},{\"hovertemplate\":\"title=Vegan Pussy<br>comp_1=%{x}<br>comp_2=%{y}<br>comp_3=%{z}<extra></extra>\",\"legendgroup\":\"Vegan Pussy\",\"marker\":{\"color\":\"#FF97FF\",\"symbol\":\"circle\"},\"mode\":\"markers\",\"name\":\"Vegan Pussy\",\"scene\":\"scene\",\"showlegend\":true,\"x\":[65.52556610107422],\"y\":[5.918236255645752],\"z\":[-27.040035247802734],\"type\":\"scatter3d\"},{\"hovertemplate\":\"title=Ingen K\\u00e4rlek<br>comp_1=%{x}<br>comp_2=%{y}<br>comp_3=%{z}<extra></extra>\",\"legendgroup\":\"Ingen K\\u00e4rlek\",\"marker\":{\"color\":\"#FECB52\",\"symbol\":\"circle\"},\"mode\":\"markers\",\"name\":\"Ingen K\\u00e4rlek\",\"scene\":\"scene\",\"showlegend\":true,\"x\":[-50.70856857299805],\"y\":[24.27083969116211],\"z\":[-9.261312484741211],\"type\":\"scatter3d\"},{\"hovertemplate\":\"title=P\\u00e5 lokal<br>comp_1=%{x}<br>comp_2=%{y}<br>comp_3=%{z}<extra></extra>\",\"legendgroup\":\"P\\u00e5 lokal\",\"marker\":{\"color\":\"#636efa\",\"symbol\":\"circle\"},\"mode\":\"markers\",\"name\":\"P\\u00e5 lokal\",\"scene\":\"scene\",\"showlegend\":true,\"x\":[-3.978153705596924],\"y\":[-21.801494598388672],\"z\":[10.4481840133667],\"type\":\"scatter3d\"},{\"hovertemplate\":\"title=Du kommer aldrig f\\u00e5 se mig<br>comp_1=%{x}<br>comp_2=%{y}<br>comp_3=%{z}<extra></extra>\",\"legendgroup\":\"Du kommer aldrig f\\u00e5 se mig\",\"marker\":{\"color\":\"#EF553B\",\"symbol\":\"circle\"},\"mode\":\"markers\",\"name\":\"Du kommer aldrig f\\u00e5 se mig\",\"scene\":\"scene\",\"showlegend\":true,\"x\":[-17.67205047607422],\"y\":[-8.12890911102295],\"z\":[-40.06075668334961],\"type\":\"scatter3d\"},{\"hovertemplate\":\"title=Psykofarmakajesus<br>comp_1=%{x}<br>comp_2=%{y}<br>comp_3=%{z}<extra></extra>\",\"legendgroup\":\"Psykofarmakajesus\",\"marker\":{\"color\":\"#00cc96\",\"symbol\":\"circle\"},\"mode\":\"markers\",\"name\":\"Psykofarmakajesus\",\"scene\":\"scene\",\"showlegend\":true,\"x\":[-44.019229888916016],\"y\":[-3.1364924907684326],\"z\":[-10.3087739944458],\"type\":\"scatter3d\"},{\"hovertemplate\":\"title=Kakafoni<br>comp_1=%{x}<br>comp_2=%{y}<br>comp_3=%{z}<extra></extra>\",\"legendgroup\":\"Kakafoni\",\"marker\":{\"color\":\"#ab63fa\",\"symbol\":\"circle\"},\"mode\":\"markers\",\"name\":\"Kakafoni\",\"scene\":\"scene\",\"showlegend\":true,\"x\":[-49.91041564941406],\"y\":[6.632728576660156],\"z\":[-3.914658546447754],\"type\":\"scatter3d\"},{\"hovertemplate\":\"title=Barrabas<br>comp_1=%{x}<br>comp_2=%{y}<br>comp_3=%{z}<extra></extra>\",\"legendgroup\":\"Barrabas\",\"marker\":{\"color\":\"#FFA15A\",\"symbol\":\"circle\"},\"mode\":\"markers\",\"name\":\"Barrabas\",\"scene\":\"scene\",\"showlegend\":true,\"x\":[-39.136966705322266],\"y\":[2.8655405044555664],\"z\":[-5.0006937980651855],\"type\":\"scatter3d\"},{\"hovertemplate\":\"title=Blackout<br>comp_1=%{x}<br>comp_2=%{y}<br>comp_3=%{z}<extra></extra>\",\"legendgroup\":\"Blackout\",\"marker\":{\"color\":\"#19d3f3\",\"symbol\":\"circle\"},\"mode\":\"markers\",\"name\":\"Blackout\",\"scene\":\"scene\",\"showlegend\":true,\"x\":[-41.70942306518555],\"y\":[9.104373931884766],\"z\":[-0.9869592189788818],\"type\":\"scatter3d\"},{\"hovertemplate\":\"title=Stanna hemma<br>comp_1=%{x}<br>comp_2=%{y}<br>comp_3=%{z}<extra></extra>\",\"legendgroup\":\"Stanna hemma\",\"marker\":{\"color\":\"#FF6692\",\"symbol\":\"circle\"},\"mode\":\"markers\",\"name\":\"Stanna hemma\",\"scene\":\"scene\",\"showlegend\":true,\"x\":[-14.433670997619629],\"y\":[-3.6386680603027344],\"z\":[1.5584434270858765],\"type\":\"scatter3d\"},{\"hovertemplate\":\"title=Solen f\\u00f6rsvann<br>comp_1=%{x}<br>comp_2=%{y}<br>comp_3=%{z}<extra></extra>\",\"legendgroup\":\"Solen f\\u00f6rsvann\",\"marker\":{\"color\":\"#B6E880\",\"symbol\":\"circle\"},\"mode\":\"markers\",\"name\":\"Solen f\\u00f6rsvann\",\"scene\":\"scene\",\"showlegend\":true,\"x\":[1.4911648035049438],\"y\":[-6.3271942138671875],\"z\":[-15.091714859008789],\"type\":\"scatter3d\"},{\"hovertemplate\":\"title=Anna<br>comp_1=%{x}<br>comp_2=%{y}<br>comp_3=%{z}<extra></extra>\",\"legendgroup\":\"Anna\",\"marker\":{\"color\":\"#FF97FF\",\"symbol\":\"circle\"},\"mode\":\"markers\",\"name\":\"Anna\",\"scene\":\"scene\",\"showlegend\":true,\"x\":[-31.85247802734375],\"y\":[18.10746192932129],\"z\":[-4.257788181304932],\"type\":\"scatter3d\"},{\"hovertemplate\":\"title=T\\u00e4nd Alla Ljus<br>comp_1=%{x}<br>comp_2=%{y}<br>comp_3=%{z}<extra></extra>\",\"legendgroup\":\"T\\u00e4nd Alla Ljus\",\"marker\":{\"color\":\"#FECB52\",\"symbol\":\"circle\"},\"mode\":\"markers\",\"name\":\"T\\u00e4nd Alla Ljus\",\"scene\":\"scene\",\"showlegend\":true,\"x\":[12.041313171386719],\"y\":[24.043415069580078],\"z\":[-3.374941349029541],\"type\":\"scatter3d\"},{\"hovertemplate\":\"title=Sv\\u00e4r p\\u00e5 min mamma<br>comp_1=%{x}<br>comp_2=%{y}<br>comp_3=%{z}<extra></extra>\",\"legendgroup\":\"Sv\\u00e4r p\\u00e5 min mamma\",\"marker\":{\"color\":\"#636efa\",\"symbol\":\"circle\"},\"mode\":\"markers\",\"name\":\"Sv\\u00e4r p\\u00e5 min mamma\",\"scene\":\"scene\",\"showlegend\":true,\"x\":[19.91049575805664],\"y\":[-10.5681791305542],\"z\":[-12.878571510314941],\"type\":\"scatter3d\"},{\"hovertemplate\":\"title=F\\u00f6r Evigt<br>comp_1=%{x}<br>comp_2=%{y}<br>comp_3=%{z}<extra></extra>\",\"legendgroup\":\"F\\u00f6r Evigt\",\"marker\":{\"color\":\"#EF553B\",\"symbol\":\"circle\"},\"mode\":\"markers\",\"name\":\"F\\u00f6r Evigt\",\"scene\":\"scene\",\"showlegend\":true,\"x\":[-38.865928649902344],\"y\":[-5.756400108337402],\"z\":[-34.58867263793945],\"type\":\"scatter3d\"},{\"hovertemplate\":\"title=I\\u2022M\\u2022A\\u2022M<br>comp_1=%{x}<br>comp_2=%{y}<br>comp_3=%{z}<extra></extra>\",\"legendgroup\":\"I\\u2022M\\u2022A\\u2022M\",\"marker\":{\"color\":\"#00cc96\",\"symbol\":\"circle\"},\"mode\":\"markers\",\"name\":\"I\\u2022M\\u2022A\\u2022M\",\"scene\":\"scene\",\"showlegend\":true,\"x\":[30.995283126831055],\"y\":[9.378876686096191],\"z\":[34.10920333862305],\"type\":\"scatter3d\"},{\"hovertemplate\":\"title=Jag D\\u00f6r F\\u00f6r Dig<br>comp_1=%{x}<br>comp_2=%{y}<br>comp_3=%{z}<extra></extra>\",\"legendgroup\":\"Jag D\\u00f6r F\\u00f6r Dig\",\"marker\":{\"color\":\"#ab63fa\",\"symbol\":\"circle\"},\"mode\":\"markers\",\"name\":\"Jag D\\u00f6r F\\u00f6r Dig\",\"scene\":\"scene\",\"showlegend\":true,\"x\":[-36.09310531616211],\"y\":[-31.475942611694336],\"z\":[-1.0378755331039429],\"type\":\"scatter3d\"},{\"hovertemplate\":\"title=Vikken D\\u00e5<br>comp_1=%{x}<br>comp_2=%{y}<br>comp_3=%{z}<extra></extra>\",\"legendgroup\":\"Vikken D\\u00e5\",\"marker\":{\"color\":\"#FFA15A\",\"symbol\":\"circle\"},\"mode\":\"markers\",\"name\":\"Vikken D\\u00e5\",\"scene\":\"scene\",\"showlegend\":true,\"x\":[-49.74562072753906],\"y\":[9.36319637298584],\"z\":[21.52921485900879],\"type\":\"scatter3d\"},{\"hovertemplate\":\"title=IMAM COBAIN<br>comp_1=%{x}<br>comp_2=%{y}<br>comp_3=%{z}<extra></extra>\",\"legendgroup\":\"IMAM COBAIN\",\"marker\":{\"color\":\"#19d3f3\",\"symbol\":\"circle\"},\"mode\":\"markers\",\"name\":\"IMAM COBAIN\",\"scene\":\"scene\",\"showlegend\":true,\"x\":[27.019264221191406],\"y\":[3.6940317153930664],\"z\":[-7.8418049812316895],\"type\":\"scatter3d\"},{\"hovertemplate\":\"title=I min zon<br>comp_1=%{x}<br>comp_2=%{y}<br>comp_3=%{z}<extra></extra>\",\"legendgroup\":\"I min zon\",\"marker\":{\"color\":\"#FF6692\",\"symbol\":\"circle\"},\"mode\":\"markers\",\"name\":\"I min zon\",\"scene\":\"scene\",\"showlegend\":true,\"x\":[-15.931201934814453],\"y\":[10.823466300964355],\"z\":[10.349979400634766],\"type\":\"scatter3d\"},{\"hovertemplate\":\"title=Sett Henne<br>comp_1=%{x}<br>comp_2=%{y}<br>comp_3=%{z}<extra></extra>\",\"legendgroup\":\"Sett Henne\",\"marker\":{\"color\":\"#B6E880\",\"symbol\":\"circle\"},\"mode\":\"markers\",\"name\":\"Sett Henne\",\"scene\":\"scene\",\"showlegend\":true,\"x\":[-23.145084381103516],\"y\":[16.172910690307617],\"z\":[-10.86289119720459],\"type\":\"scatter3d\"},{\"hovertemplate\":\"title=Bulletproof Baby<br>comp_1=%{x}<br>comp_2=%{y}<br>comp_3=%{z}<extra></extra>\",\"legendgroup\":\"Bulletproof Baby\",\"marker\":{\"color\":\"#FF97FF\",\"symbol\":\"circle\"},\"mode\":\"markers\",\"name\":\"Bulletproof Baby\",\"scene\":\"scene\",\"showlegend\":true,\"x\":[5.7548370361328125],\"y\":[2.1947436332702637],\"z\":[18.187400817871094],\"type\":\"scatter3d\"},{\"hovertemplate\":\"title=Mister Cool<br>comp_1=%{x}<br>comp_2=%{y}<br>comp_3=%{z}<extra></extra>\",\"legendgroup\":\"Mister Cool\",\"marker\":{\"color\":\"#FECB52\",\"symbol\":\"circle\"},\"mode\":\"markers\",\"name\":\"Mister Cool\",\"scene\":\"scene\",\"showlegend\":true,\"x\":[30.531694412231445],\"y\":[-30.49355125427246],\"z\":[7.680630683898926],\"type\":\"scatter3d\"},{\"hovertemplate\":\"title=L\\u00e4ngst fram i taxin<br>comp_1=%{x}<br>comp_2=%{y}<br>comp_3=%{z}<extra></extra>\",\"legendgroup\":\"L\\u00e4ngst fram i taxin\",\"marker\":{\"color\":\"#636efa\",\"symbol\":\"circle\"},\"mode\":\"markers\",\"name\":\"L\\u00e4ngst fram i taxin\",\"scene\":\"scene\",\"showlegend\":true,\"x\":[9.3953275680542],\"y\":[14.315156936645508],\"z\":[-14.23003101348877],\"type\":\"scatter3d\"},{\"hovertemplate\":\"title=Kommer ifr\\u00e5n<br>comp_1=%{x}<br>comp_2=%{y}<br>comp_3=%{z}<extra></extra>\",\"legendgroup\":\"Kommer ifr\\u00e5n\",\"marker\":{\"color\":\"#EF553B\",\"symbol\":\"circle\"},\"mode\":\"markers\",\"name\":\"Kommer ifr\\u00e5n\",\"scene\":\"scene\",\"showlegend\":true,\"x\":[-46.531795501708984],\"y\":[-0.09615164250135422],\"z\":[2.1055872440338135],\"type\":\"scatter3d\"},{\"hovertemplate\":\"title=Snook, svett & t\\u00e5rar<br>comp_1=%{x}<br>comp_2=%{y}<br>comp_3=%{z}<extra></extra>\",\"legendgroup\":\"Snook, svett & t\\u00e5rar\",\"marker\":{\"color\":\"#00cc96\",\"symbol\":\"circle\"},\"mode\":\"markers\",\"name\":\"Snook, svett & t\\u00e5rar\",\"scene\":\"scene\",\"showlegend\":true,\"x\":[-18.50299072265625],\"y\":[-14.081475257873535],\"z\":[0.11981800943613052],\"type\":\"scatter3d\"},{\"hovertemplate\":\"title=Inga problem<br>comp_1=%{x}<br>comp_2=%{y}<br>comp_3=%{z}<extra></extra>\",\"legendgroup\":\"Inga problem\",\"marker\":{\"color\":\"#ab63fa\",\"symbol\":\"circle\"},\"mode\":\"markers\",\"name\":\"Inga problem\",\"scene\":\"scene\",\"showlegend\":true,\"x\":[-47.25397491455078],\"y\":[7.12884521484375],\"z\":[-22.668643951416016],\"type\":\"scatter3d\"},{\"hovertemplate\":\"title=Lejonhj\\u00e4rta<br>comp_1=%{x}<br>comp_2=%{y}<br>comp_3=%{z}<extra></extra>\",\"legendgroup\":\"Lejonhj\\u00e4rta\",\"marker\":{\"color\":\"#FFA15A\",\"symbol\":\"circle\"},\"mode\":\"markers\",\"name\":\"Lejonhj\\u00e4rta\",\"scene\":\"scene\",\"showlegend\":true,\"x\":[-34.52685546875],\"y\":[12.983346939086914],\"z\":[13.560403823852539],\"type\":\"scatter3d\"},{\"hovertemplate\":\"title=17 juni<br>comp_1=%{x}<br>comp_2=%{y}<br>comp_3=%{z}<extra></extra>\",\"legendgroup\":\"17 juni\",\"marker\":{\"color\":\"#19d3f3\",\"symbol\":\"circle\"},\"mode\":\"markers\",\"name\":\"17 juni\",\"scene\":\"scene\",\"showlegend\":true,\"x\":[7.170716762542725],\"y\":[13.41383171081543],\"z\":[20.669780731201172],\"type\":\"scatter3d\"},{\"hovertemplate\":\"title=Hiphop<br>comp_1=%{x}<br>comp_2=%{y}<br>comp_3=%{z}<extra></extra>\",\"legendgroup\":\"Hiphop\",\"marker\":{\"color\":\"#FF6692\",\"symbol\":\"circle\"},\"mode\":\"markers\",\"name\":\"Hiphop\",\"scene\":\"scene\",\"showlegend\":true,\"x\":[-24.27121925354004],\"y\":[-0.11694388836622238],\"z\":[41.46770477294922],\"type\":\"scatter3d\"},{\"hovertemplate\":\"title=\\u00c4lskling jag \\u00e4r hemma nu<br>comp_1=%{x}<br>comp_2=%{y}<br>comp_3=%{z}<extra></extra>\",\"legendgroup\":\"\\u00c4lskling jag \\u00e4r hemma nu\",\"marker\":{\"color\":\"#B6E880\",\"symbol\":\"circle\"},\"mode\":\"markers\",\"name\":\"\\u00c4lskling jag \\u00e4r hemma nu\",\"scene\":\"scene\",\"showlegend\":true,\"x\":[-16.954269409179688],\"y\":[-9.307938575744629],\"z\":[-25.486480712890625],\"type\":\"scatter3d\"},{\"hovertemplate\":\"title=Bejbi<br>comp_1=%{x}<br>comp_2=%{y}<br>comp_3=%{z}<extra></extra>\",\"legendgroup\":\"Bejbi\",\"marker\":{\"color\":\"#FF97FF\",\"symbol\":\"circle\"},\"mode\":\"markers\",\"name\":\"Bejbi\",\"scene\":\"scene\",\"showlegend\":true,\"x\":[-31.089330673217773],\"y\":[-7.075074672698975],\"z\":[8.377265930175781],\"type\":\"scatter3d\"},{\"hovertemplate\":\"title=This Kind of Funk<br>comp_1=%{x}<br>comp_2=%{y}<br>comp_3=%{z}<extra></extra>\",\"legendgroup\":\"This Kind of Funk\",\"marker\":{\"color\":\"#FECB52\",\"symbol\":\"circle\"},\"mode\":\"markers\",\"name\":\"This Kind of Funk\",\"scene\":\"scene\",\"showlegend\":true,\"x\":[57.673133850097656],\"y\":[-18.904098510742188],\"z\":[0.9526852965354919],\"type\":\"scatter3d\"},{\"hovertemplate\":\"title=Snapphaneklanen<br>comp_1=%{x}<br>comp_2=%{y}<br>comp_3=%{z}<extra></extra>\",\"legendgroup\":\"Snapphaneklanen\",\"marker\":{\"color\":\"#636efa\",\"symbol\":\"circle\"},\"mode\":\"markers\",\"name\":\"Snapphaneklanen\",\"scene\":\"scene\",\"showlegend\":true,\"x\":[-28.982919692993164],\"y\":[5.858326435089111],\"z\":[28.703649520874023],\"type\":\"scatter3d\"},{\"hovertemplate\":\"title=Du Vill S\\u00e5 Du Kan<br>comp_1=%{x}<br>comp_2=%{y}<br>comp_3=%{z}<extra></extra>\",\"legendgroup\":\"Du Vill S\\u00e5 Du Kan\",\"marker\":{\"color\":\"#EF553B\",\"symbol\":\"circle\"},\"mode\":\"markers\",\"name\":\"Du Vill S\\u00e5 Du Kan\",\"scene\":\"scene\",\"showlegend\":true,\"x\":[-40.929969787597656],\"y\":[14.507110595703125],\"z\":[-8.396724700927734],\"type\":\"scatter3d\"},{\"hovertemplate\":\"title=Vakna<br>comp_1=%{x}<br>comp_2=%{y}<br>comp_3=%{z}<extra></extra>\",\"legendgroup\":\"Vakna\",\"marker\":{\"color\":\"#00cc96\",\"symbol\":\"circle\"},\"mode\":\"markers\",\"name\":\"Vakna\",\"scene\":\"scene\",\"showlegend\":true,\"x\":[-55.02428436279297],\"y\":[12.400010108947754],\"z\":[5.859129905700684],\"type\":\"scatter3d\"},{\"hovertemplate\":\"title=Ctrl+alt+del<br>comp_1=%{x}<br>comp_2=%{y}<br>comp_3=%{z}<extra></extra>\",\"legendgroup\":\"Ctrl+alt+del\",\"marker\":{\"color\":\"#ab63fa\",\"symbol\":\"circle\"},\"mode\":\"markers\",\"name\":\"Ctrl+alt+del\",\"scene\":\"scene\",\"showlegend\":true,\"x\":[-49.69902420043945],\"y\":[18.598966598510742],\"z\":[5.003593444824219],\"type\":\"scatter3d\"},{\"hovertemplate\":\"title=Falsk Matematik (Del III)<br>comp_1=%{x}<br>comp_2=%{y}<br>comp_3=%{z}<extra></extra>\",\"legendgroup\":\"Falsk Matematik (Del III)\",\"marker\":{\"color\":\"#FFA15A\",\"symbol\":\"circle\"},\"mode\":\"markers\",\"name\":\"Falsk Matematik (Del III)\",\"scene\":\"scene\",\"showlegend\":true,\"x\":[-21.211013793945312],\"y\":[7.807006359100342],\"z\":[31.825443267822266],\"type\":\"scatter3d\"},{\"hovertemplate\":\"title=Kenneths Nya<br>comp_1=%{x}<br>comp_2=%{y}<br>comp_3=%{z}<extra></extra>\",\"legendgroup\":\"Kenneths Nya\",\"marker\":{\"color\":\"#19d3f3\",\"symbol\":\"circle\"},\"mode\":\"markers\",\"name\":\"Kenneths Nya\",\"scene\":\"scene\",\"showlegend\":true,\"x\":[-41.943695068359375],\"y\":[7.34798526763916],\"z\":[-9.945554733276367],\"type\":\"scatter3d\"},{\"hovertemplate\":\"title=M\\u00e4ster Bl\\u00e4ster<br>comp_1=%{x}<br>comp_2=%{y}<br>comp_3=%{z}<extra></extra>\",\"legendgroup\":\"M\\u00e4ster Bl\\u00e4ster\",\"marker\":{\"color\":\"#FF6692\",\"symbol\":\"circle\"},\"mode\":\"markers\",\"name\":\"M\\u00e4ster Bl\\u00e4ster\",\"scene\":\"scene\",\"showlegend\":true,\"x\":[-16.304534912109375],\"y\":[3.982797622680664],\"z\":[37.51417541503906],\"type\":\"scatter3d\"},{\"hovertemplate\":\"title=En Varning<br>comp_1=%{x}<br>comp_2=%{y}<br>comp_3=%{z}<extra></extra>\",\"legendgroup\":\"En Varning\",\"marker\":{\"color\":\"#B6E880\",\"symbol\":\"circle\"},\"mode\":\"markers\",\"name\":\"En Varning\",\"scene\":\"scene\",\"showlegend\":true,\"x\":[-51.505035400390625],\"y\":[18.154558181762695],\"z\":[12.033451080322266],\"type\":\"scatter3d\"},{\"hovertemplate\":\"title=Vetande<br>comp_1=%{x}<br>comp_2=%{y}<br>comp_3=%{z}<extra></extra>\",\"legendgroup\":\"Vetande\",\"marker\":{\"color\":\"#FF97FF\",\"symbol\":\"circle\"},\"mode\":\"markers\",\"name\":\"Vetande\",\"scene\":\"scene\",\"showlegend\":true,\"x\":[-54.45058059692383],\"y\":[18.69847297668457],\"z\":[-1.6551109552383423],\"type\":\"scatter3d\"},{\"hovertemplate\":\"title=Okunskap<br>comp_1=%{x}<br>comp_2=%{y}<br>comp_3=%{z}<extra></extra>\",\"legendgroup\":\"Okunskap\",\"marker\":{\"color\":\"#FECB52\",\"symbol\":\"circle\"},\"mode\":\"markers\",\"name\":\"Okunskap\",\"scene\":\"scene\",\"showlegend\":true,\"x\":[-58.186100006103516],\"y\":[23.45482635498047],\"z\":[4.446232795715332],\"type\":\"scatter3d\"},{\"hovertemplate\":\"title=Cashen dom tas<br>comp_1=%{x}<br>comp_2=%{y}<br>comp_3=%{z}<extra></extra>\",\"legendgroup\":\"Cashen dom tas\",\"marker\":{\"color\":\"#636efa\",\"symbol\":\"circle\"},\"mode\":\"markers\",\"name\":\"Cashen dom tas\",\"scene\":\"scene\",\"showlegend\":true,\"x\":[-14.974991798400879],\"y\":[16.377010345458984],\"z\":[47.66204833984375],\"type\":\"scatter3d\"},{\"hovertemplate\":\"title=De E Knas<br>comp_1=%{x}<br>comp_2=%{y}<br>comp_3=%{z}<extra></extra>\",\"legendgroup\":\"De E Knas\",\"marker\":{\"color\":\"#EF553B\",\"symbol\":\"circle\"},\"mode\":\"markers\",\"name\":\"De E Knas\",\"scene\":\"scene\",\"showlegend\":true,\"x\":[-34.724735260009766],\"y\":[28.525333404541016],\"z\":[-6.370769023895264],\"type\":\"scatter3d\"},{\"hovertemplate\":\"title=Snubben<br>comp_1=%{x}<br>comp_2=%{y}<br>comp_3=%{z}<extra></extra>\",\"legendgroup\":\"Snubben\",\"marker\":{\"color\":\"#00cc96\",\"symbol\":\"circle\"},\"mode\":\"markers\",\"name\":\"Snubben\",\"scene\":\"scene\",\"showlegend\":true,\"x\":[-15.825240135192871],\"y\":[-5.3810038566589355],\"z\":[-7.00656795501709],\"type\":\"scatter3d\"},{\"hovertemplate\":\"title=Blend Dom<br>comp_1=%{x}<br>comp_2=%{y}<br>comp_3=%{z}<extra></extra>\",\"legendgroup\":\"Blend Dom\",\"marker\":{\"color\":\"#ab63fa\",\"symbol\":\"circle\"},\"mode\":\"markers\",\"name\":\"Blend Dom\",\"scene\":\"scene\",\"showlegend\":true,\"x\":[-3.1405673027038574],\"y\":[5.384688377380371],\"z\":[16.000762939453125],\"type\":\"scatter3d\"},{\"hovertemplate\":\"title=Mecka<br>comp_1=%{x}<br>comp_2=%{y}<br>comp_3=%{z}<extra></extra>\",\"legendgroup\":\"Mecka\",\"marker\":{\"color\":\"#FFA15A\",\"symbol\":\"circle\"},\"mode\":\"markers\",\"name\":\"Mecka\",\"scene\":\"scene\",\"showlegend\":true,\"x\":[13.713776588439941],\"y\":[-9.111071586608887],\"z\":[-31.04475212097168],\"type\":\"scatter3d\"},{\"hovertemplate\":\"title=Fint V\\u00e4der<br>comp_1=%{x}<br>comp_2=%{y}<br>comp_3=%{z}<extra></extra>\",\"legendgroup\":\"Fint V\\u00e4der\",\"marker\":{\"color\":\"#19d3f3\",\"symbol\":\"circle\"},\"mode\":\"markers\",\"name\":\"Fint V\\u00e4der\",\"scene\":\"scene\",\"showlegend\":true,\"x\":[-16.240041732788086],\"y\":[-23.189773559570312],\"z\":[-15.543882369995117],\"type\":\"scatter3d\"},{\"hovertemplate\":\"title=Kompisar fr\\u00e5n f\\u00f6rr<br>comp_1=%{x}<br>comp_2=%{y}<br>comp_3=%{z}<extra></extra>\",\"legendgroup\":\"Kompisar fr\\u00e5n f\\u00f6rr\",\"marker\":{\"color\":\"#FF6692\",\"symbol\":\"circle\"},\"mode\":\"markers\",\"name\":\"Kompisar fr\\u00e5n f\\u00f6rr\",\"scene\":\"scene\",\"showlegend\":true,\"x\":[-43.219181060791016],\"y\":[-14.453271865844727],\"z\":[14.043437957763672],\"type\":\"scatter3d\"},{\"hovertemplate\":\"title=Borta I Tankar<br>comp_1=%{x}<br>comp_2=%{y}<br>comp_3=%{z}<extra></extra>\",\"legendgroup\":\"Borta I Tankar\",\"marker\":{\"color\":\"#B6E880\",\"symbol\":\"circle\"},\"mode\":\"markers\",\"name\":\"Borta I Tankar\",\"scene\":\"scene\",\"showlegend\":true,\"x\":[-34.947898864746094],\"y\":[1.704039216041565],\"z\":[-12.526302337646484],\"type\":\"scatter3d\"},{\"hovertemplate\":\"title=Halva Inne<br>comp_1=%{x}<br>comp_2=%{y}<br>comp_3=%{z}<extra></extra>\",\"legendgroup\":\"Halva Inne\",\"marker\":{\"color\":\"#FF97FF\",\"symbol\":\"circle\"},\"mode\":\"markers\",\"name\":\"Halva Inne\",\"scene\":\"scene\",\"showlegend\":true,\"x\":[-7.205165386199951],\"y\":[-20.655330657958984],\"z\":[-15.693390846252441],\"type\":\"scatter3d\"},{\"hovertemplate\":\"title=Ainaziz<br>comp_1=%{x}<br>comp_2=%{y}<br>comp_3=%{z}<extra></extra>\",\"legendgroup\":\"Ainaziz\",\"marker\":{\"color\":\"#FECB52\",\"symbol\":\"circle\"},\"mode\":\"markers\",\"name\":\"Ainaziz\",\"scene\":\"scene\",\"showlegend\":true,\"x\":[-18.43293571472168],\"y\":[0.8310208320617676],\"z\":[28.607282638549805],\"type\":\"scatter3d\"},{\"hovertemplate\":\"title=Hiphopper<br>comp_1=%{x}<br>comp_2=%{y}<br>comp_3=%{z}<extra></extra>\",\"legendgroup\":\"Hiphopper\",\"marker\":{\"color\":\"#636efa\",\"symbol\":\"circle\"},\"mode\":\"markers\",\"name\":\"Hiphopper\",\"scene\":\"scene\",\"showlegend\":true,\"x\":[38.52131271362305],\"y\":[6.0161519050598145],\"z\":[-32.19263458251953],\"type\":\"scatter3d\"},{\"hovertemplate\":\"title=Hiphopper feat: Teddybears STHLM<br>comp_1=%{x}<br>comp_2=%{y}<br>comp_3=%{z}<extra></extra>\",\"legendgroup\":\"Hiphopper feat: Teddybears STHLM\",\"marker\":{\"color\":\"#EF553B\",\"symbol\":\"circle\"},\"mode\":\"markers\",\"name\":\"Hiphopper feat: Teddybears STHLM\",\"scene\":\"scene\",\"showlegend\":true,\"x\":[44.76237487792969],\"y\":[5.4797258377075195],\"z\":[-35.943389892578125],\"type\":\"scatter3d\"},{\"hovertemplate\":\"title=All yours feat: awa<br>comp_1=%{x}<br>comp_2=%{y}<br>comp_3=%{z}<extra></extra>\",\"legendgroup\":\"All yours feat: awa\",\"marker\":{\"color\":\"#00cc96\",\"symbol\":\"circle\"},\"mode\":\"markers\",\"name\":\"All yours feat: awa\",\"scene\":\"scene\",\"showlegend\":true,\"x\":[47.57120132446289],\"y\":[13.298436164855957],\"z\":[-17.290546417236328],\"type\":\"scatter3d\"},{\"hovertemplate\":\"title=Featherweight<br>comp_1=%{x}<br>comp_2=%{y}<br>comp_3=%{z}<extra></extra>\",\"legendgroup\":\"Featherweight\",\"marker\":{\"color\":\"#ab63fa\",\"symbol\":\"circle\"},\"mode\":\"markers\",\"name\":\"Featherweight\",\"scene\":\"scene\",\"showlegend\":true,\"x\":[57.874778747558594],\"y\":[-17.236177444458008],\"z\":[-13.031168937683105],\"type\":\"scatter3d\"},{\"hovertemplate\":\"title=Spinning<br>comp_1=%{x}<br>comp_2=%{y}<br>comp_3=%{z}<extra></extra>\",\"legendgroup\":\"Spinning\",\"marker\":{\"color\":\"#FFA15A\",\"symbol\":\"circle\"},\"mode\":\"markers\",\"name\":\"Spinning\",\"scene\":\"scene\",\"showlegend\":true,\"x\":[47.272682189941406],\"y\":[-17.250171661376953],\"z\":[-15.772278785705566],\"type\":\"scatter3d\"},{\"hovertemplate\":\"title=Wrenches<br>comp_1=%{x}<br>comp_2=%{y}<br>comp_3=%{z}<extra></extra>\",\"legendgroup\":\"Wrenches\",\"marker\":{\"color\":\"#19d3f3\",\"symbol\":\"circle\"},\"mode\":\"markers\",\"name\":\"Wrenches\",\"scene\":\"scene\",\"showlegend\":true,\"x\":[65.98792266845703],\"y\":[-1.2369331121444702],\"z\":[-20.319293975830078],\"type\":\"scatter3d\"},{\"hovertemplate\":\"title=Migraine<br>comp_1=%{x}<br>comp_2=%{y}<br>comp_3=%{z}<extra></extra>\",\"legendgroup\":\"Migraine\",\"marker\":{\"color\":\"#FF6692\",\"symbol\":\"circle\"},\"mode\":\"markers\",\"name\":\"Migraine\",\"scene\":\"scene\",\"showlegend\":true,\"x\":[53.900882720947266],\"y\":[-9.514399528503418],\"z\":[-10.965178489685059],\"type\":\"scatter3d\"},{\"hovertemplate\":\"title=Hiphopper - Feat. Teddybears Sthlm, Single Edit<br>comp_1=%{x}<br>comp_2=%{y}<br>comp_3=%{z}<extra></extra>\",\"legendgroup\":\"Hiphopper - Feat. Teddybears Sthlm, Single Edit\",\"marker\":{\"color\":\"#B6E880\",\"symbol\":\"circle\"},\"mode\":\"markers\",\"name\":\"Hiphopper - Feat. Teddybears Sthlm, Single Edit\",\"scene\":\"scene\",\"showlegend\":true,\"x\":[41.96723937988281],\"y\":[11.464109420776367],\"z\":[-33.84904479980469],\"type\":\"scatter3d\"},{\"hovertemplate\":\"title=She (feat. masayah)<br>comp_1=%{x}<br>comp_2=%{y}<br>comp_3=%{z}<extra></extra>\",\"legendgroup\":\"She (feat. masayah)\",\"marker\":{\"color\":\"#FF97FF\",\"symbol\":\"circle\"},\"mode\":\"markers\",\"name\":\"She (feat. masayah)\",\"scene\":\"scene\",\"showlegend\":true,\"x\":[52.11815643310547],\"y\":[3.4449100494384766],\"z\":[4.368502616882324],\"type\":\"scatter3d\"},{\"hovertemplate\":\"title=In the Sun<br>comp_1=%{x}<br>comp_2=%{y}<br>comp_3=%{z}<extra></extra>\",\"legendgroup\":\"In the Sun\",\"marker\":{\"color\":\"#FECB52\",\"symbol\":\"circle\"},\"mode\":\"markers\",\"name\":\"In the Sun\",\"scene\":\"scene\",\"showlegend\":true,\"x\":[71.33612823486328],\"y\":[-6.81215238571167],\"z\":[-13.068796157836914],\"type\":\"scatter3d\"},{\"hovertemplate\":\"title=Alla vill till himmelen men ingen vill d\\u00f6<br>comp_1=%{x}<br>comp_2=%{y}<br>comp_3=%{z}<extra></extra>\",\"legendgroup\":\"Alla vill till himmelen men ingen vill d\\u00f6\",\"marker\":{\"color\":\"#636efa\",\"symbol\":\"circle\"},\"mode\":\"markers\",\"name\":\"Alla vill till himmelen men ingen vill d\\u00f6\",\"scene\":\"scene\",\"showlegend\":true,\"x\":[-57.34305191040039],\"y\":[14.043083190917969],\"z\":[-9.443306922912598],\"type\":\"scatter3d\"},{\"hovertemplate\":\"title=Resten av ditt liv<br>comp_1=%{x}<br>comp_2=%{y}<br>comp_3=%{z}<extra></extra>\",\"legendgroup\":\"Resten av ditt liv\",\"marker\":{\"color\":\"#EF553B\",\"symbol\":\"circle\"},\"mode\":\"markers\",\"name\":\"Resten av ditt liv\",\"scene\":\"scene\",\"showlegend\":true,\"x\":[-36.230499267578125],\"y\":[1.2844141721725464],\"z\":[-29.67028045654297],\"type\":\"scatter3d\"},{\"hovertemplate\":\"title=Flickan Och Kr\\u00e5kan<br>comp_1=%{x}<br>comp_2=%{y}<br>comp_3=%{z}<extra></extra>\",\"legendgroup\":\"Flickan Och Kr\\u00e5kan\",\"marker\":{\"color\":\"#00cc96\",\"symbol\":\"circle\"},\"mode\":\"markers\",\"name\":\"Flickan Och Kr\\u00e5kan\",\"scene\":\"scene\",\"showlegend\":true,\"x\":[-25.559926986694336],\"y\":[-39.33417892456055],\"z\":[-5.2953691482543945],\"type\":\"scatter3d\"},{\"hovertemplate\":\"title=The Botten Is N\\u00e5dd<br>comp_1=%{x}<br>comp_2=%{y}<br>comp_3=%{z}<extra></extra>\",\"legendgroup\":\"The Botten Is N\\u00e5dd\",\"marker\":{\"color\":\"#ab63fa\",\"symbol\":\"circle\"},\"mode\":\"markers\",\"name\":\"The Botten Is N\\u00e5dd\",\"scene\":\"scene\",\"showlegend\":true,\"x\":[-29.667823791503906],\"y\":[6.327387809753418],\"z\":[-23.96795082092285],\"type\":\"scatter3d\"},{\"hovertemplate\":\"title=Spring<br>comp_1=%{x}<br>comp_2=%{y}<br>comp_3=%{z}<extra></extra>\",\"legendgroup\":\"Spring\",\"marker\":{\"color\":\"#FFA15A\",\"symbol\":\"circle\"},\"mode\":\"markers\",\"name\":\"Spring\",\"scene\":\"scene\",\"showlegend\":true,\"x\":[-31.740711212158203],\"y\":[28.347572326660156],\"z\":[15.814676284790039],\"type\":\"scatter3d\"},{\"hovertemplate\":\"title=Fallsk\\u00e4rm<br>comp_1=%{x}<br>comp_2=%{y}<br>comp_3=%{z}<extra></extra>\",\"legendgroup\":\"Fallsk\\u00e4rm\",\"marker\":{\"color\":\"#19d3f3\",\"symbol\":\"circle\"},\"mode\":\"markers\",\"name\":\"Fallsk\\u00e4rm\",\"scene\":\"scene\",\"showlegend\":true,\"x\":[-16.058837890625],\"y\":[-27.243804931640625],\"z\":[14.052571296691895],\"type\":\"scatter3d\"},{\"hovertemplate\":\"title=Inte stor nog<br>comp_1=%{x}<br>comp_2=%{y}<br>comp_3=%{z}<extra></extra>\",\"legendgroup\":\"Inte stor nog\",\"marker\":{\"color\":\"#FF6692\",\"symbol\":\"circle\"},\"mode\":\"markers\",\"name\":\"Inte stor nog\",\"scene\":\"scene\",\"showlegend\":true,\"x\":[-48.15492248535156],\"y\":[21.807273864746094],\"z\":[-31.24428367614746],\"type\":\"scatter3d\"},{\"hovertemplate\":\"title=Det l\\u00f6ser sej<br>comp_1=%{x}<br>comp_2=%{y}<br>comp_3=%{z}<extra></extra>\",\"legendgroup\":\"Det l\\u00f6ser sej\",\"marker\":{\"color\":\"#B6E880\",\"symbol\":\"circle\"},\"mode\":\"markers\",\"name\":\"Det l\\u00f6ser sej\",\"scene\":\"scene\",\"showlegend\":true,\"x\":[-35.700157165527344],\"y\":[24.858747482299805],\"z\":[-14.927992820739746],\"type\":\"scatter3d\"},{\"hovertemplate\":\"title=Den svenska skammen<br>comp_1=%{x}<br>comp_2=%{y}<br>comp_3=%{z}<extra></extra>\",\"legendgroup\":\"Den svenska skammen\",\"marker\":{\"color\":\"#FF97FF\",\"symbol\":\"circle\"},\"mode\":\"markers\",\"name\":\"Den svenska skammen\",\"scene\":\"scene\",\"showlegend\":true,\"x\":[-20.58220672607422],\"y\":[-11.156628608703613],\"z\":[12.125554084777832],\"type\":\"scatter3d\"},{\"hovertemplate\":\"title=Misst\\u00e4nkt<br>comp_1=%{x}<br>comp_2=%{y}<br>comp_3=%{z}<extra></extra>\",\"legendgroup\":\"Misst\\u00e4nkt\",\"marker\":{\"color\":\"#FECB52\",\"symbol\":\"circle\"},\"mode\":\"markers\",\"name\":\"Misst\\u00e4nkt\",\"scene\":\"scene\",\"showlegend\":true,\"x\":[-42.925636291503906],\"y\":[22.975215911865234],\"z\":[-3.4620563983917236],\"type\":\"scatter3d\"},{\"hovertemplate\":\"title=S\\u00e4ga mig<br>comp_1=%{x}<br>comp_2=%{y}<br>comp_3=%{z}<extra></extra>\",\"legendgroup\":\"S\\u00e4ga mig\",\"marker\":{\"color\":\"#636efa\",\"symbol\":\"circle\"},\"mode\":\"markers\",\"name\":\"S\\u00e4ga mig\",\"scene\":\"scene\",\"showlegend\":true,\"x\":[-39.57325744628906],\"y\":[-18.393463134765625],\"z\":[-12.012848854064941],\"type\":\"scatter3d\"},{\"hovertemplate\":\"title=Svartskallar<br>comp_1=%{x}<br>comp_2=%{y}<br>comp_3=%{z}<extra></extra>\",\"legendgroup\":\"Svartskallar\",\"marker\":{\"color\":\"#EF553B\",\"symbol\":\"circle\"},\"mode\":\"markers\",\"name\":\"Svartskallar\",\"scene\":\"scene\",\"showlegend\":true,\"x\":[-1.2483147382736206],\"y\":[-9.38547134399414],\"z\":[36.69249725341797],\"type\":\"scatter3d\"},{\"hovertemplate\":\"title=Stolthet<br>comp_1=%{x}<br>comp_2=%{y}<br>comp_3=%{z}<extra></extra>\",\"legendgroup\":\"Stolthet\",\"marker\":{\"color\":\"#00cc96\",\"symbol\":\"circle\"},\"mode\":\"markers\",\"name\":\"Stolthet\",\"scene\":\"scene\",\"showlegend\":true,\"x\":[-20.13981056213379],\"y\":[-27.23365592956543],\"z\":[-3.608426094055176],\"type\":\"scatter3d\"},{\"hovertemplate\":\"title=V\\u00e4gen hem<br>comp_1=%{x}<br>comp_2=%{y}<br>comp_3=%{z}<extra></extra>\",\"legendgroup\":\"V\\u00e4gen hem\",\"marker\":{\"color\":\"#ab63fa\",\"symbol\":\"circle\"},\"mode\":\"markers\",\"name\":\"V\\u00e4gen hem\",\"scene\":\"scene\",\"showlegend\":true,\"x\":[-16.324424743652344],\"y\":[35.806373596191406],\"z\":[-1.0096360445022583],\"type\":\"scatter3d\"},{\"hovertemplate\":\"title=Nightime<br>comp_1=%{x}<br>comp_2=%{y}<br>comp_3=%{z}<extra></extra>\",\"legendgroup\":\"Nightime\",\"marker\":{\"color\":\"#FFA15A\",\"symbol\":\"circle\"},\"mode\":\"markers\",\"name\":\"Nightime\",\"scene\":\"scene\",\"showlegend\":true,\"x\":[26.758485794067383],\"y\":[18.035140991210938],\"z\":[12.994695663452148],\"type\":\"scatter3d\"},{\"hovertemplate\":\"title=Pappas l\\u00e5t<br>comp_1=%{x}<br>comp_2=%{y}<br>comp_3=%{z}<extra></extra>\",\"legendgroup\":\"Pappas l\\u00e5t\",\"marker\":{\"color\":\"#19d3f3\",\"symbol\":\"circle\"},\"mode\":\"markers\",\"name\":\"Pappas l\\u00e5t\",\"scene\":\"scene\",\"showlegend\":true,\"x\":[-31.56074333190918],\"y\":[-37.35114669799805],\"z\":[-15.56106185913086],\"type\":\"scatter3d\"},{\"hovertemplate\":\"title=Elden<br>comp_1=%{x}<br>comp_2=%{y}<br>comp_3=%{z}<extra></extra>\",\"legendgroup\":\"Elden\",\"marker\":{\"color\":\"#FF6692\",\"symbol\":\"circle\"},\"mode\":\"markers\",\"name\":\"Elden\",\"scene\":\"scene\",\"showlegend\":true,\"x\":[12.049324035644531],\"y\":[7.6283278465271],\"z\":[26.272598266601562],\"type\":\"scatter3d\"},{\"hovertemplate\":\"title=Mitt folk<br>comp_1=%{x}<br>comp_2=%{y}<br>comp_3=%{z}<extra></extra>\",\"legendgroup\":\"Mitt folk\",\"marker\":{\"color\":\"#B6E880\",\"symbol\":\"circle\"},\"mode\":\"markers\",\"name\":\"Mitt folk\",\"scene\":\"scene\",\"showlegend\":true,\"x\":[-24.230154037475586],\"y\":[-6.697215557098389],\"z\":[26.83910369873047],\"type\":\"scatter3d\"},{\"hovertemplate\":\"title=Rom & Kush<br>comp_1=%{x}<br>comp_2=%{y}<br>comp_3=%{z}<extra></extra>\",\"legendgroup\":\"Rom & Kush\",\"marker\":{\"color\":\"#FF97FF\",\"symbol\":\"circle\"},\"mode\":\"markers\",\"name\":\"Rom & Kush\",\"scene\":\"scene\",\"showlegend\":true,\"x\":[16.284160614013672],\"y\":[8.374861717224121],\"z\":[32.9836311340332],\"type\":\"scatter3d\"},{\"hovertemplate\":\"title=FUBU<br>comp_1=%{x}<br>comp_2=%{y}<br>comp_3=%{z}<extra></extra>\",\"legendgroup\":\"FUBU\",\"marker\":{\"color\":\"#FECB52\",\"symbol\":\"circle\"},\"mode\":\"markers\",\"name\":\"FUBU\",\"scene\":\"scene\",\"showlegend\":true,\"x\":[18.709911346435547],\"y\":[-10.749789237976074],\"z\":[32.29436492919922],\"type\":\"scatter3d\"},{\"hovertemplate\":\"title=Fl\\u00e4ta/Inte mitt krig<br>comp_1=%{x}<br>comp_2=%{y}<br>comp_3=%{z}<extra></extra>\",\"legendgroup\":\"Fl\\u00e4ta/Inte mitt krig\",\"marker\":{\"color\":\"#636efa\",\"symbol\":\"circle\"},\"mode\":\"markers\",\"name\":\"Fl\\u00e4ta/Inte mitt krig\",\"scene\":\"scene\",\"showlegend\":true,\"x\":[-5.407670021057129],\"y\":[-14.38414478302002],\"z\":[20.767419815063477],\"type\":\"scatter3d\"},{\"hovertemplate\":\"title=Vvvalsta<br>comp_1=%{x}<br>comp_2=%{y}<br>comp_3=%{z}<extra></extra>\",\"legendgroup\":\"Vvvalsta\",\"marker\":{\"color\":\"#EF553B\",\"symbol\":\"circle\"},\"mode\":\"markers\",\"name\":\"Vvvalsta\",\"scene\":\"scene\",\"showlegend\":true,\"x\":[17.450515747070312],\"y\":[-18.761606216430664],\"z\":[0.19367250800132751],\"type\":\"scatter3d\"},{\"hovertemplate\":\"title=RUTHLESS<br>comp_1=%{x}<br>comp_2=%{y}<br>comp_3=%{z}<extra></extra>\",\"legendgroup\":\"RUTHLESS\",\"marker\":{\"color\":\"#00cc96\",\"symbol\":\"circle\"},\"mode\":\"markers\",\"name\":\"RUTHLESS\",\"scene\":\"scene\",\"showlegend\":true,\"x\":[5.2738823890686035],\"y\":[-22.497774124145508],\"z\":[-6.348113059997559],\"type\":\"scatter3d\"},{\"hovertemplate\":\"title=TAKE1 | PART 1<br>comp_1=%{x}<br>comp_2=%{y}<br>comp_3=%{z}<extra></extra>\",\"legendgroup\":\"TAKE1 | PART 1\",\"marker\":{\"color\":\"#ab63fa\",\"symbol\":\"circle\"},\"mode\":\"markers\",\"name\":\"TAKE1 | PART 1\",\"scene\":\"scene\",\"showlegend\":true,\"x\":[15.001583099365234],\"y\":[-17.73479461669922],\"z\":[9.13248062133789],\"type\":\"scatter3d\"},{\"hovertemplate\":\"title=VCFlow<br>comp_1=%{x}<br>comp_2=%{y}<br>comp_3=%{z}<extra></extra>\",\"legendgroup\":\"VCFlow\",\"marker\":{\"color\":\"#FFA15A\",\"symbol\":\"circle\"},\"mode\":\"markers\",\"name\":\"VCFlow\",\"scene\":\"scene\",\"showlegend\":true,\"x\":[14.834699630737305],\"y\":[-10.88976764678955],\"z\":[4.823385238647461],\"type\":\"scatter3d\"},{\"hovertemplate\":\"title=Dirty Kalle<br>comp_1=%{x}<br>comp_2=%{y}<br>comp_3=%{z}<extra></extra>\",\"legendgroup\":\"Dirty Kalle\",\"marker\":{\"color\":\"#19d3f3\",\"symbol\":\"circle\"},\"mode\":\"markers\",\"name\":\"Dirty Kalle\",\"scene\":\"scene\",\"showlegend\":true,\"x\":[11.939448356628418],\"y\":[-30.476118087768555],\"z\":[-7.524717807769775],\"type\":\"scatter3d\"},{\"hovertemplate\":\"title=Bra trakt<br>comp_1=%{x}<br>comp_2=%{y}<br>comp_3=%{z}<extra></extra>\",\"legendgroup\":\"Bra trakt\",\"marker\":{\"color\":\"#FF6692\",\"symbol\":\"circle\"},\"mode\":\"markers\",\"name\":\"Bra trakt\",\"scene\":\"scene\",\"showlegend\":true,\"x\":[23.72710418701172],\"y\":[-23.461843490600586],\"z\":[1.4526351690292358],\"type\":\"scatter3d\"},{\"hovertemplate\":\"title=HAYAT<br>comp_1=%{x}<br>comp_2=%{y}<br>comp_3=%{z}<extra></extra>\",\"legendgroup\":\"HAYAT\",\"marker\":{\"color\":\"#B6E880\",\"symbol\":\"circle\"},\"mode\":\"markers\",\"name\":\"HAYAT\",\"scene\":\"scene\",\"showlegend\":true,\"x\":[-15.323942184448242],\"y\":[-3.82083797454834],\"z\":[21.267501831054688],\"type\":\"scatter3d\"},{\"hovertemplate\":\"title=SooYs<br>comp_1=%{x}<br>comp_2=%{y}<br>comp_3=%{z}<extra></extra>\",\"legendgroup\":\"SooYs\",\"marker\":{\"color\":\"#FF97FF\",\"symbol\":\"circle\"},\"mode\":\"markers\",\"name\":\"SooYs\",\"scene\":\"scene\",\"showlegend\":true,\"x\":[8.026516914367676],\"y\":[-15.420835494995117],\"z\":[-1.2956981658935547],\"type\":\"scatter3d\"},{\"hovertemplate\":\"title=A.P.T.A<br>comp_1=%{x}<br>comp_2=%{y}<br>comp_3=%{z}<extra></extra>\",\"legendgroup\":\"A.P.T.A\",\"marker\":{\"color\":\"#FECB52\",\"symbol\":\"circle\"},\"mode\":\"markers\",\"name\":\"A.P.T.A\",\"scene\":\"scene\",\"showlegend\":true,\"x\":[19.413972854614258],\"y\":[-28.92106056213379],\"z\":[0.6167633533477783],\"type\":\"scatter3d\"},{\"hovertemplate\":\"title=Trakten min<br>comp_1=%{x}<br>comp_2=%{y}<br>comp_3=%{z}<extra></extra>\",\"legendgroup\":\"Trakten min\",\"marker\":{\"color\":\"#636efa\",\"symbol\":\"circle\"},\"mode\":\"markers\",\"name\":\"Trakten min\",\"scene\":\"scene\",\"showlegend\":true,\"x\":[20.72391128540039],\"y\":[-16.357929229736328],\"z\":[-24.58644676208496],\"type\":\"scatter3d\"},{\"hovertemplate\":\"title=Hiphop N RnB<br>comp_1=%{x}<br>comp_2=%{y}<br>comp_3=%{z}<extra></extra>\",\"legendgroup\":\"Hiphop N RnB\",\"marker\":{\"color\":\"#EF553B\",\"symbol\":\"circle\"},\"mode\":\"markers\",\"name\":\"Hiphop N RnB\",\"scene\":\"scene\",\"showlegend\":true,\"x\":[-11.12321662902832],\"y\":[14.089070320129395],\"z\":[-45.11898422241211],\"type\":\"scatter3d\"},{\"hovertemplate\":\"title=Chicago<br>comp_1=%{x}<br>comp_2=%{y}<br>comp_3=%{z}<extra></extra>\",\"legendgroup\":\"Chicago\",\"marker\":{\"color\":\"#00cc96\",\"symbol\":\"circle\"},\"mode\":\"markers\",\"name\":\"Chicago\",\"scene\":\"scene\",\"showlegend\":true,\"x\":[30.14080047607422],\"y\":[-8.676335334777832],\"z\":[6.042908668518066],\"type\":\"scatter3d\"},{\"hovertemplate\":\"title=Young & Heartless<br>comp_1=%{x}<br>comp_2=%{y}<br>comp_3=%{z}<extra></extra>\",\"legendgroup\":\"Young & Heartless\",\"marker\":{\"color\":\"#ab63fa\",\"symbol\":\"circle\"},\"mode\":\"markers\",\"name\":\"Young & Heartless\",\"scene\":\"scene\",\"showlegend\":true,\"x\":[33.5987663269043],\"y\":[-2.609532117843628],\"z\":[17.44060516357422],\"type\":\"scatter3d\"},{\"hovertemplate\":\"title=PT:1<br>comp_1=%{x}<br>comp_2=%{y}<br>comp_3=%{z}<extra></extra>\",\"legendgroup\":\"PT:1\",\"marker\":{\"color\":\"#FFA15A\",\"symbol\":\"circle\"},\"mode\":\"markers\",\"name\":\"PT:1\",\"scene\":\"scene\",\"showlegend\":true,\"x\":[-11.374730110168457],\"y\":[20.485076904296875],\"z\":[-31.527395248413086],\"type\":\"scatter3d\"},{\"hovertemplate\":\"title=Workin<br>comp_1=%{x}<br>comp_2=%{y}<br>comp_3=%{z}<extra></extra>\",\"legendgroup\":\"Workin\",\"marker\":{\"color\":\"#19d3f3\",\"symbol\":\"circle\"},\"mode\":\"markers\",\"name\":\"Workin\",\"scene\":\"scene\",\"showlegend\":true,\"x\":[17.095945358276367],\"y\":[-2.150838851928711],\"z\":[-21.63066291809082],\"type\":\"scatter3d\"},{\"hovertemplate\":\"title=Spiderman (Intro)<br>comp_1=%{x}<br>comp_2=%{y}<br>comp_3=%{z}<extra></extra>\",\"legendgroup\":\"Spiderman (Intro)\",\"marker\":{\"color\":\"#FF6692\",\"symbol\":\"circle\"},\"mode\":\"markers\",\"name\":\"Spiderman (Intro)\",\"scene\":\"scene\",\"showlegend\":true,\"x\":[17.2647647857666],\"y\":[-8.738946914672852],\"z\":[-21.020410537719727],\"type\":\"scatter3d\"},{\"hovertemplate\":\"title=Source<br>comp_1=%{x}<br>comp_2=%{y}<br>comp_3=%{z}<extra></extra>\",\"legendgroup\":\"Source\",\"marker\":{\"color\":\"#B6E880\",\"symbol\":\"circle\"},\"mode\":\"markers\",\"name\":\"Source\",\"scene\":\"scene\",\"showlegend\":true,\"x\":[30.365276336669922],\"y\":[0.2613627314567566],\"z\":[23.570451736450195],\"type\":\"scatter3d\"},{\"hovertemplate\":\"title=Min Bitch<br>comp_1=%{x}<br>comp_2=%{y}<br>comp_3=%{z}<extra></extra>\",\"legendgroup\":\"Min Bitch\",\"marker\":{\"color\":\"#FF97FF\",\"symbol\":\"circle\"},\"mode\":\"markers\",\"name\":\"Min Bitch\",\"scene\":\"scene\",\"showlegend\":true,\"x\":[1.658506989479065],\"y\":[20.51056671142578],\"z\":[-22.18648338317871],\"type\":\"scatter3d\"},{\"hovertemplate\":\"title=Hey (Rinkeby)<br>comp_1=%{x}<br>comp_2=%{y}<br>comp_3=%{z}<extra></extra>\",\"legendgroup\":\"Hey (Rinkeby)\",\"marker\":{\"color\":\"#FECB52\",\"symbol\":\"circle\"},\"mode\":\"markers\",\"name\":\"Hey (Rinkeby)\",\"scene\":\"scene\",\"showlegend\":true,\"x\":[-4.211965560913086],\"y\":[-2.138115406036377],\"z\":[-25.703229904174805],\"type\":\"scatter3d\"},{\"hovertemplate\":\"title=Polisen<br>comp_1=%{x}<br>comp_2=%{y}<br>comp_3=%{z}<extra></extra>\",\"legendgroup\":\"Polisen\",\"marker\":{\"color\":\"#636efa\",\"symbol\":\"circle\"},\"mode\":\"markers\",\"name\":\"Polisen\",\"scene\":\"scene\",\"showlegend\":true,\"x\":[-0.6106061935424805],\"y\":[11.965997695922852],\"z\":[-11.015495300292969],\"type\":\"scatter3d\"},{\"hovertemplate\":\"title=Rondellen<br>comp_1=%{x}<br>comp_2=%{y}<br>comp_3=%{z}<extra></extra>\",\"legendgroup\":\"Rondellen\",\"marker\":{\"color\":\"#EF553B\",\"symbol\":\"circle\"},\"mode\":\"markers\",\"name\":\"Rondellen\",\"scene\":\"scene\",\"showlegend\":true,\"x\":[3.4293718338012695],\"y\":[7.8377580642700195],\"z\":[47.47102355957031],\"type\":\"scatter3d\"},{\"hovertemplate\":\"title=Tala fult<br>comp_1=%{x}<br>comp_2=%{y}<br>comp_3=%{z}<extra></extra>\",\"legendgroup\":\"Tala fult\",\"marker\":{\"color\":\"#00cc96\",\"symbol\":\"circle\"},\"mode\":\"markers\",\"name\":\"Tala fult\",\"scene\":\"scene\",\"showlegend\":true,\"x\":[-38.82984924316406],\"y\":[14.766229629516602],\"z\":[32.346309661865234],\"type\":\"scatter3d\"},{\"hovertemplate\":\"title=Ohojaja<br>comp_1=%{x}<br>comp_2=%{y}<br>comp_3=%{z}<extra></extra>\",\"legendgroup\":\"Ohojaja\",\"marker\":{\"color\":\"#ab63fa\",\"symbol\":\"circle\"},\"mode\":\"markers\",\"name\":\"Ohojaja\",\"scene\":\"scene\",\"showlegend\":true,\"x\":[-17.29917335510254],\"y\":[-12.240653991699219],\"z\":[38.5998649597168],\"type\":\"scatter3d\"},{\"hovertemplate\":\"title=Spy p\\u00e5 dom<br>comp_1=%{x}<br>comp_2=%{y}<br>comp_3=%{z}<extra></extra>\",\"legendgroup\":\"Spy p\\u00e5 dom\",\"marker\":{\"color\":\"#FFA15A\",\"symbol\":\"circle\"},\"mode\":\"markers\",\"name\":\"Spy p\\u00e5 dom\",\"scene\":\"scene\",\"showlegend\":true,\"x\":[-0.31454265117645264],\"y\":[28.696468353271484],\"z\":[-23.635732650756836],\"type\":\"scatter3d\"},{\"hovertemplate\":\"title=Utomlands<br>comp_1=%{x}<br>comp_2=%{y}<br>comp_3=%{z}<extra></extra>\",\"legendgroup\":\"Utomlands\",\"marker\":{\"color\":\"#19d3f3\",\"symbol\":\"circle\"},\"mode\":\"markers\",\"name\":\"Utomlands\",\"scene\":\"scene\",\"showlegend\":true,\"x\":[1.517263412475586],\"y\":[38.474117279052734],\"z\":[11.824320793151855],\"type\":\"scatter3d\"},{\"hovertemplate\":\"title=Kommer hem<br>comp_1=%{x}<br>comp_2=%{y}<br>comp_3=%{z}<extra></extra>\",\"legendgroup\":\"Kommer hem\",\"marker\":{\"color\":\"#FF6692\",\"symbol\":\"circle\"},\"mode\":\"markers\",\"name\":\"Kommer hem\",\"scene\":\"scene\",\"showlegend\":true,\"x\":[-8.700084686279297],\"y\":[34.425540924072266],\"z\":[0.9461286664009094],\"type\":\"scatter3d\"},{\"hovertemplate\":\"title=G\\u00f6ra upp en eld<br>comp_1=%{x}<br>comp_2=%{y}<br>comp_3=%{z}<extra></extra>\",\"legendgroup\":\"G\\u00f6ra upp en eld\",\"marker\":{\"color\":\"#B6E880\",\"symbol\":\"circle\"},\"mode\":\"markers\",\"name\":\"G\\u00f6ra upp en eld\",\"scene\":\"scene\",\"showlegend\":true,\"x\":[-21.86748695373535],\"y\":[25.402626037597656],\"z\":[11.077249526977539],\"type\":\"scatter3d\"},{\"hovertemplate\":\"title=En glasspinne<br>comp_1=%{x}<br>comp_2=%{y}<br>comp_3=%{z}<extra></extra>\",\"legendgroup\":\"En glasspinne\",\"marker\":{\"color\":\"#FF97FF\",\"symbol\":\"circle\"},\"mode\":\"markers\",\"name\":\"En glasspinne\",\"scene\":\"scene\",\"showlegend\":true,\"x\":[-39.290401458740234],\"y\":[32.70863342285156],\"z\":[-14.324455261230469],\"type\":\"scatter3d\"},{\"hovertemplate\":\"title=\\u00d6ver bron<br>comp_1=%{x}<br>comp_2=%{y}<br>comp_3=%{z}<extra></extra>\",\"legendgroup\":\"\\u00d6ver bron\",\"marker\":{\"color\":\"#FECB52\",\"symbol\":\"circle\"},\"mode\":\"markers\",\"name\":\"\\u00d6ver bron\",\"scene\":\"scene\",\"showlegend\":true,\"x\":[-59.87504577636719],\"y\":[20.383098602294922],\"z\":[-16.74226188659668],\"type\":\"scatter3d\"}],                        {\"template\":{\"data\":{\"histogram2dcontour\":[{\"type\":\"histogram2dcontour\",\"colorbar\":{\"outlinewidth\":0,\"ticks\":\"\"},\"colorscale\":[[0.0,\"#0d0887\"],[0.1111111111111111,\"#46039f\"],[0.2222222222222222,\"#7201a8\"],[0.3333333333333333,\"#9c179e\"],[0.4444444444444444,\"#bd3786\"],[0.5555555555555556,\"#d8576b\"],[0.6666666666666666,\"#ed7953\"],[0.7777777777777778,\"#fb9f3a\"],[0.8888888888888888,\"#fdca26\"],[1.0,\"#f0f921\"]]}],\"choropleth\":[{\"type\":\"choropleth\",\"colorbar\":{\"outlinewidth\":0,\"ticks\":\"\"}}],\"histogram2d\":[{\"type\":\"histogram2d\",\"colorbar\":{\"outlinewidth\":0,\"ticks\":\"\"},\"colorscale\":[[0.0,\"#0d0887\"],[0.1111111111111111,\"#46039f\"],[0.2222222222222222,\"#7201a8\"],[0.3333333333333333,\"#9c179e\"],[0.4444444444444444,\"#bd3786\"],[0.5555555555555556,\"#d8576b\"],[0.6666666666666666,\"#ed7953\"],[0.7777777777777778,\"#fb9f3a\"],[0.8888888888888888,\"#fdca26\"],[1.0,\"#f0f921\"]]}],\"heatmap\":[{\"type\":\"heatmap\",\"colorbar\":{\"outlinewidth\":0,\"ticks\":\"\"},\"colorscale\":[[0.0,\"#0d0887\"],[0.1111111111111111,\"#46039f\"],[0.2222222222222222,\"#7201a8\"],[0.3333333333333333,\"#9c179e\"],[0.4444444444444444,\"#bd3786\"],[0.5555555555555556,\"#d8576b\"],[0.6666666666666666,\"#ed7953\"],[0.7777777777777778,\"#fb9f3a\"],[0.8888888888888888,\"#fdca26\"],[1.0,\"#f0f921\"]]}],\"heatmapgl\":[{\"type\":\"heatmapgl\",\"colorbar\":{\"outlinewidth\":0,\"ticks\":\"\"},\"colorscale\":[[0.0,\"#0d0887\"],[0.1111111111111111,\"#46039f\"],[0.2222222222222222,\"#7201a8\"],[0.3333333333333333,\"#9c179e\"],[0.4444444444444444,\"#bd3786\"],[0.5555555555555556,\"#d8576b\"],[0.6666666666666666,\"#ed7953\"],[0.7777777777777778,\"#fb9f3a\"],[0.8888888888888888,\"#fdca26\"],[1.0,\"#f0f921\"]]}],\"contourcarpet\":[{\"type\":\"contourcarpet\",\"colorbar\":{\"outlinewidth\":0,\"ticks\":\"\"}}],\"contour\":[{\"type\":\"contour\",\"colorbar\":{\"outlinewidth\":0,\"ticks\":\"\"},\"colorscale\":[[0.0,\"#0d0887\"],[0.1111111111111111,\"#46039f\"],[0.2222222222222222,\"#7201a8\"],[0.3333333333333333,\"#9c179e\"],[0.4444444444444444,\"#bd3786\"],[0.5555555555555556,\"#d8576b\"],[0.6666666666666666,\"#ed7953\"],[0.7777777777777778,\"#fb9f3a\"],[0.8888888888888888,\"#fdca26\"],[1.0,\"#f0f921\"]]}],\"surface\":[{\"type\":\"surface\",\"colorbar\":{\"outlinewidth\":0,\"ticks\":\"\"},\"colorscale\":[[0.0,\"#0d0887\"],[0.1111111111111111,\"#46039f\"],[0.2222222222222222,\"#7201a8\"],[0.3333333333333333,\"#9c179e\"],[0.4444444444444444,\"#bd3786\"],[0.5555555555555556,\"#d8576b\"],[0.6666666666666666,\"#ed7953\"],[0.7777777777777778,\"#fb9f3a\"],[0.8888888888888888,\"#fdca26\"],[1.0,\"#f0f921\"]]}],\"mesh3d\":[{\"type\":\"mesh3d\",\"colorbar\":{\"outlinewidth\":0,\"ticks\":\"\"}}],\"scatter\":[{\"fillpattern\":{\"fillmode\":\"overlay\",\"size\":10,\"solidity\":0.2},\"type\":\"scatter\"}],\"parcoords\":[{\"type\":\"parcoords\",\"line\":{\"colorbar\":{\"outlinewidth\":0,\"ticks\":\"\"}}}],\"scatterpolargl\":[{\"type\":\"scatterpolargl\",\"marker\":{\"colorbar\":{\"outlinewidth\":0,\"ticks\":\"\"}}}],\"bar\":[{\"error_x\":{\"color\":\"#2a3f5f\"},\"error_y\":{\"color\":\"#2a3f5f\"},\"marker\":{\"line\":{\"color\":\"#E5ECF6\",\"width\":0.5},\"pattern\":{\"fillmode\":\"overlay\",\"size\":10,\"solidity\":0.2}},\"type\":\"bar\"}],\"scattergeo\":[{\"type\":\"scattergeo\",\"marker\":{\"colorbar\":{\"outlinewidth\":0,\"ticks\":\"\"}}}],\"scatterpolar\":[{\"type\":\"scatterpolar\",\"marker\":{\"colorbar\":{\"outlinewidth\":0,\"ticks\":\"\"}}}],\"histogram\":[{\"marker\":{\"pattern\":{\"fillmode\":\"overlay\",\"size\":10,\"solidity\":0.2}},\"type\":\"histogram\"}],\"scattergl\":[{\"type\":\"scattergl\",\"marker\":{\"colorbar\":{\"outlinewidth\":0,\"ticks\":\"\"}}}],\"scatter3d\":[{\"type\":\"scatter3d\",\"line\":{\"colorbar\":{\"outlinewidth\":0,\"ticks\":\"\"}},\"marker\":{\"colorbar\":{\"outlinewidth\":0,\"ticks\":\"\"}}}],\"scattermapbox\":[{\"type\":\"scattermapbox\",\"marker\":{\"colorbar\":{\"outlinewidth\":0,\"ticks\":\"\"}}}],\"scatterternary\":[{\"type\":\"scatterternary\",\"marker\":{\"colorbar\":{\"outlinewidth\":0,\"ticks\":\"\"}}}],\"scattercarpet\":[{\"type\":\"scattercarpet\",\"marker\":{\"colorbar\":{\"outlinewidth\":0,\"ticks\":\"\"}}}],\"carpet\":[{\"aaxis\":{\"endlinecolor\":\"#2a3f5f\",\"gridcolor\":\"white\",\"linecolor\":\"white\",\"minorgridcolor\":\"white\",\"startlinecolor\":\"#2a3f5f\"},\"baxis\":{\"endlinecolor\":\"#2a3f5f\",\"gridcolor\":\"white\",\"linecolor\":\"white\",\"minorgridcolor\":\"white\",\"startlinecolor\":\"#2a3f5f\"},\"type\":\"carpet\"}],\"table\":[{\"cells\":{\"fill\":{\"color\":\"#EBF0F8\"},\"line\":{\"color\":\"white\"}},\"header\":{\"fill\":{\"color\":\"#C8D4E3\"},\"line\":{\"color\":\"white\"}},\"type\":\"table\"}],\"barpolar\":[{\"marker\":{\"line\":{\"color\":\"#E5ECF6\",\"width\":0.5},\"pattern\":{\"fillmode\":\"overlay\",\"size\":10,\"solidity\":0.2}},\"type\":\"barpolar\"}],\"pie\":[{\"automargin\":true,\"type\":\"pie\"}]},\"layout\":{\"autotypenumbers\":\"strict\",\"colorway\":[\"#636efa\",\"#EF553B\",\"#00cc96\",\"#ab63fa\",\"#FFA15A\",\"#19d3f3\",\"#FF6692\",\"#B6E880\",\"#FF97FF\",\"#FECB52\"],\"font\":{\"color\":\"#2a3f5f\"},\"hovermode\":\"closest\",\"hoverlabel\":{\"align\":\"left\"},\"paper_bgcolor\":\"white\",\"plot_bgcolor\":\"#E5ECF6\",\"polar\":{\"bgcolor\":\"#E5ECF6\",\"angularaxis\":{\"gridcolor\":\"white\",\"linecolor\":\"white\",\"ticks\":\"\"},\"radialaxis\":{\"gridcolor\":\"white\",\"linecolor\":\"white\",\"ticks\":\"\"}},\"ternary\":{\"bgcolor\":\"#E5ECF6\",\"aaxis\":{\"gridcolor\":\"white\",\"linecolor\":\"white\",\"ticks\":\"\"},\"baxis\":{\"gridcolor\":\"white\",\"linecolor\":\"white\",\"ticks\":\"\"},\"caxis\":{\"gridcolor\":\"white\",\"linecolor\":\"white\",\"ticks\":\"\"}},\"coloraxis\":{\"colorbar\":{\"outlinewidth\":0,\"ticks\":\"\"}},\"colorscale\":{\"sequential\":[[0.0,\"#0d0887\"],[0.1111111111111111,\"#46039f\"],[0.2222222222222222,\"#7201a8\"],[0.3333333333333333,\"#9c179e\"],[0.4444444444444444,\"#bd3786\"],[0.5555555555555556,\"#d8576b\"],[0.6666666666666666,\"#ed7953\"],[0.7777777777777778,\"#fb9f3a\"],[0.8888888888888888,\"#fdca26\"],[1.0,\"#f0f921\"]],\"sequentialminus\":[[0.0,\"#0d0887\"],[0.1111111111111111,\"#46039f\"],[0.2222222222222222,\"#7201a8\"],[0.3333333333333333,\"#9c179e\"],[0.4444444444444444,\"#bd3786\"],[0.5555555555555556,\"#d8576b\"],[0.6666666666666666,\"#ed7953\"],[0.7777777777777778,\"#fb9f3a\"],[0.8888888888888888,\"#fdca26\"],[1.0,\"#f0f921\"]],\"diverging\":[[0,\"#8e0152\"],[0.1,\"#c51b7d\"],[0.2,\"#de77ae\"],[0.3,\"#f1b6da\"],[0.4,\"#fde0ef\"],[0.5,\"#f7f7f7\"],[0.6,\"#e6f5d0\"],[0.7,\"#b8e186\"],[0.8,\"#7fbc41\"],[0.9,\"#4d9221\"],[1,\"#276419\"]]},\"xaxis\":{\"gridcolor\":\"white\",\"linecolor\":\"white\",\"ticks\":\"\",\"title\":{\"standoff\":15},\"zerolinecolor\":\"white\",\"automargin\":true,\"zerolinewidth\":2},\"yaxis\":{\"gridcolor\":\"white\",\"linecolor\":\"white\",\"ticks\":\"\",\"title\":{\"standoff\":15},\"zerolinecolor\":\"white\",\"automargin\":true,\"zerolinewidth\":2},\"scene\":{\"xaxis\":{\"backgroundcolor\":\"#E5ECF6\",\"gridcolor\":\"white\",\"linecolor\":\"white\",\"showbackground\":true,\"ticks\":\"\",\"zerolinecolor\":\"white\",\"gridwidth\":2},\"yaxis\":{\"backgroundcolor\":\"#E5ECF6\",\"gridcolor\":\"white\",\"linecolor\":\"white\",\"showbackground\":true,\"ticks\":\"\",\"zerolinecolor\":\"white\",\"gridwidth\":2},\"zaxis\":{\"backgroundcolor\":\"#E5ECF6\",\"gridcolor\":\"white\",\"linecolor\":\"white\",\"showbackground\":true,\"ticks\":\"\",\"zerolinecolor\":\"white\",\"gridwidth\":2}},\"shapedefaults\":{\"line\":{\"color\":\"#2a3f5f\"}},\"annotationdefaults\":{\"arrowcolor\":\"#2a3f5f\",\"arrowhead\":0,\"arrowwidth\":1},\"geo\":{\"bgcolor\":\"white\",\"landcolor\":\"#E5ECF6\",\"subunitcolor\":\"white\",\"showland\":true,\"showlakes\":true,\"lakecolor\":\"white\"},\"title\":{\"x\":0.05},\"mapbox\":{\"style\":\"light\"}}},\"scene\":{\"domain\":{\"x\":[0.0,1.0],\"y\":[0.0,1.0]},\"xaxis\":{\"title\":{\"text\":\"comp_1\"}},\"yaxis\":{\"title\":{\"text\":\"comp_2\"}},\"zaxis\":{\"title\":{\"text\":\"comp_3\"}}},\"legend\":{\"title\":{\"text\":\"title\"},\"tracegroupgap\":0},\"margin\":{\"t\":60}},                        {\"responsive\": true}                    ).then(function(){\n                            \nvar gd = document.getElementById('9e0daa19-adc0-45fd-bd0e-276cd5309894');\nvar x = new MutationObserver(function (mutations, observer) {{\n        var display = window.getComputedStyle(gd).display;\n        if (!display || display === 'none') {{\n            console.log([gd, 'removed!']);\n            Plotly.purge(gd);\n            observer.disconnect();\n        }}\n}});\n\n// Listen for the removal of the full notebook cells\nvar notebookContainer = gd.closest('#notebook-container');\nif (notebookContainer) {{\n    x.observe(notebookContainer, {childList: true});\n}}\n\n// Listen for the clearing of the current output cell\nvar outputEl = gd.closest('.output');\nif (outputEl) {{\n    x.observe(outputEl, {childList: true});\n}}\n\n                        })                };                });            </script>        </div>"
     },
     "metadata": {},
     "output_type": "display_data"
    },
    {
     "ename": "KeyboardInterrupt",
     "evalue": "",
     "output_type": "error",
     "traceback": [
      "\u001B[1;31m---------------------------------------------------------------------------\u001B[0m",
      "\u001B[1;31mKeyboardInterrupt\u001B[0m                         Traceback (most recent call last)",
      "Cell \u001B[1;32mIn [19], line 4\u001B[0m\n\u001B[0;32m      1\u001B[0m \u001B[38;5;28;01mfrom\u001B[39;00m \u001B[38;5;21;01mmatplotlib\u001B[39;00m \u001B[38;5;28;01mimport\u001B[39;00m pyplot \u001B[38;5;28;01mas\u001B[39;00m plt\n\u001B[0;32m      2\u001B[0m \u001B[38;5;28;01mimport\u001B[39;00m \u001B[38;5;21;01mplotly\u001B[39;00m\u001B[38;5;21;01m.\u001B[39;00m\u001B[38;5;21;01mexpress\u001B[39;00m \u001B[38;5;28;01mas\u001B[39;00m \u001B[38;5;21;01mpx\u001B[39;00m\n\u001B[1;32m----> 4\u001B[0m fig \u001B[38;5;241m=\u001B[39m \u001B[43mpx\u001B[49m\u001B[38;5;241;43m.\u001B[39;49m\u001B[43mscatter_3d\u001B[49m\u001B[43m(\u001B[49m\u001B[43mdf\u001B[49m\u001B[43m,\u001B[49m\u001B[43m \u001B[49m\u001B[43mx\u001B[49m\u001B[38;5;241;43m=\u001B[39;49m\u001B[38;5;124;43m'\u001B[39;49m\u001B[38;5;124;43mcomp_1\u001B[39;49m\u001B[38;5;124;43m'\u001B[39;49m\u001B[43m,\u001B[49m\u001B[43m \u001B[49m\u001B[43my\u001B[49m\u001B[38;5;241;43m=\u001B[39;49m\u001B[38;5;124;43m'\u001B[39;49m\u001B[38;5;124;43mcomp_2\u001B[39;49m\u001B[38;5;124;43m'\u001B[39;49m\u001B[43m,\u001B[49m\u001B[43m \u001B[49m\u001B[43mz\u001B[49m\u001B[38;5;241;43m=\u001B[39;49m\u001B[38;5;124;43m'\u001B[39;49m\u001B[38;5;124;43mcomp_3\u001B[39;49m\u001B[38;5;124;43m'\u001B[39;49m\u001B[43m,\u001B[49m\n\u001B[0;32m      5\u001B[0m \u001B[43m                    \u001B[49m\u001B[43mcolor\u001B[49m\u001B[38;5;241;43m=\u001B[39;49m\u001B[43mdf\u001B[49m\u001B[38;5;241;43m.\u001B[39;49m\u001B[43mindex\u001B[49m\u001B[43m)\u001B[49m\n\u001B[0;32m      7\u001B[0m fig\u001B[38;5;241m.\u001B[39mshow()\n",
      "File \u001B[1;32m~\\.virtualenvs\\Swedish_rap_map-uGa4tHyC\\lib\\site-packages\\plotly\\express\\_chart_types.py:776\u001B[0m, in \u001B[0;36mscatter_3d\u001B[1;34m(data_frame, x, y, z, color, symbol, size, text, hover_name, hover_data, custom_data, error_x, error_x_minus, error_y, error_y_minus, error_z, error_z_minus, animation_frame, animation_group, category_orders, labels, size_max, color_discrete_sequence, color_discrete_map, color_continuous_scale, range_color, color_continuous_midpoint, symbol_sequence, symbol_map, opacity, log_x, log_y, log_z, range_x, range_y, range_z, title, template, width, height)\u001B[0m\n\u001B[0;32m    730\u001B[0m \u001B[38;5;28;01mdef\u001B[39;00m \u001B[38;5;21mscatter_3d\u001B[39m(\n\u001B[0;32m    731\u001B[0m     data_frame\u001B[38;5;241m=\u001B[39m\u001B[38;5;28;01mNone\u001B[39;00m,\n\u001B[0;32m    732\u001B[0m     x\u001B[38;5;241m=\u001B[39m\u001B[38;5;28;01mNone\u001B[39;00m,\n\u001B[1;32m   (...)\u001B[0m\n\u001B[0;32m    770\u001B[0m     height\u001B[38;5;241m=\u001B[39m\u001B[38;5;28;01mNone\u001B[39;00m,\n\u001B[0;32m    771\u001B[0m ) \u001B[38;5;241m-\u001B[39m\u001B[38;5;241m>\u001B[39m go\u001B[38;5;241m.\u001B[39mFigure:\n\u001B[0;32m    772\u001B[0m     \u001B[38;5;124;03m\"\"\"\u001B[39;00m\n\u001B[0;32m    773\u001B[0m \u001B[38;5;124;03m    In a 3D scatter plot, each row of `data_frame` is represented by a\u001B[39;00m\n\u001B[0;32m    774\u001B[0m \u001B[38;5;124;03m    symbol mark in 3D space.\u001B[39;00m\n\u001B[0;32m    775\u001B[0m \u001B[38;5;124;03m    \"\"\"\u001B[39;00m\n\u001B[1;32m--> 776\u001B[0m     \u001B[38;5;28;01mreturn\u001B[39;00m \u001B[43mmake_figure\u001B[49m\u001B[43m(\u001B[49m\u001B[43margs\u001B[49m\u001B[38;5;241;43m=\u001B[39;49m\u001B[38;5;28;43mlocals\u001B[39;49m\u001B[43m(\u001B[49m\u001B[43m)\u001B[49m\u001B[43m,\u001B[49m\u001B[43m \u001B[49m\u001B[43mconstructor\u001B[49m\u001B[38;5;241;43m=\u001B[39;49m\u001B[43mgo\u001B[49m\u001B[38;5;241;43m.\u001B[39;49m\u001B[43mScatter3d\u001B[49m\u001B[43m)\u001B[49m\n",
      "File \u001B[1;32m~\\.virtualenvs\\Swedish_rap_map-uGa4tHyC\\lib\\site-packages\\plotly\\express\\_core.py:2246\u001B[0m, in \u001B[0;36mmake_figure\u001B[1;34m(args, constructor, trace_patch, layout_patch)\u001B[0m\n\u001B[0;32m   2237\u001B[0m         _set_trace_grid_reference(\n\u001B[0;32m   2238\u001B[0m             trace,\n\u001B[0;32m   2239\u001B[0m             fig\u001B[38;5;241m.\u001B[39mlayout,\n\u001B[1;32m   (...)\u001B[0m\n\u001B[0;32m   2242\u001B[0m             trace\u001B[38;5;241m.\u001B[39m_subplot_col,\n\u001B[0;32m   2243\u001B[0m         )\n\u001B[0;32m   2245\u001B[0m \u001B[38;5;66;03m# Add traces, layout and frames to figure\u001B[39;00m\n\u001B[1;32m-> 2246\u001B[0m \u001B[43mfig\u001B[49m\u001B[38;5;241;43m.\u001B[39;49m\u001B[43madd_traces\u001B[49m\u001B[43m(\u001B[49m\u001B[43mframe_list\u001B[49m\u001B[43m[\u001B[49m\u001B[38;5;241;43m0\u001B[39;49m\u001B[43m]\u001B[49m\u001B[43m[\u001B[49m\u001B[38;5;124;43m\"\u001B[39;49m\u001B[38;5;124;43mdata\u001B[39;49m\u001B[38;5;124;43m\"\u001B[39;49m\u001B[43m]\u001B[49m\u001B[43m \u001B[49m\u001B[38;5;28;43;01mif\u001B[39;49;00m\u001B[43m \u001B[49m\u001B[38;5;28;43mlen\u001B[39;49m\u001B[43m(\u001B[49m\u001B[43mframe_list\u001B[49m\u001B[43m)\u001B[49m\u001B[43m \u001B[49m\u001B[38;5;241;43m>\u001B[39;49m\u001B[43m \u001B[49m\u001B[38;5;241;43m0\u001B[39;49m\u001B[43m \u001B[49m\u001B[38;5;28;43;01melse\u001B[39;49;00m\u001B[43m \u001B[49m\u001B[43m[\u001B[49m\u001B[43m]\u001B[49m\u001B[43m)\u001B[49m\n\u001B[0;32m   2247\u001B[0m fig\u001B[38;5;241m.\u001B[39mupdate_layout(layout_patch)\n\u001B[0;32m   2248\u001B[0m \u001B[38;5;28;01mif\u001B[39;00m \u001B[38;5;124m\"\u001B[39m\u001B[38;5;124mtemplate\u001B[39m\u001B[38;5;124m\"\u001B[39m \u001B[38;5;129;01min\u001B[39;00m args \u001B[38;5;129;01mand\u001B[39;00m args[\u001B[38;5;124m\"\u001B[39m\u001B[38;5;124mtemplate\u001B[39m\u001B[38;5;124m\"\u001B[39m] \u001B[38;5;129;01mis\u001B[39;00m \u001B[38;5;129;01mnot\u001B[39;00m \u001B[38;5;28;01mNone\u001B[39;00m:\n",
      "File \u001B[1;32m~\\.virtualenvs\\Swedish_rap_map-uGa4tHyC\\lib\\site-packages\\plotly\\graph_objs\\_figure.py:967\u001B[0m, in \u001B[0;36mFigure.add_traces\u001B[1;34m(self, data, rows, cols, secondary_ys, exclude_empty_subplots)\u001B[0m\n\u001B[0;32m    891\u001B[0m \u001B[38;5;28;01mdef\u001B[39;00m \u001B[38;5;21madd_traces\u001B[39m(\n\u001B[0;32m    892\u001B[0m     \u001B[38;5;28mself\u001B[39m,\n\u001B[0;32m    893\u001B[0m     data,\n\u001B[1;32m   (...)\u001B[0m\n\u001B[0;32m    897\u001B[0m     exclude_empty_subplots\u001B[38;5;241m=\u001B[39m\u001B[38;5;28;01mFalse\u001B[39;00m,\n\u001B[0;32m    898\u001B[0m ) \u001B[38;5;241m-\u001B[39m\u001B[38;5;241m>\u001B[39m \u001B[38;5;124m\"\u001B[39m\u001B[38;5;124mFigure\u001B[39m\u001B[38;5;124m\"\u001B[39m:\n\u001B[0;32m    899\u001B[0m     \u001B[38;5;124;03m\"\"\"\u001B[39;00m\n\u001B[0;32m    900\u001B[0m \n\u001B[0;32m    901\u001B[0m \u001B[38;5;124;03m    Add traces to the figure\u001B[39;00m\n\u001B[1;32m   (...)\u001B[0m\n\u001B[0;32m    965\u001B[0m \n\u001B[0;32m    966\u001B[0m \u001B[38;5;124;03m    \"\"\"\u001B[39;00m\n\u001B[1;32m--> 967\u001B[0m     \u001B[38;5;28;01mreturn\u001B[39;00m \u001B[38;5;28;43msuper\u001B[39;49m\u001B[43m(\u001B[49m\u001B[43mFigure\u001B[49m\u001B[43m,\u001B[49m\u001B[43m \u001B[49m\u001B[38;5;28;43mself\u001B[39;49m\u001B[43m)\u001B[49m\u001B[38;5;241;43m.\u001B[39;49m\u001B[43madd_traces\u001B[49m\u001B[43m(\u001B[49m\n\u001B[0;32m    968\u001B[0m \u001B[43m        \u001B[49m\u001B[43mdata\u001B[49m\u001B[43m,\u001B[49m\u001B[43m \u001B[49m\u001B[43mrows\u001B[49m\u001B[43m,\u001B[49m\u001B[43m \u001B[49m\u001B[43mcols\u001B[49m\u001B[43m,\u001B[49m\u001B[43m \u001B[49m\u001B[43msecondary_ys\u001B[49m\u001B[43m,\u001B[49m\u001B[43m \u001B[49m\u001B[43mexclude_empty_subplots\u001B[49m\n\u001B[0;32m    969\u001B[0m \u001B[43m    \u001B[49m\u001B[43m)\u001B[49m\n",
      "File \u001B[1;32m~\\.virtualenvs\\Swedish_rap_map-uGa4tHyC\\lib\\site-packages\\plotly\\basedatatypes.py:2240\u001B[0m, in \u001B[0;36mBaseFigure.add_traces\u001B[1;34m(self, data, rows, cols, secondary_ys, exclude_empty_subplots)\u001B[0m\n\u001B[0;32m   2230\u001B[0m     data \u001B[38;5;241m=\u001B[39m \u001B[38;5;28mlist\u001B[39m(\n\u001B[0;32m   2231\u001B[0m         \u001B[38;5;28mfilter\u001B[39m(\n\u001B[0;32m   2232\u001B[0m             \u001B[38;5;28;01mlambda\u001B[39;00m trace: \u001B[38;5;28mself\u001B[39m\u001B[38;5;241m.\u001B[39m_subplot_not_empty(\n\u001B[1;32m   (...)\u001B[0m\n\u001B[0;32m   2236\u001B[0m         )\n\u001B[0;32m   2237\u001B[0m     )\n\u001B[0;32m   2239\u001B[0m \u001B[38;5;66;03m# Make deep copy of trace data (Optimize later if needed)\u001B[39;00m\n\u001B[1;32m-> 2240\u001B[0m new_traces_data \u001B[38;5;241m=\u001B[39m [deepcopy(trace\u001B[38;5;241m.\u001B[39m_props) \u001B[38;5;28;01mfor\u001B[39;00m trace \u001B[38;5;129;01min\u001B[39;00m data]\n\u001B[0;32m   2242\u001B[0m \u001B[38;5;66;03m# Update trace parent\u001B[39;00m\n\u001B[0;32m   2243\u001B[0m \u001B[38;5;28;01mfor\u001B[39;00m trace \u001B[38;5;129;01min\u001B[39;00m data:\n",
      "File \u001B[1;32m~\\.virtualenvs\\Swedish_rap_map-uGa4tHyC\\lib\\site-packages\\plotly\\basedatatypes.py:2240\u001B[0m, in \u001B[0;36m<listcomp>\u001B[1;34m(.0)\u001B[0m\n\u001B[0;32m   2230\u001B[0m     data \u001B[38;5;241m=\u001B[39m \u001B[38;5;28mlist\u001B[39m(\n\u001B[0;32m   2231\u001B[0m         \u001B[38;5;28mfilter\u001B[39m(\n\u001B[0;32m   2232\u001B[0m             \u001B[38;5;28;01mlambda\u001B[39;00m trace: \u001B[38;5;28mself\u001B[39m\u001B[38;5;241m.\u001B[39m_subplot_not_empty(\n\u001B[1;32m   (...)\u001B[0m\n\u001B[0;32m   2236\u001B[0m         )\n\u001B[0;32m   2237\u001B[0m     )\n\u001B[0;32m   2239\u001B[0m \u001B[38;5;66;03m# Make deep copy of trace data (Optimize later if needed)\u001B[39;00m\n\u001B[1;32m-> 2240\u001B[0m new_traces_data \u001B[38;5;241m=\u001B[39m [\u001B[43mdeepcopy\u001B[49m\u001B[43m(\u001B[49m\u001B[43mtrace\u001B[49m\u001B[38;5;241;43m.\u001B[39;49m\u001B[43m_props\u001B[49m\u001B[43m)\u001B[49m \u001B[38;5;28;01mfor\u001B[39;00m trace \u001B[38;5;129;01min\u001B[39;00m data]\n\u001B[0;32m   2242\u001B[0m \u001B[38;5;66;03m# Update trace parent\u001B[39;00m\n\u001B[0;32m   2243\u001B[0m \u001B[38;5;28;01mfor\u001B[39;00m trace \u001B[38;5;129;01min\u001B[39;00m data:\n",
      "File \u001B[1;32m~\\AppData\\Local\\Programs\\Python\\Python310\\lib\\copy.py:146\u001B[0m, in \u001B[0;36mdeepcopy\u001B[1;34m(x, memo, _nil)\u001B[0m\n\u001B[0;32m    144\u001B[0m copier \u001B[38;5;241m=\u001B[39m _deepcopy_dispatch\u001B[38;5;241m.\u001B[39mget(\u001B[38;5;28mcls\u001B[39m)\n\u001B[0;32m    145\u001B[0m \u001B[38;5;28;01mif\u001B[39;00m copier \u001B[38;5;129;01mis\u001B[39;00m \u001B[38;5;129;01mnot\u001B[39;00m \u001B[38;5;28;01mNone\u001B[39;00m:\n\u001B[1;32m--> 146\u001B[0m     y \u001B[38;5;241m=\u001B[39m \u001B[43mcopier\u001B[49m\u001B[43m(\u001B[49m\u001B[43mx\u001B[49m\u001B[43m,\u001B[49m\u001B[43m \u001B[49m\u001B[43mmemo\u001B[49m\u001B[43m)\u001B[49m\n\u001B[0;32m    147\u001B[0m \u001B[38;5;28;01melse\u001B[39;00m:\n\u001B[0;32m    148\u001B[0m     \u001B[38;5;28;01mif\u001B[39;00m \u001B[38;5;28missubclass\u001B[39m(\u001B[38;5;28mcls\u001B[39m, \u001B[38;5;28mtype\u001B[39m):\n",
      "File \u001B[1;32m~\\AppData\\Local\\Programs\\Python\\Python310\\lib\\copy.py:231\u001B[0m, in \u001B[0;36m_deepcopy_dict\u001B[1;34m(x, memo, deepcopy)\u001B[0m\n\u001B[0;32m    229\u001B[0m memo[\u001B[38;5;28mid\u001B[39m(x)] \u001B[38;5;241m=\u001B[39m y\n\u001B[0;32m    230\u001B[0m \u001B[38;5;28;01mfor\u001B[39;00m key, value \u001B[38;5;129;01min\u001B[39;00m x\u001B[38;5;241m.\u001B[39mitems():\n\u001B[1;32m--> 231\u001B[0m     y[deepcopy(key, memo)] \u001B[38;5;241m=\u001B[39m \u001B[43mdeepcopy\u001B[49m\u001B[43m(\u001B[49m\u001B[43mvalue\u001B[49m\u001B[43m,\u001B[49m\u001B[43m \u001B[49m\u001B[43mmemo\u001B[49m\u001B[43m)\u001B[49m\n\u001B[0;32m    232\u001B[0m \u001B[38;5;28;01mreturn\u001B[39;00m y\n",
      "File \u001B[1;32m~\\AppData\\Local\\Programs\\Python\\Python310\\lib\\copy.py:153\u001B[0m, in \u001B[0;36mdeepcopy\u001B[1;34m(x, memo, _nil)\u001B[0m\n\u001B[0;32m    151\u001B[0m copier \u001B[38;5;241m=\u001B[39m \u001B[38;5;28mgetattr\u001B[39m(x, \u001B[38;5;124m\"\u001B[39m\u001B[38;5;124m__deepcopy__\u001B[39m\u001B[38;5;124m\"\u001B[39m, \u001B[38;5;28;01mNone\u001B[39;00m)\n\u001B[0;32m    152\u001B[0m \u001B[38;5;28;01mif\u001B[39;00m copier \u001B[38;5;129;01mis\u001B[39;00m \u001B[38;5;129;01mnot\u001B[39;00m \u001B[38;5;28;01mNone\u001B[39;00m:\n\u001B[1;32m--> 153\u001B[0m     y \u001B[38;5;241m=\u001B[39m \u001B[43mcopier\u001B[49m\u001B[43m(\u001B[49m\u001B[43mmemo\u001B[49m\u001B[43m)\u001B[49m\n\u001B[0;32m    154\u001B[0m \u001B[38;5;28;01melse\u001B[39;00m:\n\u001B[0;32m    155\u001B[0m     reductor \u001B[38;5;241m=\u001B[39m dispatch_table\u001B[38;5;241m.\u001B[39mget(\u001B[38;5;28mcls\u001B[39m)\n",
      "\u001B[1;31mKeyboardInterrupt\u001B[0m: "
     ]
    }
   ],
   "source": [
    "from matplotlib import pyplot as plt\n",
    "import plotly.express as px\n",
    "\n",
    "fig = px.scatter_3d(df, x='comp_1', y='comp_2', z='comp_3',\n",
    "                    color=df.index)\n",
    "\n",
    "fig.show()"
   ]
  },
  {
   "cell_type": "code",
   "execution_count": 12,
   "metadata": {},
   "outputs": [],
   "source": []
  }
 ],
 "metadata": {
  "kernelspec": {
   "display_name": "Python 3 (ipykernel)",
   "language": "python",
   "name": "python3"
  },
  "language_info": {
   "codemirror_mode": {
    "name": "ipython",
    "version": 3
   },
   "file_extension": ".py",
   "mimetype": "text/x-python",
   "name": "python",
   "nbconvert_exporter": "python",
   "pygments_lexer": "ipython3",
   "version": "3.10.0"
  }
 },
 "nbformat": 4,
 "nbformat_minor": 1
}